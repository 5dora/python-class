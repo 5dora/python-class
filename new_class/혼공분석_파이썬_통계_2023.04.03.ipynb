{
 "cells": [
  {
   "cell_type": "markdown",
   "id": "83974069",
   "metadata": {},
   "source": [
    "# chap7. 검증하고 예측하기"
   ]
  },
  {
   "cell_type": "markdown",
   "id": "ed2fcb45",
   "metadata": {},
   "source": [
    "### z 점수(표준점수) 구하기"
   ]
  },
  {
   "cell_type": "markdown",
   "id": "37dce1aa",
   "metadata": {},
   "source": [
    "조건은 정규분포를 따라   \n",
    "해당 점수가 평균으로부터 얼마나 떨어져 있는지"
   ]
  },
  {
   "cell_type": "code",
   "execution_count": 1,
   "id": "a041d8ab",
   "metadata": {},
   "outputs": [],
   "source": [
    "import numpy as np"
   ]
  },
  {
   "cell_type": "code",
   "execution_count": 3,
   "id": "131a9f0d",
   "metadata": {},
   "outputs": [
    {
     "name": "stdout",
     "output_type": "stream",
     "text": [
      "0.5872202195147035\n"
     ]
    }
   ],
   "source": [
    "x =[0, 3, 5, 7, 10]\n",
    "\n",
    "s = np.std(x)\n",
    "m = np.mean(x)\n",
    "z = (7-m) / s\n",
    "print(z)"
   ]
  },
  {
   "cell_type": "code",
   "execution_count": 4,
   "id": "78650000",
   "metadata": {},
   "outputs": [
    {
     "data": {
      "text/plain": [
       "array([-1.46805055, -0.58722022,  0.        ,  0.58722022,  1.46805055])"
      ]
     },
     "execution_count": 4,
     "metadata": {},
     "output_type": "execute_result"
    }
   ],
   "source": [
    "# 사이파이의 stats 모듈 zscore()함수 사용\n",
    "# 코렙에서는 설치 못해\n",
    "from scipy import stats\n",
    "\n",
    "stats.zscore(x)"
   ]
  },
  {
   "cell_type": "markdown",
   "id": "73f7d10e",
   "metadata": {},
   "source": [
    "### 누적분포"
   ]
  },
  {
   "cell_type": "code",
   "execution_count": 5,
   "id": "756f120c",
   "metadata": {},
   "outputs": [
    {
     "data": {
      "text/plain": [
       "0.5"
      ]
     },
     "execution_count": 5,
     "metadata": {},
     "output_type": "execute_result"
    }
   ],
   "source": [
    "#점수를 이용해 비율을 구하기\n",
    "stats.norm.cdf(0) # 평균값을 전달"
   ]
  },
  {
   "cell_type": "code",
   "execution_count": 6,
   "id": "d1255586",
   "metadata": {},
   "outputs": [
    {
     "data": {
      "text/plain": [
       "0.6826894921370859"
      ]
     },
     "execution_count": 6,
     "metadata": {},
     "output_type": "execute_result"
    }
   ],
   "source": [
    "# 표준편자 1이내의 비율 구하기\n",
    "stats.norm.cdf(1.0) - stats.norm.cdf(-1.0)"
   ]
  },
  {
   "cell_type": "code",
   "execution_count": 7,
   "id": "b39cbaaa",
   "metadata": {},
   "outputs": [
    {
     "data": {
      "text/plain": [
       "1.2815515655446004"
      ]
     },
     "execution_count": 7,
     "metadata": {},
     "output_type": "execute_result"
    }
   ],
   "source": [
    "# 비율을 이용해 점수를 구하기\n",
    "stats.norm.ppf(0.9)"
   ]
  },
  {
   "cell_type": "markdown",
   "id": "30d6603b",
   "metadata": {},
   "source": [
    "---"
   ]
  },
  {
   "cell_type": "markdown",
   "id": "0f7377eb",
   "metadata": {},
   "source": [
    "## 중심극한 정리"
   ]
  },
  {
   "cell_type": "markdown",
   "id": "b5da04d8",
   "metadata": {},
   "source": [
    "정규분포가 아닌 왜곡이 있을 때   \n",
    "무작위로 샘플을 뽑아 정규분포의 표본을 만들어줘"
   ]
  },
  {
   "cell_type": "code",
   "execution_count": 10,
   "id": "47ea8e0b",
   "metadata": {},
   "outputs": [
    {
     "name": "stdout",
     "output_type": "stream",
     "text": [
      "Defaulting to user installation because normal site-packages is not writeable\n",
      "Collecting gdown\n",
      "  Downloading gdown-4.7.1-py3-none-any.whl (15 kB)\n",
      "Requirement already satisfied: beautifulsoup4 in c:\\anaconda3\\lib\\site-packages (from gdown) (4.11.1)\n",
      "Requirement already satisfied: tqdm in c:\\anaconda3\\lib\\site-packages (from gdown) (4.64.1)\n",
      "Requirement already satisfied: requests[socks] in c:\\anaconda3\\lib\\site-packages (from gdown) (2.28.1)\n",
      "Requirement already satisfied: six in c:\\anaconda3\\lib\\site-packages (from gdown) (1.16.0)\n",
      "Requirement already satisfied: filelock in c:\\anaconda3\\lib\\site-packages (from gdown) (3.6.0)\n",
      "Requirement already satisfied: soupsieve>1.2 in c:\\anaconda3\\lib\\site-packages (from beautifulsoup4->gdown) (2.3.1)\n",
      "Requirement already satisfied: idna<4,>=2.5 in c:\\anaconda3\\lib\\site-packages (from requests[socks]->gdown) (3.3)\n",
      "Requirement already satisfied: urllib3<1.27,>=1.21.1 in c:\\anaconda3\\lib\\site-packages (from requests[socks]->gdown) (1.26.11)\n",
      "Requirement already satisfied: certifi>=2017.4.17 in c:\\anaconda3\\lib\\site-packages (from requests[socks]->gdown) (2022.9.14)\n",
      "Requirement already satisfied: charset-normalizer<3,>=2 in c:\\anaconda3\\lib\\site-packages (from requests[socks]->gdown) (2.0.4)\n",
      "Requirement already satisfied: PySocks!=1.5.7,>=1.5.6 in c:\\anaconda3\\lib\\site-packages (from requests[socks]->gdown) (1.7.1)\n",
      "Requirement already satisfied: colorama in c:\\anaconda3\\lib\\site-packages (from tqdm->gdown) (0.4.5)\n",
      "Installing collected packages: gdown\n",
      "Successfully installed gdown-4.7.1\n"
     ]
    },
    {
     "name": "stderr",
     "output_type": "stream",
     "text": [
      "  WARNING: The script gdown.exe is installed in 'C:\\Users\\Playdata\\AppData\\Roaming\\Python\\Python39\\Scripts' which is not on PATH.\n",
      "  Consider adding this directory to PATH or, if you prefer to suppress this warning, use --no-warn-script-location.\n"
     ]
    }
   ],
   "source": [
    "!pip install gdown"
   ]
  },
  {
   "cell_type": "code",
   "execution_count": 11,
   "id": "ee4e1130",
   "metadata": {},
   "outputs": [
    {
     "name": "stderr",
     "output_type": "stream",
     "text": [
      "Downloading...\n",
      "From: https://bit.ly/3pK7iuu\n",
      "To: C:\\myPyCode\\ns_book7.csv\n",
      "100%|█████████████████████████████████████████████████████████████████████████████| 53.8M/53.8M [00:01<00:00, 34.6MB/s]\n"
     ]
    },
    {
     "data": {
      "text/html": [
       "<div>\n",
       "<style scoped>\n",
       "    .dataframe tbody tr th:only-of-type {\n",
       "        vertical-align: middle;\n",
       "    }\n",
       "\n",
       "    .dataframe tbody tr th {\n",
       "        vertical-align: top;\n",
       "    }\n",
       "\n",
       "    .dataframe thead th {\n",
       "        text-align: right;\n",
       "    }\n",
       "</style>\n",
       "<table border=\"1\" class=\"dataframe\">\n",
       "  <thead>\n",
       "    <tr style=\"text-align: right;\">\n",
       "      <th></th>\n",
       "      <th>번호</th>\n",
       "      <th>도서명</th>\n",
       "      <th>저자</th>\n",
       "      <th>출판사</th>\n",
       "      <th>발행년도</th>\n",
       "      <th>ISBN</th>\n",
       "      <th>세트 ISBN</th>\n",
       "      <th>부가기호</th>\n",
       "      <th>권</th>\n",
       "      <th>주제분류번호</th>\n",
       "      <th>도서권수</th>\n",
       "      <th>대출건수</th>\n",
       "      <th>등록일자</th>\n",
       "    </tr>\n",
       "  </thead>\n",
       "  <tbody>\n",
       "    <tr>\n",
       "      <th>0</th>\n",
       "      <td>1</td>\n",
       "      <td>인공지능과 흙</td>\n",
       "      <td>김동훈 지음</td>\n",
       "      <td>민음사</td>\n",
       "      <td>2021</td>\n",
       "      <td>9788937444319</td>\n",
       "      <td>NaN</td>\n",
       "      <td>NaN</td>\n",
       "      <td>NaN</td>\n",
       "      <td>NaN</td>\n",
       "      <td>1</td>\n",
       "      <td>0</td>\n",
       "      <td>2021-03-19</td>\n",
       "    </tr>\n",
       "    <tr>\n",
       "      <th>1</th>\n",
       "      <td>2</td>\n",
       "      <td>가짜 행복 권하는 사회</td>\n",
       "      <td>김태형 지음</td>\n",
       "      <td>갈매나무</td>\n",
       "      <td>2021</td>\n",
       "      <td>9791190123969</td>\n",
       "      <td>NaN</td>\n",
       "      <td>NaN</td>\n",
       "      <td>NaN</td>\n",
       "      <td>NaN</td>\n",
       "      <td>1</td>\n",
       "      <td>0</td>\n",
       "      <td>2021-03-19</td>\n",
       "    </tr>\n",
       "    <tr>\n",
       "      <th>2</th>\n",
       "      <td>3</td>\n",
       "      <td>나도 한 문장 잘 쓰면 바랄 게 없겠네</td>\n",
       "      <td>김선영 지음</td>\n",
       "      <td>블랙피쉬</td>\n",
       "      <td>2021</td>\n",
       "      <td>9788968332982</td>\n",
       "      <td>NaN</td>\n",
       "      <td>NaN</td>\n",
       "      <td>NaN</td>\n",
       "      <td>NaN</td>\n",
       "      <td>1</td>\n",
       "      <td>0</td>\n",
       "      <td>2021-03-19</td>\n",
       "    </tr>\n",
       "    <tr>\n",
       "      <th>3</th>\n",
       "      <td>4</td>\n",
       "      <td>예루살렘 해변</td>\n",
       "      <td>이도 게펜 지음, 임재희 옮김</td>\n",
       "      <td>문학세계사</td>\n",
       "      <td>2021</td>\n",
       "      <td>9788970759906</td>\n",
       "      <td>NaN</td>\n",
       "      <td>NaN</td>\n",
       "      <td>NaN</td>\n",
       "      <td>NaN</td>\n",
       "      <td>1</td>\n",
       "      <td>0</td>\n",
       "      <td>2021-03-19</td>\n",
       "    </tr>\n",
       "    <tr>\n",
       "      <th>4</th>\n",
       "      <td>5</td>\n",
       "      <td>김성곤의 중국한시기행 : 장강·황하 편</td>\n",
       "      <td>김성곤 지음</td>\n",
       "      <td>김영사</td>\n",
       "      <td>2021</td>\n",
       "      <td>9788934990833</td>\n",
       "      <td>NaN</td>\n",
       "      <td>NaN</td>\n",
       "      <td>NaN</td>\n",
       "      <td>NaN</td>\n",
       "      <td>1</td>\n",
       "      <td>0</td>\n",
       "      <td>2021-03-19</td>\n",
       "    </tr>\n",
       "  </tbody>\n",
       "</table>\n",
       "</div>"
      ],
      "text/plain": [
       "   번호                    도서명                저자    출판사  발행년도           ISBN  \\\n",
       "0   1                인공지능과 흙            김동훈 지음    민음사  2021  9788937444319   \n",
       "1   2           가짜 행복 권하는 사회            김태형 지음   갈매나무  2021  9791190123969   \n",
       "2   3  나도 한 문장 잘 쓰면 바랄 게 없겠네            김선영 지음   블랙피쉬  2021  9788968332982   \n",
       "3   4                예루살렘 해변  이도 게펜 지음, 임재희 옮김  문학세계사  2021  9788970759906   \n",
       "4   5  김성곤의 중국한시기행 : 장강·황하 편            김성곤 지음    김영사  2021  9788934990833   \n",
       "\n",
       "  세트 ISBN 부가기호    권 주제분류번호  도서권수  대출건수        등록일자  \n",
       "0     NaN  NaN  NaN    NaN     1     0  2021-03-19  \n",
       "1     NaN  NaN  NaN    NaN     1     0  2021-03-19  \n",
       "2     NaN  NaN  NaN    NaN     1     0  2021-03-19  \n",
       "3     NaN  NaN  NaN    NaN     1     0  2021-03-19  \n",
       "4     NaN  NaN  NaN    NaN     1     0  2021-03-19  "
      ]
     },
     "execution_count": 11,
     "metadata": {},
     "output_type": "execute_result"
    }
   ],
   "source": [
    "import gdown\n",
    "gdown.download('https://bit.ly/3pK7iuu', 'ns_book7.csv', quiet=False)\n",
    "# 다운로드할 대상, 내가 쓸 이름, False는 내가 지정한 이름을 사용하겠다.\n",
    "import pandas as pd\n",
    "ns_book7 = pd.read_csv('ns_book7.csv', low_memory=False)\n",
    "# low_memory=False 필요한만큼 다 쓰겠다.\n",
    "ns_book7.head()"
   ]
  },
  {
   "cell_type": "code",
   "execution_count": 12,
   "id": "a76b546f",
   "metadata": {},
   "outputs": [
    {
     "data": {
      "image/png": "[encoded data removed]",
      "text/plain": [
       "<Figure size 640x480 with 1 Axes>"
      ]
     },
     "metadata": {},
     "output_type": "display_data"
    }
   ],
   "source": [
    "import matplotlib.pyplot as plt\n",
    "\n",
    "plt.hist(ns_book7['대출건수'],bins=50)\n",
    "plt.yscale('log')\n",
    "plt.show()"
   ]
  },
  {
   "cell_type": "code",
   "execution_count": 14,
   "id": "e3b95038",
   "metadata": {},
   "outputs": [],
   "source": [
    "# 1000개의 값을 샘플링해서 리스트에 append\n",
    "# sample()판다스 함수\n",
    "np.random.seed(42)\n",
    "sample_means = []\n",
    "for _ in range(1000):\n",
    "    m = ns_book7['대출건수'].sample(30).mean()\n",
    "    sample_means.append(m)\n",
    "# 반드시 표준정규분포는 아니야"
   ]
  },
  {
   "cell_type": "code",
   "execution_count": 15,
   "id": "15686a9b",
   "metadata": {},
   "outputs": [
    {
     "data": {
      "image/png": "[encoded data removed]",
      "text/plain": [
       "<Figure size 640x480 with 1 Axes>"
      ]
     },
     "metadata": {},
     "output_type": "display_data"
    }
   ],
   "source": [
    "plt.hist(sample_means, bins=30)\n",
    "plt.show()"
   ]
  },
  {
   "cell_type": "markdown",
   "id": "359fc2b5",
   "metadata": {},
   "source": [
    "샘플링 크기와 정확도 확인   \n",
    "(샘플링했으면 반드시 확인하기!)\n"
   ]
  },
  {
   "cell_type": "code",
   "execution_count": 16,
   "id": "d2e2f7d5",
   "metadata": {},
   "outputs": [
    {
     "data": {
      "text/plain": [
       "11.539900000000001"
      ]
     },
     "execution_count": 16,
     "metadata": {},
     "output_type": "execute_result"
    }
   ],
   "source": [
    "np.mean(sample_means)"
   ]
  },
  {
   "cell_type": "code",
   "execution_count": 17,
   "id": "6e3b183d",
   "metadata": {},
   "outputs": [
    {
     "data": {
      "text/plain": [
       "11.593438968070707"
      ]
     },
     "execution_count": 17,
     "metadata": {},
     "output_type": "execute_result"
    }
   ],
   "source": [
    "ns_book7['대출건수'].mean()"
   ]
  },
  {
   "cell_type": "markdown",
   "id": "ac503c47",
   "metadata": {},
   "source": [
    "일반적으로 중심극한 정리 따르려면 샘플링의 크기가 30보다 클수록 좋음   \n",
    "그렇다고 100%맞는 건 아님! 실험해봐야 해"
   ]
  },
  {
   "cell_type": "markdown",
   "id": "ceec5aab",
   "metadata": {},
   "source": [
    "모집단이 정규분포를 따르지 않을 경우 위 공식이 안맞을 수도 있음"
   ]
  },
  {
   "cell_type": "markdown",
   "id": "3a6c4911",
   "metadata": {},
   "source": [
    "# 모집단의 평균 범위 추정하기: 신뢰구간"
   ]
  },
  {
   "cell_type": "markdown",
   "id": "cc7b5146",
   "metadata": {},
   "source": [
    "***실제 데이터 정규분포 따르지 않을 가능성이 높아!! 신뢰구간을 구해야 해***"
   ]
  },
  {
   "cell_type": "code",
   "execution_count": 21,
   "id": "65284de0",
   "metadata": {},
   "outputs": [
    {
     "data": {
      "text/html": [
       "<div>\n",
       "<style scoped>\n",
       "    .dataframe tbody tr th:only-of-type {\n",
       "        vertical-align: middle;\n",
       "    }\n",
       "\n",
       "    .dataframe tbody tr th {\n",
       "        vertical-align: top;\n",
       "    }\n",
       "\n",
       "    .dataframe thead th {\n",
       "        text-align: right;\n",
       "    }\n",
       "</style>\n",
       "<table border=\"1\" class=\"dataframe\">\n",
       "  <thead>\n",
       "    <tr style=\"text-align: right;\">\n",
       "      <th></th>\n",
       "      <th>번호</th>\n",
       "      <th>도서명</th>\n",
       "      <th>저자</th>\n",
       "      <th>출판사</th>\n",
       "      <th>발행년도</th>\n",
       "      <th>ISBN</th>\n",
       "      <th>세트 ISBN</th>\n",
       "      <th>부가기호</th>\n",
       "      <th>권</th>\n",
       "      <th>주제분류번호</th>\n",
       "      <th>도서권수</th>\n",
       "      <th>대출건수</th>\n",
       "      <th>등록일자</th>\n",
       "    </tr>\n",
       "  </thead>\n",
       "  <tbody>\n",
       "    <tr>\n",
       "      <th>1040</th>\n",
       "      <td>1060</td>\n",
       "      <td>실전 알고리즘 트레이딩 배우기 (파이썬으로 시작하는 알고리즘 트레이딩의 기초와 실전...</td>\n",
       "      <td>세바스티앙 도나디오.수라브 고쉬 지음|이기홍</td>\n",
       "      <td>에이콘출판</td>\n",
       "      <td>2021</td>\n",
       "      <td>9791161754901</td>\n",
       "      <td>NaN</td>\n",
       "      <td>NaN</td>\n",
       "      <td>NaN</td>\n",
       "      <td>004.73</td>\n",
       "      <td>1</td>\n",
       "      <td>1</td>\n",
       "      <td>2021-03-09</td>\n",
       "    </tr>\n",
       "    <tr>\n",
       "      <th>1162</th>\n",
       "      <td>1185</td>\n",
       "      <td>파이썬으로 경험하는 빅데이터 분석과 머신러닝</td>\n",
       "      <td>이영호,이수현 지음</td>\n",
       "      <td>생능출판사</td>\n",
       "      <td>2021</td>\n",
       "      <td>9788970504803</td>\n",
       "      <td>NaN</td>\n",
       "      <td>9</td>\n",
       "      <td>NaN</td>\n",
       "      <td>005.135</td>\n",
       "      <td>1</td>\n",
       "      <td>1</td>\n",
       "      <td>2021-03-02</td>\n",
       "    </tr>\n",
       "    <tr>\n",
       "      <th>1447</th>\n",
       "      <td>1504</td>\n",
       "      <td>금융 파이썬 쿡북 (금융 데이터 처리와 기술 분석부터 딥러닝 적용까지)</td>\n",
       "      <td>에릭 르윈슨</td>\n",
       "      <td>에이콘출판</td>\n",
       "      <td>2021</td>\n",
       "      <td>9791161750507</td>\n",
       "      <td>NaN</td>\n",
       "      <td>NaN</td>\n",
       "      <td>NaN</td>\n",
       "      <td>005.133</td>\n",
       "      <td>1</td>\n",
       "      <td>2</td>\n",
       "      <td>2021-02-22</td>\n",
       "    </tr>\n",
       "    <tr>\n",
       "      <th>1563</th>\n",
       "      <td>1630</td>\n",
       "      <td>프로그래머를 위한 파이썬 (실전 프로젝트로 배우는 소프트웨어 개발의 원리와 정석)</td>\n",
       "      <td>데인 힐라드 지음|황반석</td>\n",
       "      <td>제이펍</td>\n",
       "      <td>2020</td>\n",
       "      <td>9791190665636</td>\n",
       "      <td>NaN</td>\n",
       "      <td>NaN</td>\n",
       "      <td>NaN</td>\n",
       "      <td>005.133</td>\n",
       "      <td>1</td>\n",
       "      <td>2</td>\n",
       "      <td>2021-02-16</td>\n",
       "    </tr>\n",
       "    <tr>\n",
       "      <th>1571</th>\n",
       "      <td>1640</td>\n",
       "      <td>엑셀 × 파이썬 업무 자동화 - 매크로, VBA는 이제 낡았다!</td>\n",
       "      <td>카네히로 카즈미 (지은이), 서수환 (옮긴이)</td>\n",
       "      <td>인사이트</td>\n",
       "      <td>2020</td>\n",
       "      <td>9788966262847</td>\n",
       "      <td>NaN</td>\n",
       "      <td>NaN</td>\n",
       "      <td>NaN</td>\n",
       "      <td>005.53</td>\n",
       "      <td>1</td>\n",
       "      <td>2</td>\n",
       "      <td>2021-02-16</td>\n",
       "    </tr>\n",
       "  </tbody>\n",
       "</table>\n",
       "</div>"
      ],
      "text/plain": [
       "        번호                                                도서명  \\\n",
       "1040  1060  실전 알고리즘 트레이딩 배우기 (파이썬으로 시작하는 알고리즘 트레이딩의 기초와 실전...   \n",
       "1162  1185                          파이썬으로 경험하는 빅데이터 분석과 머신러닝    \n",
       "1447  1504            금융 파이썬 쿡북 (금융 데이터 처리와 기술 분석부터 딥러닝 적용까지)   \n",
       "1563  1630      프로그래머를 위한 파이썬 (실전 프로젝트로 배우는 소프트웨어 개발의 원리와 정석)   \n",
       "1571  1640                엑셀 × 파이썬 업무 자동화 - 매크로, VBA는 이제 낡았다!   \n",
       "\n",
       "                             저자    출판사  발행년도           ISBN 세트 ISBN 부가기호    권  \\\n",
       "1040   세바스티앙 도나디오.수라브 고쉬 지음|이기홍  에이콘출판  2021  9791161754901     NaN  NaN  NaN   \n",
       "1162                 이영호,이수현 지음  생능출판사  2021  9788970504803     NaN    9  NaN   \n",
       "1447                     에릭 르윈슨  에이콘출판  2021  9791161750507     NaN  NaN  NaN   \n",
       "1563              데인 힐라드 지음|황반석    제이펍  2020  9791190665636     NaN  NaN  NaN   \n",
       "1571  카네히로 카즈미 (지은이), 서수환 (옮긴이)   인사이트  2020  9788966262847     NaN  NaN  NaN   \n",
       "\n",
       "       주제분류번호  도서권수  대출건수        등록일자  \n",
       "1040   004.73     1     1  2021-03-09  \n",
       "1162  005.135     1     1  2021-03-02  \n",
       "1447  005.133     1     2  2021-02-22  \n",
       "1563  005.133     1     2  2021-02-16  \n",
       "1571   005.53     1     2  2021-02-16  "
      ]
     },
     "execution_count": 21,
     "metadata": {},
     "output_type": "execute_result"
    }
   ],
   "source": [
    "python_books_index =  ns_book7['주제분류번호'].str.startswith('00') & ns_book7['도서명'].str.contains('파이썬')\n",
    "python_books = ns_book7[python_books_index]\n",
    "python_books.head()"
   ]
  },
  {
   "cell_type": "code",
   "execution_count": 22,
   "id": "b503c3d1",
   "metadata": {},
   "outputs": [
    {
     "data": {
      "text/plain": [
       "251"
      ]
     },
     "execution_count": 22,
     "metadata": {},
     "output_type": "execute_result"
    }
   ],
   "source": [
    "len(python_books)"
   ]
  },
  {
   "cell_type": "code",
   "execution_count": 29,
   "id": "5dda5b4d",
   "metadata": {},
   "outputs": [
    {
     "data": {
      "text/plain": [
       "14.749003984063744"
      ]
     },
     "execution_count": 29,
     "metadata": {},
     "output_type": "execute_result"
    }
   ],
   "source": [
    "python_mean = np.mean(python_books['대출건수'])\n",
    "python_mean"
   ]
  },
  {
   "cell_type": "code",
   "execution_count": 23,
   "id": "74c32d5c",
   "metadata": {},
   "outputs": [
    {
     "data": {
      "text/plain": [
       "0.8041612072427442"
      ]
     },
     "execution_count": 23,
     "metadata": {},
     "output_type": "execute_result"
    }
   ],
   "source": [
    "python_std = np.std(python_books['대출건수'])\n",
    "python_se = python_std / np.sqrt(len(python_books))\n",
    "# 표본에 포함된 샘플 개수 루트\n",
    "python_se"
   ]
  },
  {
   "cell_type": "markdown",
   "id": "d189ad4a",
   "metadata": {},
   "source": [
    "95% 구간 구하기"
   ]
  },
  {
   "cell_type": "code",
   "execution_count": 25,
   "id": "01553881",
   "metadata": {},
   "outputs": [
    {
     "data": {
      "text/plain": [
       "-1.9599639845400545"
      ]
     },
     "execution_count": 25,
     "metadata": {},
     "output_type": "execute_result"
    }
   ],
   "source": [
    "stats.norm.ppf(0.975)"
   ]
  },
  {
   "cell_type": "code",
   "execution_count": 26,
   "id": "10092d29",
   "metadata": {},
   "outputs": [
    {
     "data": {
      "text/plain": [
       "-1.9599639845400545"
      ]
     },
     "execution_count": 26,
     "metadata": {},
     "output_type": "execute_result"
    }
   ],
   "source": [
    "stats.norm.ppf(0.025)"
   ]
  },
  {
   "cell_type": "code",
   "execution_count": 30,
   "id": "d010953b",
   "metadata": {},
   "outputs": [
    {
     "name": "stdout",
     "output_type": "stream",
     "text": [
      "13.172848017867965 16.325159950259522\n"
     ]
    }
   ],
   "source": [
    "print(python_mean-1.96*python_se, python_mean+1.96*python_se)"
   ]
  },
  {
   "cell_type": "markdown",
   "id": "8955a954",
   "metadata": {},
   "source": [
    "***신뢰구간은 이 구간 안에 모집단의 평균이 포함되어 있을 것이라 확시하는 범위를 의미*** "
   ]
  },
  {
   "cell_type": "markdown",
   "id": "30788eed",
   "metadata": {},
   "source": [
    "## 통계적 의미 확인하기: 가설검정"
   ]
  },
  {
   "cell_type": "markdown",
   "id": "5d8b6df0",
   "metadata": {},
   "source": [
    "표본에 대한 정보를 사용해(모집단x)"
   ]
  },
  {
   "cell_type": "markdown",
   "id": "4ebba543",
   "metadata": {},
   "source": [
    "ex)  \n",
    "파이썬과 C++ 도서의  평균 대출건수가 같다는 가설 영가설 또는 귀무가설  \n",
    "반대로 같지 않다 대립가설"
   ]
  },
  {
   "cell_type": "code",
   "execution_count": 34,
   "id": "ad0583b9",
   "metadata": {},
   "outputs": [
    {
     "data": {
      "text/html": [
       "<div>\n",
       "<style scoped>\n",
       "    .dataframe tbody tr th:only-of-type {\n",
       "        vertical-align: middle;\n",
       "    }\n",
       "\n",
       "    .dataframe tbody tr th {\n",
       "        vertical-align: top;\n",
       "    }\n",
       "\n",
       "    .dataframe thead th {\n",
       "        text-align: right;\n",
       "    }\n",
       "</style>\n",
       "<table border=\"1\" class=\"dataframe\">\n",
       "  <thead>\n",
       "    <tr style=\"text-align: right;\">\n",
       "      <th></th>\n",
       "      <th>번호</th>\n",
       "      <th>도서명</th>\n",
       "      <th>저자</th>\n",
       "      <th>출판사</th>\n",
       "      <th>발행년도</th>\n",
       "      <th>ISBN</th>\n",
       "      <th>세트 ISBN</th>\n",
       "      <th>부가기호</th>\n",
       "      <th>권</th>\n",
       "      <th>주제분류번호</th>\n",
       "      <th>도서권수</th>\n",
       "      <th>대출건수</th>\n",
       "      <th>등록일자</th>\n",
       "    </tr>\n",
       "  </thead>\n",
       "  <tbody>\n",
       "    <tr>\n",
       "      <th>101</th>\n",
       "      <td>103</td>\n",
       "      <td>C++를 사용한 언리얼 엔진 4 개발 2/e (100여 개의 레시피를 통해 배우는 ...</td>\n",
       "      <td>존 도란.윌리엄 셰리프.스테판 화이틀 지음|조경빈</td>\n",
       "      <td>에이콘</td>\n",
       "      <td>2020</td>\n",
       "      <td>9791161754659</td>\n",
       "      <td>NaN</td>\n",
       "      <td>NaN</td>\n",
       "      <td>NaN</td>\n",
       "      <td>005.11</td>\n",
       "      <td>1</td>\n",
       "      <td>1</td>\n",
       "      <td>2021-03-15</td>\n",
       "    </tr>\n",
       "    <tr>\n",
       "      <th>19754</th>\n",
       "      <td>20779</td>\n",
       "      <td>Game Programming in C++</td>\n",
       "      <td>산자이 마드하브</td>\n",
       "      <td>에이콘출판</td>\n",
       "      <td>2019</td>\n",
       "      <td>9791161753560</td>\n",
       "      <td>NaN</td>\n",
       "      <td>NaN</td>\n",
       "      <td>NaN</td>\n",
       "      <td>005.133</td>\n",
       "      <td>1</td>\n",
       "      <td>10</td>\n",
       "      <td>2019-11-26</td>\n",
       "    </tr>\n",
       "    <tr>\n",
       "      <th>20198</th>\n",
       "      <td>21289</td>\n",
       "      <td>C++ API OpenCV 프로그래밍 - 2nd Edition</td>\n",
       "      <td>김동근</td>\n",
       "      <td>가메출판사</td>\n",
       "      <td>2016</td>\n",
       "      <td>9788980782864</td>\n",
       "      <td>NaN</td>\n",
       "      <td>NaN</td>\n",
       "      <td>NaN</td>\n",
       "      <td>004.77</td>\n",
       "      <td>1</td>\n",
       "      <td>5</td>\n",
       "      <td>2019-11-05</td>\n",
       "    </tr>\n",
       "    <tr>\n",
       "      <th>21630</th>\n",
       "      <td>22950</td>\n",
       "      <td>Visual C++ 영상처리 프로그래밍 =Visual C++ image proces...</td>\n",
       "      <td>황선규 지음</td>\n",
       "      <td>길벗</td>\n",
       "      <td>2015</td>\n",
       "      <td>9791186978153</td>\n",
       "      <td>NaN</td>\n",
       "      <td>9</td>\n",
       "      <td>NaN</td>\n",
       "      <td>004.77</td>\n",
       "      <td>1</td>\n",
       "      <td>3</td>\n",
       "      <td>2019-10-22</td>\n",
       "    </tr>\n",
       "    <tr>\n",
       "      <th>22461</th>\n",
       "      <td>23859</td>\n",
       "      <td>Functional Programming in C++</td>\n",
       "      <td>이반 추키츠 지음, 김점갑 옮김</td>\n",
       "      <td>에이콘출판</td>\n",
       "      <td>2019</td>\n",
       "      <td>9791161753416</td>\n",
       "      <td>NaN</td>\n",
       "      <td>NaN</td>\n",
       "      <td>NaN</td>\n",
       "      <td>005.133</td>\n",
       "      <td>1</td>\n",
       "      <td>4</td>\n",
       "      <td>2019-09-26</td>\n",
       "    </tr>\n",
       "  </tbody>\n",
       "</table>\n",
       "</div>"
      ],
      "text/plain": [
       "          번호                                                도서명  \\\n",
       "101      103  C++를 사용한 언리얼 엔진 4 개발 2/e (100여 개의 레시피를 통해 배우는 ...   \n",
       "19754  20779                            Game Programming in C++   \n",
       "20198  21289                 C++ API OpenCV 프로그래밍 - 2nd Edition   \n",
       "21630  22950  Visual C++ 영상처리 프로그래밍 =Visual C++ image proces...   \n",
       "22461  23859                      Functional Programming in C++   \n",
       "\n",
       "                                저자    출판사  발행년도           ISBN 세트 ISBN 부가기호  \\\n",
       "101    존 도란.윌리엄 셰리프.스테판 화이틀 지음|조경빈    에이콘  2020  9791161754659     NaN  NaN   \n",
       "19754                     산자이 마드하브  에이콘출판  2019  9791161753560     NaN  NaN   \n",
       "20198                          김동근  가메출판사  2016  9788980782864     NaN  NaN   \n",
       "21630                       황선규 지음     길벗  2015  9791186978153     NaN    9   \n",
       "22461            이반 추키츠 지음, 김점갑 옮김  에이콘출판  2019  9791161753416     NaN  NaN   \n",
       "\n",
       "         권   주제분류번호  도서권수  대출건수        등록일자  \n",
       "101    NaN   005.11     1     1  2021-03-15  \n",
       "19754  NaN  005.133     1    10  2019-11-26  \n",
       "20198  NaN   004.77     1     5  2019-11-05  \n",
       "21630  NaN   004.77     1     3  2019-10-22  \n",
       "22461  NaN  005.133     1     4  2019-09-26  "
      ]
     },
     "execution_count": 34,
     "metadata": {},
     "output_type": "execute_result"
    }
   ],
   "source": [
    "cplus_books_index = ns_book7['주제분류번호'].str.startswith('00') & ns_book7['도서명'].str.contains('C++', regex=False)\n",
    "cplus_books = ns_book7[cplus_books_index]\n",
    "cplus_books.head()"
   ]
  },
  {
   "cell_type": "markdown",
   "id": "6c711744",
   "metadata": {},
   "source": [
    "### t-검정으로 가설 검증하기"
   ]
  },
  {
   "cell_type": "code",
   "execution_count": 35,
   "id": "6e38b1f6",
   "metadata": {},
   "outputs": [
    {
     "name": "stdout",
     "output_type": "stream",
     "text": [
      "2.1390005694958574 0.03315179520224784\n"
     ]
    }
   ],
   "source": [
    "# 파이썬 c++데이터 대출건수 같다\n",
    "# t검정 ttest_ind()\n",
    "t, pvalue = stats.ttest_ind(python_books['대출건수'], cplus_books['대출건수'])\n",
    "print(t, pvalue)"
   ]
  },
  {
   "cell_type": "markdown",
   "id": "557f1602",
   "metadata": {},
   "source": [
    "## 정규분포가 아닐 때 가설 검증하기: 순열검정"
   ]
  },
  {
   "cell_type": "code",
   "execution_count": 40,
   "id": "c557ad6e",
   "metadata": {},
   "outputs": [
    {
     "name": "stdout",
     "output_type": "stream",
     "text": [
      "3.1534983660862164 0.0258\n"
     ]
    }
   ],
   "source": [
    "# 순열검정을 위한 permutation_test() 사이파이1.8이상에서만 가능\n",
    "res = stats.permutation_test((python_books['대출건수'], cplus_books['대출건수']), statistic, random_state=42)\n",
    "print(res.statistic, res.pvalue)"
   ]
  },
  {
   "cell_type": "code",
   "execution_count": 36,
   "id": "63d9ad6c",
   "metadata": {},
   "outputs": [],
   "source": [
    "#두 개의 배열을 받아 평균을 구하는 함수 구현\n",
    "def statistic(x,y):\n",
    "    return np.mean(x) - np.mean(y)"
   ]
  },
  {
   "cell_type": "code",
   "execution_count": 55,
   "id": "851dedb0",
   "metadata": {},
   "outputs": [],
   "source": [
    "def permutation_test(x, y):\n",
    "    # 표본의 평균 차이를 계산합니다.\n",
    "    obs_diff = statistic(x, y)\n",
    "    # 두 표본을 합칩니다.\n",
    "    all = np.append(x, y)\n",
    "    diffs = []\n",
    "    np.random.seed(42)\n",
    "    # 순열 검정을 1000번 반복합니다.\n",
    "    for _ in range(1000):\n",
    "        # 전체 인덱스를 섞습니다.\n",
    "        idx = np.random.permutation(len(all))\n",
    "        # 랜덤하게 두 그룹으로 나눈 다음 평균 차이를 계산합니다.\n",
    "        x_ = all[idx[:len(x)]]\n",
    "        y_ = all[idx[len(x):]]\n",
    "        diffs.append(statistic(x_, y_))\n",
    "    print((obs_diff))\n",
    "    print(len(diffs))\n",
    "    # 원본 표본보다 작거나 큰 경우의 p-값을 계산합니다.\n",
    "    less_pvalue = np.sum(diffs < obs_diff)/1000\n",
    "    greater_pvalue = np.sum(diffs > obs_diff)/1000\n",
    "    # 둘 중 작은 p-값을 선택해 2를 곱하여 최종 p-값을 반환합니다.\n",
    "    return obs_diff, np.minimum(less_pvalue, greater_pvalue) * 2"
   ]
  },
  {
   "cell_type": "code",
   "execution_count": 59,
   "id": "3511403a",
   "metadata": {},
   "outputs": [],
   "source": [
    "def permutation_test(x, y):\n",
    "    # 표본의 평균 차이를 계산합니다.\n",
    "    obs_diff = statistic(x, y)\n",
    "    # 두 표본을 합칩니다.\n",
    "    all = np.append(x, y)\n",
    "    diffs = []\n",
    "    np.random.seed(42)\n",
    "    # 순열 검정을 1000번 반복합니다.\n",
    "    for _ in range(1000):\n",
    "        # 전체 인덱스를 섞습니다.\n",
    "        idx = np.random.permutation(len(all))\n",
    "        # 랜덤하게 두 그룹으로 나눈 다음 평균 차이를 계산합니다.\n",
    "        x_ = all[idx[:len(x)]]\n",
    "        y_ = all[idx[len(x):]]\n",
    "        diffs.append(statistic(x_, y_))\n",
    "#     print((obs_diff))\n",
    "#     print(len(diffs))\n",
    "    # 원본 표본보다 작거나 큰 경우의 p-값을 계산합니다.\n",
    "    less_pvalue = np.sum(i < obs_diff for i in diffs) / 1000\n",
    "    greater_pvalue = np.sum(i > obs_diff for i in diffs) / 1000\n",
    "    # 둘 중 작은 p-값을 선택해 2를 곱하여 최종 p-값을 반환합니다.\n",
    "    return obs_diff, np.minimum(less_pvalue, greater_pvalue) * 2"
   ]
  },
  {
   "cell_type": "code",
   "execution_count": 60,
   "id": "f014275e",
   "metadata": {},
   "outputs": [
    {
     "name": "stderr",
     "output_type": "stream",
     "text": [
      "C:\\Users\\Playdata\\AppData\\Local\\Temp\\ipykernel_7232\\2926251638.py:19: DeprecationWarning: Calling np.sum(generator) is deprecated, and in the future will give a different result. Use np.sum(np.fromiter(generator)) or the python sum builtin instead.\n",
      "  less_pvalue = np.sum(i < obs_diff for i in diffs) / 1000\n",
      "C:\\Users\\Playdata\\AppData\\Local\\Temp\\ipykernel_7232\\2926251638.py:20: DeprecationWarning: Calling np.sum(generator) is deprecated, and in the future will give a different result. Use np.sum(np.fromiter(generator)) or the python sum builtin instead.\n",
      "  greater_pvalue = np.sum(i > obs_diff for i in diffs) / 1000\n"
     ]
    },
    {
     "data": {
      "text/plain": [
       "(3.1534983660862164, 0.022)"
      ]
     },
     "execution_count": 60,
     "metadata": {},
     "output_type": "execute_result"
    }
   ],
   "source": [
    "permutation_test(python_books['대출건수'], cplus_books['대출건수'])"
   ]
  },
  {
   "cell_type": "code",
   "execution_count": null,
   "id": "261fb385",
   "metadata": {},
   "outputs": [],
   "source": []
  },
  {
   "cell_type": "code",
   "execution_count": null,
   "id": "11c11b96",
   "metadata": {},
   "outputs": [],
   "source": []
  }
 ],
 "metadata": {
  "kernelspec": {
   "display_name": "Python 3 (ipykernel)",
   "language": "python",
   "name": "python3"
  },
  "language_info": {
   "codemirror_mode": {
    "name": "ipython",
    "version": 3
   },
   "file_extension": ".py",
   "mimetype": "text/x-python",
   "name": "python",
   "nbconvert_exporter": "python",
   "pygments_lexer": "ipython3",
   "version": "3.9.13"
  }
 },
 "nbformat": 4,
 "nbformat_minor": 5
}
