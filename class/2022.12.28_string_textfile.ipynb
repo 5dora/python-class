{
 "cells": [
  {
   "cell_type": "markdown",
   "id": "c92940c3",
   "metadata": {},
   "source": [
    "# 9장 문자열과 텍스트 파일 데이터 다루기"
   ]
  },
  {
   "cell_type": "markdown",
   "id": "e96e1a2b",
   "metadata": {},
   "source": [
    "### 9.1 문자열 다루기"
   ]
  },
  {
   "cell_type": "markdown",
   "id": "44d5f8be",
   "metadata": {},
   "source": [
    "#### 1) 문자열 분리하기"
   ]
  },
  {
   "cell_type": "markdown",
   "id": "2ab2456e",
   "metadata": {},
   "source": [
    "str.split([sep])"
   ]
  },
  {
   "cell_type": "markdown",
   "id": "d6d57e0d",
   "metadata": {},
   "source": [
    "스플릿 리스트로 반환"
   ]
  },
  {
   "cell_type": "code",
   "execution_count": 6,
   "id": "f45482d4",
   "metadata": {},
   "outputs": [
    {
     "data": {
      "text/plain": [
       "['에스프레소', ' 아메리카노', ' 카페라테', ' 카푸치노']"
      ]
     },
     "execution_count": 6,
     "metadata": {},
     "output_type": "execute_result"
    }
   ],
   "source": [
    "coffee_menu_str = \"에스프레소, 아메리카노, 카페라테, 카푸치노\"\n",
    "coffee_menu_str.split(',')"
   ]
  },
  {
   "cell_type": "markdown",
   "id": "c75d334a",
   "metadata": {},
   "source": [
    "문자열에 직접 split()메서드를 사용할 수 있다."
   ]
  },
  {
   "cell_type": "code",
   "execution_count": 7,
   "id": "6303f583",
   "metadata": {},
   "outputs": [
    {
     "data": {
      "text/plain": [
       "['에스프레소', ' 아메리카노', ' 카페라테', ' 카푸치노']"
      ]
     },
     "execution_count": 7,
     "metadata": {},
     "output_type": "execute_result"
    }
   ],
   "source": [
    "\"에스프레소, 아메리카노, 카페라테, 카푸치노\".split(',')"
   ]
  },
  {
   "cell_type": "code",
   "execution_count": 11,
   "id": "f21b9aad",
   "metadata": {},
   "outputs": [
    {
     "data": {
      "text/plain": [
       "['에스프레소', '아메리카노', '카페라테', '카푸치노']"
      ]
     },
     "execution_count": 11,
     "metadata": {},
     "output_type": "execute_result"
    }
   ],
   "source": [
    "\"에스프레소 아메리카노 카페라테 카푸치노\".split(' ')"
   ]
  },
  {
   "cell_type": "code",
   "execution_count": 12,
   "id": "a0d2f3f4",
   "metadata": {},
   "outputs": [
    {
     "data": {
      "text/plain": [
       "['에스프레소', '아메리카노', '카페라테', '카푸치노']"
      ]
     },
     "execution_count": 12,
     "metadata": {},
     "output_type": "execute_result"
    }
   ],
   "source": [
    "\"에스프레소 아메리카노 카페라테 카푸치노\".split()"
   ]
  },
  {
   "cell_type": "markdown",
   "id": "65c38880",
   "metadata": {},
   "source": [
    "문자열에 인자없이 split을 사용하면 모든 공백과 개행문자를 없앨 수 있다."
   ]
  },
  {
   "cell_type": "code",
   "execution_count": 13,
   "id": "131d82a6",
   "metadata": {},
   "outputs": [
    {
     "data": {
      "text/plain": [
       "['에스프레소', '아메리카노', '카페라테', '카푸치노']"
      ]
     },
     "execution_count": 13,
     "metadata": {},
     "output_type": "execute_result"
    }
   ],
   "source": [
    "\"      에스프레소 \\n\\n 아메리카노    \\n 카페라테     카푸치노\".split()"
   ]
  },
  {
   "cell_type": "markdown",
   "id": "92f0cc64",
   "metadata": {},
   "source": [
    "원하는 횟수만큼만 문자열을 분리할 때"
   ]
  },
  {
   "cell_type": "markdown",
   "id": "0c5b1600",
   "metadata": {},
   "source": [
    "str.split([sep, maxsplit=숫자])"
   ]
  },
  {
   "cell_type": "code",
   "execution_count": 14,
   "id": "1f90607b",
   "metadata": {},
   "outputs": [
    {
     "data": {
      "text/plain": [
       "['에스프레소', '아메리카노', '카페라테 카푸치노']"
      ]
     },
     "execution_count": 14,
     "metadata": {},
     "output_type": "execute_result"
    }
   ],
   "source": [
    "\"에스프레소 아메리카노 카페라테 카푸치노\".split(maxsplit=2)"
   ]
  },
  {
   "cell_type": "code",
   "execution_count": 17,
   "id": "a015dad8",
   "metadata": {},
   "outputs": [
    {
     "name": "stdout",
     "output_type": "stream",
     "text": [
      "['+82', '10-2345-6789']\n",
      "국내전화번호 : 10-2345-6789\n"
     ]
    }
   ],
   "source": [
    "phone_number = \"+82-10-2345-6789\"\n",
    "split_num = phone_number.split(\"-\",1)\n",
    "print(split_num)\n",
    "print(\"국내전화번호 : {0}\".format(split_num[1]))"
   ]
  },
  {
   "cell_type": "markdown",
   "id": "0b955f85",
   "metadata": {},
   "source": [
    "#### 2) 필요없는 문자열 삭제하기"
   ]
  },
  {
   "cell_type": "markdown",
   "id": "9f0f5b10",
   "metadata": {},
   "source": [
    "str.strip([chars])"
   ]
  },
  {
   "cell_type": "code",
   "execution_count": 18,
   "id": "64d9d56a",
   "metadata": {},
   "outputs": [
    {
     "data": {
      "text/plain": [
       "'Python'"
      ]
     },
     "execution_count": 18,
     "metadata": {},
     "output_type": "execute_result"
    }
   ],
   "source": [
    "\"aaaaPythonaaa\".strip(\"a\")"
   ]
  },
  {
   "cell_type": "code",
   "execution_count": 19,
   "id": "dbca04ec",
   "metadata": {},
   "outputs": [
    {
     "data": {
      "text/plain": [
       "'bbPythonbb'"
      ]
     },
     "execution_count": 19,
     "metadata": {},
     "output_type": "execute_result"
    }
   ],
   "source": [
    "test_str = \"aaabbPythonbbaa\"\n",
    "temp1 = test_str.strip('a')\n",
    "temp1"
   ]
  },
  {
   "cell_type": "code",
   "execution_count": 20,
   "id": "f9938280",
   "metadata": {},
   "outputs": [
    {
     "data": {
      "text/plain": [
       "'Python'"
      ]
     },
     "execution_count": 20,
     "metadata": {},
     "output_type": "execute_result"
    }
   ],
   "source": [
    "temp1.strip('b')"
   ]
  },
  {
   "cell_type": "markdown",
   "id": "d0dd6a67",
   "metadata": {},
   "source": [
    "한꺼번에 지정하기   \n",
    "순서상관 없이 한 번에 삭제 가능"
   ]
  },
  {
   "cell_type": "code",
   "execution_count": 25,
   "id": "944a48ce",
   "metadata": {},
   "outputs": [
    {
     "data": {
      "text/plain": [
       "'Python'"
      ]
     },
     "execution_count": 25,
     "metadata": {},
     "output_type": "execute_result"
    }
   ],
   "source": [
    "test_str.strip('ab')"
   ]
  },
  {
   "cell_type": "code",
   "execution_count": 26,
   "id": "2b9aa86e",
   "metadata": {},
   "outputs": [
    {
     "data": {
      "text/plain": [
       "'Python'"
      ]
     },
     "execution_count": 26,
     "metadata": {},
     "output_type": "execute_result"
    }
   ],
   "source": [
    "test_str.strip('ba')"
   ]
  },
  {
   "cell_type": "code",
   "execution_count": 48,
   "id": "159db657",
   "metadata": {},
   "outputs": [
    {
     "data": {
      "text/plain": [
       "'Python is powerful'"
      ]
     },
     "execution_count": 48,
     "metadata": {},
     "output_type": "execute_result"
    }
   ],
   "source": [
    "test_str_multi = \"##***!!!###...     Python is powerful!!... %%!!!\"\n",
    "test_str_multi.strip(\"#  *!%.\") #공백도 하나의 문자열"
   ]
  },
  {
   "cell_type": "code",
   "execution_count": 42,
   "id": "eda74741",
   "metadata": {},
   "outputs": [
    {
     "data": {
      "text/plain": [
       "'Python    !!!   is powerful'"
      ]
     },
     "execution_count": 42,
     "metadata": {},
     "output_type": "execute_result"
    }
   ],
   "source": [
    "test_str_multi = \"##***!!!###...     Python    !!!   is powerful!!%%%%...\"\n",
    "test_str_multi.strip(\"#  *!%.\")"
   ]
  },
  {
   "cell_type": "markdown",
   "id": "a1469e9a",
   "metadata": {},
   "source": [
    "공백제거하기"
   ]
  },
  {
   "cell_type": "code",
   "execution_count": 49,
   "id": "e2033d8e",
   "metadata": {},
   "outputs": [
    {
     "data": {
      "text/plain": [
       "'Python'"
      ]
     },
     "execution_count": 49,
     "metadata": {},
     "output_type": "execute_result"
    }
   ],
   "source": [
    "\" Python     \".strip(' ')"
   ]
  },
  {
   "cell_type": "markdown",
   "id": "89148be5",
   "metadata": {},
   "source": [
    "개행문자 삭제하기"
   ]
  },
  {
   "cell_type": "code",
   "execution_count": 63,
   "id": "fc5f385f",
   "metadata": {},
   "outputs": [
    {
     "data": {
      "text/plain": [
       "'Python'"
      ]
     },
     "execution_count": 63,
     "metadata": {},
     "output_type": "execute_result"
    }
   ],
   "source": [
    "\"\\n Python  \\n\\n\".strip('\\n ')"
   ]
  },
  {
   "cell_type": "code",
   "execution_count": 53,
   "id": "207c4f0e",
   "metadata": {},
   "outputs": [
    {
     "data": {
      "text/plain": [
       "'Python'"
      ]
     },
     "execution_count": 53,
     "metadata": {},
     "output_type": "execute_result"
    }
   ],
   "source": [
    "\"\\n Python \\n\\n\".strip()"
   ]
  },
  {
   "cell_type": "markdown",
   "id": "f5b9be23",
   "metadata": {},
   "source": [
    "strip 양끝에서 시작 한 번이라도 false 값이 나오면 멈춰"
   ]
  },
  {
   "cell_type": "markdown",
   "id": "d4dfc594",
   "metadata": {},
   "source": [
    "지정한 문자 외 다른 문자를 만날때까지만 삭제"
   ]
  },
  {
   "cell_type": "code",
   "execution_count": 60,
   "id": "f1a2509e",
   "metadata": {},
   "outputs": [
    {
     "data": {
      "text/plain": [
       "'Ball'"
      ]
     },
     "execution_count": 60,
     "metadata": {},
     "output_type": "execute_result"
    }
   ],
   "source": [
    "\"aaaBallaaa\".strip('a')"
   ]
  },
  {
   "cell_type": "markdown",
   "id": "e632a846",
   "metadata": {},
   "source": [
    "문자열 사이는 없어지지 않는다."
   ]
  },
  {
   "cell_type": "code",
   "execution_count": 64,
   "id": "b9d93ccf",
   "metadata": {},
   "outputs": [
    {
     "data": {
      "text/plain": [
       "'This is very \\n fast.'"
      ]
     },
     "execution_count": 64,
     "metadata": {},
     "output_type": "execute_result"
    }
   ],
   "source": [
    "\"\\n This is very \\n fast. \\n\\n\".strip()"
   ]
  },
  {
   "cell_type": "markdown",
   "id": "d917ecef",
   "metadata": {},
   "source": [
    "문자열 왼쪽만 lstrip   \n",
    "문자열 오른쪽만 rstrip"
   ]
  },
  {
   "cell_type": "code",
   "execution_count": 66,
   "id": "078e7b54",
   "metadata": {},
   "outputs": [
    {
     "name": "stdout",
     "output_type": "stream",
     "text": [
      "Python is easy to learn.\n",
      "Python is easy to learn.000\n",
      "000Python is easy to learn.\n"
     ]
    }
   ],
   "source": [
    "str_lr =\"000Python is easy to learn.000\"\n",
    "print(str_lr.strip('0'))\n",
    "print(str_lr.lstrip('0'))\n",
    "print(str_lr.rstrip('0'))"
   ]
  },
  {
   "cell_type": "markdown",
   "id": "c276c8ea",
   "metadata": {},
   "source": [
    "리스트에서 콤마의 공백을 제거 후 공백제거"
   ]
  },
  {
   "cell_type": "code",
   "execution_count": 67,
   "id": "cbaef4cb",
   "metadata": {},
   "outputs": [
    {
     "data": {
      "text/plain": [
       "['  에스프레소', ' 아메리카노', '    카페라테  ', ' 카푸치노']"
      ]
     },
     "execution_count": 67,
     "metadata": {},
     "output_type": "execute_result"
    }
   ],
   "source": [
    "coffee_menu = \"  에스프레소, 아메리카노,    카페라테  , 카푸치노\"\n",
    "coffee_menu_list = coffee_menu.split(',')\n",
    "coffee_menu_list"
   ]
  },
  {
   "cell_type": "code",
   "execution_count": 69,
   "id": "f98efcf2",
   "metadata": {},
   "outputs": [
    {
     "name": "stdout",
     "output_type": "stream",
     "text": [
      "['에스프레소', '아메리카노', '카페라테', '카푸치노']\n"
     ]
    }
   ],
   "source": [
    "coffee_list = [] #빈 리스트 생성\n",
    "for coffee in coffee_menu_list:\n",
    "    temp = coffee.strip() #문자열의 공백제거\n",
    "    coffee_list.append(temp) #리스트 변수에 공백이 제거된 문자열 추가\n",
    "    \n",
    "print(coffee_list) #최종 문자열 리스트 출력"
   ]
  },
  {
   "cell_type": "markdown",
   "id": "2c68e818",
   "metadata": {},
   "source": [
    "#### 3) 문자열 연결하기"
   ]
  },
  {
   "cell_type": "markdown",
   "id": "cbca96fc",
   "metadata": {},
   "source": [
    "더하기 연산자로 문자열 연결하기"
   ]
  },
  {
   "cell_type": "code",
   "execution_count": 71,
   "id": "fd445885",
   "metadata": {},
   "outputs": [
    {
     "name": "stdout",
     "output_type": "stream",
     "text": [
      "철수님, 주소와 전화번호를 입력해 주세요\n",
      "영미 님, 주소와 전화번호를 입력해 주세요\n"
     ]
    }
   ],
   "source": [
    "name1 = \"철수\"\n",
    "name2 = \"영미\"\n",
    "\n",
    "hello = \"님, 주소와 전화번호를 입력해 주세요\"\n",
    "print(name1 + hello) # + 공백없이 연달아\n",
    "print(name2,hello) #,는 공백 생겨"
   ]
  },
  {
   "cell_type": "markdown",
   "id": "a501d11c",
   "metadata": {},
   "source": [
    "join() 메서드 사용하기"
   ]
  },
  {
   "cell_type": "markdown",
   "id": "15d7fb01",
   "metadata": {},
   "source": [
    "붙일 건데 뭘로 붙일거야?"
   ]
  },
  {
   "cell_type": "markdown",
   "id": "0445fbc2",
   "metadata": {},
   "source": [
    "문자열을 항목으로 갖는 시퀀스(seq)의 항목 사이에 구분자 문자열을 모두 넣은 후에 문자열(str)로 반환된다."
   ]
  },
  {
   "cell_type": "markdown",
   "id": "d3556a26",
   "metadata": {},
   "source": [
    "str.join(seq)"
   ]
  },
  {
   "cell_type": "code",
   "execution_count": 84,
   "id": "bd7d35e4",
   "metadata": {},
   "outputs": [
    {
     "data": {
      "text/plain": [
       "['서울시', '서초구', '반포대로', '201(반포동)']"
      ]
     },
     "execution_count": 84,
     "metadata": {},
     "output_type": "execute_result"
    }
   ],
   "source": [
    "address_list = [\"서울시\", \"서초구\", \"반포대로\", \"201(반포동)\"]\n",
    "address_list"
   ]
  },
  {
   "cell_type": "code",
   "execution_count": 85,
   "id": "b7da8978",
   "metadata": {},
   "outputs": [
    {
     "data": {
      "text/plain": [
       "'서울시 서초구 반포대로 201(반포동)'"
      ]
     },
     "execution_count": 85,
     "metadata": {},
     "output_type": "execute_result"
    }
   ],
   "source": [
    "a = \" \"\n",
    "a.join(address_list)"
   ]
  },
  {
   "cell_type": "code",
   "execution_count": 86,
   "id": "971d78b7",
   "metadata": {},
   "outputs": [
    {
     "data": {
      "text/plain": [
       "'서울시 서초구 반포대로 201(반포동)'"
      ]
     },
     "execution_count": 86,
     "metadata": {},
     "output_type": "execute_result"
    }
   ],
   "source": [
    "\" \".join(address_list)"
   ]
  },
  {
   "cell_type": "code",
   "execution_count": 87,
   "id": "12c48e3e",
   "metadata": {},
   "outputs": [
    {
     "data": {
      "text/plain": [
       "'서울시*^-^*서초구*^-^*반포대로*^-^*201(반포동)'"
      ]
     },
     "execution_count": 87,
     "metadata": {},
     "output_type": "execute_result"
    }
   ],
   "source": [
    "\"*^-^*\".join(address_list)"
   ]
  },
  {
   "cell_type": "markdown",
   "id": "80f7e8d2",
   "metadata": {},
   "source": [
    "#### 4) 문자열 찾기"
   ]
  },
  {
   "cell_type": "markdown",
   "id": "1f8cb6a5",
   "metadata": {},
   "source": [
    "find()메서드 ***"
   ]
  },
  {
   "cell_type": "markdown",
   "id": "77ad10cb",
   "metadata": {},
   "source": [
    "str.find(search_str)"
   ]
  },
  {
   "cell_type": "markdown",
   "id": "026d5892",
   "metadata": {},
   "source": [
    "문자열에서 찾으려는 검색 문자열(search_str)과 첫번째로 일치하는 문자열(str)의 위치를 반환한다."
   ]
  },
  {
   "cell_type": "code",
   "execution_count": 94,
   "id": "affcc8ff",
   "metadata": {},
   "outputs": [
    {
     "name": "stdout",
     "output_type": "stream",
     "text": [
      "찾는 문자열의 위치: 0\n",
      "찾는 문자열의 위치: 7\n",
      "찾는 문자열의 위치: 5\n",
      "찾는 문자열의 위치: -1\n"
     ]
    }
   ],
   "source": [
    "str_f = \"Python code\"\n",
    "\n",
    "print(\"찾는 문자열의 위치:\", str_f.find(\"Python\"))\n",
    "print(\"찾는 문자열의 위치:\", str_f.find(\"code\"))\n",
    "print(\"찾는 문자열의 위치:\", str_f.find(\"n\"))\n",
    "print(\"찾는 문자열의 위치:\", str_f.find(\"easy\"))"
   ]
  },
  {
   "cell_type": "markdown",
   "id": "ae2dbfbf",
   "metadata": {},
   "source": [
    "시작과 끝 위치를 추가로 지정 가능"
   ]
  },
  {
   "cell_type": "markdown",
   "id": "c40694a4",
   "metadata": {},
   "source": [
    "str.find(search_str, start, end)"
   ]
  },
  {
   "cell_type": "code",
   "execution_count": 177,
   "id": "97a01f35",
   "metadata": {},
   "outputs": [
    {
     "name": "stdout",
     "output_type": "stream",
     "text": [
      "20\n",
      "0\n",
      "-1\n"
     ]
    }
   ],
   "source": [
    "str_f_se = \"Python is powerful. Python is eaxy to learn\"\n",
    "\n",
    "print(str_f_se.find(\"Python\", 10, 30))\n",
    "print(str_f_se.find(\"Python\", 0, 30))\n",
    "print(str_f_se.find(\"Python\", 35))"
   ]
  },
  {
   "cell_type": "markdown",
   "id": "9ac36a6d",
   "metadata": {},
   "source": [
    "#### 5) 몇번"
   ]
  },
  {
   "cell_type": "markdown",
   "id": "a1d49417",
   "metadata": {},
   "source": [
    "해당 문자열이 몇 번 나오는지 알고 싶을 때"
   ]
  },
  {
   "cell_type": "markdown",
   "id": "eb6c9a25",
   "metadata": {},
   "source": [
    "str.count(search_str)   \n",
    "str.count(search_str,strat)   \n",
    "str.count(search_str,strat, end)"
   ]
  },
  {
   "cell_type": "code",
   "execution_count": 102,
   "id": "c43411ba",
   "metadata": {},
   "outputs": [
    {
     "name": "stdout",
     "output_type": "stream",
     "text": [
      "Python의 개수는?: 3\n",
      "powerful의 개수는?: 1\n",
      "IPython의 개수는?: 0\n"
     ]
    }
   ],
   "source": [
    "str_c = \"Python is powerful. Python is easy to learn. Python is open\"\n",
    "\n",
    "print(\"Python의 개수는?:\", str_c.count(\"Python\"))\n",
    "print(\"powerful의 개수는?:\", str_c.count(\"powerful\"))\n",
    "print(\"IPython의 개수는?:\", str_c.count(\"IPython\"))"
   ]
  },
  {
   "cell_type": "markdown",
   "id": "4c7a4b34",
   "metadata": {},
   "source": [
    "startswith() 와 endswith()"
   ]
  },
  {
   "cell_type": "markdown",
   "id": "983e8f4d",
   "metadata": {},
   "source": [
    "해당 문자열로 시작하는지와 끝나는지를 검사한다. 시작하거나 끝나면 True를 아니면 False를 출력한다."
   ]
  },
  {
   "cell_type": "code",
   "execution_count": 109,
   "id": "e2371fd6",
   "metadata": {},
   "outputs": [
    {
     "name": "stdout",
     "output_type": "stream",
     "text": [
      "Python으로 시작?: True\n",
      "is로 시작?: False\n",
      ".로 끝?: True\n",
      "learn으로 끝?: False\n"
     ]
    }
   ],
   "source": [
    "str_se = \"Python is powerful. Python is easy to learn.\"\n",
    "\n",
    "print(\"Python으로 시작?:\", str_se.startswith(\"Python\"))\n",
    "print(\"is로 시작?:\", str_se.startswith(\"is\"))\n",
    "print(\".로 끝?:\", str_se.endswith(\".\"))\n",
    "print(\"learn으로 끝?:\", str_se.endswith(\"learn\")) #????"
   ]
  },
  {
   "cell_type": "markdown",
   "id": "3643d0ed",
   "metadata": {},
   "source": [
    "#### 6) 문자열 바꾸기"
   ]
  },
  {
   "cell_type": "markdown",
   "id": "a46d5de3",
   "metadata": {},
   "source": [
    "replace() 문자열에서 지정한 문자열을 찾아서 바꾸는 메서드   \n",
    "str.replace(old, new, maxcount)"
   ]
  },
  {
   "cell_type": "code",
   "execution_count": 106,
   "id": "d48cf1cd",
   "metadata": {},
   "outputs": [
    {
     "name": "stdout",
     "output_type": "stream",
     "text": [
      "IPython is fasr. IPython is friendly. IPython is open.\n",
      "IPython is fasr. IPython is friendly. Python is open.\n"
     ]
    }
   ],
   "source": [
    "str_a = 'Python is fasr. Python is friendly. Python is open.'\n",
    "print(str_a.replace('Python', 'IPython'))\n",
    "print(str_a.replace('Python', 'IPython', 2))"
   ]
  },
  {
   "cell_type": "markdown",
   "id": "817ff279",
   "metadata": {},
   "source": [
    "제거할 때도 사용된다."
   ]
  },
  {
   "cell_type": "code",
   "execution_count": 107,
   "id": "2c1e6787",
   "metadata": {},
   "outputs": [
    {
     "name": "stdout",
     "output_type": "stream",
     "text": [
      "[Python] [is] [fast]\n",
      "Python] is] fast]\n",
      "Python is fast\n"
     ]
    }
   ],
   "source": [
    "str_b = '[Python] [is] [fast]'\n",
    "str_b1 = str_b.replace('[', '')\n",
    "str_b2 = str_b1.replace(']','')\n",
    "\n",
    "print(str_b)\n",
    "print(str_b1)\n",
    "print(str_b2)"
   ]
  },
  {
   "cell_type": "markdown",
   "id": "86812991",
   "metadata": {},
   "source": [
    "#### 7) 문자열의 구성 확인하기"
   ]
  },
  {
   "cell_type": "markdown",
   "id": "aa61a1b0",
   "metadata": {},
   "source": [
    "문자열이 어떻게 이루어져 있는지 확인하기 위한 함수(true와 false로)"
   ]
  },
  {
   "cell_type": "markdown",
   "id": "fbc389d8",
   "metadata": {},
   "source": [
    "isalpha() = 문자열이 숫자, 특수문자, 공백이 아닌 문자로 구성되어 있을 때만   \n",
    "isdigit() = 문자열이 모두 숫자로 구성   \n",
    "islanum() = 문자열이 특수문자나 공백이 아닌 문자와 숫자로 구성   \n",
    "isspace() = 문자열이 모두 공백 문자로 구성   \n",
    "isupper() = 문자열이 모두 로마자 대문자로 구성   \n",
    "islower() = 문자열이 모두 로마자 소문자로 구성"
   ]
  },
  {
   "cell_type": "code",
   "execution_count": 111,
   "id": "39d5ac43",
   "metadata": {},
   "outputs": [
    {
     "name": "stdout",
     "output_type": "stream",
     "text": [
      "True\n",
      "False\n"
     ]
    }
   ],
   "source": [
    "print(\"Python\".isalpha())\n",
    "print('Ver.3.x'.isalpha())"
   ]
  },
  {
   "cell_type": "code",
   "execution_count": 116,
   "id": "58d65227",
   "metadata": {},
   "outputs": [
    {
     "name": "stdout",
     "output_type": "stream",
     "text": [
      "True\n",
      "False\n"
     ]
    }
   ],
   "source": [
    "print('12345'.isdigit())\n",
    "print('12345abc'.isdigit())"
   ]
  },
  {
   "cell_type": "code",
   "execution_count": 117,
   "id": "4a0233cd",
   "metadata": {},
   "outputs": [
    {
     "name": "stdout",
     "output_type": "stream",
     "text": [
      "True\n",
      "False\n"
     ]
    }
   ],
   "source": [
    "print('abc1234'.isalnum())\n",
    "print('  abc1234'.isalnum())"
   ]
  },
  {
   "cell_type": "code",
   "execution_count": 123,
   "id": "d9b18050",
   "metadata": {},
   "outputs": [
    {
     "name": "stdout",
     "output_type": "stream",
     "text": [
      "True\n",
      "False\n"
     ]
    }
   ],
   "source": [
    "print('  '.isspace())\n",
    "print('  1 '.isspace())"
   ]
  },
  {
   "cell_type": "code",
   "execution_count": 124,
   "id": "62ef8f7c",
   "metadata": {},
   "outputs": [
    {
     "name": "stdout",
     "output_type": "stream",
     "text": [
      "True\n",
      "False\n",
      "True\n",
      "False\n"
     ]
    }
   ],
   "source": [
    "print('PYTHON'.isupper())\n",
    "print('Python'.isupper())\n",
    "print('python'.islower())\n",
    "print('Python'.islower())"
   ]
  },
  {
   "cell_type": "markdown",
   "id": "1797b2b3",
   "metadata": {},
   "source": [
    "대소문자로 변경하기"
   ]
  },
  {
   "cell_type": "markdown",
   "id": "6db5aff1",
   "metadata": {},
   "source": [
    "str.lower() = 모두 소문자로 변경   \n",
    "str.upper() = 모두 대문자로 변경"
   ]
  },
  {
   "cell_type": "code",
   "execution_count": 131,
   "id": "ec8b044d",
   "metadata": {},
   "outputs": [
    {
     "name": "stdout",
     "output_type": "stream",
     "text": [
      "python is powerful. python is easy to learn\n",
      "PYTHON IS POWERFUL. PYTHON IS EASY TO LEARN\n"
     ]
    }
   ],
   "source": [
    "string1 = \"Python is powerful. PYTHON IS EASY TO LEARN\"\n",
    "\n",
    "print(string1.lower())\n",
    "print(string1.upper())"
   ]
  },
  {
   "cell_type": "code",
   "execution_count": 178,
   "id": "cc5389a2",
   "metadata": {},
   "outputs": [
    {
     "data": {
      "text/plain": [
       "False"
      ]
     },
     "execution_count": 178,
     "metadata": {},
     "output_type": "execute_result"
    }
   ],
   "source": [
    "'Python' == 'python'"
   ]
  },
  {
   "cell_type": "markdown",
   "id": "4138bbd5",
   "metadata": {},
   "source": [
    "*** 파이썬은 대소문자 구분해"
   ]
  },
  {
   "cell_type": "code",
   "execution_count": 134,
   "id": "d1589321",
   "metadata": {},
   "outputs": [
    {
     "name": "stdout",
     "output_type": "stream",
     "text": [
      "True\n",
      "True\n"
     ]
    }
   ],
   "source": [
    "print('Python'.lower() == 'python'.lower())\n",
    "print('Python'.upper() == 'python'.upper())"
   ]
  },
  {
   "cell_type": "markdown",
   "id": "1d813600",
   "metadata": {},
   "source": [
    "### 9.2 텍스트 파일의 데이터를 읽고 처리하기"
   ]
  },
  {
   "cell_type": "markdown",
   "id": "f81dd092",
   "metadata": {},
   "source": [
    "데이터 파일 준비 및 읽기"
   ]
  },
  {
   "cell_type": "code",
   "execution_count": 143,
   "id": "6e53dbd6",
   "metadata": {},
   "outputs": [
    {
     "name": "stdout",
     "output_type": "stream",
     "text": [
      "날짜   에스프레소 아메리카노 카페라테 카푸치노 \n",
      "10.15     10          50         45          20 \n",
      "10.16     12          45         41          18 \n",
      "10.17     11          53         32          25 \n",
      "10.18     15          49         38          22 \n"
     ]
    }
   ],
   "source": [
    "!type c:\\myPyCode\\data\\coffeeShopSales.txt"
   ]
  },
  {
   "cell_type": "code",
   "execution_count": 136,
   "id": "8efd58f0",
   "metadata": {},
   "outputs": [
    {
     "name": "stdout",
     "output_type": "stream",
     "text": [
      "c:\\myPyCode\\data\n"
     ]
    }
   ],
   "source": [
    "cd c:\\myPyCode\\data"
   ]
  },
  {
   "cell_type": "code",
   "execution_count": 152,
   "id": "5f31fcec",
   "metadata": {},
   "outputs": [],
   "source": [
    "f = open('coffeeShopSales.txt', 'w')\n",
    "f.write('날짜   에스프레소 아메리카노 카페라테 카푸치노 \\n')\n",
    "f.write('10.15     10          50         45          20 \\n')\n",
    "f.write('10.16     12          45         41          18 \\n')\n",
    "f.write('10.17     11          53         32          25 \\n')\n",
    "f.write('10.18     15          49         38          22 \\n')\n",
    "f.close()"
   ]
  },
  {
   "cell_type": "code",
   "execution_count": 153,
   "id": "8d152a70",
   "metadata": {},
   "outputs": [
    {
     "name": "stdout",
     "output_type": "stream",
     "text": [
      "날짜   에스프레소 아메리카노 카페라테 카푸치노 \n",
      "10.15     10          50         45          20 \n",
      "10.16     12          45         41          18 \n",
      "10.17     11          53         32          25 \n",
      "10.18     15          49         38          22 \n"
     ]
    }
   ],
   "source": [
    "# file_name = 'c:\\mydata\\coffeeShopSales.txt'\n",
    "file_name = 'c:\\myPyCode/data/coffeeShopSales.txt'\n",
    "\n",
    "f = open(file_name) #파일 열기 (생략하면 'r')\n",
    "for line in f: #한 줄씩 읽기\n",
    "    print(line, end='') #한 줄씩 출력\n",
    "f.close() #파일 닫기"
   ]
  },
  {
   "cell_type": "markdown",
   "id": "f648c170",
   "metadata": {},
   "source": [
    "#### 파일에서 읽은 문자열 데이터 처리"
   ]
  },
  {
   "cell_type": "code",
   "execution_count": 154,
   "id": "b7e86cf9",
   "metadata": {},
   "outputs": [
    {
     "data": {
      "text/plain": [
       "'날짜   에스프레소 아메리카노 카페라테 카푸치노 \\n'"
      ]
     },
     "execution_count": 154,
     "metadata": {},
     "output_type": "execute_result"
    }
   ],
   "source": [
    "f = open(file_name)\n",
    "header = f.readline()\n",
    "f.close()\n",
    "\n",
    "header"
   ]
  },
  {
   "cell_type": "code",
   "execution_count": 156,
   "id": "35106e06",
   "metadata": {},
   "outputs": [
    {
     "data": {
      "text/plain": [
       "['날짜', '에스프레소', '아메리카노', '카페라테', '카푸치노']"
      ]
     },
     "execution_count": 156,
     "metadata": {},
     "output_type": "execute_result"
    }
   ],
   "source": [
    "header_list = header.split()\n",
    "header_list"
   ]
  },
  {
   "cell_type": "markdown",
   "id": "3db724b2",
   "metadata": {},
   "source": [
    "for문 이용하여 각 항목을 data_list에 넣는 코드"
   ]
  },
  {
   "cell_type": "code",
   "execution_count": 161,
   "id": "f22773a0",
   "metadata": {},
   "outputs": [
    {
     "name": "stdout",
     "output_type": "stream",
     "text": [
      "['10.15', '10', '50', '45', '20']\n",
      "['10.16', '12', '45', '41', '18']\n",
      "['10.17', '11', '53', '32', '25']\n",
      "['10.18', '15', '49', '38', '22']\n"
     ]
    }
   ],
   "source": [
    "f = open(file_name) #파일 열기\n",
    "header = f.readline() #데이터의 첫 번째 줄을 읽음\n",
    "header_list = header.split() #첫 줄의 문자열을 분리한 후 리스트로 변환\n",
    "\n",
    "for line in f: #두 번째 줄부터 데이터를 읽어서 반복적으로 처리\n",
    "    data_list = line.split() #문자열을 분리해서 리스트로 변환\n",
    "    print(data_list) #결과 확인을 위해 리스트 출력\n",
    "    \n",
    "f.close()"
   ]
  },
  {
   "cell_type": "markdown",
   "id": "7a7e4a81",
   "metadata": {},
   "source": [
    "문자열로 되어 있는 리스트를 숫자로 변환 후, 커피를 종류 별로 판매량 데이터를 분류해서 넣기"
   ]
  },
  {
   "cell_type": "code",
   "execution_count": 164,
   "id": "6e074662",
   "metadata": {},
   "outputs": [
    {
     "name": "stdout",
     "output_type": "stream",
     "text": [
      "에스프레소:[10, 12, 11, 15]\n",
      "아메리카노:[50, 45, 53, 49]\n",
      "카페라테:[45, 41, 32, 38]\n",
      "카푸치노:[20, 18, 25, 22]\n"
     ]
    }
   ],
   "source": [
    "f = open(file_name)\n",
    "header = f.readline()\n",
    "headerList = header.split()\n",
    "\n",
    "espresso = []\n",
    "americano = []\n",
    "cafelatte = []\n",
    "cappucino = []\n",
    "\n",
    "for line in f:\n",
    "    dataList = line.split()\n",
    "    \n",
    "    espresso.append(int(dataList[1]))\n",
    "    americano.append(int(dataList[2]))\n",
    "    cafelatte.append(int(dataList[3]))\n",
    "    cappucino.append(int(dataList[4]))\n",
    "f.close()\n",
    "\n",
    "print(\"{0}:{1}\".format(headerList[1], espresso))\n",
    "print(\"{0}:{1}\".format(headerList[2], americano))\n",
    "print(\"{0}:{1}\".format(headerList[3], cafelatte))\n",
    "print(\"{0}:{1}\".format(headerList[4], cappucino))\n",
    "\n",
    "    "
   ]
  },
  {
   "cell_type": "code",
   "execution_count": 180,
   "id": "37ba8ebc",
   "metadata": {},
   "outputs": [
    {
     "data": {
      "text/plain": [
       "2"
      ]
     },
     "execution_count": 180,
     "metadata": {},
     "output_type": "execute_result"
    }
   ],
   "source": [
    "array = [1,1,2,2]\n",
    "c = []\n",
    "for i in array:\n",
    "    c.append(array.count(i))\n",
    "    \n",
    "    c.max(array.count(i))"
   ]
  },
  {
   "cell_type": "markdown",
   "id": "eb4fee92",
   "metadata": {},
   "source": [
    "나흘간 메뉴별 판매량과 하루 평균 판매량 구하기"
   ]
  },
  {
   "cell_type": "code",
   "execution_count": 174,
   "id": "744701d3",
   "metadata": {},
   "outputs": [
    {
     "name": "stdout",
     "output_type": "stream",
     "text": [
      "[에스프레소] 판매량\n",
      "-나흘 전체: 48, 하루평균: 12.0\n",
      "[아메리카노] 판매량\n",
      "-나흘 전체: 197, 하루평균: 49.25\n",
      "[카페라테] 판매량\n",
      "-나흘 전체: 156, 하루평균: 39.0\n",
      "[카푸치노] 판매량\n",
      "-나흘 전체: 85, 하루평균: 21.25\n"
     ]
    }
   ],
   "source": [
    "total_sum = [sum(espresso), sum(americano), sum(cafelatte), sum(cappucino)]\n",
    "total_avg = [sum(espresso)/len(espresso), sum(americano)/len(americano), sum(cafelatte)/len(cafelatte), sum(cappucino)/len(cappucino)]\n",
    "\n",
    "for k in range(len(total_sum)):\n",
    "    print('[{0}] 판매량'.format(headerList[k+1]))\n",
    "    print('-나흘 전체: {0}, 하루평균: {1}'.format(total_sum[k], total_avg[k]))"
   ]
  },
  {
   "cell_type": "code",
   "execution_count": null,
   "id": "120a9747",
   "metadata": {},
   "outputs": [],
   "source": []
  }
 ],
 "metadata": {
  "kernelspec": {
   "display_name": "Python 3 (ipykernel)",
   "language": "python",
   "name": "python3"
  },
  "language_info": {
   "codemirror_mode": {
    "name": "ipython",
    "version": 3
   },
   "file_extension": ".py",
   "mimetype": "text/x-python",
   "name": "python",
   "nbconvert_exporter": "python",
   "pygments_lexer": "ipython3",
   "version": "3.9.13"
  }
 },
 "nbformat": 4,
 "nbformat_minor": 5
}
