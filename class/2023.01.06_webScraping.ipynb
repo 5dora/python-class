{
 "cells": [
  {
   "cell_type": "markdown",
   "id": "e2289c0b",
   "metadata": {},
   "source": [
    "# 14장 웹 스크레이핑"
   ]
  },
  {
   "cell_type": "markdown",
   "id": "4538ebda",
   "metadata": {},
   "source": [
    "## 14.1 웹 브라우저로 웹 사이트 접속하기"
   ]
  },
  {
   "cell_type": "markdown",
   "id": "790ed6d1",
   "metadata": {},
   "source": [
    "#### 하나의 웹 사이트에 접속하기"
   ]
  },
  {
   "cell_type": "markdown",
   "id": "c18c5e49",
   "metadata": {},
   "source": [
    "웹 브라우저를 열어서 사이트에 접속하기"
   ]
  },
  {
   "cell_type": "code",
   "execution_count": 1,
   "id": "24a69bea",
   "metadata": {},
   "outputs": [
    {
     "data": {
      "text/plain": [
       "True"
      ]
     },
     "execution_count": 1,
     "metadata": {},
     "output_type": "execute_result"
    }
   ],
   "source": [
    "import webbrowser\n",
    "\n",
    "url = 'www.naver.com'\n",
    "webbrowser.open(url)"
   ]
  },
  {
   "cell_type": "markdown",
   "id": "c77be87c",
   "metadata": {},
   "source": [
    "웹 브라우저에 검색어 입력하여 오픈하기"
   ]
  },
  {
   "cell_type": "code",
   "execution_count": 5,
   "id": "d5c5a2e9",
   "metadata": {},
   "outputs": [
    {
     "data": {
      "text/plain": [
       "True"
      ]
     },
     "execution_count": 5,
     "metadata": {},
     "output_type": "execute_result"
    }
   ],
   "source": [
    "import webbrowser\n",
    "\n",
    "naver_search_url = 'http://search.naver.com/search.naver?query='\n",
    "search_word = '파이썬'\n",
    "url = naver_search_url + search_word\n",
    "\n",
    "webbrowser.open_new(url)"
   ]
  },
  {
   "cell_type": "code",
   "execution_count": 7,
   "id": "4b4e93bf",
   "metadata": {},
   "outputs": [
    {
     "data": {
      "text/plain": [
       "True"
      ]
     },
     "execution_count": 7,
     "metadata": {},
     "output_type": "execute_result"
    }
   ],
   "source": [
    "import webbrowser\n",
    "\n",
    "google_url = 'www.google.com/search?q='\n",
    "search_word = 'python'\n",
    "url = google_url + search_word\n",
    "\n",
    "webbrowser.open_new(url)"
   ]
  },
  {
   "cell_type": "markdown",
   "id": "45505560",
   "metadata": {},
   "source": [
    "### 여러 개의 웹사이트 접속하기"
   ]
  },
  {
   "cell_type": "code",
   "execution_count": 9,
   "id": "7e41aeab",
   "metadata": {},
   "outputs": [],
   "source": [
    "import webbrowser\n",
    "\n",
    "urls = ['www.naver.com', 'www.daum.net', 'www.google.com']\n",
    "#여러 개? for문 -> 리스트로 저장해야\n",
    "\n",
    "for url in urls:\n",
    "    webbrowser.open(url)\n"
   ]
  },
  {
   "cell_type": "markdown",
   "id": "2170c8a5",
   "metadata": {},
   "source": [
    "여러 개의 검색어 입력하기"
   ]
  },
  {
   "cell_type": "code",
   "execution_count": 11,
   "id": "c6d43b53",
   "metadata": {},
   "outputs": [],
   "source": [
    "import webbrowser\n",
    "google_url = 'www.google.com/search?q='\n",
    "search_words = ['python web scraping', 'python webbrowser' ]\n",
    "\n",
    "for search_word in search_words:\n",
    "    webbrowser.open(google_url+search_word)"
   ]
  },
  {
   "cell_type": "code",
   "execution_count": 13,
   "id": "0f1b539b",
   "metadata": {},
   "outputs": [],
   "source": [
    "# for문 for문 어떻게 하는지 공부\n",
    "import webbrowser\n",
    "urls = ['http://search.naver.com/search.naver?query=', 'www.google.com/search?q=']\n",
    "search_words = ['python web scraping', 'python webbrowser' ]\n",
    "\n",
    "for se\n",
    "for  url,search_word in zip(urls, search_words):\n",
    "    webbrowser.open(url+search_word)"
   ]
  },
  {
   "cell_type": "markdown",
   "id": "13c4f5e6",
   "metadata": {},
   "source": [
    "## 14.2 웹 스크레이핑을 위한 사전 지식"
   ]
  },
  {
   "cell_type": "markdown",
   "id": "8cb15cab",
   "metadata": {},
   "source": [
    "### "
   ]
  },
  {
   "cell_type": "markdown",
   "id": "7a2892d0",
   "metadata": {},
   "source": [
    "html\n",
    "웹 브라우저 언어"
   ]
  },
  {
   "cell_type": "markdown",
   "id": "2967421c",
   "metadata": {},
   "source": [
    "html코드를 작업 폴더에 저장"
   ]
  },
  {
   "cell_type": "code",
   "execution_count": 15,
   "id": "412c60b1",
   "metadata": {},
   "outputs": [
    {
     "name": "stdout",
     "output_type": "stream",
     "text": [
      "Overwriting C:\\myPyCode\\HTML_example.html\n"
     ]
    }
   ],
   "source": [
    "%%writefile C:\\myPyCode\\HTML_example.html\n",
    "<!doctype html>\n",
    "<html>\n",
    " <head>\n",
    "    <meta charset ='utf-8'>\n",
    "    <title>이것은 HTML 예제</title>\n",
    " </head>\n",
    " <body>\n",
    "    <h1>출간된 책 정보</h1>\n",
    "    <p id='book_title'>이해가 쏙쏙 되는 파이썬</p>\n",
    "    <p id='author'>홍길동</p>\n",
    "    <p id='publisher'>위키북스 출판사</p>\n",
    "    <p id='year'>2018</p>\n",
    " </body>\n",
    "</html>\n"
   ]
  },
  {
   "cell_type": "code",
   "execution_count": 22,
   "id": "c20f945c",
   "metadata": {},
   "outputs": [
    {
     "name": "stdout",
     "output_type": "stream",
     "text": [
      "Writing C:\\myPyCode\\HTML_example2.html\n"
     ]
    }
   ],
   "source": [
    "%%writefile C:\\myPyCode\\HTML_example2.html\n",
    "<!doctype html>\n",
    "<html>\n",
    " <head>\n",
    "    <meta charset ='utf-8'>\n",
    "    <title>이것은 HTML 예제</title>\n",
    " </head>\n",
    " <body>\n",
    "    <h1>출간된 책 정보</h1>\n",
    "    <p>이해가 쏙쏙 되는 파이썬</p>\n",
    "    <p>홍길동</p>\n",
    "    <p>위키북스 출판사</p>\n",
    "    <p>2018</p>\n",
    " </body>\n",
    "</html>\n",
    "#F12 비교"
   ]
  },
  {
   "cell_type": "markdown",
   "id": "279d43b4",
   "metadata": {},
   "source": [
    "### 웹 페이지의 HTML 소스 갖고 오기"
   ]
  },
  {
   "cell_type": "code",
   "execution_count": 26,
   "id": "75262b03",
   "metadata": {
    "scrolled": false
   },
   "outputs": [
    {
     "data": {
      "text/plain": [
       "<Response [200]>"
      ]
     },
     "execution_count": 26,
     "metadata": {},
     "output_type": "execute_result"
    }
   ],
   "source": [
    "import requests\n",
    "\n",
    "r = requests.get(\"https://www.google.co.kr\")\n",
    "r"
   ]
  },
  {
   "cell_type": "markdown",
   "id": "2e3f499c",
   "metadata": {},
   "source": [
    "가져온 페이지 내용 확인하기"
   ]
  },
  {
   "cell_type": "code",
   "execution_count": 25,
   "id": "9cc84a8d",
   "metadata": {},
   "outputs": [
    {
     "data": {
      "text/plain": [
       "'<!doctype html><html itemscope=\"\" itemtype=\"http://schema.org/WebPage\" lang=\"ko\"><head><meta content'"
      ]
     },
     "execution_count": 25,
     "metadata": {},
     "output_type": "execute_result"
    }
   ],
   "source": [
    "r.text[0:100]"
   ]
  },
  {
   "cell_type": "code",
   "execution_count": 27,
   "id": "1248eafb",
   "metadata": {},
   "outputs": [
    {
     "data": {
      "text/plain": [
       "'<!doctype html><html itemscope=\"\" itemtype=\"http://schema.org/WebPage\" lang=\"ko\"><head><meta content'"
      ]
     },
     "execution_count": 27,
     "metadata": {},
     "output_type": "execute_result"
    }
   ],
   "source": [
    "import requests\n",
    "\n",
    "html = requests.get(\"https://www.google.co.kr\").text\n",
    "html[0:100]"
   ]
  },
  {
   "cell_type": "markdown",
   "id": "44db20ff",
   "metadata": {},
   "source": [
    "### HTML 소스코드를 분석하고 처리하기"
   ]
  },
  {
   "cell_type": "markdown",
   "id": "482020ab",
   "metadata": {},
   "source": [
    "데이터 찾고 추출하기"
   ]
  },
  {
   "cell_type": "markdown",
   "id": "e20ed50d",
   "metadata": {},
   "source": [
    "파싱(Parsing) HTML코드 구문을 이해하고 요소별로 분류"
   ]
  },
  {
   "cell_type": "code",
   "execution_count": 28,
   "id": "eb6862f2",
   "metadata": {},
   "outputs": [
    {
     "data": {
      "text/plain": [
       "<html><body><div><span> <a href=\"http://naver.com\">naver</a> <a href=\"https://google.com\">google</a> <a href=\"https://www.daum.net/\">daum</a> </span></div></body></html>"
      ]
     },
     "execution_count": 28,
     "metadata": {},
     "output_type": "execute_result"
    }
   ],
   "source": [
    "from bs4 import BeautifulSoup #bs4라이브러리 안에 \n",
    "\n",
    "#테스트용 html코드\n",
    "\n",
    "html = \"\"\"<html><body><div><span>\\\n",
    "        <a href=http://naver.com>naver</a>\\\n",
    "        <a href=https://google.com>google</a>\\\n",
    "        <a href=https://www.daum.net/>daum</a>\\\n",
    "        </span></div></body></html>\"\"\"\n",
    "\n",
    "#BeautifulSoup를 이용해 HTML 소스를 파싱\n",
    "soup = BeautifulSoup(html, 'lxml')\n",
    "soup"
   ]
  },
  {
   "cell_type": "markdown",
   "id": "c4e87c5c",
   "metadata": {},
   "source": [
    "prettify()를 활용하여 html형태로 출력하기"
   ]
  },
  {
   "cell_type": "code",
   "execution_count": 29,
   "id": "9fed22c4",
   "metadata": {},
   "outputs": [
    {
     "name": "stdout",
     "output_type": "stream",
     "text": [
      "<html>\n",
      " <body>\n",
      "  <div>\n",
      "   <span>\n",
      "    <a href=\"http://naver.com\">\n",
      "     naver\n",
      "    </a>\n",
      "    <a href=\"https://google.com\">\n",
      "     google\n",
      "    </a>\n",
      "    <a href=\"https://www.daum.net/\">\n",
      "     daum\n",
      "    </a>\n",
      "   </span>\n",
      "  </div>\n",
      " </body>\n",
      "</html>\n"
     ]
    }
   ],
   "source": [
    "print(soup.prettify())"
   ]
  },
  {
   "cell_type": "markdown",
   "id": "147b6df9",
   "metadata": {},
   "source": [
    "첫번째 a태그를 찾은 후 a태크 요소 전체를 반환"
   ]
  },
  {
   "cell_type": "code",
   "execution_count": 33,
   "id": "d67ac8b6",
   "metadata": {},
   "outputs": [
    {
     "data": {
      "text/plain": [
       "<a href=\"http://naver.com\">naver</a>"
      ]
     },
     "execution_count": 33,
     "metadata": {},
     "output_type": "execute_result"
    }
   ],
   "source": [
    "soup.find('a') #우리가 아는 find != bs4안에 find"
   ]
  },
  {
   "cell_type": "markdown",
   "id": "d7ef3a91",
   "metadata": {},
   "source": [
    "태그와 속성을 제거하고 텍스트 문자열만 반환"
   ]
  },
  {
   "cell_type": "code",
   "execution_count": 34,
   "id": "5f5310ed",
   "metadata": {},
   "outputs": [
    {
     "data": {
      "text/plain": [
       "'naver'"
      ]
     },
     "execution_count": 34,
     "metadata": {},
     "output_type": "execute_result"
    }
   ],
   "source": [
    "soup.find('a').get_text()"
   ]
  },
  {
   "cell_type": "markdown",
   "id": "593be289",
   "metadata": {},
   "source": [
    "첫번째 a태그를 찾은 후 모든 a태그를 찾아서 반환"
   ]
  },
  {
   "cell_type": "code",
   "execution_count": 35,
   "id": "f02b6f26",
   "metadata": {},
   "outputs": [
    {
     "data": {
      "text/plain": [
       "[<a href=\"http://naver.com\">naver</a>,\n",
       " <a href=\"https://google.com\">google</a>,\n",
       " <a href=\"https://www.daum.net/\">daum</a>]"
      ]
     },
     "execution_count": 35,
     "metadata": {},
     "output_type": "execute_result"
    }
   ],
   "source": [
    "soup.find_all('a') #리스트화 시켜놨어"
   ]
  },
  {
   "cell_type": "markdown",
   "id": "b42d64e4",
   "metadata": {},
   "source": [
    "혼합해서 사용하기"
   ]
  },
  {
   "cell_type": "code",
   "execution_count": 37,
   "id": "408d8966",
   "metadata": {},
   "outputs": [
    {
     "name": "stdout",
     "output_type": "stream",
     "text": [
      "naver\n",
      "google\n",
      "daum\n"
     ]
    }
   ],
   "source": [
    "site_names = soup.find_all('a')\n",
    "for site_name in site_names:\n",
    "    print(site_name.get_text())"
   ]
  },
  {
   "cell_type": "markdown",
   "id": "4c937cc1",
   "metadata": {},
   "source": [
    "테스트용 예제"
   ]
  },
  {
   "cell_type": "code",
   "execution_count": 39,
   "id": "1aea44bc",
   "metadata": {},
   "outputs": [],
   "source": [
    "from bs4 import BeautifulSoup #bs4라이브러리 안에 \n",
    "\n",
    "html2= \"\"\"\n",
    "<html>\n",
    " <head>\n",
    "    <title>작품과 작가 모음</title>\n",
    " </head>\n",
    " <body>\n",
    "    <h1>책 정보</h1>\n",
    "    <p id='book_title'>토지</p>\n",
    "    <p id='author'>박경리</p>\n",
    "    <p id='book_title'>태백산맥</p>\n",
    "    <p id='author'>조정래</p>\n",
    "    <p id='book_title'>감옥으로부터의 사색</p>\n",
    "    <p id='author'>신영복</p>\n",
    " </body>\n",
    "</html>\n",
    "\"\"\"\n",
    "\n",
    "soup2 = BeautifulSoup(html2, 'lxml')"
   ]
  },
  {
   "cell_type": "code",
   "execution_count": 40,
   "id": "7241cffd",
   "metadata": {},
   "outputs": [
    {
     "data": {
      "text/plain": [
       "<title>작품과 작가 모음</title>"
      ]
     },
     "execution_count": 40,
     "metadata": {},
     "output_type": "execute_result"
    }
   ],
   "source": [
    "soup2.title"
   ]
  },
  {
   "cell_type": "code",
   "execution_count": 41,
   "id": "65b5f516",
   "metadata": {},
   "outputs": [
    {
     "data": {
      "text/plain": [
       "<body>\n",
       "<h1>책 정보</h1>\n",
       "<p id=\"book_title\">토지</p>\n",
       "<p id=\"author\">박경리</p>\n",
       "<p id=\"book_title\">태백산맥</p>\n",
       "<p id=\"author\">조정래</p>\n",
       "<p id=\"book_title\">감옥으로부터의 사색</p>\n",
       "<p id=\"author\">신영복</p>\n",
       "</body>"
      ]
     },
     "execution_count": 41,
     "metadata": {},
     "output_type": "execute_result"
    }
   ],
   "source": [
    "soup2.body"
   ]
  },
  {
   "cell_type": "code",
   "execution_count": 44,
   "id": "41af33d7",
   "metadata": {},
   "outputs": [
    {
     "data": {
      "text/plain": [
       "<h1>책 정보</h1>"
      ]
     },
     "execution_count": 44,
     "metadata": {},
     "output_type": "execute_result"
    }
   ],
   "source": [
    "soup2.body.h1"
   ]
  },
  {
   "cell_type": "code",
   "execution_count": 47,
   "id": "5218de99",
   "metadata": {},
   "outputs": [
    {
     "data": {
      "text/plain": [
       "[<p id=\"book_title\">토지</p>,\n",
       " <p id=\"author\">박경리</p>,\n",
       " <p id=\"book_title\">태백산맥</p>,\n",
       " <p id=\"author\">조정래</p>,\n",
       " <p id=\"book_title\">감옥으로부터의 사색</p>,\n",
       " <p id=\"author\">신영복</p>]"
      ]
     },
     "execution_count": 47,
     "metadata": {},
     "output_type": "execute_result"
    }
   ],
   "source": [
    "soup2.find_all('p')"
   ]
  },
  {
   "cell_type": "markdown",
   "id": "6e832e3c",
   "metadata": {},
   "source": [
    "구분해서 가져오기 위해서는 속성도 함께 지정"
   ]
  },
  {
   "cell_type": "markdown",
   "id": "b1f4e92f",
   "metadata": {},
   "source": [
    "BeautifulSoup.find('태그':'속성')   \n",
    "BeautifulSoup.find_all('태그':'속성')"
   ]
  },
  {
   "cell_type": "code",
   "execution_count": 54,
   "id": "330e7d5e",
   "metadata": {},
   "outputs": [
    {
     "data": {
      "text/plain": [
       "<p id=\"book_title\">토지</p>"
      ]
     },
     "execution_count": 54,
     "metadata": {},
     "output_type": "execute_result"
    }
   ],
   "source": [
    "soup2.find('p',{\"id\":\"book_title\"})"
   ]
  },
  {
   "cell_type": "code",
   "execution_count": 53,
   "id": "defaa2db",
   "metadata": {},
   "outputs": [
    {
     "data": {
      "text/plain": [
       "<p id=\"author\">박경리</p>"
      ]
     },
     "execution_count": 53,
     "metadata": {},
     "output_type": "execute_result"
    }
   ],
   "source": [
    "soup2.find('p',{\"id\":\"author\"})"
   ]
  },
  {
   "cell_type": "code",
   "execution_count": 55,
   "id": "26365dde",
   "metadata": {},
   "outputs": [
    {
     "data": {
      "text/plain": [
       "[<p id=\"book_title\">토지</p>,\n",
       " <p id=\"book_title\">태백산맥</p>,\n",
       " <p id=\"book_title\">감옥으로부터의 사색</p>]"
      ]
     },
     "execution_count": 55,
     "metadata": {},
     "output_type": "execute_result"
    }
   ],
   "source": [
    "soup2.find_all('p',{\"id\":\"book_title\"})"
   ]
  },
  {
   "cell_type": "code",
   "execution_count": 56,
   "id": "894b955d",
   "metadata": {},
   "outputs": [
    {
     "data": {
      "text/plain": [
       "[<p id=\"author\">박경리</p>, <p id=\"author\">조정래</p>, <p id=\"author\">신영복</p>]"
      ]
     },
     "execution_count": 56,
     "metadata": {},
     "output_type": "execute_result"
    }
   ],
   "source": [
    "soup2.find_all('p',{\"id\":\"author\"})"
   ]
  },
  {
   "cell_type": "markdown",
   "id": "52dcd9bf",
   "metadata": {},
   "source": [
    "텍스트만 뽑는 코드"
   ]
  },
  {
   "cell_type": "code",
   "execution_count": 58,
   "id": "32ab79c8",
   "metadata": {},
   "outputs": [
    {
     "name": "stdout",
     "output_type": "stream",
     "text": [
      "토지/박경리\n",
      "태백산맥/조정래\n",
      "감옥으로부터의 사색/신영복\n"
     ]
    }
   ],
   "source": [
    "from bs4 import BeautifulSoup\n",
    "\n",
    "soup2 = BeautifulSoup(html2, 'lxml')\n",
    "\n",
    "book_titles = soup2.find_all('p', {'id':'book_title'})\n",
    "authors = soup2.find_all('p', {'id': 'author'})\n",
    "\n",
    "for book_title, author in zip(book_titles, authors):\n",
    "    print(book_title.get_text() + '/' +author.get_text())"
   ]
  },
  {
   "cell_type": "code",
   "execution_count": 65,
   "id": "a1ec5b82",
   "metadata": {},
   "outputs": [
    {
     "data": {
      "text/plain": [
       "0"
      ]
     },
     "execution_count": 65,
     "metadata": {},
     "output_type": "execute_result"
    }
   ],
   "source": [
    "a = 2,2,3\n",
    "a.index(min(a))"
   ]
  },
  {
   "cell_type": "markdown",
   "id": "27a6d466",
   "metadata": {},
   "source": [
    "css(Cascading Style Sheets)선택자를 이용하기   \n",
    "select('태그 및 속성')을 입력하여 사용한다."
   ]
  },
  {
   "cell_type": "markdown",
   "id": "c4fa7f8c",
   "metadata": {},
   "source": [
    "html 글자   \n",
    "css 더 보기좋게 꾸민거"
   ]
  },
  {
   "cell_type": "code",
   "execution_count": 66,
   "id": "3e26510b",
   "metadata": {},
   "outputs": [
    {
     "data": {
      "text/plain": [
       "[<h1>책 정보</h1>]"
      ]
     },
     "execution_count": 66,
     "metadata": {},
     "output_type": "execute_result"
    }
   ],
   "source": [
    "soup2.select('body h1')"
   ]
  },
  {
   "cell_type": "markdown",
   "id": "d7a91439",
   "metadata": {},
   "source": [
    "p태그를 포함한 요소를 모두 가져오기"
   ]
  },
  {
   "cell_type": "code",
   "execution_count": 67,
   "id": "fcb162ef",
   "metadata": {},
   "outputs": [
    {
     "data": {
      "text/plain": [
       "[<p id=\"book_title\">토지</p>,\n",
       " <p id=\"author\">박경리</p>,\n",
       " <p id=\"book_title\">태백산맥</p>,\n",
       " <p id=\"author\">조정래</p>,\n",
       " <p id=\"book_title\">감옥으로부터의 사색</p>,\n",
       " <p id=\"author\">신영복</p>]"
      ]
     },
     "execution_count": 67,
     "metadata": {},
     "output_type": "execute_result"
    }
   ],
   "source": [
    "soup2.select('body p')"
   ]
  },
  {
   "cell_type": "code",
   "execution_count": 68,
   "id": "8c2bf359",
   "metadata": {},
   "outputs": [
    {
     "data": {
      "text/plain": [
       "[<p id=\"book_title\">토지</p>,\n",
       " <p id=\"author\">박경리</p>,\n",
       " <p id=\"book_title\">태백산맥</p>,\n",
       " <p id=\"author\">조정래</p>,\n",
       " <p id=\"book_title\">감옥으로부터의 사색</p>,\n",
       " <p id=\"author\">신영복</p>]"
      ]
     },
     "execution_count": 68,
     "metadata": {},
     "output_type": "execute_result"
    }
   ],
   "source": [
    "soup2.select('p')"
   ]
  },
  {
   "cell_type": "markdown",
   "id": "20d3f5be",
   "metadata": {},
   "source": [
    "태그 안의 속성과 속성값을 이용해 세밀하게 추출하기"
   ]
  },
  {
   "cell_type": "code",
   "execution_count": 69,
   "id": "542435b1",
   "metadata": {},
   "outputs": [
    {
     "data": {
      "text/plain": [
       "[<p id=\"book_title\">토지</p>,\n",
       " <p id=\"book_title\">태백산맥</p>,\n",
       " <p id=\"book_title\">감옥으로부터의 사색</p>]"
      ]
     },
     "execution_count": 69,
     "metadata": {},
     "output_type": "execute_result"
    }
   ],
   "source": [
    "soup2.select('p#book_title')"
   ]
  },
  {
   "cell_type": "code",
   "execution_count": 70,
   "id": "73d5c1ae",
   "metadata": {},
   "outputs": [
    {
     "data": {
      "text/plain": [
       "[<p id=\"author\">박경리</p>, <p id=\"author\">조정래</p>, <p id=\"author\">신영복</p>]"
      ]
     },
     "execution_count": 70,
     "metadata": {},
     "output_type": "execute_result"
    }
   ],
   "source": [
    "soup2.select('p#author')"
   ]
  },
  {
   "cell_type": "markdown",
   "id": "67050766",
   "metadata": {},
   "source": [
    "class 속성이 있는 HTML소스 예제"
   ]
  },
  {
   "cell_type": "code",
   "execution_count": 91,
   "id": "2d20d2ff",
   "metadata": {},
   "outputs": [
    {
     "name": "stdout",
     "output_type": "stream",
     "text": [
      "Writing C:/myPyCode/HTML_example_my_site.html\n"
     ]
    }
   ],
   "source": [
    "%%writefile C:/myPyCode/HTML_example_my_site.html\n",
    "    <!doctype html>\n",
    "    <html>\n",
    "    <head>\n",
    "        <meta charset='utf-8'>\n",
    "        <title>사이트 모음</title>\n",
    "    </head>\n",
    "    <body>\n",
    "        <p id = 'title'><b>자주 가는 사이트 모음</b></p>\n",
    "        <p id='contents'>이곳은 자주 가는 사이트를 모아둔 곳입니다.</p>\n",
    "        <a href='https://www.naver.com' class='portal' id='naver'>네이버</a><br>\n",
    "        <a href ='https://www.google.com' class='search' id='google'>구글</a><br>\n",
    "        <a href =\"https://www.daum.net\" class=\"portal\" id=\"daum\">다음</a><br>\n",
    "        <a href =\"https://www.nl.go.kr\" class=\"government\" id=\"nl\">국립중앙도서관</a><br>\n",
    "    \n",
    "    </body>\n",
    "    </html>"
   ]
  },
  {
   "cell_type": "markdown",
   "id": "8ea50070",
   "metadata": {},
   "source": [
    "위에서 작성한 html저장하기"
   ]
  },
  {
   "cell_type": "code",
   "execution_count": 92,
   "id": "2ff087b6",
   "metadata": {},
   "outputs": [],
   "source": [
    "f = open('C:/myPyCode/HTMl_example_my_site.html', encoding = 'utf-8')\n",
    "\n",
    "html3 = f.read()\n",
    "f.close()\n",
    "\n",
    "soup3 = BeautifulSoup(html3, 'lxml')"
   ]
  },
  {
   "cell_type": "code",
   "execution_count": 93,
   "id": "94f6076d",
   "metadata": {},
   "outputs": [
    {
     "data": {
      "text/plain": [
       "[<a class=\"portal\" href=\"https://www.naver.com\" id=\"naver\">네이버</a>,\n",
       " <a class=\"search\" href=\"https://www.google.com\" id=\"google\">구글</a>,\n",
       " <a class=\"portal\" href=\"https://www.daum.net\" id=\"daum\">다음</a>,\n",
       " <a class=\"government\" href=\"https://www.nl.go.kr\" id=\"nl\">국립중앙도서관</a>]"
      ]
     },
     "execution_count": 93,
     "metadata": {},
     "output_type": "execute_result"
    }
   ],
   "source": [
    "soup3.select('a')"
   ]
  },
  {
   "cell_type": "code",
   "execution_count": 94,
   "id": "605569c9",
   "metadata": {},
   "outputs": [
    {
     "data": {
      "text/plain": [
       "[<a class=\"portal\" href=\"https://www.naver.com\" id=\"naver\">네이버</a>,\n",
       " <a class=\"portal\" href=\"https://www.daum.net\" id=\"daum\">다음</a>]"
      ]
     },
     "execution_count": 94,
     "metadata": {},
     "output_type": "execute_result"
    }
   ],
   "source": [
    "soup3.select('a.portal')"
   ]
  },
  {
   "cell_type": "markdown",
   "id": "614e6b51",
   "metadata": {},
   "source": [
    "요소검사"
   ]
  },
  {
   "cell_type": "code",
   "execution_count": 95,
   "id": "7c3a2ec0",
   "metadata": {},
   "outputs": [
    {
     "data": {
      "text/plain": [
       "[<a class=\"portal\" href=\"https://www.naver.com\" id=\"naver\">네이버</a>]"
      ]
     },
     "execution_count": 95,
     "metadata": {},
     "output_type": "execute_result"
    }
   ],
   "source": [
    "soup3.select('a#naver')"
   ]
  },
  {
   "cell_type": "markdown",
   "id": "20de86be",
   "metadata": {},
   "source": [
    "#### 줄 바꿈으로 가독성 높이기"
   ]
  },
  {
   "cell_type": "code",
   "execution_count": 96,
   "id": "29d753c5",
   "metadata": {},
   "outputs": [
    {
     "name": "stdout",
     "output_type": "stream",
     "text": [
      "Writing C:/myPyCode/br_example_constitution.html\n"
     ]
    }
   ],
   "source": [
    "%%writefile C:/myPyCode/br_example_constitution.html\n",
    "<!doctype>\n",
    "<html>\n",
    "<head>\n",
    "    <meta charset = 'utf-8'>\n",
    "    <title>줄 바꿈 테스트 예제</title>\n",
    "</head>\n",
    "<body>\n",
    "    <p id='title'><b>대한민국헌법</b></p>\n",
    "    <p id='content'>제1조 <br/>①대한민국은 민주공화국이다.\n",
    "    </br>②대한민국의 주권은 국민에게 있고, 모든 권력은 국민으로부터 나온다.</p>\n",
    "    <p id='content'>제2조 <br/>①대한민국의 국민이 되는 요건은 법률로 정한다.\n",
    "    </br>②국가는 법률이 정하는 바에 의하여 재외국민을 보호할 의무를 진다.<p>\n",
    "</body>\n",
    "</html>    "
   ]
  },
  {
   "cell_type": "code",
   "execution_count": 102,
   "id": "0ec6cbb8",
   "metadata": {},
   "outputs": [
    {
     "name": "stdout",
     "output_type": "stream",
     "text": [
      "대한민국헌법\n",
      "제1조 ①대한민국은 민주공화국이다.\n",
      "    ②대한민국의 주권은 국민에게 있고, 모든 권력은 국민으로부터 나온다.\n",
      "제2조 ①대한민국의 국민이 되는 요건은 법률로 정한다.\n",
      "    ②국가는 법률이 정하는 바에 의하여 재외국민을 보호할 의무를 진다.\n"
     ]
    }
   ],
   "source": [
    "f = open('C:/myPyCode/br_example_constitution.html',encoding='utf-8')\n",
    "\n",
    "html_source= f.read()\n",
    "f.close()\n",
    "\n",
    "soup = BeautifulSoup(html_source, 'lxml')\n",
    "\n",
    "title = soup.find('p', {'id': 'title'})\n",
    "contents = soup.find_all('p',{'id': 'content'})\n",
    "\n",
    "print(title.get_text())\n",
    "for content in contents:\n",
    "    print(content.get_text())"
   ]
  },
  {
   "cell_type": "code",
   "execution_count": 107,
   "id": "48eb1dd7",
   "metadata": {},
   "outputs": [
    {
     "name": "stdout",
     "output_type": "stream",
     "text": [
      " ==> 태그 p로 찾은 요소\n",
      "<p id=\"content\">제1조 <br/>①대한민국은 민주공화국이다.<br/>②대한민국의 주권은 국민에게 있고, 모든 권력은 국민으로부터 나온다.</p>\n",
      "==> 결과에서 태그 br로 찾은 요소 <br/>\n",
      "==> 태그 br을 개행문자로 바꾼 결과\n",
      "<p id=\"content\">제1조 \n",
      "①대한민국은 민주공화국이다.<br/>②대한민국의 주권은 국민에게 있고, 모든 권력은 국민으로부터 나온다.</p>\n"
     ]
    }
   ],
   "source": [
    "html1 ='<p id=\"content\">제1조 <br/>①대한민국은 민주공화국이다.<br/>②대한민국의 주권은 국민에게 있고, 모든 권력은 국민으로부터 나온다.</p>'\n",
    "\n",
    "soup1 = BeautifulSoup(html1, 'lxml')\n",
    "\n",
    "print(\" ==> 태그 p로 찾은 요소\")\n",
    "content1 = soup1.find('p', {'id': 'content'})\n",
    "print(content1)\n",
    "\n",
    "br_content = content1.find('br')\n",
    "print(\"==> 결과에서 태그 br로 찾은 요소\", br_content)\n",
    "\n",
    "br_content.replace_with(\"\\n\")\n",
    "print('==> 태그 br을 개행문자로 바꾼 결과')\n",
    "print(content1)"
   ]
  },
  {
   "cell_type": "markdown",
   "id": "658b1e4f",
   "metadata": {},
   "source": [
    "전체 태그에 반영하기"
   ]
  },
  {
   "cell_type": "code",
   "execution_count": 108,
   "id": "a4b3d2f6",
   "metadata": {},
   "outputs": [
    {
     "name": "stdout",
     "output_type": "stream",
     "text": [
      "<p id=\"content\">제1조 \n",
      "①대한민국은 민주공화국이다.\n",
      "②대한민국의 주권은 국민에게 있고, 모든 권력은 국민으로부터 나온다.</p>\n"
     ]
    }
   ],
   "source": [
    "soup2 = BeautifulSoup(html1, 'lxml')\n",
    "content2 = soup2.find('p', {'id':'content'})\n",
    "\n",
    "br_contents = content2.find_all('br')\n",
    "for br_content in br_contents:\n",
    "    br_content.replace_with(\"\\n\")\n",
    "print(content2)"
   ]
  },
  {
   "cell_type": "code",
   "execution_count": 109,
   "id": "fa6c5855",
   "metadata": {},
   "outputs": [],
   "source": [
    "def replace_newline(soup_html):\n",
    "    br_to_newlines = soup_html.find_all('br')\n",
    "    for br_to_newline in br_to_newlines:\n",
    "        br_to_newline.replace_with(\"\\n\")\n",
    "    return soup_html"
   ]
  },
  {
   "cell_type": "markdown",
   "id": "6abb60aa",
   "metadata": {},
   "source": [
    "함수와 get_text()를 이용하여 완성하기"
   ]
  },
  {
   "cell_type": "code",
   "execution_count": 110,
   "id": "41f98043",
   "metadata": {},
   "outputs": [
    {
     "name": "stdout",
     "output_type": "stream",
     "text": [
      "제1조 \n",
      "①대한민국은 민주공화국이다.\n",
      "②대한민국의 주권은 국민에게 있고, 모든 권력은 국민으로부터 나온다.\n"
     ]
    }
   ],
   "source": [
    "soup2 = BeautifulSoup(html1, 'lxml')\n",
    "content2 = soup2.find('p', {'id':'content'})\n",
    "content3 = replace_newline(content2)\n",
    "print(content3.get_text())"
   ]
  },
  {
   "cell_type": "code",
   "execution_count": 114,
   "id": "d3d50225",
   "metadata": {},
   "outputs": [
    {
     "name": "stdout",
     "output_type": "stream",
     "text": [
      "대한민국헌법 \n",
      "\n",
      "제1조 \n",
      "①대한민국은 민주공화국이다.\n",
      "    ②대한민국의 주권은 국민에게 있고, 모든 권력은 국민으로부터 나온다. \n",
      "\n",
      "제2조 \n",
      "①대한민국의 국민이 되는 요건은 법률로 정한다.\n",
      "    ②국가는 법률이 정하는 바에 의하여 재외국민을 보호할 의무를 진다. \n",
      "\n"
     ]
    }
   ],
   "source": [
    "soup = BeautifulSoup(html_source, 'lxml')\n",
    "\n",
    "title = soup.find('p', {'id':'title'})\n",
    "contents = soup.find_all('p', {'id':'content'})\n",
    "\n",
    "print(title.get_text(), '\\n')\n",
    "\n",
    "for content in contents:\n",
    "    content1 = replace_newline(content)\n",
    "    print(content1.get_text(), '\\n')"
   ]
  },
  {
   "cell_type": "markdown",
   "id": "413f3670",
   "metadata": {},
   "source": [
    "## 14.3웹 사이트에서 데이터 가져오기"
   ]
  },
  {
   "cell_type": "markdown",
   "id": "f5d909af",
   "metadata": {},
   "source": [
    "### 웹 스크레이핑 시 주의사항"
   ]
  },
  {
   "cell_type": "markdown",
   "id": "62c23d94",
   "metadata": {},
   "source": [
    "1. 쉬운 스크레이핑을 위해 데이터를 얻기 위한 규칙을 발견할 수 있어야 한다.\n",
    "2. 웹사이트에서 너무 빈번하게 접근하면 안된다. 제한 시간이나 차단이 있을 수 있다.\n",
    "3. 코드는 변경 될 수 있으므로 필요한 경우 지속 관리해야 한다.\n",
    "4. 저작권이 있을 수 있으니 조심해야 한다."
   ]
  },
  {
   "cell_type": "code",
   "execution_count": 119,
   "id": "a23d8d67",
   "metadata": {},
   "outputs": [
    {
     "data": {
      "text/plain": [
       "3"
      ]
     },
     "execution_count": 119,
     "metadata": {},
     "output_type": "execute_result"
    }
   ],
   "source": [
    "a=[1,2,3,45,5,65]\n",
    "b = str(a)\n",
    "b.count('5')"
   ]
  },
  {
   "cell_type": "markdown",
   "id": "d9240124",
   "metadata": {},
   "source": [
    "### 순위 데이터를 가져오기"
   ]
  },
  {
   "cell_type": "markdown",
   "id": "46850c2b",
   "metadata": {},
   "source": [
    "영화순위"
   ]
  },
  {
   "cell_type": "code",
   "execution_count": 120,
   "id": "96ef028a",
   "metadata": {},
   "outputs": [
    {
     "name": "stdout",
     "output_type": "stream",
     "text": [
      "https://movie.naver.com/movie/sdb/rank/rmovie.naver?sel=cnt&tg=0&date=20230106\n"
     ]
    }
   ],
   "source": [
    "import requests\n",
    "from bs4 import BeautifulSoup\n",
    "\n",
    "base_url = 'https://movie.naver.com/movie/sdb/rank/rmovie.naver'\n",
    "date = '20230106'\n",
    "url = base_url + '?sel=cnt&tg=0&date=' + date\n",
    "\n",
    "html = requests.get(url).text\n",
    "soup = BeautifulSoup(html, 'lxml')\n",
    "\n",
    "print(url)"
   ]
  },
  {
   "cell_type": "code",
   "execution_count": 127,
   "id": "b52f6e68",
   "metadata": {},
   "outputs": [
    {
     "data": {
      "text/plain": [
       "[<div class=\"tit3\">\n",
       " <a href=\"/movie/bi/mi/basic.naver?code=74977\" title=\"아바타: 물의 길\">아바타: 물의 길</a>\n",
       " </div>,\n",
       " <div class=\"tit3\">\n",
       " <a href=\"/movie/bi/mi/basic.naver?code=184509\" title=\"영웅\">영웅</a>\n",
       " </div>,\n",
       " <div class=\"tit3\">\n",
       " <a href=\"/movie/bi/mi/basic.naver?code=223800\" title=\"더 퍼스트 슬램덩크\">더 퍼스트 슬램덩크</a>\n",
       " </div>,\n",
       " <div class=\"tit3\">\n",
       " <a href=\"/movie/bi/mi/basic.naver?code=208508\" title=\"젠틀맨\">젠틀맨</a>\n",
       " </div>,\n",
       " <div class=\"tit3\">\n",
       " <a href=\"/movie/bi/mi/basic.naver?code=201642\" title=\"스위치\">스위치</a>\n",
       " </div>]"
      ]
     },
     "execution_count": 127,
     "metadata": {},
     "output_type": "execute_result"
    }
   ],
   "source": [
    "movies = soup.select('div.tit3')\n",
    "movies[0:5]"
   ]
  },
  {
   "cell_type": "code",
   "execution_count": 123,
   "id": "2e29b63b",
   "metadata": {},
   "outputs": [
    {
     "data": {
      "text/plain": [
       "<a href=\"/movie/bi/mi/basic.naver?code=74977\" title=\"아바타: 물의 길\">아바타: 물의 길</a>"
      ]
     },
     "execution_count": 123,
     "metadata": {},
     "output_type": "execute_result"
    }
   ],
   "source": [
    "movies[0].find('a')"
   ]
  },
  {
   "cell_type": "markdown",
   "id": "30d88306",
   "metadata": {},
   "source": [
    "리스트의 모든 항목에 대해 get.text()를 적용하기"
   ]
  },
  {
   "cell_type": "code",
   "execution_count": 125,
   "id": "2461a49d",
   "metadata": {},
   "outputs": [
    {
     "data": {
      "text/plain": [
       "['아바타: 물의 길', '/movie/bi/mi/basic.naver?code=74977']"
      ]
     },
     "execution_count": 125,
     "metadata": {},
     "output_type": "execute_result"
    }
   ],
   "source": [
    "ranking_title = movies[0].find('a')['title']\n",
    "ranking_href = movies[0].find('a')['href']\n",
    "\n",
    "[ranking_title, ranking_href]"
   ]
  },
  {
   "cell_type": "code",
   "execution_count": 133,
   "id": "119e04ec",
   "metadata": {},
   "outputs": [
    {
     "data": {
      "text/html": [
       "<style type=\"text/css\">\n",
       "#T_e5e95_row0_col1, #T_e5e95_row1_col1, #T_e5e95_row2_col1, #T_e5e95_row3_col1, #T_e5e95_row4_col1, #T_e5e95_row5_col1, #T_e5e95_row6_col1, #T_e5e95_row7_col1, #T_e5e95_row8_col1, #T_e5e95_row9_col1 {\n",
       "  width: 400px;\n",
       "}\n",
       "</style>\n",
       "<table id=\"T_e5e95\">\n",
       "  <thead>\n",
       "    <tr>\n",
       "      <th class=\"blank level0\" >&nbsp;</th>\n",
       "      <th id=\"T_e5e95_level0_col0\" class=\"col_heading level0 col0\" >영화제목</th>\n",
       "      <th id=\"T_e5e95_level0_col1\" class=\"col_heading level0 col1\" >링크</th>\n",
       "    </tr>\n",
       "  </thead>\n",
       "  <tbody>\n",
       "    <tr>\n",
       "      <th id=\"T_e5e95_level0_row0\" class=\"row_heading level0 row0\" >1</th>\n",
       "      <td id=\"T_e5e95_row0_col0\" class=\"data row0 col0\" >아바타: 물의 길</td>\n",
       "      <td id=\"T_e5e95_row0_col1\" class=\"data row0 col1\" >https://movie.naver.com/movie/bi/mi/basic.naver?code=74977</td>\n",
       "    </tr>\n",
       "    <tr>\n",
       "      <th id=\"T_e5e95_level0_row1\" class=\"row_heading level0 row1\" >2</th>\n",
       "      <td id=\"T_e5e95_row1_col0\" class=\"data row1 col0\" >아바타: 물의 길</td>\n",
       "      <td id=\"T_e5e95_row1_col1\" class=\"data row1 col1\" >https://movie.naver.com/movie/bi/mi/basic.naver?code=74977</td>\n",
       "    </tr>\n",
       "    <tr>\n",
       "      <th id=\"T_e5e95_level0_row2\" class=\"row_heading level0 row2\" >3</th>\n",
       "      <td id=\"T_e5e95_row2_col0\" class=\"data row2 col0\" >아바타: 물의 길</td>\n",
       "      <td id=\"T_e5e95_row2_col1\" class=\"data row2 col1\" >https://movie.naver.com/movie/bi/mi/basic.naver?code=74977</td>\n",
       "    </tr>\n",
       "    <tr>\n",
       "      <th id=\"T_e5e95_level0_row3\" class=\"row_heading level0 row3\" >4</th>\n",
       "      <td id=\"T_e5e95_row3_col0\" class=\"data row3 col0\" >아바타: 물의 길</td>\n",
       "      <td id=\"T_e5e95_row3_col1\" class=\"data row3 col1\" >https://movie.naver.com/movie/bi/mi/basic.naver?code=74977</td>\n",
       "    </tr>\n",
       "    <tr>\n",
       "      <th id=\"T_e5e95_level0_row4\" class=\"row_heading level0 row4\" >5</th>\n",
       "      <td id=\"T_e5e95_row4_col0\" class=\"data row4 col0\" >아바타: 물의 길</td>\n",
       "      <td id=\"T_e5e95_row4_col1\" class=\"data row4 col1\" >https://movie.naver.com/movie/bi/mi/basic.naver?code=74977</td>\n",
       "    </tr>\n",
       "    <tr>\n",
       "      <th id=\"T_e5e95_level0_row5\" class=\"row_heading level0 row5\" >6</th>\n",
       "      <td id=\"T_e5e95_row5_col0\" class=\"data row5 col0\" >아바타: 물의 길</td>\n",
       "      <td id=\"T_e5e95_row5_col1\" class=\"data row5 col1\" >https://movie.naver.com/movie/bi/mi/basic.naver?code=74977</td>\n",
       "    </tr>\n",
       "    <tr>\n",
       "      <th id=\"T_e5e95_level0_row6\" class=\"row_heading level0 row6\" >7</th>\n",
       "      <td id=\"T_e5e95_row6_col0\" class=\"data row6 col0\" >아바타: 물의 길</td>\n",
       "      <td id=\"T_e5e95_row6_col1\" class=\"data row6 col1\" >https://movie.naver.com/movie/bi/mi/basic.naver?code=74977</td>\n",
       "    </tr>\n",
       "    <tr>\n",
       "      <th id=\"T_e5e95_level0_row7\" class=\"row_heading level0 row7\" >8</th>\n",
       "      <td id=\"T_e5e95_row7_col0\" class=\"data row7 col0\" >아바타: 물의 길</td>\n",
       "      <td id=\"T_e5e95_row7_col1\" class=\"data row7 col1\" >https://movie.naver.com/movie/bi/mi/basic.naver?code=74977</td>\n",
       "    </tr>\n",
       "    <tr>\n",
       "      <th id=\"T_e5e95_level0_row8\" class=\"row_heading level0 row8\" >9</th>\n",
       "      <td id=\"T_e5e95_row8_col0\" class=\"data row8 col0\" >아바타: 물의 길</td>\n",
       "      <td id=\"T_e5e95_row8_col1\" class=\"data row8 col1\" >https://movie.naver.com/movie/bi/mi/basic.naver?code=74977</td>\n",
       "    </tr>\n",
       "    <tr>\n",
       "      <th id=\"T_e5e95_level0_row9\" class=\"row_heading level0 row9\" >10</th>\n",
       "      <td id=\"T_e5e95_row9_col0\" class=\"data row9 col0\" >아바타: 물의 길</td>\n",
       "      <td id=\"T_e5e95_row9_col1\" class=\"data row9 col1\" >https://movie.naver.com/movie/bi/mi/basic.naver?code=74977</td>\n",
       "    </tr>\n",
       "  </tbody>\n",
       "</table>\n"
      ],
      "text/plain": [
       "<pandas.io.formats.style.Styler at 0x23f428e4c40>"
      ]
     },
     "execution_count": 133,
     "metadata": {},
     "output_type": "execute_result"
    }
   ],
   "source": [
    "import pandas as pd\n",
    "\n",
    "title_hrefs= []\n",
    "base_url = 'https://movie.naver.com'\n",
    "\n",
    "for movie in movies:\n",
    "    ranking_title = movies[0].find('a')['title']\n",
    "    ranking_href = movies[0].find('a')['href']\n",
    "    \n",
    "    title_hrefs.append([ranking_title, base_url + ranking_href])\n",
    "    \n",
    "ranking = range(1, len(movies)+1)\n",
    "df_movie = pd.DataFrame(title_hrefs, index=ranking, columns =['영화제목', '링크'])\n",
    "\n",
    "df_movie.head(10).style.set_properties(subset=['링크'], **{'width':'400px'})"
   ]
  },
  {
   "cell_type": "markdown",
   "id": "2034e4f6",
   "metadata": {},
   "source": [
    "2023.01.09"
   ]
  },
  {
   "cell_type": "markdown",
   "id": "016c87c7",
   "metadata": {},
   "source": [
    "find : 태그를 찾아내는 거 - html에서 어떤 값을 기준으로 열고닫는지   \n",
    "select: 태그안에 꾸며주는 요소를 이용해서 css 선택자를 기준으로"
   ]
  },
  {
   "cell_type": "markdown",
   "id": "d24b9073",
   "metadata": {},
   "source": [
    "주간 음악 순위"
   ]
  },
  {
   "cell_type": "markdown",
   "id": "cf5e1826",
   "metadata": {},
   "source": [
    "벅스 뮤직에서 종합 음악 순위 정보 출력하기"
   ]
  },
  {
   "cell_type": "code",
   "execution_count": 5,
   "id": "ad8c42a9",
   "metadata": {},
   "outputs": [
    {
     "data": {
      "text/plain": [
       "[<a adultcheckval=\"1\" aria-label=\"새창\" href=\"javascript:;\" onclick=\"bugs.wiselog.area('list_tr_09_chart');bugs.music.listen('6184997',true);\n",
       " \" title=\"Ditto\">Ditto</a>,\n",
       " <a adultcheckval=\"1\" aria-label=\"새창\" href=\"javascript:;\" onclick=\"bugs.wiselog.area('list_tr_09_chart');bugs.music.listen('6186207',true);\n",
       " \" title=\"OMG\">OMG</a>,\n",
       " <a adultcheckval=\"1\" aria-label=\"새창\" href=\"javascript:;\" onclick=\"bugs.wiselog.area('list_tr_09_chart');bugs.music.listen('6170217',true);\n",
       " \" title=\"Hype Boy\">Hype Boy</a>,\n",
       " <a adultcheckval=\"1\" aria-label=\"새창\" href=\"javascript:;\" onclick=\"bugs.wiselog.area('list_tr_09_chart');bugs.music.listen('6155092',true);\n",
       " \" title=\"사건의 지평선\">사건의 지평선</a>,\n",
       " <a adultcheckval=\"1\" aria-label=\"새창\" href=\"javascript:;\" onclick=\"bugs.wiselog.area('list_tr_09_chart');bugs.music.listen('32731774',true);\n",
       " \" title=\"Candy\">Candy</a>,\n",
       " <a adultcheckval=\"1\" aria-label=\"새창\" href=\"javascript:;\" onclick=\"bugs.wiselog.area('list_tr_09_chart');bugs.music.listen('6179181',true);\n",
       " \" title=\"ANTIFRAGILE\">ANTIFRAGILE</a>,\n",
       " <a adultcheckval=\"1\" aria-label=\"새창\" href=\"javascript:;\" onclick=\"bugs.wiselog.area('list_tr_09_chart');bugs.music.listen('6170060',true);\n",
       " \" title=\"Attention\">Attention</a>]"
      ]
     },
     "execution_count": 5,
     "metadata": {},
     "output_type": "execute_result"
    }
   ],
   "source": [
    "import requests\n",
    "from bs4 import BeautifulSoup\n",
    "url = \"https://music.bugs.co.kr/chart/track/week/total?chartdate=20230109\" #주간뮤직\n",
    "# url = \"https://music.bugs.co.kr/chart/track/realtilme/total\"\n",
    "# url =  \"https://music.bugs.co.kr/chart/track/day/total\"\n",
    "# url = \"https://music.bugs.co.kr/chart/track/week/total\"\n",
    "\n",
    "html_music = requests.get(url).text\n",
    "soup_music = BeautifulSoup(html_music,'lxml')\n",
    "\n",
    "#p태그의 요소 중에서 class 속성값이 title인 것을 찾고\n",
    "# 그 안에서 a 태그 요소를 추출\n",
    "\n",
    "titles = soup_music.select('p.title a')\n",
    "titles[0:7]"
   ]
  },
  {
   "cell_type": "markdown",
   "id": "e4c77634",
   "metadata": {},
   "source": [
    "타이틀만 추출 후 보기"
   ]
  },
  {
   "cell_type": "code",
   "execution_count": 6,
   "id": "5fbf41a3",
   "metadata": {},
   "outputs": [],
   "source": [
    "music_titles = [title.get_text() for title in titles]"
   ]
  },
  {
   "cell_type": "code",
   "execution_count": 7,
   "id": "942e7cb7",
   "metadata": {},
   "outputs": [
    {
     "data": {
      "text/plain": [
       "['Ditto', 'OMG', 'Hype Boy', '사건의 지평선', 'Candy', 'ANTIFRAGILE', 'Attention']"
      ]
     },
     "execution_count": 7,
     "metadata": {},
     "output_type": "execute_result"
    }
   ],
   "source": [
    "music_titles[0:7]"
   ]
  },
  {
   "cell_type": "markdown",
   "id": "fcb04035",
   "metadata": {},
   "source": [
    "아티스트 추출하기"
   ]
  },
  {
   "cell_type": "code",
   "execution_count": 8,
   "id": "28afba58",
   "metadata": {},
   "outputs": [
    {
     "data": {
      "text/plain": [
       "[<a href=\"https://music.bugs.co.kr/artist/20164333?wl_ref=list_tr_10_chart\" onclick=\"\n",
       " \" title=\"NewJeans\">NewJeans</a>,\n",
       " <a href=\"https://music.bugs.co.kr/artist/20164333?wl_ref=list_tr_10_chart\" onclick=\"\n",
       " \" title=\"NewJeans\">NewJeans</a>,\n",
       " <a href=\"https://music.bugs.co.kr/artist/20164333?wl_ref=list_tr_10_chart\" onclick=\"\n",
       " \" title=\"NewJeans\">NewJeans</a>,\n",
       " <a href=\"https://music.bugs.co.kr/artist/80010025?wl_ref=list_tr_10_chart\" onclick=\"\n",
       " \" title=\"윤하(Younha/ユンナ)\">윤하(Younha/ユンナ)</a>,\n",
       " <a href=\"https://music.bugs.co.kr/artist/80266679?wl_ref=list_tr_10_chart\" onclick=\"\n",
       " \" title=\"NCT DREAM\">NCT DREAM</a>,\n",
       " <a href=\"https://music.bugs.co.kr/artist/20158908?wl_ref=list_tr_10_chart\" onclick=\"\n",
       " \" title=\"LE SSERAFIM (르세라핌)\">LE SSERAFIM (르세라핌)</a>,\n",
       " <a href=\"https://music.bugs.co.kr/artist/20164333?wl_ref=list_tr_10_chart\" onclick=\"\n",
       " \" title=\"NewJeans\">NewJeans</a>,\n",
       " <a href=\"https://music.bugs.co.kr/artist/20079471?wl_ref=list_tr_10_chart\" onclick=\"\n",
       " \" title=\"이영지\">이영지</a>,\n",
       " <a href=\"https://music.bugs.co.kr/artist/20148657?wl_ref=list_tr_10_chart\" onclick=\"\n",
       " \" title=\"IVE (아이브)\">IVE (아이브)</a>,\n",
       " <a href=\"https://music.bugs.co.kr/artist/80023353?wl_ref=list_tr_10_chart\" onclick=\"\n",
       " \" title=\"카라(Kara)\">카라(Kara)</a>,\n",
       " <a href=\"https://music.bugs.co.kr/artist/20148657?wl_ref=list_tr_10_chart\" onclick=\"\n",
       " \" title=\"IVE (아이브)\">IVE (아이브)</a>,\n",
       " <a href=\"https://music.bugs.co.kr/artist/20056456?wl_ref=list_tr_10_chart\" onclick=\"\n",
       " \" title=\"(여자)아이들\">(여자)아이들</a>,\n",
       " <a href=\"https://music.bugs.co.kr/artist/80010025?wl_ref=list_tr_10_chart\" onclick=\"\n",
       " \" title=\"윤하(Younha/ユンナ)\">윤하(Younha/ユンナ)</a>,\n",
       " <a href=\"https://music.bugs.co.kr/artist/20164333?wl_ref=list_tr_10_chart\" onclick=\"\n",
       " \" title=\"NewJeans\">NewJeans</a>,\n",
       " <a href=\"https://music.bugs.co.kr/artist/20022492?wl_ref=list_tr_10_chart\" onclick=\"\n",
       " \" title=\"BLACKPINK\">BLACKPINK</a>,\n",
       " <a href=\"https://music.bugs.co.kr/artist/80069449?wl_ref=list_tr_10_chart\" onclick=\"\n",
       " \" title=\"지코\">지코</a>,\n",
       " <a href=\"https://music.bugs.co.kr/artist/80221620?wl_ref=list_tr_10_chart\" onclick=\"\n",
       " \" title=\"Charlie Puth(찰리 푸스)\">Charlie Puth(찰리 푸스)</a>,\n",
       " <a href=\"https://music.bugs.co.kr/artist/80196923?wl_ref=list_tr_10_chart\" onclick=\"\n",
       " \" title=\"Meghan Trainor(메간 트레이너)\">Meghan Trainor(메간 트레이너)</a>,\n",
       " <a href=\"https://music.bugs.co.kr/artist/20158908?wl_ref=list_tr_10_chart\" onclick=\"\n",
       " \" title=\"LE SSERAFIM (르세라핌)\">LE SSERAFIM (르세라핌)</a>,\n",
       " <a class=\"artistTitle\" href=\"https://music.bugs.co.kr/artist/80180889?wl_ref=list_tr_10_chart\" title=\"정국\">정국</a>,\n",
       " <a class=\"more\" href=\"javascript:void(0);\" name=\"atag_martist_list\" onclick=\"bugs.layermenu.openMultiArtistSearchResultPopLayer(this, '정국||정국||80180889||OK\\\\n방탄소년단||방탄소년단||80079394||OK', ''); return false;\" title=\"아티스트 전체보기\" wise_log_str=\"?wl_ref=list_tr_10_chart\">\n",
       " 정국\n",
       " </a>,\n",
       " <a class=\"artistTitle\" href=\"https://music.bugs.co.kr/artist/80147640?wl_ref=list_tr_10_chart\" title=\"Sam Smith(샘 스미스)\">Sam Smith(샘 스미스)</a>,\n",
       " <a class=\"more\" href=\"javascript:void(0);\" name=\"atag_martist_list\" onclick=\"bugs.layermenu.openMultiArtistSearchResultPopLayer(this, 'Sam Smith||Sam Smith(샘 스미스)||80147640||OK\\\\nKim Petras||Kim Petras||8334656||OK', ''); return false;\" title=\"아티스트 전체보기\" wise_log_str=\"?wl_ref=list_tr_10_chart\">\n",
       " Sam Smith(샘 스미스)\n",
       " </a>,\n",
       " <a href=\"https://music.bugs.co.kr/artist/63976?wl_ref=list_tr_10_chart\" onclick=\"\n",
       " \" title=\"테이(Tei)\">테이(Tei)</a>,\n",
       " <a href=\"https://music.bugs.co.kr/artist/20022492?wl_ref=list_tr_10_chart\" onclick=\"\n",
       " \" title=\"BLACKPINK\">BLACKPINK</a>,\n",
       " <a href=\"https://music.bugs.co.kr/artist/80142603?wl_ref=list_tr_10_chart\" onclick=\"\n",
       " \" title=\"Crush\">Crush</a>,\n",
       " <a href=\"https://music.bugs.co.kr/artist/20148657?wl_ref=list_tr_10_chart\" onclick=\"\n",
       " \" title=\"IVE (아이브)\">IVE (아이브)</a>,\n",
       " <a href=\"https://music.bugs.co.kr/artist/20056456?wl_ref=list_tr_10_chart\" onclick=\"\n",
       " \" title=\"(여자)아이들\">(여자)아이들</a>,\n",
       " <a href=\"https://music.bugs.co.kr/artist/2946?wl_ref=list_tr_10_chart\" onclick=\"\n",
       " \" title=\"성시경\">성시경</a>,\n",
       " <a href=\"https://music.bugs.co.kr/artist/80023353?wl_ref=list_tr_10_chart\" onclick=\"\n",
       " \" title=\"카라(Kara)\">카라(Kara)</a>]"
      ]
     },
     "execution_count": 8,
     "metadata": {},
     "output_type": "execute_result"
    }
   ],
   "source": [
    "artists = soup_music.select('p.artist a')\n",
    "artists[0:30]"
   ]
  },
  {
   "cell_type": "code",
   "execution_count": 9,
   "id": "ba4e7bb2",
   "metadata": {},
   "outputs": [
    {
     "data": {
      "text/plain": [
       "[<a href=\"https://music.bugs.co.kr/artist/20164333?wl_ref=list_tr_10_chart\" onclick=\"\n",
       " \" title=\"NewJeans\">NewJeans</a>,\n",
       " <a href=\"https://music.bugs.co.kr/artist/20164333?wl_ref=list_tr_10_chart\" onclick=\"\n",
       " \" title=\"NewJeans\">NewJeans</a>,\n",
       " <a href=\"https://music.bugs.co.kr/artist/20164333?wl_ref=list_tr_10_chart\" onclick=\"\n",
       " \" title=\"NewJeans\">NewJeans</a>,\n",
       " <a href=\"https://music.bugs.co.kr/artist/80010025?wl_ref=list_tr_10_chart\" onclick=\"\n",
       " \" title=\"윤하(Younha/ユンナ)\">윤하(Younha/ユンナ)</a>,\n",
       " <a href=\"https://music.bugs.co.kr/artist/80266679?wl_ref=list_tr_10_chart\" onclick=\"\n",
       " \" title=\"NCT DREAM\">NCT DREAM</a>,\n",
       " <a href=\"https://music.bugs.co.kr/artist/20158908?wl_ref=list_tr_10_chart\" onclick=\"\n",
       " \" title=\"LE SSERAFIM (르세라핌)\">LE SSERAFIM (르세라핌)</a>,\n",
       " <a href=\"https://music.bugs.co.kr/artist/20164333?wl_ref=list_tr_10_chart\" onclick=\"\n",
       " \" title=\"NewJeans\">NewJeans</a>,\n",
       " <a href=\"https://music.bugs.co.kr/artist/20079471?wl_ref=list_tr_10_chart\" onclick=\"\n",
       " \" title=\"이영지\">이영지</a>,\n",
       " <a href=\"https://music.bugs.co.kr/artist/20148657?wl_ref=list_tr_10_chart\" onclick=\"\n",
       " \" title=\"IVE (아이브)\">IVE (아이브)</a>,\n",
       " <a href=\"https://music.bugs.co.kr/artist/80023353?wl_ref=list_tr_10_chart\" onclick=\"\n",
       " \" title=\"카라(Kara)\">카라(Kara)</a>,\n",
       " <a href=\"https://music.bugs.co.kr/artist/20148657?wl_ref=list_tr_10_chart\" onclick=\"\n",
       " \" title=\"IVE (아이브)\">IVE (아이브)</a>,\n",
       " <a href=\"https://music.bugs.co.kr/artist/20056456?wl_ref=list_tr_10_chart\" onclick=\"\n",
       " \" title=\"(여자)아이들\">(여자)아이들</a>,\n",
       " <a href=\"https://music.bugs.co.kr/artist/80010025?wl_ref=list_tr_10_chart\" onclick=\"\n",
       " \" title=\"윤하(Younha/ユンナ)\">윤하(Younha/ユンナ)</a>,\n",
       " <a href=\"https://music.bugs.co.kr/artist/20164333?wl_ref=list_tr_10_chart\" onclick=\"\n",
       " \" title=\"NewJeans\">NewJeans</a>,\n",
       " <a href=\"https://music.bugs.co.kr/artist/20022492?wl_ref=list_tr_10_chart\" onclick=\"\n",
       " \" title=\"BLACKPINK\">BLACKPINK</a>,\n",
       " <a href=\"https://music.bugs.co.kr/artist/80069449?wl_ref=list_tr_10_chart\" onclick=\"\n",
       " \" title=\"지코\">지코</a>,\n",
       " <a href=\"https://music.bugs.co.kr/artist/80221620?wl_ref=list_tr_10_chart\" onclick=\"\n",
       " \" title=\"Charlie Puth(찰리 푸스)\">Charlie Puth(찰리 푸스)</a>,\n",
       " <a href=\"https://music.bugs.co.kr/artist/80196923?wl_ref=list_tr_10_chart\" onclick=\"\n",
       " \" title=\"Meghan Trainor(메간 트레이너)\">Meghan Trainor(메간 트레이너)</a>,\n",
       " <a href=\"https://music.bugs.co.kr/artist/20158908?wl_ref=list_tr_10_chart\" onclick=\"\n",
       " \" title=\"LE SSERAFIM (르세라핌)\">LE SSERAFIM (르세라핌)</a>,\n",
       " <a class=\"artistTitle\" href=\"https://music.bugs.co.kr/artist/80180889?wl_ref=list_tr_10_chart\" title=\"정국\">정국</a>,\n",
       " <a class=\"artistTitle\" href=\"https://music.bugs.co.kr/artist/80147640?wl_ref=list_tr_10_chart\" title=\"Sam Smith(샘 스미스)\">Sam Smith(샘 스미스)</a>,\n",
       " <a href=\"https://music.bugs.co.kr/artist/63976?wl_ref=list_tr_10_chart\" onclick=\"\n",
       " \" title=\"테이(Tei)\">테이(Tei)</a>,\n",
       " <a href=\"https://music.bugs.co.kr/artist/20022492?wl_ref=list_tr_10_chart\" onclick=\"\n",
       " \" title=\"BLACKPINK\">BLACKPINK</a>,\n",
       " <a href=\"https://music.bugs.co.kr/artist/80142603?wl_ref=list_tr_10_chart\" onclick=\"\n",
       " \" title=\"Crush\">Crush</a>,\n",
       " <a href=\"https://music.bugs.co.kr/artist/20148657?wl_ref=list_tr_10_chart\" onclick=\"\n",
       " \" title=\"IVE (아이브)\">IVE (아이브)</a>,\n",
       " <a href=\"https://music.bugs.co.kr/artist/20056456?wl_ref=list_tr_10_chart\" onclick=\"\n",
       " \" title=\"(여자)아이들\">(여자)아이들</a>,\n",
       " <a href=\"https://music.bugs.co.kr/artist/2946?wl_ref=list_tr_10_chart\" onclick=\"\n",
       " \" title=\"성시경\">성시경</a>,\n",
       " <a href=\"https://music.bugs.co.kr/artist/80023353?wl_ref=list_tr_10_chart\" onclick=\"\n",
       " \" title=\"카라(Kara)\">카라(Kara)</a>,\n",
       " <a href=\"https://music.bugs.co.kr/artist/80223033?wl_ref=list_tr_10_chart\" onclick=\"\n",
       " \" title=\"멜로망스(MeloMance)\">멜로망스(MeloMance)</a>,\n",
       " <a href=\"https://music.bugs.co.kr/artist/80337001?wl_ref=list_tr_10_chart\" onclick=\"\n",
       " \" title=\"BE'O (비오)\">BE'O (비오)</a>]"
      ]
     },
     "execution_count": 9,
     "metadata": {},
     "output_type": "execute_result"
    }
   ],
   "source": [
    "artists = soup_music.select('p.artist a:not(.more)')\n",
    "artists[0:30]"
   ]
  },
  {
   "cell_type": "code",
   "execution_count": 10,
   "id": "d292cab6",
   "metadata": {},
   "outputs": [],
   "source": [
    "music_artists = [artist.get_text() for artist in artists]"
   ]
  },
  {
   "cell_type": "code",
   "execution_count": 11,
   "id": "c01ce54e",
   "metadata": {},
   "outputs": [
    {
     "data": {
      "text/plain": [
       "['NewJeans',\n",
       " 'NewJeans',\n",
       " 'NewJeans',\n",
       " '윤하(Younha/ユンナ)',\n",
       " 'NCT DREAM',\n",
       " 'LE SSERAFIM (르세라핌)',\n",
       " 'NewJeans']"
      ]
     },
     "execution_count": 11,
     "metadata": {},
     "output_type": "execute_result"
    }
   ],
   "source": [
    "music_artists[0:7]"
   ]
  },
  {
   "cell_type": "code",
   "execution_count": 12,
   "id": "40a44198",
   "metadata": {},
   "outputs": [
    {
     "name": "stdout",
     "output_type": "stream",
     "text": [
      "1: Ditto / NewJeans\n",
      "2: OMG / NewJeans\n",
      "3: Hype Boy / NewJeans\n",
      "4: 사건의 지평선 / 윤하(Younha/ユンナ)\n",
      "5: Candy / NCT DREAM\n",
      "6: ANTIFRAGILE / LE SSERAFIM (르세라핌)\n",
      "7: Attention / NewJeans\n"
     ]
    }
   ],
   "source": [
    "import requests\n",
    "from bs4 import BeautifulSoup\n",
    "\n",
    "url = \"https://music.bugs.co.kr/chart/track/week/total?chartdate=20230109\"\n",
    "html_music = requests.get(url).text\n",
    "soup_music = BeautifulSoup(html_music, 'lxml')\n",
    "\n",
    "titles = soup_music.select('p.title a')\n",
    "artists = soup_music.select('p.artist')\n",
    "\n",
    "music_titles = [title.get_text() for title in titles]\n",
    "music_artists = [artist.get_text().strip() for artist in artists]\n",
    "\n",
    "for k in range(7):\n",
    "    print(\"{0}: {1} / {2}\".format(k+1, music_titles[k], music_artists[k]))"
   ]
  },
  {
   "cell_type": "markdown",
   "id": "d5bf036f",
   "metadata": {},
   "source": [
    "곡명과 아티스트를 묶어서 순위별로 할당하기"
   ]
  },
  {
   "cell_type": "code",
   "execution_count": 13,
   "id": "8ca55ea7",
   "metadata": {},
   "outputs": [],
   "source": [
    "music_titles_artists={}\n",
    "order = 0\n",
    "\n",
    "for (music_title, music_artist) in zip (music_titles, music_artists):\n",
    "    order = order + 1\n",
    "    music_titles_artists[order] = [music_title, music_artist]"
   ]
  },
  {
   "cell_type": "code",
   "execution_count": 16,
   "id": "655b9aa7",
   "metadata": {
    "scrolled": false
   },
   "outputs": [
    {
     "data": {
      "text/plain": [
       "['Ditto', 'NewJeans']"
      ]
     },
     "execution_count": 16,
     "metadata": {},
     "output_type": "execute_result"
    }
   ],
   "source": [
    "music_titles_artists[1]"
   ]
  },
  {
   "cell_type": "code",
   "execution_count": 22,
   "id": "c378d97c",
   "metadata": {},
   "outputs": [
    {
     "data": {
      "text/plain": [
       "['Hype Boy', 'NewJeans']"
      ]
     },
     "execution_count": 22,
     "metadata": {},
     "output_type": "execute_result"
    }
   ],
   "source": [
    "music_titles_artists[2]"
   ]
  },
  {
   "cell_type": "markdown",
   "id": "50324e56",
   "metadata": {},
   "source": [
    "묶어서 딕셔너리 할당하기"
   ]
  },
  {
   "cell_type": "code",
   "execution_count": 45,
   "id": "7a9ca335",
   "metadata": {},
   "outputs": [],
   "source": [
    "def bugs_music_week_top100(year, month, day):\n",
    "    \n",
    "    month = \"{0:02d}\".format(month)\n",
    "    day = \"{0:02d}\".format(day)\n",
    "    \n",
    "    base_url = 'https://music.bugs.co.kr/chart/track/week/total?'\n",
    "    url = base_url + 'chartdate={0}{1}{2}'.format(year, month, day)\n",
    "    \n",
    "    html_music = requests.get(url).text\n",
    "    soup_music = BeautifulSoup(html_music, 'lxml')\n",
    "    \n",
    "    titles = soup_music.select('p.title a')\n",
    "    artists = soup_music.select('p.artist a:not(.more)')\n",
    "    \n",
    "    music_titles = [title.get_text() for title in titles]\n",
    "    music_artists = [artist.get_text().strip() for artist in artists]\n",
    "    \n",
    "    return music_titles, music_artists"
   ]
  },
  {
   "cell_type": "markdown",
   "id": "aa8d152c",
   "metadata": {},
   "source": [
    "자료 저장하기"
   ]
  },
  {
   "cell_type": "code",
   "execution_count": 46,
   "id": "6f3fa086",
   "metadata": {},
   "outputs": [
    {
     "data": {
      "text/plain": [
       "['C:/myPyCode/data/bugs_week_top100.txt']"
      ]
     },
     "execution_count": 46,
     "metadata": {},
     "output_type": "execute_result"
    }
   ],
   "source": [
    "import glob\n",
    "\n",
    "bugs_music_titles, bugs_music_artists = bugs_music_week_top100(2023, 1, 9)\n",
    "\n",
    "file_name = 'C:/myPyCode/data/bugs_week_top100.txt'\n",
    "\n",
    "f = open(file_name, 'w')\n",
    "\n",
    "for k in range(len(bugs_music_titles)):\n",
    "    f.write(\"{0:2d}: {1}/{2}\\n\".format(k+1, bugs_music_titles[k], bugs_music_artists[k]))\n",
    "    \n",
    "f.close()\n",
    "\n",
    "glob.glob(file_name)"
   ]
  },
  {
   "cell_type": "markdown",
   "id": "76484255",
   "metadata": {},
   "source": [
    "##### 이미지는 셀레니윰으로 공유 예정"
   ]
  },
  {
   "cell_type": "code",
   "execution_count": null,
   "id": "fb097244",
   "metadata": {},
   "outputs": [],
   "source": []
  }
 ],
 "metadata": {
  "kernelspec": {
   "display_name": "Python 3 (ipykernel)",
   "language": "python",
   "name": "python3"
  },
  "language_info": {
   "codemirror_mode": {
    "name": "ipython",
    "version": 3
   },
   "file_extension": ".py",
   "mimetype": "text/x-python",
   "name": "python",
   "nbconvert_exporter": "python",
   "pygments_lexer": "ipython3",
   "version": "3.9.13"
  }
 },
 "nbformat": 4,
 "nbformat_minor": 5
}
