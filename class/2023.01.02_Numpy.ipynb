{
 "cells": [
  {
   "cell_type": "markdown",
   "id": "d2bab0d2",
   "metadata": {},
   "source": [
    "# 11장 데이터 분석을 위한 패키지"
   ]
  },
  {
   "cell_type": "markdown",
   "id": "fe0d7ac9",
   "metadata": {},
   "source": [
    "사실 패키지 틀린말 라이브러리라고 해야 해"
   ]
  },
  {
   "cell_type": "markdown",
   "id": "d57a4a80",
   "metadata": {},
   "source": [
    "패키지랑 라이브러리 / 프레임워크의 차이는?"
   ]
  },
  {
   "cell_type": "markdown",
   "id": "9686965d",
   "metadata": {},
   "source": [
    "*크기, 결과의 개념 헷갈리지 말기   \n",
    "모듈이 모여 패키지가 되고 패키지가 모여 라이브러리? xxxxxx   \n",
    "내가 만든 최종 형태   \n",
    "패키지 묶어서 뭐가 있어    \n",
    "라이브러리 어떤 기능을 목적으로 (그게 모듈로 되어있을지 패키지가 되어있을지 프로젝트일지 아무도 몰라) 기능적 결과물  \n",
    "라이브러리 무조건 도구라고 하면 안돼   \n",
    "결과물인데 얘를 목적으로 두고 쓰면 라이브러리야   \n",
    "\n",
    "패키지는 모듈의 합   \n",
    "라이브러리 내가 쓰고 싶은 어쩌구"
   ]
  },
  {
   "cell_type": "markdown",
   "id": "0ffff95d",
   "metadata": {},
   "source": [
    "* 배열과 리스트   \n",
    "파이썬에서 배열과 리스트 모두 인덱스 값 갖고 있음  \n",
    "[ ]로 표시\n",
    "\n",
    "\n",
    "* 배열과 리스트의 차이   \n",
    "수학에서 배열은 인덱스 값을 가지고 있어   \n",
    "배열 너무나 명확한 규칙성을 갖고 있어   \n",
    "한계가 명확히 있어 (개수 안맞으면 에러 남)      \n",
    "메모리 훨씬 효율적   \n",
    "배열이면 몇 다시 몇이라고 정확히 알고 있어 크기 정확히 잡아 놓을 수 있음.   \n",
    "x, y, z 전체의 범위를 잡아놔  \n",
    "\n",
    "\n",
    "* (그러면 튜플과의 차이?   \n",
    "튜플은 변경 삭제 어려워   \n",
    "배열은 그 범위를 뛰어넘는 값 있으면 공간 넓혀야)   \n",
    "\n",
    "***리스트는 원래 인덱스 값 없는데 파이썬에서 o    \n",
    "리스트 내 앞사람의 등을 잡는 식으로 기억해 pointer"
   ]
  },
  {
   "cell_type": "markdown",
   "id": "3f9b49b1",
   "metadata": {},
   "source": [
    "* 배열과 리스트의 차이2   \n",
    "배열은 배열간 연산이 가능함   \n",
    "(리스트 덧셈은(+) 앞의 리스트에 뒤의 리스트 값이 붙어서 한 리스트로 만들어짐   \n",
    "배열은 배열 전체에 연산이 가능함   \n",
    "(리스트의 곱셈은(*) 리스트의 요소를 반복함"
   ]
  },
  {
   "cell_type": "markdown",
   "id": "73c08754",
   "metadata": {},
   "source": [
    "***"
   ]
  },
  {
   "cell_type": "markdown",
   "id": "0205c8e0",
   "metadata": {},
   "source": [
    "### 11.1 배열 데이터를 효과적으로 다루는 Numpy"
   ]
  },
  {
   "cell_type": "markdown",
   "id": "faefef8d",
   "metadata": {},
   "source": [
    "누군가 numpy 오픈 소스로 만들었는데 좋아서   \n",
    "원래는 다운받아서 설치해야 하는데   \n",
    "Numpy 설치되어 있음"
   ]
  },
  {
   "cell_type": "markdown",
   "id": "460f8f28",
   "metadata": {},
   "source": [
    "Numpy 다차원 배열 만들기 위해 사용(주로 2차원)"
   ]
  },
  {
   "cell_type": "markdown",
   "id": "88cc5676",
   "metadata": {},
   "source": [
    "#### 배열 생성하기"
   ]
  },
  {
   "cell_type": "code",
   "execution_count": 3,
   "id": "5c5575f6",
   "metadata": {},
   "outputs": [],
   "source": [
    "import numpy as np"
   ]
  },
  {
   "cell_type": "markdown",
   "id": "aa85065f",
   "metadata": {},
   "source": [
    "#### 시퀀스 데이터로부터 배열 생성"
   ]
  },
  {
   "cell_type": "markdown",
   "id": "69a759c9",
   "metadata": {},
   "source": [
    "arr_obj = np.array(seq_data)"
   ]
  },
  {
   "cell_type": "code",
   "execution_count": 3,
   "id": "329090b7",
   "metadata": {},
   "outputs": [
    {
     "data": {
      "text/plain": [
       "array([0, 1, 2, 3, 4, 5])"
      ]
     },
     "execution_count": 3,
     "metadata": {},
     "output_type": "execute_result"
    }
   ],
   "source": [
    "import numpy as np\n",
    "\n",
    "data1 = [0,1,2,3,4,5]\n",
    "a1 = np.array(data1)\n",
    "a1"
   ]
  },
  {
   "cell_type": "markdown",
   "id": "eecf19dc",
   "metadata": {},
   "source": [
    "실수가 혼합 된 배열 생성"
   ]
  },
  {
   "cell_type": "code",
   "execution_count": 4,
   "id": "2a4c0fc8",
   "metadata": {},
   "outputs": [
    {
     "data": {
      "text/plain": [
       "array([ 0.1,  5. ,  4. , 12. ,  0.5])"
      ]
     },
     "execution_count": 4,
     "metadata": {},
     "output_type": "execute_result"
    }
   ],
   "source": [
    "data2 = [0.1 , 5, 4, 12, 0.5]\n",
    "a2 = np.array (data2)\n",
    "a2"
   ]
  },
  {
   "cell_type": "markdown",
   "id": "e506bab8",
   "metadata": {},
   "source": [
    "배열의 속성 표현"
   ]
  },
  {
   "cell_type": "code",
   "execution_count": 5,
   "id": "4c026d00",
   "metadata": {},
   "outputs": [
    {
     "data": {
      "text/plain": [
       "dtype('int32')"
      ]
     },
     "execution_count": 5,
     "metadata": {},
     "output_type": "execute_result"
    }
   ],
   "source": [
    "a1.dtype"
   ]
  },
  {
   "cell_type": "code",
   "execution_count": 6,
   "id": "468dc277",
   "metadata": {},
   "outputs": [
    {
     "data": {
      "text/plain": [
       "dtype('float64')"
      ]
     },
     "execution_count": 6,
     "metadata": {},
     "output_type": "execute_result"
    }
   ],
   "source": [
    "a2.dtype"
   ]
  },
  {
   "cell_type": "markdown",
   "id": "ce7ceeb3",
   "metadata": {},
   "source": [
    "데이터를 직접 넣어서 배열 객체 생성"
   ]
  },
  {
   "cell_type": "code",
   "execution_count": 11,
   "id": "884f376c",
   "metadata": {},
   "outputs": [
    {
     "data": {
      "text/plain": [
       "array([0.5 , 2.  , 0.01, 8.  ])"
      ]
     },
     "execution_count": 11,
     "metadata": {},
     "output_type": "execute_result"
    }
   ],
   "source": [
    "np.array([0.5,2,0.01,8])"
   ]
  },
  {
   "cell_type": "markdown",
   "id": "9224bca1",
   "metadata": {},
   "source": [
    "2차원 배열 생성 방법"
   ]
  },
  {
   "cell_type": "code",
   "execution_count": 10,
   "id": "92b3b4c4",
   "metadata": {},
   "outputs": [
    {
     "data": {
      "text/plain": [
       "array([[1, 2, 3],\n",
       "       [4, 5, 6],\n",
       "       [7, 8, 9]])"
      ]
     },
     "execution_count": 10,
     "metadata": {},
     "output_type": "execute_result"
    }
   ],
   "source": [
    "np.array([[1,2,3], [4,5,6], [7,8,9]])"
   ]
  },
  {
   "cell_type": "markdown",
   "id": "c0160125",
   "metadata": {},
   "source": [
    "2차원 배열 Numpy를 사용하는 이유 중 1,,,"
   ]
  },
  {
   "cell_type": "markdown",
   "id": "3234561f",
   "metadata": {},
   "source": [
    "#### 범위를 지정해 배열 생성"
   ]
  },
  {
   "cell_type": "markdown",
   "id": "eba0a8d9",
   "metadata": {},
   "source": [
    "arr_obj = np.arange([start,] stop [,step])"
   ]
  },
  {
   "cell_type": "code",
   "execution_count": 14,
   "id": "bd409f9c",
   "metadata": {},
   "outputs": [
    {
     "data": {
      "text/plain": [
       "array([0, 2, 4, 6, 8])"
      ]
     },
     "execution_count": 14,
     "metadata": {},
     "output_type": "execute_result"
    }
   ],
   "source": [
    "np.arange(0,10,2)"
   ]
  },
  {
   "cell_type": "code",
   "execution_count": 18,
   "id": "8c511483",
   "metadata": {},
   "outputs": [
    {
     "data": {
      "text/plain": [
       "array([1, 2, 3, 4, 5, 6, 7, 8, 9])"
      ]
     },
     "execution_count": 18,
     "metadata": {},
     "output_type": "execute_result"
    }
   ],
   "source": [
    "np.arange(1,10) #step생략"
   ]
  },
  {
   "cell_type": "code",
   "execution_count": 17,
   "id": "45d8a9d2",
   "metadata": {},
   "outputs": [
    {
     "data": {
      "text/plain": [
       "array([0, 1, 2, 3, 4])"
      ]
     },
     "execution_count": 17,
     "metadata": {},
     "output_type": "execute_result"
    }
   ],
   "source": [
    "np.arange(5) #stop만"
   ]
  },
  {
   "cell_type": "markdown",
   "id": "ea875a12",
   "metadata": {},
   "source": [
    "reshape를 추가해서 1차 배열을 2차 배열로 변경하기"
   ]
  },
  {
   "cell_type": "markdown",
   "id": "e00daeee",
   "metadata": {},
   "source": [
    "배열의 원소 개수와 reshape(m,n)의 m*n의 개수가 같아야 해"
   ]
  },
  {
   "cell_type": "code",
   "execution_count": 19,
   "id": "cd1eb1ad",
   "metadata": {},
   "outputs": [
    {
     "data": {
      "text/plain": [
       "array([[ 0,  1,  2],\n",
       "       [ 3,  4,  5],\n",
       "       [ 6,  7,  8],\n",
       "       [ 9, 10, 11]])"
      ]
     },
     "execution_count": 19,
     "metadata": {},
     "output_type": "execute_result"
    }
   ],
   "source": [
    "np.arange(12).reshape(4,3)"
   ]
  },
  {
   "cell_type": "code",
   "execution_count": 20,
   "id": "80bf3446",
   "metadata": {},
   "outputs": [
    {
     "data": {
      "text/plain": [
       "array([[0, 1],\n",
       "       [2, 3],\n",
       "       [4, 5]])"
      ]
     },
     "execution_count": 20,
     "metadata": {},
     "output_type": "execute_result"
    }
   ],
   "source": [
    "np.arange(6).reshape(3,2)"
   ]
  },
  {
   "cell_type": "code",
   "execution_count": 7,
   "id": "99439cb9",
   "metadata": {},
   "outputs": [
    {
     "data": {
      "text/plain": [
       "array([[0, 1, 2],\n",
       "       [3, 4, 5]])"
      ]
     },
     "execution_count": 7,
     "metadata": {},
     "output_type": "execute_result"
    }
   ],
   "source": [
    "np.arange(6).reshape(2,3)"
   ]
  },
  {
   "cell_type": "markdown",
   "id": "73a718d9",
   "metadata": {},
   "source": [
    "배열의 형태 출력 ndarray.shape"
   ]
  },
  {
   "cell_type": "code",
   "execution_count": 33,
   "id": "4126fbf3",
   "metadata": {},
   "outputs": [
    {
     "data": {
      "text/plain": [
       "(4, 3)"
      ]
     },
     "execution_count": 33,
     "metadata": {},
     "output_type": "execute_result"
    }
   ],
   "source": [
    "b1 = np.arange(12).reshape(4,3)\n",
    "b1.shape"
   ]
  },
  {
   "cell_type": "code",
   "execution_count": 35,
   "id": "7fc384e7",
   "metadata": {},
   "outputs": [
    {
     "data": {
      "text/plain": [
       "(5,)"
      ]
     },
     "execution_count": 35,
     "metadata": {},
     "output_type": "execute_result"
    }
   ],
   "source": [
    "b2 = np.arange(5)\n",
    "b2.shape #1열이면 뒤에 안나와"
   ]
  },
  {
   "cell_type": "markdown",
   "id": "5c4c4c4e",
   "metadata": {},
   "source": [
    "arr_obj = np.linspace(start,stop [num])    \n",
    "범위의 시작과 끝을 지정한 후 데이터의 개수를 지정해 Numpy 배열을 생성   \n",
    "num생략하면 50"
   ]
  },
  {
   "cell_type": "code",
   "execution_count": 4,
   "id": "eac8559b",
   "metadata": {},
   "outputs": [
    {
     "data": {
      "text/plain": [
       "array([ 1.,  2.,  3.,  4.,  5.,  6.,  7.,  8.,  9., 10.])"
      ]
     },
     "execution_count": 4,
     "metadata": {},
     "output_type": "execute_result"
    }
   ],
   "source": [
    "np.linspace(1,10,10) #끝 값이야 range처럼 -1 xxxx"
   ]
  },
  {
   "cell_type": "markdown",
   "id": "96e40ead",
   "metadata": {},
   "source": [
    "0 ~ pi까지 동일한 간격으로 20개로 나누기   \n",
    "np.pi는 Numpy에서 ㅠ를 입력할 때 이용"
   ]
  },
  {
   "cell_type": "code",
   "execution_count": 40,
   "id": "4a887e13",
   "metadata": {},
   "outputs": [
    {
     "data": {
      "text/plain": [
       "array([0.        , 0.16534698, 0.33069396, 0.49604095, 0.66138793,\n",
       "       0.82673491, 0.99208189, 1.15742887, 1.32277585, 1.48812284,\n",
       "       1.65346982, 1.8188168 , 1.98416378, 2.14951076, 2.31485774,\n",
       "       2.48020473, 2.64555171, 2.81089869, 2.97624567, 3.14159265])"
      ]
     },
     "execution_count": 40,
     "metadata": {},
     "output_type": "execute_result"
    }
   ],
   "source": [
    "np.linspace(0, np.pi, 20)"
   ]
  },
  {
   "cell_type": "code",
   "execution_count": 47,
   "id": "1febcf9f",
   "metadata": {
    "scrolled": true
   },
   "outputs": [
    {
     "data": {
      "text/plain": [
       "array([ 1.        ,  1.48979592,  1.97959184,  2.46938776,  2.95918367,\n",
       "        3.44897959,  3.93877551,  4.42857143,  4.91836735,  5.40816327,\n",
       "        5.89795918,  6.3877551 ,  6.87755102,  7.36734694,  7.85714286,\n",
       "        8.34693878,  8.83673469,  9.32653061,  9.81632653, 10.30612245,\n",
       "       10.79591837, 11.28571429, 11.7755102 , 12.26530612, 12.75510204,\n",
       "       13.24489796, 13.73469388, 14.2244898 , 14.71428571, 15.20408163,\n",
       "       15.69387755, 16.18367347, 16.67346939, 17.16326531, 17.65306122,\n",
       "       18.14285714, 18.63265306, 19.12244898, 19.6122449 , 20.10204082,\n",
       "       20.59183673, 21.08163265, 21.57142857, 22.06122449, 22.55102041,\n",
       "       23.04081633, 23.53061224, 24.02040816, 24.51020408, 25.        ])"
      ]
     },
     "execution_count": 47,
     "metadata": {},
     "output_type": "execute_result"
    }
   ],
   "source": [
    "np.linspace(1,25)"
   ]
  },
  {
   "cell_type": "markdown",
   "id": "63d62916",
   "metadata": {},
   "source": [
    "모든 원소가 0과 1인 다차원 배열을 만들기 위해서는 zeros()와 ones()사용"
   ]
  },
  {
   "cell_type": "code",
   "execution_count": 48,
   "id": "036f1079",
   "metadata": {},
   "outputs": [
    {
     "data": {
      "text/plain": [
       "array([0., 0., 0., 0., 0., 0., 0., 0., 0., 0.])"
      ]
     },
     "execution_count": 48,
     "metadata": {},
     "output_type": "execute_result"
    }
   ],
   "source": [
    "np.zeros(10)"
   ]
  },
  {
   "cell_type": "code",
   "execution_count": 51,
   "id": "8eb01b29",
   "metadata": {},
   "outputs": [
    {
     "data": {
      "text/plain": [
       "array([[0., 0., 0., 0.],\n",
       "       [0., 0., 0., 0.],\n",
       "       [0., 0., 0., 0.]])"
      ]
     },
     "execution_count": 51,
     "metadata": {},
     "output_type": "execute_result"
    }
   ],
   "source": [
    "np.zeros((3,4))"
   ]
  },
  {
   "cell_type": "code",
   "execution_count": 49,
   "id": "26470026",
   "metadata": {},
   "outputs": [
    {
     "data": {
      "text/plain": [
       "array([1., 1., 1., 1., 1.])"
      ]
     },
     "execution_count": 49,
     "metadata": {},
     "output_type": "execute_result"
    }
   ],
   "source": [
    "np.ones(5)"
   ]
  },
  {
   "cell_type": "code",
   "execution_count": 54,
   "id": "96128168",
   "metadata": {},
   "outputs": [
    {
     "data": {
      "text/plain": [
       "array([[1., 1., 1., 1., 1.],\n",
       "       [1., 1., 1., 1., 1.],\n",
       "       [1., 1., 1., 1., 1.]])"
      ]
     },
     "execution_count": 54,
     "metadata": {},
     "output_type": "execute_result"
    }
   ],
   "source": [
    "np.ones((3,5))"
   ]
  },
  {
   "cell_type": "markdown",
   "id": "ca225866",
   "metadata": {},
   "source": [
    "단위 행렬 (identity matrix) 생성   \n",
    "단위 행렬 = n*n인 정사각형 행렬에서 주 대각선이 모두 1이고 나머지가 0인 행렬 eye()"
   ]
  },
  {
   "cell_type": "markdown",
   "id": "4ead21ff",
   "metadata": {},
   "source": [
    "대각선이 모두 1인 행렬 = 1"
   ]
  },
  {
   "cell_type": "code",
   "execution_count": 202,
   "id": "4a25bd8f",
   "metadata": {},
   "outputs": [
    {
     "data": {
      "text/plain": [
       "array([[1., 0., 0.],\n",
       "       [0., 1., 0.],\n",
       "       [0., 0., 1.]])"
      ]
     },
     "execution_count": 202,
     "metadata": {},
     "output_type": "execute_result"
    }
   ],
   "source": [
    "np.eye(3)"
   ]
  },
  {
   "cell_type": "markdown",
   "id": "184dd9ee",
   "metadata": {},
   "source": [
    "매트릭스 행렬 / 벡터 1차원 /  팬서플로어? 3차원"
   ]
  },
  {
   "cell_type": "markdown",
   "id": "10b5ac6a",
   "metadata": {},
   "source": [
    "#### 배열의 데이터 타입 변환"
   ]
  },
  {
   "cell_type": "markdown",
   "id": "4e87284e",
   "metadata": {},
   "source": [
    "문자열이 원소인Numpy 배열"
   ]
  },
  {
   "cell_type": "code",
   "execution_count": 71,
   "id": "6720cf60",
   "metadata": {},
   "outputs": [
    {
     "data": {
      "text/plain": [
       "array(['1.5', '0.62', '2', '3.14', '3.141592'], dtype='<U8')"
      ]
     },
     "execution_count": 71,
     "metadata": {},
     "output_type": "execute_result"
    }
   ],
   "source": [
    "np.array(['1.5', '0.62', '2', '3.14', '3.141592'])"
   ]
  },
  {
   "cell_type": "code",
   "execution_count": 205,
   "id": "45369164",
   "metadata": {},
   "outputs": [
    {
     "data": {
      "text/plain": [
       "array(['1.5', '0.62', '2', '3.14', '3.1415'], dtype='<U6')"
      ]
     },
     "execution_count": 205,
     "metadata": {},
     "output_type": "execute_result"
    }
   ],
   "source": [
    "np.array(['1.5', '0.62', '2', '3.14', '3.1415'])"
   ]
  },
  {
   "cell_type": "markdown",
   "id": "9734ef76",
   "metadata": {},
   "source": [
    "제일 큰 거에 맞춰 자리수 차지"
   ]
  },
  {
   "cell_type": "markdown",
   "id": "343b201e",
   "metadata": {},
   "source": [
    "| 기호 | 의미 |\n",
    "|:-:|:-|\n",
    "| 'b' | 불, bool |\n",
    "| 'i' | 기호가 있는 정수, (singned)integer |\n",
    "| 'u' | 기호가 없는 정수, (unsigned)integer |\n",
    "| 'f' | 실수, floating-point |\n",
    "| 'c' | 복소수, complex-floating point |\n",
    "| 'M' | 날짜, datetime |\n",
    "| 'O' | 파이썬 객체, (Python)object |\n",
    "| 'S' 혹은  'a' | 바이트 문자열, (byte)String |\n",
    "| 'U' | 유니코드, unicode |"
   ]
  },
  {
   "cell_type": "markdown",
   "id": "1226a78a",
   "metadata": {},
   "source": [
    "헤더   \n",
    "가운대 정렬 / 왼쪽 정렬"
   ]
  },
  {
   "cell_type": "markdown",
   "id": "55d91dc7",
   "metadata": {},
   "source": [
    "배열의 형 변환 astype()   \n",
    "num_arr = str_arr.astype(dtype)"
   ]
  },
  {
   "cell_type": "markdown",
   "id": "a8df08b2",
   "metadata": {},
   "source": [
    "문자열을 실수로"
   ]
  },
  {
   "cell_type": "code",
   "execution_count": 73,
   "id": "f10d357b",
   "metadata": {},
   "outputs": [
    {
     "data": {
      "text/plain": [
       "array([1.567, 0.123, 5.123, 9.   , 8.   ])"
      ]
     },
     "execution_count": 73,
     "metadata": {},
     "output_type": "execute_result"
    }
   ],
   "source": [
    "str_a1 = np.array(['1.567', '0.123', '5.123', '9', '8'])\n",
    "num_a1 = str_a1.astype(float)\n",
    "num_a1"
   ]
  },
  {
   "cell_type": "code",
   "execution_count": 74,
   "id": "a36fd5af",
   "metadata": {},
   "outputs": [
    {
     "data": {
      "text/plain": [
       "dtype('<U5')"
      ]
     },
     "execution_count": 74,
     "metadata": {},
     "output_type": "execute_result"
    }
   ],
   "source": [
    "str_a1.dtype"
   ]
  },
  {
   "cell_type": "code",
   "execution_count": 75,
   "id": "7ff76e23",
   "metadata": {},
   "outputs": [
    {
     "data": {
      "text/plain": [
       "dtype('float64')"
      ]
     },
     "execution_count": 75,
     "metadata": {},
     "output_type": "execute_result"
    }
   ],
   "source": [
    "num_a1.dtype"
   ]
  },
  {
   "cell_type": "markdown",
   "id": "6e92deb2",
   "metadata": {},
   "source": [
    "문자열을 정수로"
   ]
  },
  {
   "cell_type": "code",
   "execution_count": 79,
   "id": "09e0b97e",
   "metadata": {},
   "outputs": [
    {
     "data": {
      "text/plain": [
       "array([1, 3, 5, 7, 9])"
      ]
     },
     "execution_count": 79,
     "metadata": {},
     "output_type": "execute_result"
    }
   ],
   "source": [
    "str_a2 = np.array(['1','3','5','7','9'])\n",
    "num_a2 = str_a2.astype(int)\n",
    "num_a2"
   ]
  },
  {
   "cell_type": "code",
   "execution_count": 81,
   "id": "8f48edc8",
   "metadata": {},
   "outputs": [
    {
     "data": {
      "text/plain": [
       "dtype('<U1')"
      ]
     },
     "execution_count": 81,
     "metadata": {},
     "output_type": "execute_result"
    }
   ],
   "source": [
    "str_a2.dtype"
   ]
  },
  {
   "cell_type": "code",
   "execution_count": 80,
   "id": "bf26e1be",
   "metadata": {},
   "outputs": [
    {
     "data": {
      "text/plain": [
       "dtype('int32')"
      ]
     },
     "execution_count": 80,
     "metadata": {},
     "output_type": "execute_result"
    }
   ],
   "source": [
    "num_a2.dtype"
   ]
  },
  {
   "cell_type": "markdown",
   "id": "d997d79d",
   "metadata": {},
   "source": [
    "실수를 정수로 (소숫점 버림)"
   ]
  },
  {
   "cell_type": "code",
   "execution_count": 84,
   "id": "23a93a5c",
   "metadata": {},
   "outputs": [
    {
     "data": {
      "text/plain": [
       "array([10, 21,  0,  4,  5])"
      ]
     },
     "execution_count": 84,
     "metadata": {},
     "output_type": "execute_result"
    }
   ],
   "source": [
    "num_f1 = np.array([10, 21, 0.549, 4.75, 5.98])\n",
    "num_i1 = num_f1.astype(int)\n",
    "num_i1"
   ]
  },
  {
   "cell_type": "code",
   "execution_count": 85,
   "id": "fcc1b538",
   "metadata": {},
   "outputs": [
    {
     "data": {
      "text/plain": [
       "dtype('float64')"
      ]
     },
     "execution_count": 85,
     "metadata": {},
     "output_type": "execute_result"
    }
   ],
   "source": [
    "num_f1.dtype"
   ]
  },
  {
   "cell_type": "code",
   "execution_count": 86,
   "id": "ec980eed",
   "metadata": {},
   "outputs": [
    {
     "data": {
      "text/plain": [
       "dtype('int32')"
      ]
     },
     "execution_count": 86,
     "metadata": {},
     "output_type": "execute_result"
    }
   ],
   "source": [
    "num_i1.dtype"
   ]
  },
  {
   "cell_type": "markdown",
   "id": "953d7c79",
   "metadata": {},
   "source": [
    "#### 난수 배열의 생성"
   ]
  },
  {
   "cell_type": "markdown",
   "id": "024073fa",
   "metadata": {},
   "source": [
    "rand() = 0과 1 사이의 실수 난수를 갖는 Numpy배열 생성   \n",
    "rand_num = np.random.rand(d0,d1,d2,...dn)"
   ]
  },
  {
   "cell_type": "markdown",
   "id": "d064e064",
   "metadata": {},
   "source": [
    "radiant() = [low, high] 사이의 정수 난수를 갖는 배열을 생성   \n",
    "rand_num = np.random.randint([low] , high, [size])"
   ]
  },
  {
   "cell_type": "code",
   "execution_count": 88,
   "id": "917a5a84",
   "metadata": {},
   "outputs": [
    {
     "data": {
      "text/plain": [
       "array([[0.42049   , 0.81934391, 0.5327983 ],\n",
       "       [0.78336625, 0.90901426, 0.06767067]])"
      ]
     },
     "execution_count": 88,
     "metadata": {},
     "output_type": "execute_result"
    }
   ],
   "source": [
    "np.random.rand(2,3)"
   ]
  },
  {
   "cell_type": "code",
   "execution_count": 240,
   "id": "604a6828",
   "metadata": {},
   "outputs": [
    {
     "data": {
      "text/plain": [
       "0.536120793676603"
      ]
     },
     "execution_count": 240,
     "metadata": {},
     "output_type": "execute_result"
    }
   ],
   "source": [
    "np.random.rand()"
   ]
  },
  {
   "cell_type": "code",
   "execution_count": 13,
   "id": "3974ac05",
   "metadata": {},
   "outputs": [
    {
     "data": {
      "text/plain": [
       "array([[[0.70582209, 0.95096315, 0.70058459, 0.33367451],\n",
       "        [0.34115323, 0.79338183, 0.99018116, 0.73418057],\n",
       "        [0.12209263, 0.12523788, 0.56137258, 0.53522825]],\n",
       "\n",
       "       [[0.91544105, 0.99091712, 0.56378736, 0.07195116],\n",
       "        [0.46326821, 0.40194057, 0.25014361, 0.21004151],\n",
       "        [0.23001174, 0.57963003, 0.5865814 , 0.12735455]]])"
      ]
     },
     "execution_count": 13,
     "metadata": {},
     "output_type": "execute_result"
    }
   ],
   "source": [
    "np.random.rand(2,3,4) #2 z층 / 3 y행 /4 x열"
   ]
  },
  {
   "cell_type": "code",
   "execution_count": 206,
   "id": "1d63f4ea",
   "metadata": {},
   "outputs": [
    {
     "data": {
      "text/plain": [
       "array([[7, 1, 1, 7],\n",
       "       [7, 2, 3, 5],\n",
       "       [5, 6, 4, 6]])"
      ]
     },
     "execution_count": 206,
     "metadata": {},
     "output_type": "execute_result"
    }
   ],
   "source": [
    "np.random.randint(10,size = (3,4))"
   ]
  },
  {
   "cell_type": "code",
   "execution_count": 254,
   "id": "c0183c67",
   "metadata": {},
   "outputs": [
    {
     "data": {
      "text/plain": [
       "9"
      ]
     },
     "execution_count": 254,
     "metadata": {},
     "output_type": "execute_result"
    }
   ],
   "source": [
    "np.random.randint(1,30) #사이즈를 지정하지 않으면 1"
   ]
  },
  {
   "cell_type": "code",
   "execution_count": 253,
   "id": "dad4d799",
   "metadata": {},
   "outputs": [
    {
     "data": {
      "text/plain": [
       "array([[25,  6, 29,  4],\n",
       "       [23, 11,  1,  7]])"
      ]
     },
     "execution_count": 253,
     "metadata": {},
     "output_type": "execute_result"
    }
   ],
   "source": [
    "np.random.randint(1,30, (2,4)) #사이즈를 지정하지 않으면 1"
   ]
  },
  {
   "cell_type": "markdown",
   "id": "60390b58",
   "metadata": {},
   "source": [
    "### 배열의 연산"
   ]
  },
  {
   "cell_type": "markdown",
   "id": "22f5c12d",
   "metadata": {},
   "source": [
    "#### 기본 연산"
   ]
  },
  {
   "cell_type": "markdown",
   "id": "3f20bc62",
   "metadata": {},
   "source": [
    "배열의 형태가 같다면 연산이 가능"
   ]
  },
  {
   "cell_type": "code",
   "execution_count": 208,
   "id": "36f0270e",
   "metadata": {},
   "outputs": [],
   "source": [
    "arr1 = np.array([10,20,30,40]) # 개수 같아야 해\n",
    "arr2 = np.array([1,2,3,4])"
   ]
  },
  {
   "cell_type": "code",
   "execution_count": 98,
   "id": "e1419731",
   "metadata": {},
   "outputs": [
    {
     "data": {
      "text/plain": [
       "array([11, 22, 33, 44])"
      ]
     },
     "execution_count": 98,
     "metadata": {},
     "output_type": "execute_result"
    }
   ],
   "source": [
    "arr1 + arr2"
   ]
  },
  {
   "cell_type": "code",
   "execution_count": 99,
   "id": "aeab4c52",
   "metadata": {},
   "outputs": [
    {
     "data": {
      "text/plain": [
       "array([ 9, 18, 27, 36])"
      ]
     },
     "execution_count": 99,
     "metadata": {},
     "output_type": "execute_result"
    }
   ],
   "source": [
    "arr1 - arr2"
   ]
  },
  {
   "cell_type": "code",
   "execution_count": 100,
   "id": "3907eb4f",
   "metadata": {},
   "outputs": [
    {
     "data": {
      "text/plain": [
       "array([20, 40, 60, 80])"
      ]
     },
     "execution_count": 100,
     "metadata": {},
     "output_type": "execute_result"
    }
   ],
   "source": [
    "arr1*2"
   ]
  },
  {
   "cell_type": "code",
   "execution_count": 101,
   "id": "d0b65727",
   "metadata": {},
   "outputs": [
    {
     "data": {
      "text/plain": [
       "array([ 1,  4,  9, 16], dtype=int32)"
      ]
     },
     "execution_count": 101,
     "metadata": {},
     "output_type": "execute_result"
    }
   ],
   "source": [
    "arr2**2"
   ]
  },
  {
   "cell_type": "code",
   "execution_count": 102,
   "id": "46b4ae6c",
   "metadata": {},
   "outputs": [
    {
     "data": {
      "text/plain": [
       "array([ 10,  40,  90, 160])"
      ]
     },
     "execution_count": 102,
     "metadata": {},
     "output_type": "execute_result"
    }
   ],
   "source": [
    "arr1*arr2"
   ]
  },
  {
   "cell_type": "code",
   "execution_count": 103,
   "id": "3234f5c7",
   "metadata": {},
   "outputs": [
    {
     "data": {
      "text/plain": [
       "array([10., 10., 10., 10.])"
      ]
     },
     "execution_count": 103,
     "metadata": {},
     "output_type": "execute_result"
    }
   ],
   "source": [
    "arr1 / arr2"
   ]
  },
  {
   "cell_type": "code",
   "execution_count": 104,
   "id": "2a39ab09",
   "metadata": {},
   "outputs": [
    {
     "data": {
      "text/plain": [
       "array([ 5., 10., 15., 20.])"
      ]
     },
     "execution_count": 104,
     "metadata": {},
     "output_type": "execute_result"
    }
   ],
   "source": [
    "arr1/2"
   ]
  },
  {
   "cell_type": "markdown",
   "id": "96ee6cf2",
   "metadata": {},
   "source": [
    "복합연산"
   ]
  },
  {
   "cell_type": "code",
   "execution_count": 105,
   "id": "4746aa09",
   "metadata": {},
   "outputs": [
    {
     "data": {
      "text/plain": [
       "array([10.        ,  5.        ,  3.33333333,  2.5       ])"
      ]
     },
     "execution_count": 105,
     "metadata": {},
     "output_type": "execute_result"
    }
   ],
   "source": [
    "arr1 / (arr2 **2)"
   ]
  },
  {
   "cell_type": "markdown",
   "id": "e93136b0",
   "metadata": {},
   "source": [
    "비교연산"
   ]
  },
  {
   "cell_type": "code",
   "execution_count": 106,
   "id": "6bbfbd6e",
   "metadata": {},
   "outputs": [
    {
     "data": {
      "text/plain": [
       "array([False, False,  True,  True])"
      ]
     },
     "execution_count": 106,
     "metadata": {},
     "output_type": "execute_result"
    }
   ],
   "source": [
    "arr1 > 20"
   ]
  },
  {
   "cell_type": "markdown",
   "id": "eb7d31ab",
   "metadata": {},
   "source": [
    "#### 통계를 위한 연산"
   ]
  },
  {
   "cell_type": "code",
   "execution_count": 124,
   "id": "2daccca7",
   "metadata": {},
   "outputs": [
    {
     "data": {
      "text/plain": [
       "array([0, 1, 2, 3, 4])"
      ]
     },
     "execution_count": 124,
     "metadata": {},
     "output_type": "execute_result"
    }
   ],
   "source": [
    "arr3 = np.arange(5)\n",
    "arr3"
   ]
  },
  {
   "cell_type": "markdown",
   "id": "0d17227a",
   "metadata": {},
   "source": [
    "합계 sum()와 평균 mean()"
   ]
  },
  {
   "cell_type": "code",
   "execution_count": 126,
   "id": "b07873bc",
   "metadata": {},
   "outputs": [
    {
     "data": {
      "text/plain": [
       "[10, 2.0]"
      ]
     },
     "execution_count": 126,
     "metadata": {},
     "output_type": "execute_result"
    }
   ],
   "source": [
    "[arr3.sum(), arr3.mean()]"
   ]
  },
  {
   "cell_type": "markdown",
   "id": "1d98bfe1",
   "metadata": {},
   "source": [
    "표준편차 std()와 분산var()    \n",
    "표준편차 = 평균을 중심으로 퍼져있는 정도 (분산 ** 1/2)   \n",
    "분산 = 변량이 평균으로 부터 떨어져있는 정도 "
   ]
  },
  {
   "cell_type": "markdown",
   "id": "95d6fecd",
   "metadata": {},
   "source": [
    "\n",
    "표준편차와 분산이 평균으로부터 가까울 수록 신뢰도가 높아"
   ]
  },
  {
   "cell_type": "code",
   "execution_count": 127,
   "id": "069654b9",
   "metadata": {},
   "outputs": [
    {
     "data": {
      "text/plain": [
       "[1.4142135623730951, 2.0]"
      ]
     },
     "execution_count": 127,
     "metadata": {},
     "output_type": "execute_result"
    }
   ],
   "source": [
    "[arr3.std(), arr3.var()]"
   ]
  },
  {
   "cell_type": "markdown",
   "id": "ecba2b06",
   "metadata": {},
   "source": [
    "최솟값 min()과 최댓값 max()"
   ]
  },
  {
   "cell_type": "code",
   "execution_count": 128,
   "id": "871f5a09",
   "metadata": {},
   "outputs": [
    {
     "data": {
      "text/plain": [
       "[0, 4]"
      ]
     },
     "execution_count": 128,
     "metadata": {},
     "output_type": "execute_result"
    }
   ],
   "source": [
    "[arr3.min(), arr3.max()]"
   ]
  },
  {
   "cell_type": "markdown",
   "id": "e0a48002",
   "metadata": {},
   "source": [
    "누적합 cumsum()과 누적곱 cumprod()"
   ]
  },
  {
   "cell_type": "code",
   "execution_count": 129,
   "id": "edb75cea",
   "metadata": {},
   "outputs": [
    {
     "data": {
      "text/plain": [
       "array([1, 2, 3, 4])"
      ]
     },
     "execution_count": 129,
     "metadata": {},
     "output_type": "execute_result"
    }
   ],
   "source": [
    "arr4 = np.arange(1,5)\n",
    "arr4"
   ]
  },
  {
   "cell_type": "code",
   "execution_count": 133,
   "id": "349c9edf",
   "metadata": {},
   "outputs": [
    {
     "data": {
      "text/plain": [
       "array([ 1,  3,  6, 10], dtype=int32)"
      ]
     },
     "execution_count": 133,
     "metadata": {},
     "output_type": "execute_result"
    }
   ],
   "source": [
    "arr4.cumsum()"
   ]
  },
  {
   "cell_type": "code",
   "execution_count": 134,
   "id": "5ea013cc",
   "metadata": {},
   "outputs": [
    {
     "data": {
      "text/plain": [
       "array([ 1,  2,  6, 24], dtype=int32)"
      ]
     },
     "execution_count": 134,
     "metadata": {},
     "output_type": "execute_result"
    }
   ],
   "source": [
    "arr4.cumprod()"
   ]
  },
  {
   "cell_type": "markdown",
   "id": "fb2da3bf",
   "metadata": {},
   "source": [
    "#### 행렬연산"
   ]
  },
  {
   "cell_type": "code",
   "execution_count": 148,
   "id": "a0404f89",
   "metadata": {},
   "outputs": [
    {
     "data": {
      "text/plain": [
       "array([[0, 1],\n",
       "       [2, 3]])"
      ]
     },
     "execution_count": 148,
     "metadata": {},
     "output_type": "execute_result"
    }
   ],
   "source": [
    "A = np.array([0,1,2,3]).reshape(2,2)\n",
    "A"
   ]
  },
  {
   "cell_type": "code",
   "execution_count": 214,
   "id": "a5c26323",
   "metadata": {
    "scrolled": false
   },
   "outputs": [
    {
     "data": {
      "text/plain": [
       "array([[3, 2],\n",
       "       [0, 1]])"
      ]
     },
     "execution_count": 214,
     "metadata": {},
     "output_type": "execute_result"
    }
   ],
   "source": [
    "B = np.array([3,2,0,1]).reshape(2,2)\n",
    "B"
   ]
  },
  {
   "cell_type": "markdown",
   "id": "bd87a7d5",
   "metadata": {},
   "source": [
    "행렬 곱(matrix product)   \n",
    "두 개의 행렬에서 한 개의 행렬을 만들어내는 이항연산"
   ]
  },
  {
   "cell_type": "code",
   "execution_count": 140,
   "id": "c75d3442",
   "metadata": {},
   "outputs": [
    {
     "data": {
      "text/plain": [
       "array([[0, 1],\n",
       "       [6, 7]])"
      ]
     },
     "execution_count": 140,
     "metadata": {},
     "output_type": "execute_result"
    }
   ],
   "source": [
    "A.dot(B)"
   ]
  },
  {
   "cell_type": "code",
   "execution_count": 142,
   "id": "3db4bedd",
   "metadata": {},
   "outputs": [
    {
     "data": {
      "text/plain": [
       "array([[0, 1],\n",
       "       [6, 7]])"
      ]
     },
     "execution_count": 142,
     "metadata": {},
     "output_type": "execute_result"
    }
   ],
   "source": [
    "np.dot(A,B)"
   ]
  },
  {
   "cell_type": "code",
   "execution_count": 210,
   "id": "d7918957",
   "metadata": {},
   "outputs": [
    {
     "data": {
      "text/plain": [
       "array([[4, 9],\n",
       "       [2, 3]])"
      ]
     },
     "execution_count": 210,
     "metadata": {},
     "output_type": "execute_result"
    }
   ],
   "source": [
    "B.dot(A) #어떤 게 기준이 되는지에 따라 값 달라"
   ]
  },
  {
   "cell_type": "markdown",
   "id": "e8a9576b",
   "metadata": {},
   "source": [
    "*** 직사각형 행렬 곱은 조금 달라"
   ]
  },
  {
   "cell_type": "code",
   "execution_count": 2,
   "id": "ce2bd779",
   "metadata": {
    "scrolled": true
   },
   "outputs": [
    {
     "data": {
      "text/plain": [
       "array([[0, 1, 2],\n",
       "       [3, 4, 5]])"
      ]
     },
     "execution_count": 2,
     "metadata": {},
     "output_type": "execute_result"
    }
   ],
   "source": [
    "import numpy as np\n",
    "A = np.array([0,1,2,3,4,5]).reshape(2,3)\n",
    "A"
   ]
  },
  {
   "cell_type": "code",
   "execution_count": 5,
   "id": "8efb69c6",
   "metadata": {
    "scrolled": false
   },
   "outputs": [
    {
     "data": {
      "text/plain": [
       "array([[3, 2],\n",
       "       [0, 1]])"
      ]
     },
     "execution_count": 5,
     "metadata": {},
     "output_type": "execute_result"
    }
   ],
   "source": [
    "B = np.array([3,2,0,1]).reshape(2,2)\n",
    "B"
   ]
  },
  {
   "cell_type": "code",
   "execution_count": 6,
   "id": "c186ca44",
   "metadata": {},
   "outputs": [
    {
     "ename": "ValueError",
     "evalue": "operands could not be broadcast together with shapes (2,3) (2,2) ",
     "output_type": "error",
     "traceback": [
      "\u001b[1;31m---------------------------------------------------------------------------\u001b[0m",
      "\u001b[1;31mValueError\u001b[0m                                Traceback (most recent call last)",
      "\u001b[1;32m~\\AppData\\Local\\Temp\\ipykernel_15660\\786576050.py\u001b[0m in \u001b[0;36m<module>\u001b[1;34m\u001b[0m\n\u001b[1;32m----> 1\u001b[1;33m \u001b[0mA\u001b[0m\u001b[1;33m*\u001b[0m\u001b[0mB\u001b[0m\u001b[1;33m\u001b[0m\u001b[1;33m\u001b[0m\u001b[0m\n\u001b[0m",
      "\u001b[1;31mValueError\u001b[0m: operands could not be broadcast together with shapes (2,3) (2,2) "
     ]
    }
   ],
   "source": [
    "A*B"
   ]
  },
  {
   "cell_type": "code",
   "execution_count": 211,
   "id": "7be1e417",
   "metadata": {},
   "outputs": [
    {
     "data": {
      "text/plain": [
       "array([[0, 1, 2],\n",
       "       [3, 4, 5]])"
      ]
     },
     "execution_count": 211,
     "metadata": {},
     "output_type": "execute_result"
    }
   ],
   "source": [
    "A = np.array([0,1,2,3,4,5]).reshape(2,3)\n",
    "A"
   ]
  },
  {
   "cell_type": "markdown",
   "id": "9a3ea129",
   "metadata": {},
   "source": [
    "전치행렬(transpose matrix)"
   ]
  },
  {
   "cell_type": "markdown",
   "id": "057d67e3",
   "metadata": {},
   "source": [
    "행과 열을 위치를 바꾸는 것(대각선을 기준으로 바꿔)"
   ]
  },
  {
   "cell_type": "code",
   "execution_count": 144,
   "id": "75709966",
   "metadata": {},
   "outputs": [
    {
     "data": {
      "text/plain": [
       "array([[0, 2],\n",
       "       [1, 3]])"
      ]
     },
     "execution_count": 144,
     "metadata": {},
     "output_type": "execute_result"
    }
   ],
   "source": [
    "np.transpose(A)"
   ]
  },
  {
   "cell_type": "code",
   "execution_count": 150,
   "id": "f40e7cc1",
   "metadata": {},
   "outputs": [
    {
     "data": {
      "text/plain": [
       "array([[0, 2],\n",
       "       [1, 3]])"
      ]
     },
     "execution_count": 150,
     "metadata": {},
     "output_type": "execute_result"
    }
   ],
   "source": [
    "A.transpose()"
   ]
  },
  {
   "cell_type": "markdown",
   "id": "9100ad41",
   "metadata": {},
   "source": [
    "역행렬(reverse matrix)"
   ]
  },
  {
   "cell_type": "markdown",
   "id": "6f1433b0",
   "metadata": {},
   "source": [
    "행렬의 곱셈에 대한 역원   \n",
    "#(단위행렬(1)이 되게 하는 값)"
   ]
  },
  {
   "cell_type": "code",
   "execution_count": 147,
   "id": "2f5e4747",
   "metadata": {},
   "outputs": [
    {
     "data": {
      "text/plain": [
       "array([[-1.5,  0.5],\n",
       "       [ 1. ,  0. ]])"
      ]
     },
     "execution_count": 147,
     "metadata": {},
     "output_type": "execute_result"
    }
   ],
   "source": [
    "np.linalg.inv(A)"
   ]
  },
  {
   "cell_type": "markdown",
   "id": "87cdab23",
   "metadata": {},
   "source": [
    "행렬식 (dterminant)"
   ]
  },
  {
   "cell_type": "markdown",
   "id": "8ac24362",
   "metadata": {},
   "source": [
    "1/ AD-BC (AD-BC가 0이면 안돼)"
   ]
  },
  {
   "cell_type": "markdown",
   "id": "7db82b24",
   "metadata": {},
   "source": [
    "행렬식의 값이 0인 경우에는 역행렬을 가질 수 없다."
   ]
  },
  {
   "cell_type": "code",
   "execution_count": 152,
   "id": "3be01d8d",
   "metadata": {},
   "outputs": [
    {
     "data": {
      "text/plain": [
       "-2.0"
      ]
     },
     "execution_count": 152,
     "metadata": {},
     "output_type": "execute_result"
    }
   ],
   "source": [
    "np.linalg.det(A)"
   ]
  },
  {
   "cell_type": "markdown",
   "id": "3913439d",
   "metadata": {},
   "source": [
    "### 배열의 인덱싱과 슬라이싱"
   ]
  },
  {
   "cell_type": "markdown",
   "id": "04770c6f",
   "metadata": {},
   "source": [
    "#### 배열의 인덱싱"
   ]
  },
  {
   "cell_type": "markdown",
   "id": "8176a13e",
   "metadata": {},
   "source": [
    "배열의 위치나 조건을 지정해 배열의 원소를 선택하는 것"
   ]
  },
  {
   "cell_type": "markdown",
   "id": "122d35be",
   "metadata": {},
   "source": [
    "배열명 [위치]"
   ]
  },
  {
   "cell_type": "code",
   "execution_count": 157,
   "id": "1f3ea48c",
   "metadata": {},
   "outputs": [
    {
     "data": {
      "text/plain": [
       "array([ 0, 10, 20, 30, 40, 50])"
      ]
     },
     "execution_count": 157,
     "metadata": {},
     "output_type": "execute_result"
    }
   ],
   "source": [
    "a1 = np.array([0,10,20,30,40,50])\n",
    "a1"
   ]
  },
  {
   "cell_type": "code",
   "execution_count": 158,
   "id": "726dc2f1",
   "metadata": {},
   "outputs": [
    {
     "data": {
      "text/plain": [
       "0"
      ]
     },
     "execution_count": 158,
     "metadata": {},
     "output_type": "execute_result"
    }
   ],
   "source": [
    "a1[0]"
   ]
  },
  {
   "cell_type": "code",
   "execution_count": 159,
   "id": "ee6d1e66",
   "metadata": {},
   "outputs": [
    {
     "data": {
      "text/plain": [
       "40"
      ]
     },
     "execution_count": 159,
     "metadata": {},
     "output_type": "execute_result"
    }
   ],
   "source": [
    "a1[4]"
   ]
  },
  {
   "cell_type": "markdown",
   "id": "e212b7b7",
   "metadata": {},
   "source": [
    "원소 변경하기"
   ]
  },
  {
   "cell_type": "code",
   "execution_count": 160,
   "id": "6b572684",
   "metadata": {},
   "outputs": [
    {
     "data": {
      "text/plain": [
       "array([ 0, 10, 20, 30, 40, 70])"
      ]
     },
     "execution_count": 160,
     "metadata": {},
     "output_type": "execute_result"
    }
   ],
   "source": [
    "a1[5] = 70\n",
    "a1"
   ]
  },
  {
   "cell_type": "markdown",
   "id": "d887c3a1",
   "metadata": {},
   "source": [
    "1차원 배열에서 여러개의 원소 선택하기"
   ]
  },
  {
   "cell_type": "code",
   "execution_count": 162,
   "id": "936861e4",
   "metadata": {},
   "outputs": [
    {
     "data": {
      "text/plain": [
       "array([10, 30, 40])"
      ]
     },
     "execution_count": 162,
     "metadata": {},
     "output_type": "execute_result"
    }
   ],
   "source": [
    "a1[[1,3,4]]"
   ]
  },
  {
   "cell_type": "markdown",
   "id": "446a30c2",
   "metadata": {},
   "source": [
    "2차원 배열 생성하기"
   ]
  },
  {
   "cell_type": "code",
   "execution_count": 163,
   "id": "06cc5cd7",
   "metadata": {},
   "outputs": [
    {
     "data": {
      "text/plain": [
       "array([[10, 20, 30],\n",
       "       [40, 50, 60],\n",
       "       [70, 80, 90]])"
      ]
     },
     "execution_count": 163,
     "metadata": {},
     "output_type": "execute_result"
    }
   ],
   "source": [
    "a2 = np.arange(10,100,10).reshape(3,3)\n",
    "a2"
   ]
  },
  {
   "cell_type": "code",
   "execution_count": 164,
   "id": "e148cbff",
   "metadata": {},
   "outputs": [
    {
     "data": {
      "text/plain": [
       "30"
      ]
     },
     "execution_count": 164,
     "metadata": {},
     "output_type": "execute_result"
    }
   ],
   "source": [
    "a2[0,2]"
   ]
  },
  {
   "cell_type": "code",
   "execution_count": 165,
   "id": "03563f93",
   "metadata": {},
   "outputs": [
    {
     "data": {
      "text/plain": [
       "60"
      ]
     },
     "execution_count": 165,
     "metadata": {},
     "output_type": "execute_result"
    }
   ],
   "source": [
    "a2[1,2]"
   ]
  },
  {
   "cell_type": "markdown",
   "id": "3753db1b",
   "metadata": {},
   "source": [
    "2차원에서 원소 값 변경"
   ]
  },
  {
   "cell_type": "code",
   "execution_count": 184,
   "id": "e5215be8",
   "metadata": {},
   "outputs": [
    {
     "data": {
      "text/plain": [
       "array([[10, 20, 30],\n",
       "       [47, 57, 67],\n",
       "       [70, 80, 95]])"
      ]
     },
     "execution_count": 184,
     "metadata": {},
     "output_type": "execute_result"
    }
   ],
   "source": [
    "a2[2,2] = 95\n",
    "a2"
   ]
  },
  {
   "cell_type": "markdown",
   "id": "e5045912",
   "metadata": {},
   "source": [
    "하나만 입력하면 행위치를 지정함"
   ]
  },
  {
   "cell_type": "code",
   "execution_count": 168,
   "id": "22192c41",
   "metadata": {},
   "outputs": [
    {
     "data": {
      "text/plain": [
       "array([40, 50, 60])"
      ]
     },
     "execution_count": 168,
     "metadata": {},
     "output_type": "execute_result"
    }
   ],
   "source": [
    "a2[1]"
   ]
  },
  {
   "cell_type": "markdown",
   "id": "b69fcb46",
   "metadata": {},
   "source": [
    "2차원에서 특정 행을 변경"
   ]
  },
  {
   "cell_type": "code",
   "execution_count": 173,
   "id": "9307cf83",
   "metadata": {},
   "outputs": [
    {
     "data": {
      "text/plain": [
       "array([[10, 20, 30],\n",
       "       [45, 55, 65],\n",
       "       [70, 80, 95]])"
      ]
     },
     "execution_count": 173,
     "metadata": {},
     "output_type": "execute_result"
    }
   ],
   "source": [
    "a2[1] = np.array([45,55,65]) #배열 지정해서 변경\n",
    "a2"
   ]
  },
  {
   "cell_type": "code",
   "execution_count": 181,
   "id": "1b6925c2",
   "metadata": {},
   "outputs": [
    {
     "data": {
      "text/plain": [
       "array([[10, 20, 30],\n",
       "       [47, 57, 67],\n",
       "       [70, 80, 95]])"
      ]
     },
     "execution_count": 181,
     "metadata": {},
     "output_type": "execute_result"
    }
   ],
   "source": [
    "a2[1] = [47,57,67] #리스트로 변경도 가능\n",
    "a2"
   ]
  },
  {
   "cell_type": "markdown",
   "id": "ec80046c",
   "metadata": {},
   "source": [
    "2차원 배열에서 여러 원소 선택하기   \n",
    "배열명 [행위치1, 행_위치2,..행위치[n]], [열_위치1, 열_위치2,...,열위치[n]]"
   ]
  },
  {
   "cell_type": "code",
   "execution_count": 184,
   "id": "a2e207bf",
   "metadata": {},
   "outputs": [
    {
     "data": {
      "text/plain": [
       "array([[10, 20, 30],\n",
       "       [47, 57, 67],\n",
       "       [70, 80, 95]])"
      ]
     },
     "execution_count": 184,
     "metadata": {},
     "output_type": "execute_result"
    }
   ],
   "source": [
    "a2[2,2] = 95\n",
    "a2"
   ]
  },
  {
   "cell_type": "code",
   "execution_count": 185,
   "id": "ab65bd0c",
   "metadata": {},
   "outputs": [
    {
     "data": {
      "text/plain": [
       "array([10, 80])"
      ]
     },
     "execution_count": 185,
     "metadata": {},
     "output_type": "execute_result"
    }
   ],
   "source": [
    "a2[[0,2],[0,1]]"
   ]
  },
  {
   "cell_type": "code",
   "execution_count": 189,
   "id": "199c3d7e",
   "metadata": {},
   "outputs": [
    {
     "data": {
      "text/plain": [
       "array([10, 95])"
      ]
     },
     "execution_count": 189,
     "metadata": {},
     "output_type": "execute_result"
    }
   ],
   "source": [
    "a2[[0,2],[0,2]]"
   ]
  },
  {
   "cell_type": "code",
   "execution_count": null,
   "id": "0c182969",
   "metadata": {},
   "outputs": [],
   "source": []
  },
  {
   "cell_type": "markdown",
   "id": "a9972448",
   "metadata": {},
   "source": [
    "배열 [조건]"
   ]
  },
  {
   "cell_type": "code",
   "execution_count": 179,
   "id": "08570a74",
   "metadata": {},
   "outputs": [
    {
     "data": {
      "text/plain": [
       "array([4, 5, 6])"
      ]
     },
     "execution_count": 179,
     "metadata": {},
     "output_type": "execute_result"
    }
   ],
   "source": [
    "a = np.array([1,2,3,4,5,6,0])\n",
    "a[a > 3] #value 값"
   ]
  },
  {
   "cell_type": "markdown",
   "id": "60564815",
   "metadata": {},
   "source": [
    "짝수만 출력"
   ]
  },
  {
   "cell_type": "code",
   "execution_count": 183,
   "id": "f2ae9090",
   "metadata": {},
   "outputs": [
    {
     "data": {
      "text/plain": [
       "array([2, 4, 6, 0])"
      ]
     },
     "execution_count": 183,
     "metadata": {},
     "output_type": "execute_result"
    }
   ],
   "source": [
    "a[(a % 2) == 0]"
   ]
  },
  {
   "cell_type": "markdown",
   "id": "3b34a85e",
   "metadata": {},
   "source": [
    "배열의 슬라이싱"
   ]
  },
  {
   "cell_type": "markdown",
   "id": "02f7b50e",
   "metadata": {},
   "source": [
    "범위를 지정해 배열의 일부분을 선택하는 슬라이싱   \n",
    "배열[시작:끝]"
   ]
  },
  {
   "cell_type": "code",
   "execution_count": 190,
   "id": "8c95bce5",
   "metadata": {},
   "outputs": [
    {
     "data": {
      "text/plain": [
       "array([10, 20, 30])"
      ]
     },
     "execution_count": 190,
     "metadata": {},
     "output_type": "execute_result"
    }
   ],
   "source": [
    "b1 = np.array([0,10,20,30,40,50])\n",
    "b1[1:4]"
   ]
  },
  {
   "cell_type": "code",
   "execution_count": 191,
   "id": "6a6201b8",
   "metadata": {},
   "outputs": [
    {
     "data": {
      "text/plain": [
       "array([ 0, 10, 20])"
      ]
     },
     "execution_count": 191,
     "metadata": {},
     "output_type": "execute_result"
    }
   ],
   "source": [
    "b1[:3]"
   ]
  },
  {
   "cell_type": "code",
   "execution_count": 192,
   "id": "c955a13f",
   "metadata": {},
   "outputs": [
    {
     "data": {
      "text/plain": [
       "array([20, 30, 40, 50])"
      ]
     },
     "execution_count": 192,
     "metadata": {},
     "output_type": "execute_result"
    }
   ],
   "source": [
    "b1[2:]"
   ]
  },
  {
   "cell_type": "markdown",
   "id": "73dc8b15",
   "metadata": {},
   "source": [
    "슬라이싱으로 원소 변경"
   ]
  },
  {
   "cell_type": "code",
   "execution_count": 193,
   "id": "d0789819",
   "metadata": {},
   "outputs": [
    {
     "data": {
      "text/plain": [
       "array([ 0, 10, 25, 35, 45, 50])"
      ]
     },
     "execution_count": 193,
     "metadata": {},
     "output_type": "execute_result"
    }
   ],
   "source": [
    "b1[2:5] = np.array([25,35,45])\n",
    "b1"
   ]
  },
  {
   "cell_type": "code",
   "execution_count": 195,
   "id": "efc8c88f",
   "metadata": {},
   "outputs": [
    {
     "data": {
      "text/plain": [
       "array([ 0, 10, 25, 60, 60, 60])"
      ]
     },
     "execution_count": 195,
     "metadata": {},
     "output_type": "execute_result"
    }
   ],
   "source": [
    "b1[3:6] = 60\n",
    "b1"
   ]
  },
  {
   "cell_type": "markdown",
   "id": "18b118a2",
   "metadata": {},
   "source": [
    "2차 배열에서의 슬라이싱"
   ]
  },
  {
   "cell_type": "code",
   "execution_count": 8,
   "id": "4660d4d5",
   "metadata": {},
   "outputs": [
    {
     "data": {
      "text/plain": [
       "array([[10, 20, 30],\n",
       "       [40, 50, 60],\n",
       "       [70, 80, 90]])"
      ]
     },
     "execution_count": 8,
     "metadata": {},
     "output_type": "execute_result"
    }
   ],
   "source": [
    "b2 = np.arange(10,100,10).reshape(3,3)\n",
    "b2"
   ]
  },
  {
   "cell_type": "markdown",
   "id": "c461c85c",
   "metadata": {},
   "source": [
    "배열[행시작: 행끝, 열시작: 열끝]"
   ]
  },
  {
   "cell_type": "code",
   "execution_count": 237,
   "id": "266d9511",
   "metadata": {},
   "outputs": [
    {
     "data": {
      "text/plain": [
       "array([[50, 60],\n",
       "       [80, 90]])"
      ]
     },
     "execution_count": 237,
     "metadata": {},
     "output_type": "execute_result"
    }
   ],
   "source": [
    "b2[1:3, 1:3]"
   ]
  },
  {
   "cell_type": "code",
   "execution_count": 199,
   "id": "e5032c24",
   "metadata": {},
   "outputs": [
    {
     "data": {
      "text/plain": [
       "array([[20, 30],\n",
       "       [50, 60],\n",
       "       [80, 90]])"
      ]
     },
     "execution_count": 199,
     "metadata": {},
     "output_type": "execute_result"
    }
   ],
   "source": [
    "b2[:3, 1:]"
   ]
  },
  {
   "cell_type": "markdown",
   "id": "61214fdf",
   "metadata": {},
   "source": [
    "행을 지정하고 열을 슬라이싱"
   ]
  },
  {
   "cell_type": "code",
   "execution_count": 200,
   "id": "d81511b3",
   "metadata": {},
   "outputs": [
    {
     "data": {
      "text/plain": [
       "array([40, 50])"
      ]
     },
     "execution_count": 200,
     "metadata": {},
     "output_type": "execute_result"
    }
   ],
   "source": [
    "b2[1][0:2]"
   ]
  },
  {
   "cell_type": "markdown",
   "id": "6e5c7987",
   "metadata": {},
   "source": [
    "슬라이싱 된 배열에 값 지정하기"
   ]
  },
  {
   "cell_type": "code",
   "execution_count": 9,
   "id": "181d60e6",
   "metadata": {},
   "outputs": [
    {
     "data": {
      "text/plain": [
       "array([[10, 25, 35],\n",
       "       [40, 55, 65],\n",
       "       [70, 80, 90]])"
      ]
     },
     "execution_count": 9,
     "metadata": {},
     "output_type": "execute_result"
    }
   ],
   "source": [
    "b2[0:2, 1:3] = np.array([[25,35], [55,65]])\n",
    "b2"
   ]
  },
  {
   "cell_type": "code",
   "execution_count": 265,
   "id": "4c6d3d94",
   "metadata": {},
   "outputs": [],
   "source": [
    "a = 2345\n",
    "b = str(a)"
   ]
  },
  {
   "cell_type": "code",
   "execution_count": 266,
   "id": "8ddc6103",
   "metadata": {},
   "outputs": [
    {
     "data": {
      "text/plain": [
       "'3'"
      ]
     },
     "execution_count": 266,
     "metadata": {},
     "output_type": "execute_result"
    }
   ],
   "source": [
    "b[1]"
   ]
  },
  {
   "cell_type": "code",
   "execution_count": 273,
   "id": "68f41a37",
   "metadata": {},
   "outputs": [],
   "source": [
    "a = 3,6,9"
   ]
  },
  {
   "cell_type": "code",
   "execution_count": 274,
   "id": "30d010c6",
   "metadata": {},
   "outputs": [
    {
     "data": {
      "text/plain": [
       "'(3, 6, 9)'"
      ]
     },
     "execution_count": 274,
     "metadata": {},
     "output_type": "execute_result"
    }
   ],
   "source": [
    "str(a)"
   ]
  },
  {
   "cell_type": "code",
   "execution_count": 276,
   "id": "379da952",
   "metadata": {},
   "outputs": [],
   "source": [
    "s = 'dfhela'"
   ]
  },
  {
   "cell_type": "code",
   "execution_count": 280,
   "id": "2dad2934",
   "metadata": {
    "scrolled": true
   },
   "outputs": [
    {
     "data": {
      "text/plain": [
       "'DFHELA'"
      ]
     },
     "execution_count": 280,
     "metadata": {},
     "output_type": "execute_result"
    }
   ],
   "source": [
    "s.upper()"
   ]
  },
  {
   "cell_type": "code",
   "execution_count": 283,
   "id": "77702e6f",
   "metadata": {},
   "outputs": [
    {
     "data": {
      "text/plain": [
       "range(0, 10)"
      ]
     },
     "execution_count": 283,
     "metadata": {},
     "output_type": "execute_result"
    }
   ],
   "source": [
    "range(10)"
   ]
  },
  {
   "cell_type": "code",
   "execution_count": null,
   "id": "70f581f1",
   "metadata": {},
   "outputs": [],
   "source": []
  }
 ],
 "metadata": {
  "kernelspec": {
   "display_name": "Python 3 (ipykernel)",
   "language": "python",
   "name": "python3"
  },
  "language_info": {
   "codemirror_mode": {
    "name": "ipython",
    "version": 3
   },
   "file_extension": ".py",
   "mimetype": "text/x-python",
   "name": "python",
   "nbconvert_exporter": "python",
   "pygments_lexer": "ipython3",
   "version": "3.9.13"
  }
 },
 "nbformat": 4,
 "nbformat_minor": 5
}
