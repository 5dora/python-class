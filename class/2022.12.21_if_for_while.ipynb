{
 "cells": [
  {
   "cell_type": "markdown",
   "id": "c8662c99",
   "metadata": {},
   "source": [
    "# 5장 제어문"
   ]
  },
  {
   "cell_type": "markdown",
   "id": "dd8ebfcb",
   "metadata": {},
   "source": [
    "## 5.1 조건에 따라 분기하는 if문"
   ]
  },
  {
   "cell_type": "markdown",
   "id": "ebbc048c",
   "metadata": {},
   "source": [
    "#### 1) 단일 조건에 따른 분기(if)"
   ]
  },
  {
   "cell_type": "markdown",
   "id": "a008400c",
   "metadata": {},
   "source": [
    "if <조건문>:\n",
    "\n",
    "    <코드블록>\n",
    "\n",
    "파이썬에서 콜론(:)과 들여쓰기로 코드의 구조를 결정한다.   \n",
    "스페이스바(4번) 또는 탭(Tab)으로 조절"
   ]
  },
  {
   "cell_type": "markdown",
   "id": "037f2fb9",
   "metadata": {},
   "source": [
    "링크는 ! "
   ]
  },
  {
   "cell_type": "markdown",
   "id": "57b9a7cb",
   "metadata": {},
   "source": [
    "*** 파이썬 줄맞춤 중요해 / 줄로 인식해 예쁘게 짜야함    \n",
    "if 조건문 :"
   ]
  },
  {
   "cell_type": "code",
   "execution_count": 2,
   "id": "964b1c56",
   "metadata": {},
   "outputs": [
    {
     "name": "stdout",
     "output_type": "stream",
     "text": [
      "pass\n"
     ]
    }
   ],
   "source": [
    "x = 95\n",
    "if x >= 90:\n",
    "    print(\"pass\")"
   ]
  },
  {
   "cell_type": "markdown",
   "id": "5aefa66b",
   "metadata": {},
   "source": [
    "#### 2) 단일 조건 및 그 외 조건에 따른 분기(if ~ else)"
   ]
  },
  {
   "cell_type": "markdown",
   "id": "aed89415",
   "metadata": {},
   "source": [
    "if<조건문>:   \n",
    "    <코드블록1>   \n",
    "else:   \n",
    "    <코드블록2>"
   ]
  },
  {
   "cell_type": "code",
   "execution_count": 4,
   "id": "05858d59",
   "metadata": {},
   "outputs": [
    {
     "name": "stdout",
     "output_type": "stream",
     "text": [
      "Fail\n"
     ]
    }
   ],
   "source": [
    "x = 75\n",
    "if x >= 90:\n",
    "    print(\"Pass\")\n",
    "else:\n",
    "    print(\"Fail\")"
   ]
  },
  {
   "cell_type": "markdown",
   "id": "1b493572",
   "metadata": {},
   "source": [
    "#### 3) 여러 조건에 따른 분기(if~ elif ~ else)"
   ]
  },
  {
   "cell_type": "markdown",
   "id": "8e9c9f6d",
   "metadata": {},
   "source": [
    "if<조건문1>:   \n",
    "    <코드블록1>\n",
    "    \n",
    "elif<조건문2>:   \n",
    "    <코드블록2>\n",
    "    \n",
    "elif<조건문3>:   \n",
    "    <코드블로3>   \n",
    "    .   \n",
    "    .   \n",
    "else:#생략가능   \n",
    "    <코드블록n>\n"
   ]
  },
  {
   "cell_type": "code",
   "execution_count": 7,
   "id": "fc1eb4da",
   "metadata": {},
   "outputs": [
    {
     "name": "stdout",
     "output_type": "stream",
     "text": [
      "Good\n"
     ]
    }
   ],
   "source": [
    "x = 85\n",
    "if x >= 90:\n",
    "    print(\"Very good\")\n",
    "elif (x >= 80) and (x < 90):\n",
    "    print(\"Good\")\n",
    "else:\n",
    "    print(\"Bad\")"
   ]
  },
  {
   "cell_type": "code",
   "execution_count": 10,
   "id": "41c9d824",
   "metadata": {},
   "outputs": [
    {
     "name": "stdout",
     "output_type": "stream",
     "text": [
      "Good\n"
     ]
    }
   ],
   "source": [
    "x = 85\n",
    "if x >= 90:\n",
    "    print(\"Very good\")\n",
    "elif (80 <= x < 90):\n",
    "    print(\"Good\")\n",
    "else:\n",
    "    print(\"Bad\")"
   ]
  },
  {
   "cell_type": "markdown",
   "id": "9f7aede8",
   "metadata": {},
   "source": [
    "#### 4) 중첩 조건에 따른 분기"
   ]
  },
  {
   "cell_type": "markdown",
   "id": "7f133ab1",
   "metadata": {},
   "source": [
    "if<조건문>:   \n",
    "    if<조건문1>:\n",
    "     <코드블록1>\n",
    "    \n",
    "elif<조건문2>:   \n",
    "    <코드블록2>\n",
    "      \n",
    "else:   \n",
    "    <코드블록3>"
   ]
  },
  {
   "cell_type": "code",
   "execution_count": 37,
   "id": "6ffb3543",
   "metadata": {},
   "outputs": [
    {
     "name": "stdout",
     "output_type": "stream",
     "text": [
      "Perfect\n"
     ]
    }
   ],
   "source": [
    "x = 100\n",
    "if x >= 90:\n",
    "    if x == 100:\n",
    "        print(\"Perfect\")\n",
    "    else:\n",
    "        print(\"Verygood\")\n",
    "elif(x >= 80) and (x < 90):\n",
    "    print(\"Good\")\n",
    "else:\n",
    "    print(\"Bad\")"
   ]
  },
  {
   "cell_type": "code",
   "execution_count": 13,
   "id": "e926a267",
   "metadata": {},
   "outputs": [
    {
     "name": "stdout",
     "output_type": "stream",
     "text": [
      "Bad\n"
     ]
    }
   ],
   "source": [
    "# 나중에 구현하고 싶을 때 Pass 활용\n",
    "x = 75\n",
    "if x >= 80:\n",
    "    pass\n",
    "else:\n",
    "    print(\"Bad\")"
   ]
  },
  {
   "cell_type": "markdown",
   "id": "4b14dd27",
   "metadata": {},
   "source": [
    "## 5.2 지정된 범위만큼 반복하는 for문"
   ]
  },
  {
   "cell_type": "markdown",
   "id": "c2f76292",
   "metadata": {},
   "source": [
    "#### 5.2-1) 반복문의 필요성"
   ]
  },
  {
   "cell_type": "code",
   "execution_count": 7,
   "id": "8cf31522",
   "metadata": {},
   "outputs": [
    {
     "name": "stdout",
     "output_type": "stream",
     "text": [
      "0\n",
      "1\n",
      "2\n",
      "3\n",
      "4\n",
      "5\n"
     ]
    }
   ],
   "source": [
    "a = 0 #변수 a를 0으로 초기화  ***변수 초기화!! *** 초기화 하지 않으면 계속 값 가지고 있어\n",
    "print(a) #변수 a 출력\n",
    "\n",
    "a = a + 1 #변수 a에 1을 더한 후 다시 a에 대입\n",
    "print(a)\n",
    "\n",
    "a = a + 1 #같은 코드 반복\n",
    "print(a)\n",
    "\n",
    "a = a + 1 #같은 코드 반복\n",
    "print(a)\n",
    "\n",
    "a = a + 1 #같은 코드 반복\n",
    "print(a)\n",
    "\n",
    "a = a + 1 #같은 코드 반복\n",
    "print(a)"
   ]
  },
  {
   "cell_type": "markdown",
   "id": "78c60e72",
   "metadata": {},
   "source": [
    "*** 코드 해석 오른쪽에서 왼쪽으로   \n"
   ]
  },
  {
   "cell_type": "markdown",
   "id": "5c997299",
   "metadata": {},
   "source": [
    "### for문의 구조"
   ]
  },
  {
   "cell_type": "markdown",
   "id": "8c144f64",
   "metadata": {},
   "source": [
    "** 반복 범위가 명확할 때 사용"
   ]
  },
  {
   "cell_type": "markdown",
   "id": "282f4998",
   "metadata": {},
   "source": [
    "for <반복변수> in <반복범위>:   \n",
    "    <코드블록>"
   ]
  },
  {
   "cell_type": "markdown",
   "id": "27964989",
   "metadata": {},
   "source": [
    "### 반복 범위 지정"
   ]
  },
  {
   "cell_type": "markdown",
   "id": "854386ed",
   "metadata": {},
   "source": [
    " **리스트의 개수만큼 실행!"
   ]
  },
  {
   "cell_type": "markdown",
   "id": "2f6b218c",
   "metadata": {},
   "source": [
    "#### 리스트 이용"
   ]
  },
  {
   "cell_type": "code",
   "execution_count": 41,
   "id": "4ebe05ae",
   "metadata": {},
   "outputs": [
    {
     "name": "stdout",
     "output_type": "stream",
     "text": [
      "0\n",
      "1\n",
      "2\n",
      "3\n",
      "4\n",
      "5\n"
     ]
    }
   ],
   "source": [
    "for a in [0,1,2,3,4,5]:\n",
    "    print(a)"
   ]
  },
  {
   "cell_type": "code",
   "execution_count": 44,
   "id": "d1813875",
   "metadata": {},
   "outputs": [
    {
     "name": "stdout",
     "output_type": "stream",
     "text": [
      "James\n",
      "Robert\n",
      "Lisa\n",
      "Mary\n"
     ]
    }
   ],
   "source": [
    "myFriends = ['James','Robert', 'Lisa', 'Mary'] #리스트를 변수에 할당\n",
    "for myFriend in myFriends:\n",
    "    print(myFriend)"
   ]
  },
  {
   "cell_type": "code",
   "execution_count": 45,
   "id": "e9ffd64d",
   "metadata": {},
   "outputs": [
    {
     "name": "stdout",
     "output_type": "stream",
     "text": [
      "James\n",
      "Robert\n",
      "Lisa\n",
      "Mary\n"
     ]
    }
   ],
   "source": [
    "myFriends = ['James','Robert', 'Lisa', 'Mary'] #리스트를 변수에 할당\n",
    "for a in myFriends:\n",
    "    print(a)"
   ]
  },
  {
   "cell_type": "markdown",
   "id": "f60e6b54",
   "metadata": {},
   "source": [
    "*** 아래로 적어야 해 옆으로 x / Print 함수에는 마지막에 엔터치는 함수가 숨어있어"
   ]
  },
  {
   "cell_type": "markdown",
   "id": "f5bad693",
   "metadata": {},
   "source": [
    "#### Range"
   ]
  },
  {
   "cell_type": "markdown",
   "id": "70339cde",
   "metadata": {},
   "source": [
    "range(start, stop, step)"
   ]
  },
  {
   "cell_type": "code",
   "execution_count": 64,
   "id": "1cb31c7a",
   "metadata": {},
   "outputs": [
    {
     "data": {
      "text/plain": [
       "range(0, 10)"
      ]
     },
     "execution_count": 64,
     "metadata": {},
     "output_type": "execute_result"
    }
   ],
   "source": [
    "print(range(0, 10, 1))"
   ]
  },
  {
   "cell_type": "markdown",
   "id": "202ce23e",
   "metadata": {},
   "source": [
    "출력 리스트 형태로!"
   ]
  },
  {
   "cell_type": "code",
   "execution_count": 66,
   "id": "d1341793",
   "metadata": {},
   "outputs": [
    {
     "name": "stdout",
     "output_type": "stream",
     "text": [
      "[0, 1, 2, 3, 4, 5, 6, 7, 8, 9]\n"
     ]
    }
   ],
   "source": [
    "print(list(range(0, 10, 1))) #stop은 미만!"
   ]
  },
  {
   "cell_type": "markdown",
   "id": "1112ba9e",
   "metadata": {},
   "source": [
    "반복문에 활용"
   ]
  },
  {
   "cell_type": "code",
   "execution_count": 71,
   "id": "4b61b124",
   "metadata": {},
   "outputs": [
    {
     "name": "stdout",
     "output_type": "stream",
     "text": [
      "0\n",
      "1\n",
      "2\n",
      "3\n",
      "4\n",
      "5\n"
     ]
    }
   ],
   "source": [
    "for a in range(0, 6, 1):\n",
    "    print(a)"
   ]
  },
  {
   "cell_type": "markdown",
   "id": "f11dbf3b",
   "metadata": {},
   "source": [
    "#### 생략가능"
   ]
  },
  {
   "cell_type": "code",
   "execution_count": 74,
   "id": "de6a6390",
   "metadata": {},
   "outputs": [
    {
     "name": "stdout",
     "output_type": "stream",
     "text": [
      "[0, 1, 2, 3, 4, 5, 6, 7, 8, 9]\n",
      "[0, 1, 2, 3, 4, 5, 6, 7, 8, 9]\n",
      "[0, 1, 2, 3, 4, 5, 6, 7, 8, 9]\n"
     ]
    }
   ],
   "source": [
    "print(list(range(0,10,1)))\n",
    "print(list(range(0,10)))\n",
    "print(list(range(10))) #***end 값은 정해줘야 해\n",
    "#print(list(range(,10,1))) 이렇게는 x 다 써야 해"
   ]
  },
  {
   "cell_type": "markdown",
   "id": "7b4e0695",
   "metadata": {},
   "source": [
    "#### 양수가 아니어도 가능"
   ]
  },
  {
   "cell_type": "code",
   "execution_count": 78,
   "id": "b908dce2",
   "metadata": {},
   "outputs": [
    {
     "name": "stdout",
     "output_type": "stream",
     "text": [
      "[0, 5, 10, 15]\n",
      "[-10, -8, -6, -4, -2]\n",
      "[3, 0, -3, -6, -9]\n"
     ]
    }
   ],
   "source": [
    "print(list(range(0,20,5)))\n",
    "print(list(range(-10,0,2)))\n",
    "print(list(range(3, -12, -3)))"
   ]
  },
  {
   "cell_type": "code",
   "execution_count": 79,
   "id": "c8336bb5",
   "metadata": {},
   "outputs": [
    {
     "name": "stdout",
     "output_type": "stream",
     "text": [
      "[]\n"
     ]
    }
   ],
   "source": [
    "print(list(range(0,-5,1))) #말이 안되면 빈값이 나와"
   ]
  },
  {
   "cell_type": "markdown",
   "id": "c47df7d3",
   "metadata": {},
   "source": [
    "### 중첩 for문"
   ]
  },
  {
   "cell_type": "markdown",
   "id": "81b0573b",
   "metadata": {},
   "source": [
    "for<반복변수1>in<반복범위1>:    \n",
    "   \n",
    "    for<반복변수2>in<반복범위2>:    \n",
    "    \n",
    "    <코드블록>\n",
    "    "
   ]
  },
  {
   "cell_type": "markdown",
   "id": "fe577d44",
   "metadata": {},
   "source": [
    "하나가 끝날 때까지 "
   ]
  },
  {
   "cell_type": "code",
   "execution_count": 87,
   "id": "d3ee2f82",
   "metadata": {},
   "outputs": [
    {
     "name": "stdout",
     "output_type": "stream",
     "text": [
      "x  y\n",
      "x1 y1\n",
      "x1 y2\n",
      "x2 y1\n",
      "x2 y2\n"
     ]
    }
   ],
   "source": [
    "x_list = [\"x1\", \"x2\"]\n",
    "y_list = [\"y1\", \"y2\"]\n",
    "\n",
    "print(\"x  y\")\n",
    "for x in x_list:\n",
    "    for y in y_list:\n",
    "        print(x,y)"
   ]
  },
  {
   "cell_type": "code",
   "execution_count": 84,
   "id": "a0e02c24",
   "metadata": {},
   "outputs": [
    {
     "name": "stdout",
     "output_type": "stream",
     "text": [
      "x1 y1 z1\n",
      "x1 y1 z2\n",
      "x1 y2 z1\n",
      "x1 y2 z2\n",
      "x2 y1 z1\n",
      "x2 y1 z2\n",
      "x2 y2 z1\n",
      "x2 y2 z2\n"
     ]
    }
   ],
   "source": [
    "x_list = [\"x1\", \"x2\"]\n",
    "y_list = [\"y1\", \"y2\"]\n",
    "z_list = [\"z1\", \"z2\"]\n",
    "\n",
    "for x in x_list:\n",
    "    for y in y_list:\n",
    "        for z in z_list:\n",
    "            print(x,y,z)"
   ]
  },
  {
   "cell_type": "markdown",
   "id": "294be900",
   "metadata": {},
   "source": [
    "x1, y1, z1\n",
    "x1, y1, z2\n",
    "x1, y2, z1\n",
    "x1, y2, z2\n",
    "x2, y1, z1\n",
    "x2, y1, z2\n",
    "x2, y2, z1\n",
    "x2, y2, z2"
   ]
  },
  {
   "cell_type": "markdown",
   "id": "40320add",
   "metadata": {},
   "source": [
    "### 여러 개의 리스트 다루기"
   ]
  },
  {
   "cell_type": "code",
   "execution_count": 7,
   "id": "c591faa1",
   "metadata": {},
   "outputs": [],
   "source": [
    "names = ['James', 'Robert', 'Lisa', 'Mary'] \n",
    "scores = [95, 96, 97, 94]"
   ]
  },
  {
   "cell_type": "code",
   "execution_count": 8,
   "id": "2e460c0b",
   "metadata": {
    "scrolled": true
   },
   "outputs": [
    {
     "name": "stdout",
     "output_type": "stream",
     "text": [
      "James 95\n",
      "Robert 96\n",
      "Lisa 97\n",
      "Mary 94\n"
     ]
    }
   ],
   "source": [
    "for k in range(len(names)): #len 리스트의 길이를 알아낸다(리스트 몇 개?)\n",
    "    print(names[k],scores[k])"
   ]
  },
  {
   "cell_type": "code",
   "execution_count": 91,
   "id": "6d7a7b15",
   "metadata": {},
   "outputs": [
    {
     "data": {
      "text/plain": [
       "4"
      ]
     },
     "execution_count": 91,
     "metadata": {},
     "output_type": "execute_result"
    }
   ],
   "source": [
    "len(['James', 'Robert', 'Lisa', 'Mary'])"
   ]
  },
  {
   "cell_type": "code",
   "execution_count": 21,
   "id": "5a228e66",
   "metadata": {},
   "outputs": [
    {
     "name": "stdout",
     "output_type": "stream",
     "text": [
      "James 95\n",
      "Robert 96\n",
      "Lisa 97\n",
      "Mary 94\n"
     ]
    }
   ],
   "source": [
    "for name, score in zip(names, scores):  #zip 같은 길이의 데이터끼리 묶어준다.\n",
    "    print(name,score)"
   ]
  },
  {
   "cell_type": "code",
   "execution_count": 9,
   "id": "83a6a10d",
   "metadata": {},
   "outputs": [
    {
     "name": "stdout",
     "output_type": "stream",
     "text": [
      "<zip object at 0x0000018C37C53840>\n"
     ]
    }
   ],
   "source": [
    "a = zip(names, scores)\n",
    "print(a)"
   ]
  },
  {
   "cell_type": "code",
   "execution_count": 13,
   "id": "0c2abfc5",
   "metadata": {},
   "outputs": [
    {
     "name": "stdout",
     "output_type": "stream",
     "text": [
      "<zip object at 0x00000240C6344F00>\n"
     ]
    },
    {
     "data": {
      "text/plain": [
       "2477226479360"
      ]
     },
     "execution_count": 13,
     "metadata": {},
     "output_type": "execute_result"
    }
   ],
   "source": [
    "a = zip(names, scores)\n",
    "print(a)\n",
    "id(a)"
   ]
  },
  {
   "cell_type": "code",
   "execution_count": 22,
   "id": "598a564e",
   "metadata": {},
   "outputs": [
    {
     "name": "stdout",
     "output_type": "stream",
     "text": [
      "[('James', 95), ('Robert', 96), ('Lisa', 97), ('Mary', 94)]\n"
     ]
    }
   ],
   "source": [
    "a = zip(names, scores)\n",
    "print(list(zip(names, scores)))"
   ]
  },
  {
   "cell_type": "markdown",
   "id": "641a04b3",
   "metadata": {},
   "source": [
    "zip은 아예 새로운 공간을 만들어줘, 짧은 개수 기준으로 만들어줘서 실행에 문제x   \n",
    "출력된다고 해서 다가 아니야"
   ]
  },
  {
   "cell_type": "markdown",
   "id": "05dbe2e0",
   "metadata": {},
   "source": [
    "## 5.3 조건에 따라 반복하는 while문"
   ]
  },
  {
   "cell_type": "markdown",
   "id": "934cda1f",
   "metadata": {},
   "source": [
    "### while문의 구조"
   ]
  },
  {
   "cell_type": "markdown",
   "id": "182afb23",
   "metadata": {},
   "source": [
    "참이면 계속 돌아가/ 조건에서 벗어나면 멈춰   \n",
    "ex)게임에서 언제 죽을지 모를 때"
   ]
  },
  {
   "cell_type": "code",
   "execution_count": 26,
   "id": "d5d1f0b1",
   "metadata": {},
   "outputs": [
    {
     "name": "stdout",
     "output_type": "stream",
     "text": [
      "1 1\n",
      "2 3\n",
      "3 6\n",
      "4 10\n",
      "5 15\n",
      "6 21\n"
     ]
    }
   ],
   "source": [
    "i = 0\n",
    "sum = 0\n",
    "\n",
    "while sum<20:\n",
    "    i = i + 1\n",
    "    sum = sum + i\n",
    "    print(i,sum)"
   ]
  },
  {
   "cell_type": "markdown",
   "id": "5c76effb",
   "metadata": {},
   "source": [
    "무한루프: true이면 계속  \n",
    "\n",
    "while True:\n",
    " print('while test')"
   ]
  },
  {
   "cell_type": "markdown",
   "id": "e0519e65",
   "metadata": {},
   "source": [
    "## 5.4 반복문을 제어하는 break와 continue"
   ]
  },
  {
   "cell_type": "markdown",
   "id": "9eae1b4e",
   "metadata": {},
   "source": [
    "#### 반복문을 빠져나오는 break"
   ]
  },
  {
   "cell_type": "code",
   "execution_count": 28,
   "id": "2f4efec7",
   "metadata": {},
   "outputs": [
    {
     "name": "stdout",
     "output_type": "stream",
     "text": [
      "1\n",
      "2\n",
      "3\n"
     ]
    }
   ],
   "source": [
    "k = 0\n",
    "while True:\n",
    "    k = k + 1\n",
    "    \n",
    "    if(k>3):\n",
    "        break\n",
    "    \n",
    "    print(k)"
   ]
  },
  {
   "cell_type": "markdown",
   "id": "b4d6a799",
   "metadata": {},
   "source": [
    "* 반복 끝나버려"
   ]
  },
  {
   "cell_type": "markdown",
   "id": "a993bb5c",
   "metadata": {},
   "source": [
    "for문에서도 사용가능 조건이 있을 때"
   ]
  },
  {
   "cell_type": "code",
   "execution_count": 34,
   "id": "86d9914a",
   "metadata": {},
   "outputs": [
    {
     "name": "stdout",
     "output_type": "stream",
     "text": [
      "0\n",
      "1\n",
      "2\n"
     ]
    }
   ],
   "source": [
    "for k in range(10): #range는 list 형태로 출력\n",
    "    if(k>2):\n",
    "        break\n",
    "    \n",
    "    print(k)"
   ]
  },
  {
   "cell_type": "markdown",
   "id": "6e09149f",
   "metadata": {},
   "source": [
    "#### 다음 반복을 실행하는 continue"
   ]
  },
  {
   "cell_type": "code",
   "execution_count": 33,
   "id": "b1eff07f",
   "metadata": {},
   "outputs": [
    {
     "name": "stdout",
     "output_type": "stream",
     "text": [
      "0\n",
      "1\n",
      "3\n",
      "4\n"
     ]
    }
   ],
   "source": [
    "for k in range(5):\n",
    "    if(k == 2):\n",
    "        continue\n",
    "        \n",
    "    print(k)"
   ]
  },
  {
   "cell_type": "markdown",
   "id": "1ed8eed5",
   "metadata": {},
   "source": [
    "* 반복을 끝내고 싶지는 않은데 해당 조건만 빼고 나오게   \n",
    "조건에 걸리면 다음거로 넘어가"
   ]
  },
  {
   "cell_type": "code",
   "execution_count": 40,
   "id": "decf1ab4",
   "metadata": {},
   "outputs": [
    {
     "name": "stdout",
     "output_type": "stream",
     "text": [
      "1\n",
      "continue next\n",
      "3\n",
      "4\n"
     ]
    }
   ],
   "source": [
    "k = 0\n",
    "while True:\n",
    "    k = k + 1\n",
    "    \n",
    "    if(k == 2):\n",
    "        print(\"continue next\")\n",
    "        continue\n",
    "    if(k > 4):\n",
    "        break\n",
    "        \n",
    "    print(k)"
   ]
  },
  {
   "cell_type": "markdown",
   "id": "14e56986",
   "metadata": {},
   "source": [
    "## 5.5 간단하게 반복하는 한 줄 for문"
   ]
  },
  {
   "cell_type": "markdown",
   "id": "d424c829",
   "metadata": {},
   "source": [
    "#### 컴프리헨션(comprehension)의 기본구조"
   ]
  },
  {
   "cell_type": "markdown",
   "id": "e15d7bb5",
   "metadata": {},
   "source": [
    "(파이썬에서만 가능 웬만해서x)"
   ]
  },
  {
   "cell_type": "code",
   "execution_count": 41,
   "id": "7c08840f",
   "metadata": {},
   "outputs": [
    {
     "name": "stdout",
     "output_type": "stream",
     "text": [
      "[1, 4, 9, 16, 25]\n"
     ]
    }
   ],
   "source": [
    "numbers = [1,2,3,4,5]\n",
    "square = []\n",
    "\n",
    "for i in numbers:\n",
    "    square.append(i**2)\n",
    "\n",
    "print(square)"
   ]
  },
  {
   "cell_type": "markdown",
   "id": "3837069a",
   "metadata": {},
   "source": [
    "[<반복실행문> for <반복변수> in <반복범위>]"
   ]
  },
  {
   "cell_type": "code",
   "execution_count": 42,
   "id": "22f2f2f4",
   "metadata": {},
   "outputs": [
    {
     "name": "stdout",
     "output_type": "stream",
     "text": [
      "[1, 4, 9, 16, 25]\n"
     ]
    }
   ],
   "source": [
    "numbers = [1,2,3,4,5]\n",
    "square = [i**2 for i in numbers]\n",
    "print(square)"
   ]
  },
  {
   "cell_type": "code",
   "execution_count": 43,
   "id": "c68d4701",
   "metadata": {},
   "outputs": [
    {
     "name": "stdout",
     "output_type": "stream",
     "text": [
      "[9, 16, 25]\n"
     ]
    }
   ],
   "source": [
    "numbers = [1,2,3,4,5]\n",
    "square = []\n",
    "\n",
    "for i in numbers:\n",
    "    if i >= 3:\n",
    "        square.append(i**2)\n",
    "\n",
    "print(square)"
   ]
  },
  {
   "cell_type": "markdown",
   "id": "71543c0a",
   "metadata": {},
   "source": [
    "[<반복실행문> for <반복변수> in <반복범위>if<조건문>]"
   ]
  },
  {
   "cell_type": "code",
   "execution_count": 44,
   "id": "b5e2f4ea",
   "metadata": {},
   "outputs": [
    {
     "name": "stdout",
     "output_type": "stream",
     "text": [
      "[9, 16, 25]\n"
     ]
    }
   ],
   "source": [
    "numbers = [1,2,3,4,5]\n",
    "square = [i**2 for i in numbers if i >=3]\n",
    "print(square)"
   ]
  },
  {
   "cell_type": "code",
   "execution_count": 46,
   "id": "e3ff38a5",
   "metadata": {},
   "outputs": [
    {
     "ename": "SyntaxError",
     "evalue": "invalid syntax (3998386317.py, line 5)",
     "output_type": "error",
     "traceback": [
      "\u001b[1;36m  File \u001b[1;32m\"C:\\Users\\Playdata\\AppData\\Local\\Temp\\ipykernel_14480\\3998386317.py\"\u001b[1;36m, line \u001b[1;32m5\u001b[0m\n\u001b[1;33m    else n%7 > 0:\u001b[0m\n\u001b[1;37m         ^\u001b[0m\n\u001b[1;31mSyntaxError\u001b[0m\u001b[1;31m:\u001b[0m invalid syntax\n"
     ]
    }
   ],
   "source": [
    "def solution(n):\n",
    "    \n",
    "    if n%7 == 0:\n",
    "        answer = n//7\n",
    "    else n%7 > 0:\n",
    "        answer = n//7 + 1\n",
    "    return answer"
   ]
  },
  {
   "cell_type": "code",
   "execution_count": 48,
   "id": "c664a1ea",
   "metadata": {},
   "outputs": [
    {
     "data": {
      "text/plain": [
       "2"
      ]
     },
     "execution_count": 48,
     "metadata": {},
     "output_type": "execute_result"
    }
   ],
   "source": [
    "int(13/7) + 1"
   ]
  }
 ],
 "metadata": {
  "kernelspec": {
   "display_name": "Python 3 (ipykernel)",
   "language": "python",
   "name": "python3"
  },
  "language_info": {
   "codemirror_mode": {
    "name": "ipython",
    "version": 3
   },
   "file_extension": ".py",
   "mimetype": "text/x-python",
   "name": "python",
   "nbconvert_exporter": "python",
   "pygments_lexer": "ipython3",
   "version": "3.9.13"
  }
 },
 "nbformat": 4,
 "nbformat_minor": 5
}
