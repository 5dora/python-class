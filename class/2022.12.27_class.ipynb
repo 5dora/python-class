{
 "cells": [
  {
   "cell_type": "markdown",
   "id": "f60c9850",
   "metadata": {},
   "source": [
    "# 8장 객체와 클래스"
   ]
  },
  {
   "cell_type": "markdown",
   "id": "8fecf1af",
   "metadata": {},
   "source": [
    "## 8.1 클래스 선언과 객체 생성"
   ]
  },
  {
   "cell_type": "markdown",
   "id": "1944c33c",
   "metadata": {},
   "source": [
    "##### 객체란?   \n",
    "#### 속성과 행위로 구성된 대상을 의미함   \n",
    "속성 = 상태, 특징   \n",
    "행위 = 행동, 동작, 기능   "
   ]
  },
  {
   "cell_type": "markdown",
   "id": "8ef45d19",
   "metadata": {},
   "source": [
    "#### 객체는 변수와 함수의 묶음   \n",
    " ex)\n",
    "       객체 = 사람   \n",
    "       변수 = 키, 몸무게, 이름   \n",
    "       함수 = 걷기 ,뛰기"
   ]
  },
  {
   "cell_type": "markdown",
   "id": "a7de3b63",
   "metadata": {},
   "source": [
    "클래스를 쓸 때 함수 쓰려면 self 필요"
   ]
  },
  {
   "cell_type": "markdown",
   "id": "41823afc",
   "metadata": {},
   "source": [
    "#### 클래스 선언"
   ]
  },
  {
   "cell_type": "markdown",
   "id": "34684423",
   "metadata": {},
   "source": [
    "class 클래스명():   \n",
    "\n",
    "    [변수1] #클래스 변수   \n",
    "    [변수2]\n",
    "    ...\n",
    "    \n",
    "    def 함수1(self, 인자1, 인자2): #클래스 함수\n",
    "        \n",
    "        <코드 블록>\n",
    "        ...\n",
    "        \n",
    "    def 함수2(self, 인자1, 인자2):\n",
    "        <코드 블록>\n",
    "        ..."
   ]
  },
  {
   "cell_type": "markdown",
   "id": "e74c934a",
   "metadata": {},
   "source": [
    "#### 객체 생성 및 활용"
   ]
  },
  {
   "cell_type": "code",
   "execution_count": 11,
   "id": "0c883204",
   "metadata": {},
   "outputs": [],
   "source": [
    "class Bicycle(): #클래스 선언 (*** 맨 앞 대문자로 시작)\n",
    "    pass"
   ]
  },
  {
   "cell_type": "markdown",
   "id": "6d7d4f69",
   "metadata": {},
   "source": [
    "#### 클래스로부터 인스턴스(instance)인 객체를 선언"
   ]
  },
  {
   "cell_type": "markdown",
   "id": "45bf106c",
   "metadata": {},
   "source": [
    "ex) 붕어빵틀(클래스) / 붕어빵(객체)   \n",
    "붕어빵은 객체 , 붕어빵은 붕어빵 틀의 인스턴스 "
   ]
  },
  {
   "cell_type": "markdown",
   "id": "79a460cf",
   "metadata": {},
   "source": [
    "객체명 = 클래스명()"
   ]
  },
  {
   "cell_type": "code",
   "execution_count": 7,
   "id": "91a54539",
   "metadata": {},
   "outputs": [],
   "source": [
    "my_bicycle = Bicycle()"
   ]
  },
  {
   "cell_type": "code",
   "execution_count": 8,
   "id": "ddc3a7ce",
   "metadata": {},
   "outputs": [
    {
     "data": {
      "text/plain": [
       "<__main__.Bicycle at 0x1650b08f8e0>"
      ]
     },
     "execution_count": 8,
     "metadata": {},
     "output_type": "execute_result"
    }
   ],
   "source": [
    "my_bicycle"
   ]
  },
  {
   "cell_type": "markdown",
   "id": "ecbe651f",
   "metadata": {},
   "source": [
    "#### 객체에 속성을 추가하기"
   ]
  },
  {
   "cell_type": "markdown",
   "id": "a6668ba5",
   "metadata": {},
   "source": [
    "객체명.변수명 = 속성값"
   ]
  },
  {
   "cell_type": "code",
   "execution_count": 12,
   "id": "1446d3aa",
   "metadata": {},
   "outputs": [],
   "source": [
    "my_bicycle.wheel_size = 26 #객체 안에 변수명 선언\n",
    "my_bicycle.color = 'black'"
   ]
  },
  {
   "cell_type": "code",
   "execution_count": 13,
   "id": "4d1a1232",
   "metadata": {},
   "outputs": [
    {
     "name": "stdout",
     "output_type": "stream",
     "text": [
      "바퀴크기: 26\n",
      "색상: black\n"
     ]
    }
   ],
   "source": [
    "print(\"바퀴크기:\", my_bicycle.wheel_size) #객체의 속성 출력\n",
    "print(\"색상:\", my_bicycle.color)"
   ]
  },
  {
   "cell_type": "markdown",
   "id": "64055c96",
   "metadata": {},
   "source": [
    "함수 추가"
   ]
  },
  {
   "cell_type": "code",
   "execution_count": 23,
   "id": "37fb6583",
   "metadata": {},
   "outputs": [],
   "source": [
    "class Bicycle():\n",
    "    \n",
    "    def move(self, speed):\n",
    "        print(\"자전거: 시속 {0}킬로미터로 전진\".format(speed))\n",
    "    \n",
    "    def turn(self, direction):\n",
    "        print(\"자전거: {0}회전\".format(direction))\n",
    "    \n",
    "    def stop(self):\n",
    "        print(\"자전거({0}, {1}): 정지\".format(self.wheel_size, self.color))"
   ]
  },
  {
   "cell_type": "markdown",
   "id": "f22db388",
   "metadata": {},
   "source": [
    "객체의 매서드를 호출"
   ]
  },
  {
   "cell_type": "markdown",
   "id": "8533e3a7",
   "metadata": {},
   "source": [
    "객체명.메서드명(인자1, 인자2...)"
   ]
  },
  {
   "cell_type": "code",
   "execution_count": 24,
   "id": "1dff9ced",
   "metadata": {},
   "outputs": [
    {
     "name": "stdout",
     "output_type": "stream",
     "text": [
      "자전거: 시속 30킬로미터로 전진\n",
      "자전거: 좌회전\n",
      "자전거(26, black): 정지\n"
     ]
    }
   ],
   "source": [
    "my_bicycle = Bicycle() #Bicycle 클래스의 인스턴스인 my_bicycle 객체 생성\n",
    "\n",
    "my_bicycle.wheel_size = 26 #객체의 속성 설정\n",
    "my_bicycle.color = 'black'\n",
    "\n",
    "my_bicycle.move(30) #객체의 매서드 호출\n",
    "my_bicycle.turn('좌')\n",
    "my_bicycle.stop()"
   ]
  },
  {
   "cell_type": "code",
   "execution_count": 26,
   "id": "7f2f5529",
   "metadata": {},
   "outputs": [
    {
     "name": "stdout",
     "output_type": "stream",
     "text": [
      "자전거: 시속 20킬로미터로 전진\n",
      "자전거: 좌회전\n",
      "자전거(27, red): 정지\n"
     ]
    }
   ],
   "source": [
    "my_bicycle1 = Bicycle() #Bicycle 클래스의 인스턴스인 my_bicycle 객체 생성\n",
    "\n",
    "my_bicycle1.wheel_size = 27 #객체의 속성 설정\n",
    "my_bicycle1.color = 'red'\n",
    "\n",
    "my_bicycle1.move(20) #객체의 매서드 호출\n",
    "my_bicycle1.turn('좌')\n",
    "my_bicycle1.stop()"
   ]
  },
  {
   "cell_type": "code",
   "execution_count": 27,
   "id": "39b255d3",
   "metadata": {},
   "outputs": [
    {
     "name": "stdout",
     "output_type": "stream",
     "text": [
      "자전거: 시속 15킬로미터로 전진\n",
      "자전거: 우회전\n",
      "자전거(24, blue): 정지\n"
     ]
    }
   ],
   "source": [
    "my_bicycle2 = Bicycle() #Bicycle 클래스의 인스턴스인 my_bicycle 객체 생성\n",
    "\n",
    "my_bicycle2.wheel_size = 24 #객체의 속성 설정\n",
    "my_bicycle2.color = 'blue'\n",
    "\n",
    "my_bicycle2.move(15) #객체의 매서드 호출\n",
    "my_bicycle2.turn('우')\n",
    "my_bicycle2.stop()"
   ]
  },
  {
   "cell_type": "markdown",
   "id": "0b801793",
   "metadata": {},
   "source": [
    "#### 객체 초기화"
   ]
  },
  {
   "cell_type": "markdown",
   "id": "6deb053d",
   "metadata": {},
   "source": [
    "##### init"
   ]
  },
  {
   "cell_type": "markdown",
   "id": "8328de2b",
   "metadata": {},
   "source": [
    "객체를 생성하는 것과 동시에 속성값을 지정할 수 있다.\n",
    "생성될 때 자동으로 실행되기 때문에 속성을 초기화 할 수 있다."
   ]
  },
  {
   "cell_type": "markdown",
   "id": "3c5a25e9",
   "metadata": {},
   "source": [
    "어디에 놔두어도 제일 먼저 실행   \n",
    "룰은 제일 위에 작성하기!   \n",
    "\n",
    "그 값을 먼저 변환시켜주고 시작해"
   ]
  },
  {
   "cell_type": "code",
   "execution_count": 32,
   "id": "1b713489",
   "metadata": {},
   "outputs": [],
   "source": [
    "class Bicycle():\n",
    "    \n",
    "    def __init__(self, wheel_size, color):\n",
    "        self.wheel_size = wheel_size\n",
    "        self.color = color\n",
    "        \n",
    "    def move(self, speed):\n",
    "        print(\"자전거: 시속 {0}킬로미터로 전진\".format(speed))\n",
    "        \n",
    "    def turn(self, direction):\n",
    "        print(\"자전거: {0}회전\".format(direction))\n",
    "        \n",
    "    def stop(self):\n",
    "        print(\"자전거({0}, {1}): 정지\".format(self.wheel_size, self.color))"
   ]
  },
  {
   "cell_type": "code",
   "execution_count": 34,
   "id": "81f98713",
   "metadata": {},
   "outputs": [
    {
     "name": "stdout",
     "output_type": "stream",
     "text": [
      "자전거: 시속 30킬로미터로 전진\n",
      "자전거: 좌회전\n",
      "자전거(26, black): 정지\n"
     ]
    }
   ],
   "source": [
    "my_bicycle = Bicycle(26, 'black')\n",
    "\n",
    "my_bicycle.move(30)\n",
    "my_bicycle.turn('좌')\n",
    "my_bicycle.stop()"
   ]
  },
  {
   "cell_type": "code",
   "execution_count": 35,
   "id": "f9c61349",
   "metadata": {},
   "outputs": [
    {
     "name": "stdout",
     "output_type": "stream",
     "text": [
      "자전거: 시속 26킬로미터로 전진\n",
      "자전거: 좌회전\n",
      "자전거(24, red): 정지\n"
     ]
    }
   ],
   "source": [
    "my_bicycle = Bicycle(24, 'red')\n",
    "\n",
    "my_bicycle.move(26)\n",
    "my_bicycle.turn('좌')\n",
    "my_bicycle.stop()"
   ]
  },
  {
   "cell_type": "markdown",
   "id": "29d19e2a",
   "metadata": {},
   "source": [
    "### 8.2 클래스"
   ]
  },
  {
   "cell_type": "markdown",
   "id": "883582d2",
   "metadata": {},
   "source": [
    "클래스에서 사용하는 변수"
   ]
  },
  {
   "cell_type": "code",
   "execution_count": 4,
   "id": "ceb560a2",
   "metadata": {},
   "outputs": [],
   "source": [
    "class Car():\n",
    "    instance_count = 0\n",
    "    \n",
    "    def __init__(self, size, color):\n",
    "        self.size = size\n",
    "        self.color = color\n",
    "        Car.instance_count = Car.instance_count + 1\n",
    "        print(\"자동차 객체의 수: {0}\".format(Car.instance_count))\n",
    "        \n",
    "    def move(self):\n",
    "        print(\"자동차({0} & {1})가 움직입니다.\".format(self.size, self.color))"
   ]
  },
  {
   "cell_type": "code",
   "execution_count": 5,
   "id": "423870db",
   "metadata": {},
   "outputs": [
    {
     "name": "stdout",
     "output_type": "stream",
     "text": [
      "자동차 객체의 수: 1\n",
      "자동차 객체의 수: 2\n"
     ]
    }
   ],
   "source": [
    "car1 = Car('small', 'white')\n",
    "car2 = Car('big', 'black')"
   ]
  },
  {
   "cell_type": "markdown",
   "id": "6e205eb7",
   "metadata": {},
   "source": [
    "클래스명.변수명으로 언제든 호출"
   ]
  },
  {
   "cell_type": "code",
   "execution_count": 6,
   "id": "1a780c52",
   "metadata": {},
   "outputs": [
    {
     "name": "stdout",
     "output_type": "stream",
     "text": [
      "Car 클래스의 총 인스턴스 개수:2\n"
     ]
    }
   ],
   "source": [
    "print(\"Car 클래스의 총 인스턴스 개수:{}\".format(Car.instance_count))"
   ]
  },
  {
   "cell_type": "markdown",
   "id": "784874be",
   "metadata": {},
   "source": [
    "모든 객체에서 공통으로 사용"
   ]
  },
  {
   "cell_type": "code",
   "execution_count": 7,
   "id": "7058e0f1",
   "metadata": {},
   "outputs": [
    {
     "name": "stdout",
     "output_type": "stream",
     "text": [
      "Car 클래스의 총 인스턴스 개수:2\n",
      "Car 클래스의 총 인스턴스 개수:2\n"
     ]
    }
   ],
   "source": [
    "print(\"Car 클래스의 총 인스턴스 개수:{}\".format(car1.instance_count))\n",
    "print(\"Car 클래스의 총 인스턴스 개수:{}\".format(car2.instance_count))"
   ]
  },
  {
   "cell_type": "code",
   "execution_count": 8,
   "id": "1a108ab9",
   "metadata": {},
   "outputs": [],
   "source": [
    "#클래스를 인스턴스화 해서 생긴 객체 모두 사용 가능   \n",
    "# car1은 Car라는 클래스를 가지고 있는 거야 instance인 car1도 사용o"
   ]
  },
  {
   "cell_type": "markdown",
   "id": "59c44df0",
   "metadata": {},
   "source": [
    "인스턴스 변수는 각 객체에서 별도로 관리된다"
   ]
  },
  {
   "cell_type": "code",
   "execution_count": 9,
   "id": "9008710c",
   "metadata": {},
   "outputs": [
    {
     "name": "stdout",
     "output_type": "stream",
     "text": [
      "자동차(small & white)가 움직입니다.\n",
      "자동차(big & black)가 움직입니다.\n"
     ]
    }
   ],
   "source": [
    "car1.move()\n",
    "car2.move()"
   ]
  },
  {
   "cell_type": "markdown",
   "id": "745427fb",
   "metadata": {},
   "source": [
    "이름이 같은 클래스 변수와 인스턴스 변수의 경우"
   ]
  },
  {
   "cell_type": "code",
   "execution_count": 10,
   "id": "46b26193",
   "metadata": {},
   "outputs": [],
   "source": [
    "class Car2():\n",
    "    count = 0 #클래스 생성 및 초기화\n",
    "    \n",
    "    def __init__(self, size, num):\n",
    "        self.size = size #인스턴스 변수 생성 및 초기화\n",
    "        self.count = num\n",
    "        Car2.count = Car2.count + 1 #클래스 변수 이용\n",
    "        print(\"자동차 객체의 수: Car2.count={0}\".format(Car2.count))\n",
    "        print(\"인스턴스 변수 초기화: self.count = {0}\".format(self.count))\n",
    "        \n",
    "    def move(self):\n",
    "        print(\"자동차({0} & {1})가 움직입니다.\".format(self.size, self.count))"
   ]
  },
  {
   "cell_type": "code",
   "execution_count": 11,
   "id": "b8013a81",
   "metadata": {},
   "outputs": [
    {
     "name": "stdout",
     "output_type": "stream",
     "text": [
      "자동차 객체의 수: Car2.count=1\n",
      "인스턴스 변수 초기화: self.count = 20\n",
      "자동차 객체의 수: 3\n"
     ]
    }
   ],
   "source": [
    "car1 = Car2('big', 20)\n",
    "car2 = Car('small', 30)"
   ]
  },
  {
   "cell_type": "markdown",
   "id": "13e136b3",
   "metadata": {},
   "source": [
    "#### 클래스에서 사용하는 함수"
   ]
  },
  {
   "cell_type": "markdown",
   "id": "5d3c4941",
   "metadata": {},
   "source": [
    "* 인스턴스 메서드"
   ]
  },
  {
   "cell_type": "markdown",
   "id": "3709050b",
   "metadata": {},
   "source": [
    "각 객체에서 개별적으로 동작하는 함수를 만들고자 할 때 사용하는 함수"
   ]
  },
  {
   "cell_type": "markdown",
   "id": "1f940a97",
   "metadata": {},
   "source": [
    "class 클래스명():\n",
    "    \n",
    "    def 함수명(slef, 인자1, 인자2,,,인자n):\n",
    "        self.변수명1 = 인자1\n",
    "        self.변수명2 = 인자2\n",
    "        self.변수명3 = 데이터\n",
    "        ...\n",
    "        <코드블록>\n",
    "        \n",
    "    다음과 같이 객체를 생성한 후에 호출할 수 있다.\n",
    "    \n",
    "    객체명 = 클래스명()\n",
    "    객체명.메서드명(인자1, 인자2, 인자3,..,인자n)"
   ]
  },
  {
   "cell_type": "code",
   "execution_count": 12,
   "id": "5a239906",
   "metadata": {},
   "outputs": [],
   "source": [
    "# Car 클래스 선언\n",
    "class Car():\n",
    "    instance_count = 0 #클래스 변수 생성 및 초기화\n",
    "    \n",
    "    #초기화 함수(인스턴스 메서드)\n",
    "    def __init__(self, size, color):\n",
    "        self.size = size #인스턴스 변수 생성 및 초기화\n",
    "        self.color = color #인스턴스 변수 생성 및 초기화\n",
    "        Car.instance_count = Car.instance_count + 1 #클래스 변수 이용\n",
    "        print(\"자동차 객체의 수 : {0}\".format(Car.instance_count))\n",
    "           \n",
    "    #인스턴스 메서드\n",
    "    def move(self, speed):\n",
    "        self.speed = speed #인스턴스 변수 생성\n",
    "        print(\"자동차({0} & {1})가 \".format(self.size, self.color), end='')\n",
    "        print(\"시속 {0}킬로미터로 전진\".format(self.speed))\n",
    "        \n",
    "    #인스턴스 메서드\n",
    "    def auto_cruise(self):\n",
    "        print(\"자율 주행 모드\")\n",
    "        self.move(self.speed) #move() 함수의 인자로 인스턴스 변수를 입력"
   ]
  },
  {
   "cell_type": "code",
   "execution_count": 13,
   "id": "929bd22a",
   "metadata": {},
   "outputs": [
    {
     "name": "stdout",
     "output_type": "stream",
     "text": [
      "자동차 객체의 수 : 1\n",
      "자동차 객체의 수 : 2\n",
      "자동차(small & red)가 시속 80킬로미터로 전진\n",
      "자동차(big & green)가 시속 100킬로미터로 전진\n",
      "자율 주행 모드\n",
      "자동차(small & red)가 시속 80킬로미터로 전진\n",
      "자율 주행 모드\n",
      "자동차(big & green)가 시속 100킬로미터로 전진\n"
     ]
    }
   ],
   "source": [
    "car1 = Car(\"small\", \"red\")\n",
    "car2 = Car(\"big\", \"green\")\n",
    "\n",
    "car1.move(80)\n",
    "car2.move(100)\n",
    "\n",
    "car1.auto_cruise()\n",
    "car2.auto_cruise()"
   ]
  },
  {
   "cell_type": "markdown",
   "id": "7aa1610f",
   "metadata": {},
   "source": [
    "* 정적 메서드"
   ]
  },
  {
   "cell_type": "markdown",
   "id": "1d104012",
   "metadata": {},
   "source": [
    "self 필요 없어   \n",
    "함수를 클래스안에서 독립적으로 쓰고 싶을 때   \n",
    "객체와 상관없이 클래스 안에서 함수 쓰고 싶을 때\n",
    "클래스 안에 있는 정적 메서드야"
   ]
  },
  {
   "cell_type": "markdown",
   "id": "bd471efd",
   "metadata": {},
   "source": [
    "@staticmethod 라고 선언"
   ]
  },
  {
   "cell_type": "markdown",
   "id": "da513362",
   "metadata": {},
   "source": [
    "클래스명.메서드"
   ]
  },
  {
   "cell_type": "code",
   "execution_count": 14,
   "id": "acf8891f",
   "metadata": {},
   "outputs": [],
   "source": [
    "class Car():\n",
    "        \n",
    "    @staticmethod\n",
    "    def check_type(model_code):\n",
    "        if(model_code >= 20):\n",
    "            print(\"이 자동차는 전기차입니다.\")\n",
    "        elif(10 <= model_code < 20):\n",
    "            print(\"이 자동차는 가솔린차입니다.\")\n",
    "        else:\n",
    "            print(\"이 자동차는 디젤차입니다.\")\n",
    "        "
   ]
  },
  {
   "cell_type": "code",
   "execution_count": 15,
   "id": "28b5e8a8",
   "metadata": {},
   "outputs": [
    {
     "name": "stdout",
     "output_type": "stream",
     "text": [
      "이 자동차는 전기차입니다.\n",
      "이 자동차는 디젤차입니다.\n"
     ]
    }
   ],
   "source": [
    "Car.check_type(25)\n",
    "Car.check_type(2)"
   ]
  },
  {
   "cell_type": "markdown",
   "id": "2c3d5276",
   "metadata": {},
   "source": [
    "* 클래스 메서드"
   ]
  },
  {
   "cell_type": "markdown",
   "id": "cbfc9618",
   "metadata": {},
   "source": [
    "클래스 변수를 사용하기 위한 함수   \n",
    "변수로만 사용하는 것이 아닌"
   ]
  },
  {
   "cell_type": "markdown",
   "id": "7d043892",
   "metadata": {},
   "source": [
    "함수를 정의할 때 첫번째 인자로 크랠스를 넘겨받는 cls가 필요하며 이를 이용해 클래스 변수에 접근   \n",
    "함수앞에 @Classmethod 선언"
   ]
  },
  {
   "cell_type": "markdown",
   "id": "38af38f4",
   "metadata": {},
   "source": [
    "클래스 전체에서 관리해야 할 게 있을 경우 주로 사용"
   ]
  },
  {
   "cell_type": "code",
   "execution_count": 16,
   "id": "d832c61e",
   "metadata": {},
   "outputs": [],
   "source": [
    "class Car():\n",
    "    instance_count = 0\n",
    "    \n",
    "    def __init__(self, size, color):\n",
    "        self.size = size\n",
    "        self.color = color\n",
    "        Car.instance_count = Car.instance_count + 1\n",
    "        \n",
    "        @classmethod\n",
    "        def count_instance(cls):\n",
    "            print(\"자동차 객체의 개수: {0}\".format(cis.instance_count))"
   ]
  },
  {
   "cell_type": "markdown",
   "id": "9b950139",
   "metadata": {},
   "source": []
  },
  {
   "cell_type": "code",
   "execution_count": 17,
   "id": "0c9a937b",
   "metadata": {},
   "outputs": [
    {
     "ename": "AttributeError",
     "evalue": "type object 'Car' has no attribute 'count_instance'",
     "output_type": "error",
     "traceback": [
      "\u001b[1;31m---------------------------------------------------------------------------\u001b[0m",
      "\u001b[1;31mAttributeError\u001b[0m                            Traceback (most recent call last)",
      "\u001b[1;32m~\\AppData\\Local\\Temp\\ipykernel_4508\\3173190342.py\u001b[0m in \u001b[0;36m<module>\u001b[1;34m\u001b[0m\n\u001b[1;32m----> 1\u001b[1;33m \u001b[0mCar\u001b[0m\u001b[1;33m.\u001b[0m\u001b[0mcount_instance\u001b[0m\u001b[1;33m(\u001b[0m\u001b[1;33m)\u001b[0m \u001b[1;31m# 객체 생성 전에 클래스 메서드 호출\u001b[0m\u001b[1;33m\u001b[0m\u001b[1;33m\u001b[0m\u001b[0m\n\u001b[0m\u001b[0;32m      2\u001b[0m \u001b[1;33m\u001b[0m\u001b[0m\n\u001b[0;32m      3\u001b[0m \u001b[0mcar1\u001b[0m \u001b[1;33m=\u001b[0m \u001b[0mCar\u001b[0m\u001b[1;33m(\u001b[0m\u001b[1;34m\"small\"\u001b[0m\u001b[1;33m,\u001b[0m \u001b[1;34m\"red\"\u001b[0m\u001b[1;33m)\u001b[0m \u001b[1;31m# 첫 번째 객체 생성\u001b[0m\u001b[1;33m\u001b[0m\u001b[1;33m\u001b[0m\u001b[0m\n\u001b[0;32m      4\u001b[0m \u001b[0mCar\u001b[0m\u001b[1;33m.\u001b[0m\u001b[0mcount_instance\u001b[0m\u001b[1;33m(\u001b[0m\u001b[1;33m)\u001b[0m \u001b[1;31m# 클래스 메서드 호출\u001b[0m\u001b[1;33m\u001b[0m\u001b[1;33m\u001b[0m\u001b[0m\n\u001b[0;32m      5\u001b[0m \u001b[1;33m\u001b[0m\u001b[0m\n",
      "\u001b[1;31mAttributeError\u001b[0m: type object 'Car' has no attribute 'count_instance'"
     ]
    }
   ],
   "source": [
    "Car.count_instance() # 객체 생성 전에 클래스 메서드 호출\n",
    "\n",
    "car1 = Car(\"small\", \"red\") # 첫 번째 객체 생성\n",
    "Car.count_instance() # 클래스 메서드 호출\n",
    "\n",
    "car2 = Car(\"big\", \"green\") # 두 번째 객체 생성\n",
    "Car.count_instance() # 클래스 메서드 호출"
   ]
  },
  {
   "cell_type": "markdown",
   "id": "eead60b0",
   "metadata": {},
   "source": [
    "### 8.3 객체와 클래스를 사용하는 이유"
   ]
  },
  {
   "cell_type": "code",
   "execution_count": 24,
   "id": "c80518f1",
   "metadata": {},
   "outputs": [],
   "source": [
    "robot_name = 'R1'\n",
    "robot_pos = 0\n",
    "\n",
    "def robot_move():\n",
    "    global robot_pos\n",
    "    robot_pos = robot_pos + 1\n",
    "    print(\"{0} position: {1}\".format(robot_name, robot_pos))"
   ]
  },
  {
   "cell_type": "code",
   "execution_count": 25,
   "id": "80f525ec",
   "metadata": {},
   "outputs": [
    {
     "name": "stdout",
     "output_type": "stream",
     "text": [
      "R1 position: 1\n"
     ]
    }
   ],
   "source": [
    "robot_move()"
   ]
  },
  {
   "cell_type": "markdown",
   "id": "ade8b15e",
   "metadata": {},
   "source": [
    "로봇 2대 만들기"
   ]
  },
  {
   "cell_type": "code",
   "execution_count": 26,
   "id": "f1fbec08",
   "metadata": {},
   "outputs": [],
   "source": [
    "robot1_name = 'R1'\n",
    "robot1_pos = 0\n",
    "\n",
    "def robot1_move():\n",
    "    global robot1_pos\n",
    "    robot1_pos = robot1_pos + 1\n",
    "    print(\"{0} position: {1}\".format(robot1_name, robot1_pos))\n",
    "\n",
    "robot2_name = 'R2'\n",
    "robot2_pos = 10\n",
    "\n",
    "def robot2_move():\n",
    "    global robot2_pos\n",
    "    robot2_pos = robot2_pos + 1\n",
    "    print(\"{0} position: {1}\".format(robot2_name, robot2_pos))\n",
    "    "
   ]
  },
  {
   "cell_type": "code",
   "execution_count": 27,
   "id": "51f94439",
   "metadata": {},
   "outputs": [
    {
     "name": "stdout",
     "output_type": "stream",
     "text": [
      "R1 position: 1\n",
      "R2 position: 11\n"
     ]
    }
   ],
   "source": [
    "robot1_move()\n",
    "robot2_move()"
   ]
  },
  {
   "cell_type": "code",
   "execution_count": 35,
   "id": "6ba033b6",
   "metadata": {},
   "outputs": [],
   "source": [
    "class Robot():\n",
    "    \n",
    "    def __init__(self, name, pos):\n",
    "        self.name = name\n",
    "        self.pos = pos\n",
    "        \n",
    "    def move(self):\n",
    "        self.pos = self.pos + 1\n",
    "        print(\"{0} position: {1}\".format(self.name, self.pos))"
   ]
  },
  {
   "cell_type": "code",
   "execution_count": 36,
   "id": "662555e0",
   "metadata": {},
   "outputs": [],
   "source": [
    "robot1 = Robot('R1', 0)\n",
    "robot2 = Robot('R2', 10)"
   ]
  },
  {
   "cell_type": "code",
   "execution_count": 51,
   "id": "22c7a0b5",
   "metadata": {},
   "outputs": [
    {
     "name": "stdout",
     "output_type": "stream",
     "text": [
      "R1 position: 15\n",
      "R2 position: 25\n"
     ]
    }
   ],
   "source": [
    "robot1.move()\n",
    "robot2.move()"
   ]
  },
  {
   "cell_type": "markdown",
   "id": "fa0a9668",
   "metadata": {},
   "source": [
    "### 8.4 클래스 상속"
   ]
  },
  {
   "cell_type": "markdown",
   "id": "2fc07e47",
   "metadata": {},
   "source": [
    "class 자식 클래스 이름(부모 클래스 이름):   \n",
    "\n",
    "    <코드블록>"
   ]
  },
  {
   "cell_type": "code",
   "execution_count": 53,
   "id": "23b6314f",
   "metadata": {},
   "outputs": [],
   "source": [
    "class Bicycle():\n",
    "    \n",
    "    def __init__(self, wheel_size, color):\n",
    "        self.wheel_size = wheel_size\n",
    "        self.color = color\n",
    "        \n",
    "    def move(self, speed):\n",
    "        print(\"자전거: 시속 {0}킬로미터로 전진\".format(speed))\n",
    "        \n",
    "    def turn(self, direction):\n",
    "        print(\"자전거: {0}회전\".format(direction))\n",
    "        \n",
    "    def stop(self):\n",
    "        print(\"자전거({0}, {1}): 정지\".format(self.wheel_size, self.color))"
   ]
  },
  {
   "cell_type": "markdown",
   "id": "39dd068a",
   "metadata": {},
   "source": [
    "#### 자식 클래스 생성 방법"
   ]
  },
  {
   "cell_type": "markdown",
   "id": "7c530f20",
   "metadata": {},
   "source": [
    "부모 클래스 이름.함수명() 또는 super().함수명()"
   ]
  },
  {
   "cell_type": "code",
   "execution_count": 54,
   "id": "9e46add5",
   "metadata": {},
   "outputs": [],
   "source": [
    "class FoldingBicycle(Bicycle):\n",
    "    \n",
    "    def __init__(self, wheel_size, color, state):\n",
    "        Bicycle.__init__(self, wheel_size, color)\n",
    "        #super().__init__()도 사용가능\n",
    "        self.state = state\n",
    "        \n",
    "    def fold(self):\n",
    "        self.state = \"folding\"\n",
    "        print(\"자전거: 접기, state = {0}\".format(self.state))\n",
    "        \n",
    "    def unfold(self):\n",
    "        self.state = \"unfolding\"\n",
    "        print(\"자전거: 펴기, state = {0}\".format(self.state))"
   ]
  },
  {
   "cell_type": "code",
   "execution_count": 56,
   "id": "0f0741d6",
   "metadata": {},
   "outputs": [
    {
     "name": "stdout",
     "output_type": "stream",
     "text": [
      "자전거: 시속 20킬로미터로 전진\n",
      "자전거: 접기, state = folding\n",
      "자전거: 펴기, state = unfolding\n"
     ]
    }
   ],
   "source": [
    "folding_bicycle = FoldingBicycle(27, 'white', 'unfolding')\n",
    "\n",
    "folding_bicycle.move(20)\n",
    "folding_bicycle.fold()\n",
    "folding_bicycle.unfold()\n"
   ]
  },
  {
   "cell_type": "markdown",
   "id": "e8165abe",
   "metadata": {},
   "source": [
    "#### 클래스 상속과 오버라이딩"
   ]
  },
  {
   "cell_type": "markdown",
   "id": "3a51e449",
   "metadata": {},
   "source": [
    "자식 클래스 부모 클래스 같은 함수 있으면\n",
    "자식이 이겨"
   ]
  },
  {
   "cell_type": "markdown",
   "id": "026f5c4c",
   "metadata": {},
   "source": [
    "부모 끄집어 쓰고 싶으면 super "
   ]
  },
  {
   "cell_type": "markdown",
   "id": "be622eee",
   "metadata": {},
   "source": [
    "## 추가) 클래스 함수 매서드"
   ]
  },
  {
   "cell_type": "markdown",
   "id": "d762d287",
   "metadata": {},
   "source": [
    "ex) 메모장 열기 = 객체 생성\n",
    "메모장이라는 클래스가 생성한 인스턴스"
   ]
  },
  {
   "cell_type": "markdown",
   "id": "44e6c899",
   "metadata": {},
   "source": [
    "하드와 메모리 차이 알기"
   ]
  },
  {
   "cell_type": "markdown",
   "id": "8bdf7ea9",
   "metadata": {},
   "source": [
    "f = open(\"경로\", \"속성\"\n",
    "f.help(\n",
    "\n",
    "help.help(a,b,f\n",
    "\n",
    "함수인지 객체인지 구별\n",
    "\n",
    "객체를 \n",
    "\n",
    "결과값을 추출하고 싶은 건지\n",
    "새로운 또 다른 객체를 만들고 싶은건지 구별"
   ]
  }
 ],
 "metadata": {
  "kernelspec": {
   "display_name": "Python 3 (ipykernel)",
   "language": "python",
   "name": "python3"
  },
  "language_info": {
   "codemirror_mode": {
    "name": "ipython",
    "version": 3
   },
   "file_extension": ".py",
   "mimetype": "text/x-python",
   "name": "python",
   "nbconvert_exporter": "python",
   "pygments_lexer": "ipython3",
   "version": "3.9.13"
  }
 },
 "nbformat": 4,
 "nbformat_minor": 5
}
