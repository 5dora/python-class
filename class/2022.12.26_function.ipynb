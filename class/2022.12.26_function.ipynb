{
 "cells": [
  {
   "cell_type": "markdown",
   "id": "570e2f82",
   "metadata": {},
   "source": [
    "# 7장 함수"
   ]
  },
  {
   "cell_type": "markdown",
   "id": "05d28aa7",
   "metadata": {},
   "source": [
    "### 7.1 함수 정의와 호출"
   ]
  },
  {
   "cell_type": "markdown",
   "id": "1d57b5e7",
   "metadata": {},
   "source": [
    "#### 함수의 기본 구조"
   ]
  },
  {
   "cell_type": "markdown",
   "id": "521ff333",
   "metadata": {},
   "source": [
    "def 함수명([인자1, 인자2... 인자n]):    \n",
    "\n",
    "    <코드블록>   \n",
    "\n",
    "    [return <반환값>]"
   ]
  },
  {
   "cell_type": "markdown",
   "id": "b134e60b",
   "metadata": {},
   "source": [
    "* #### 인자도 반환 값도 없는 함수"
   ]
  },
  {
   "cell_type": "code",
   "execution_count": 3,
   "id": "214e6d04",
   "metadata": {},
   "outputs": [],
   "source": [
    "def my_func():\n",
    "    print(\"My first function\")\n",
    "    print(\"This is a function\")"
   ]
  },
  {
   "cell_type": "markdown",
   "id": "40abd426",
   "metadata": {},
   "source": [
    "() 아무것도 없어? 인자가 없어   \n",
    "return 없어? 반환 값 없어"
   ]
  },
  {
   "cell_type": "markdown",
   "id": "b961acba",
   "metadata": {},
   "source": [
    "함수를 만든거지 실행한 적 없어   \n",
    "실행하려면 함수명을 치고 열고 닫아야 해"
   ]
  },
  {
   "cell_type": "markdown",
   "id": "72bb8c42",
   "metadata": {},
   "source": [
    "*** 예약어 쓰면 안돼(ex.print, int,,,   \n",
    "이미 정의되어 있어/ 허용한다 그래도 쓰지 말 것"
   ]
  },
  {
   "cell_type": "code",
   "execution_count": 5,
   "id": "a59e85be",
   "metadata": {},
   "outputs": [
    {
     "name": "stdout",
     "output_type": "stream",
     "text": [
      "My first function\n",
      "This is a function\n"
     ]
    }
   ],
   "source": [
    "my_func()"
   ]
  },
  {
   "cell_type": "markdown",
   "id": "1a84fdcb",
   "metadata": {},
   "source": [
    "* #### 인자는 있으나 반환 값이 없는 함수"
   ]
  },
  {
   "cell_type": "code",
   "execution_count": 6,
   "id": "c9695762",
   "metadata": {},
   "outputs": [],
   "source": [
    "def my_friend(friendName):\n",
    "    print(\"{}는 나의 친구입니다.\".format(friendName))"
   ]
  },
  {
   "cell_type": "code",
   "execution_count": 9,
   "id": "25cf3db2",
   "metadata": {},
   "outputs": [
    {
     "name": "stdout",
     "output_type": "stream",
     "text": [
      "철수는 나의 친구입니다.\n",
      "영미는 나의 친구입니다.\n"
     ]
    }
   ],
   "source": [
    "my_friend(\"철수\")\n",
    "my_friend(\"영미\")"
   ]
  },
  {
   "cell_type": "code",
   "execution_count": 30,
   "id": "17ea0d7b",
   "metadata": {},
   "outputs": [],
   "source": [
    "def my_student_info(name, school_ID, phoneNumber):\n",
    "    print(\"-------------------------\")\n",
    "    print(\"- 학생이름:\",name)\n",
    "    print(\"- 학급번호:\", school_ID)\n",
    "    print(\"- 전화번호:\", phoneNumber)"
   ]
  },
  {
   "cell_type": "markdown",
   "id": "79db1438",
   "metadata": {},
   "source": [
    "인자값이 여러개   \n",
    "다 넣어줘야 해 하나라도 빠지면 에러나   \n",
    "순서대로"
   ]
  },
  {
   "cell_type": "code",
   "execution_count": 31,
   "id": "aebdebb5",
   "metadata": {},
   "outputs": [
    {
     "name": "stdout",
     "output_type": "stream",
     "text": [
      "-------------------------\n",
      "- 학생이름: 현아\n",
      "- 학급번호: 01\n",
      "- 전화번호: 01-235-6789\n",
      "-------------------------\n",
      "- 학생이름: 진수\n",
      "- 학급번호: 02\n",
      "- 전화번호: 01-987-6543\n"
     ]
    }
   ],
   "source": [
    "my_student_info(\"현아\", \"01\", \"01-235-6789\")\n",
    "my_student_info(\"진수\", \"02\", \"01-987-6543\")"
   ]
  },
  {
   "cell_type": "code",
   "execution_count": 32,
   "id": "d67a6ecb",
   "metadata": {},
   "outputs": [],
   "source": [
    "def my_student_info(name, school_ID, phoneNumber):\n",
    "    print(\"*************************\")\n",
    "    print(\"- 학생이름:\",name)\n",
    "    print(\"- 학급번호:\", school_ID)\n",
    "    print(\"- 전화번호:\", phoneNumber)"
   ]
  },
  {
   "cell_type": "code",
   "execution_count": 33,
   "id": "5a6ff25b",
   "metadata": {},
   "outputs": [
    {
     "name": "stdout",
     "output_type": "stream",
     "text": [
      "*************************\n",
      "- 학생이름: 현아\n",
      "- 학급번호: 01\n",
      "- 전화번호: 01-235-6789\n",
      "*************************\n",
      "- 학생이름: 진수\n",
      "- 학급번호: 02\n",
      "- 전화번호: 01-987-6543\n"
     ]
    }
   ],
   "source": [
    "my_student_info(\"현아\", \"01\", \"01-235-6789\")\n",
    "my_student_info(\"진수\", \"02\", \"01-987-6543\")"
   ]
  },
  {
   "cell_type": "markdown",
   "id": "f77a0caf",
   "metadata": {},
   "source": [
    "*** 함수를 수정하면 모든 코드에 적용   \n",
    "\n",
    "객체 지향 언어(파이썬, 자바)   \n",
    "하나의 객체로 인식    \n",
    "새로 정의 돼. 마지막에 썼던 것만 갖고 있어"
   ]
  },
  {
   "cell_type": "markdown",
   "id": "2fa48e8b",
   "metadata": {},
   "source": [
    "* #### 인자도 있고 반환 값도 있는 함수"
   ]
  },
  {
   "cell_type": "code",
   "execution_count": 34,
   "id": "b8aef79c",
   "metadata": {},
   "outputs": [],
   "source": [
    "def my_calc(x,y):\n",
    "    z = x*y\n",
    "    return z"
   ]
  },
  {
   "cell_type": "code",
   "execution_count": 35,
   "id": "3b22a046",
   "metadata": {},
   "outputs": [
    {
     "data": {
      "text/plain": [
       "12"
      ]
     },
     "execution_count": 35,
     "metadata": {},
     "output_type": "execute_result"
    }
   ],
   "source": [
    "my_calc(3,4)"
   ]
  },
  {
   "cell_type": "code",
   "execution_count": 57,
   "id": "14693bf2",
   "metadata": {},
   "outputs": [
    {
     "name": "stdout",
     "output_type": "stream",
     "text": [
      "2\n",
      "4000\n"
     ]
    }
   ],
   "source": [
    "print(a)\n",
    "print(b)"
   ]
  },
  {
   "cell_type": "markdown",
   "id": "6edf8aa3",
   "metadata": {},
   "source": [
    "인자를 리스트로 입력해서 호출한다."
   ]
  },
  {
   "cell_type": "code",
   "execution_count": 60,
   "id": "4384d3e7",
   "metadata": {},
   "outputs": [],
   "source": [
    "def my_student_info_list(student_info):\n",
    "    print(\"*************************\")\n",
    "    print(\"- 학생이름:\",student_info[0])\n",
    "    print(\"- 학급번호:\", student_info[1])\n",
    "    print(\"- 전화번호:\", student_info[2])\n",
    "    print(\"*************************\")"
   ]
  },
  {
   "cell_type": "code",
   "execution_count": 61,
   "id": "106e3629",
   "metadata": {},
   "outputs": [
    {
     "name": "stdout",
     "output_type": "stream",
     "text": [
      "*************************\n",
      "- 학생이름: 현아\n",
      "- 학급번호: 01\n",
      "- 전화번호: 01-235-6789\n",
      "*************************\n"
     ]
    }
   ],
   "source": [
    "student1_info = [\"현아\", \"01\", \"01-235-6789\"]\n",
    "my_student_info_list(student1_info)"
   ]
  },
  {
   "cell_type": "code",
   "execution_count": 257,
   "id": "4854e998",
   "metadata": {},
   "outputs": [
    {
     "name": "stdout",
     "output_type": "stream",
     "text": [
      "*************************\n",
      "- 학생이름: 진수\n",
      "- 학급번호: 02\n",
      "- 전화번호: 01-987-5432\n",
      "*************************\n"
     ]
    }
   ],
   "source": [
    "my_student_info_list([\"진수\",\"02\", \"01-987-5432\"])"
   ]
  },
  {
   "cell_type": "markdown",
   "id": "32e2e797",
   "metadata": {},
   "source": [
    "### 7.2 변수의 유효 범위"
   ]
  },
  {
   "cell_type": "markdown",
   "id": "71ecf096",
   "metadata": {},
   "source": [
    "전역 변수와 지역 변수의 차이   \n",
    "\n",
    "함수 안에서 정의한 변수는 함수 안에서만 사용할 수 있다."
   ]
  },
  {
   "cell_type": "markdown",
   "id": "2781c008",
   "metadata": {},
   "source": [
    "변수를 어디에 선언하느냐에 따라 변수를 인식할 수 있는 범위 달라져"
   ]
  },
  {
   "cell_type": "code",
   "execution_count": 81,
   "id": "d1acefae",
   "metadata": {},
   "outputs": [],
   "source": [
    "a = 5 #전역변수\n",
    "\n",
    "def func1():\n",
    "    a = 1 #지역변수, func1()에서만 사용\n",
    "    print(\"[func1] 지역 변수 a =\",a)\n",
    "    \n",
    "def func2():\n",
    "    a = 2 #지역변수, func2()에서만 사용\n",
    "    print(\"[func2] 지역 변수 a =\",a)\n",
    "    \n",
    "def func3():\n",
    "    print(\"[func3] 전역 변수 a =\",a)\n",
    "    \n",
    "def func4():\n",
    "    global a #함수 내에서 전역 변수 변경 위해 선언\n",
    "    a = 4 #전역 변수의 값 변경\n",
    "    print(\"[func4] 전역 변수 a =\",a)"
   ]
  },
  {
   "cell_type": "markdown",
   "id": "6440a246",
   "metadata": {},
   "source": [
    "*** 글로벌이라는 공간 만들어서 전역변수 저장해   \n",
    "함수가 전역변수 바꿔놨어(에러 뜨지 않으니까 주의)"
   ]
  },
  {
   "cell_type": "code",
   "execution_count": 82,
   "id": "877a7967",
   "metadata": {},
   "outputs": [
    {
     "name": "stdout",
     "output_type": "stream",
     "text": [
      "[func1] 지역 변수 a = 1\n",
      "[func2] 지역 변수 a = 2\n",
      "전역변수 a= 5\n"
     ]
    }
   ],
   "source": [
    "func1()\n",
    "func2()\n",
    "\n",
    "print(\"전역변수 a=\", a)"
   ]
  },
  {
   "cell_type": "code",
   "execution_count": 83,
   "id": "45fc7d97",
   "metadata": {},
   "outputs": [
    {
     "name": "stdout",
     "output_type": "stream",
     "text": [
      "[func3] 전역 변수 a = 5\n"
     ]
    }
   ],
   "source": [
    "func3()"
   ]
  },
  {
   "cell_type": "code",
   "execution_count": 84,
   "id": "b5be91ab",
   "metadata": {},
   "outputs": [
    {
     "name": "stdout",
     "output_type": "stream",
     "text": [
      "[func4] 전역 변수 a = 4\n"
     ]
    }
   ],
   "source": [
    "func4()"
   ]
  },
  {
   "cell_type": "code",
   "execution_count": 96,
   "id": "17306420",
   "metadata": {},
   "outputs": [
    {
     "name": "stdout",
     "output_type": "stream",
     "text": [
      "[func3] 전역 변수 a = 5\n",
      "[func4] 전역 변수 a = 4\n",
      "[func3] 전역 변수 a = 4\n"
     ]
    }
   ],
   "source": [
    "a = 5\n",
    "func3()\n",
    "func4()\n",
    "func3()"
   ]
  },
  {
   "cell_type": "code",
   "execution_count": 99,
   "id": "42304fae",
   "metadata": {},
   "outputs": [],
   "source": [
    "a = [\"abc\",\"de\",\"fg\"]"
   ]
  },
  {
   "cell_type": "code",
   "execution_count": 103,
   "id": "7b40c430",
   "metadata": {},
   "outputs": [
    {
     "data": {
      "text/plain": [
       "2"
      ]
     },
     "execution_count": 103,
     "metadata": {},
     "output_type": "execute_result"
    }
   ],
   "source": [
    "len(a[1])"
   ]
  },
  {
   "cell_type": "code",
   "execution_count": 104,
   "id": "61ea2e6d",
   "metadata": {},
   "outputs": [
    {
     "data": {
      "text/plain": [
       "3"
      ]
     },
     "execution_count": 104,
     "metadata": {},
     "output_type": "execute_result"
    }
   ],
   "source": [
    "len(a)"
   ]
  },
  {
   "cell_type": "markdown",
   "id": "b9e6ac97",
   "metadata": {},
   "source": [
    "### 7.3 람다 함수"
   ]
  },
  {
   "cell_type": "markdown",
   "id": "873ced16",
   "metadata": {},
   "source": [
    "한줄로 함수를 표현하는 람다함수의 기본 구조   \n",
    "\n",
    "(lamda <인자> : <인자 활용 수행 코드>)(<인자>)"
   ]
  },
  {
   "cell_type": "code",
   "execution_count": 105,
   "id": "3973047c",
   "metadata": {},
   "outputs": [
    {
     "data": {
      "text/plain": [
       "16"
      ]
     },
     "execution_count": 105,
     "metadata": {},
     "output_type": "execute_result"
    }
   ],
   "source": [
    "(lambda x : x**2) (4)"
   ]
  },
  {
   "cell_type": "markdown",
   "id": "8ff90528",
   "metadata": {},
   "source": [
    "람다 함수를 변수에 할당한 후에 인자를 호출해서 사용"
   ]
  },
  {
   "cell_type": "code",
   "execution_count": 107,
   "id": "b3030a88",
   "metadata": {},
   "outputs": [
    {
     "data": {
      "text/plain": [
       "4"
      ]
     },
     "execution_count": 107,
     "metadata": {},
     "output_type": "execute_result"
    }
   ],
   "source": [
    "mySquare = lambda x : x**2\n",
    "mySquare(2)"
   ]
  },
  {
   "cell_type": "markdown",
   "id": "3cfef1ac",
   "metadata": {},
   "source": [
    "여러 개의 인자를 받아 사용하는 것도 가능"
   ]
  },
  {
   "cell_type": "code",
   "execution_count": 111,
   "id": "573d5fce",
   "metadata": {},
   "outputs": [
    {
     "data": {
      "text/plain": [
       "11"
      ]
     },
     "execution_count": 111,
     "metadata": {},
     "output_type": "execute_result"
    }
   ],
   "source": [
    "mySimpleFunc = lambda x,y,z : 2*x + 3*y + z\n",
    "mySimpleFunc(1,2,3)"
   ]
  },
  {
   "cell_type": "markdown",
   "id": "d19e81ab",
   "metadata": {},
   "source": [
    "### 7.4 유용한 내장 함수"
   ]
  },
  {
   "cell_type": "markdown",
   "id": "7525c75a",
   "metadata": {},
   "source": [
    "#### 형 변환 함수"
   ]
  },
  {
   "cell_type": "markdown",
   "id": "4a118f35",
   "metadata": {},
   "source": [
    "* 정수형으로 변환"
   ]
  },
  {
   "cell_type": "markdown",
   "id": "fde5f27c",
   "metadata": {},
   "source": [
    "소수점 이하는 버려짐"
   ]
  },
  {
   "cell_type": "code",
   "execution_count": 115,
   "id": "bf3da680",
   "metadata": {},
   "outputs": [
    {
     "data": {
      "text/plain": [
       "[0, 3, -1]"
      ]
     },
     "execution_count": 115,
     "metadata": {},
     "output_type": "execute_result"
    }
   ],
   "source": [
    "[int(0.123), int(3.512345), int(-1.31234)]"
   ]
  },
  {
   "cell_type": "markdown",
   "id": "261f6acf",
   "metadata": {},
   "source": [
    "문자열을 정수형으로 변환"
   ]
  },
  {
   "cell_type": "code",
   "execution_count": 116,
   "id": "34ca3f91",
   "metadata": {},
   "outputs": [
    {
     "data": {
      "text/plain": [
       "[1234, 5678, -9012]"
      ]
     },
     "execution_count": 116,
     "metadata": {},
     "output_type": "execute_result"
    }
   ],
   "source": [
    "[int(\"1234\"), int(\"5678\"), int(\"-9012\")]"
   ]
  },
  {
   "cell_type": "markdown",
   "id": "da5b701b",
   "metadata": {},
   "source": [
    "* 실수형으로 변환"
   ]
  },
  {
   "cell_type": "code",
   "execution_count": 117,
   "id": "9c6c6f53",
   "metadata": {},
   "outputs": [
    {
     "data": {
      "text/plain": [
       "[0.0, 123.0, -567.0]"
      ]
     },
     "execution_count": 117,
     "metadata": {},
     "output_type": "execute_result"
    }
   ],
   "source": [
    "[float(0), float(123), float(-567)]"
   ]
  },
  {
   "cell_type": "code",
   "execution_count": 121,
   "id": "b2a6bc8b",
   "metadata": {},
   "outputs": [
    {
     "data": {
      "text/plain": [
       "[10.0, 0.123, -567.89]"
      ]
     },
     "execution_count": 121,
     "metadata": {},
     "output_type": "execute_result"
    }
   ],
   "source": [
    "[float('10'), float('0.123'), float('-567.89')]"
   ]
  },
  {
   "cell_type": "markdown",
   "id": "c26375f9",
   "metadata": {},
   "source": [
    "* 문자형으로 변환"
   ]
  },
  {
   "cell_type": "code",
   "execution_count": 123,
   "id": "5bb7d4fd",
   "metadata": {},
   "outputs": [
    {
     "data": {
      "text/plain": [
       "['123', '456789', '-987']"
      ]
     },
     "execution_count": 123,
     "metadata": {},
     "output_type": "execute_result"
    }
   ],
   "source": [
    "[str(123), str(456789), str(-987)]"
   ]
  },
  {
   "cell_type": "code",
   "execution_count": 124,
   "id": "f9abbd58",
   "metadata": {},
   "outputs": [
    {
     "data": {
      "text/plain": [
       "['0.123', '345.678', '-5.987']"
      ]
     },
     "execution_count": 124,
     "metadata": {},
     "output_type": "execute_result"
    }
   ],
   "source": [
    "[str(0.123), str(345.678), str(-5.987)]"
   ]
  },
  {
   "cell_type": "markdown",
   "id": "787aa57f",
   "metadata": {},
   "source": [
    "* 리스트, 튜플, 세트형으로 변환"
   ]
  },
  {
   "cell_type": "code",
   "execution_count": 143,
   "id": "ac1fc139",
   "metadata": {},
   "outputs": [],
   "source": [
    "list_data = ['abc', 1, 2, 'def']\n",
    "tuple_data = ('abc', 1, 2, 'def')\n",
    "set_data = {'abc', 1, 2, 'def'}"
   ]
  },
  {
   "cell_type": "code",
   "execution_count": 144,
   "id": "d2caed44",
   "metadata": {},
   "outputs": [
    {
     "data": {
      "text/plain": [
       "[list, tuple, set]"
      ]
     },
     "execution_count": 144,
     "metadata": {},
     "output_type": "execute_result"
    }
   ],
   "source": [
    "[type(list_data), type(tuple_data), type(set_data)]"
   ]
  },
  {
   "cell_type": "code",
   "execution_count": 145,
   "id": "b568f1bc",
   "metadata": {},
   "outputs": [
    {
     "name": "stdout",
     "output_type": "stream",
     "text": [
      "리스트로 변환: ['abc', 1, 2, 'def'] [1, 2, 'abc', 'def']\n"
     ]
    }
   ],
   "source": [
    "print(\"리스트로 변환:\", list(tuple_data), list(set_data))"
   ]
  },
  {
   "cell_type": "code",
   "execution_count": 146,
   "id": "b95c203a",
   "metadata": {},
   "outputs": [
    {
     "name": "stdout",
     "output_type": "stream",
     "text": [
      "튜플로 변환: ('abc', 1, 2, 'def') (1, 2, 'abc', 'def')\n"
     ]
    }
   ],
   "source": [
    "print(\"튜플로 변환:\", tuple(list_data), tuple(set_data))"
   ]
  },
  {
   "cell_type": "code",
   "execution_count": 152,
   "id": "186e8645",
   "metadata": {},
   "outputs": [
    {
     "name": "stdout",
     "output_type": "stream",
     "text": [
      "세트로 변환: {1, 2, 'abc', 'def'} {1, 2, 'abc', 'def'}\n"
     ]
    }
   ],
   "source": [
    "print(\"세트로 변환:\", set(list_data), set(tuple_data))"
   ]
  },
  {
   "cell_type": "markdown",
   "id": "8e27fe34",
   "metadata": {},
   "source": [
    "#### bool 함수"
   ]
  },
  {
   "cell_type": "markdown",
   "id": "8a62f8ab",
   "metadata": {},
   "source": [
    "* 숫자를 인자로 bool함수 호출"
   ]
  },
  {
   "cell_type": "markdown",
   "id": "af108835",
   "metadata": {},
   "source": [
    "***0만 false 나머지는 다 true"
   ]
  },
  {
   "cell_type": "code",
   "execution_count": 164,
   "id": "52a3433c",
   "metadata": {},
   "outputs": [
    {
     "data": {
      "text/plain": [
       "False"
      ]
     },
     "execution_count": 164,
     "metadata": {},
     "output_type": "execute_result"
    }
   ],
   "source": [
    "bool(0)"
   ]
  },
  {
   "cell_type": "code",
   "execution_count": 157,
   "id": "34c41240",
   "metadata": {},
   "outputs": [
    {
     "data": {
      "text/plain": [
       "True"
      ]
     },
     "execution_count": 157,
     "metadata": {},
     "output_type": "execute_result"
    }
   ],
   "source": [
    "bool(1)"
   ]
  },
  {
   "cell_type": "code",
   "execution_count": 165,
   "id": "f4a37d08",
   "metadata": {},
   "outputs": [
    {
     "data": {
      "text/plain": [
       "True"
      ]
     },
     "execution_count": 165,
     "metadata": {},
     "output_type": "execute_result"
    }
   ],
   "source": [
    "bool(-10)"
   ]
  },
  {
   "cell_type": "code",
   "execution_count": 163,
   "id": "2fac1cda",
   "metadata": {},
   "outputs": [
    {
     "data": {
      "text/plain": [
       "True"
      ]
     },
     "execution_count": 163,
     "metadata": {},
     "output_type": "execute_result"
    }
   ],
   "source": [
    "bool(5.12)"
   ]
  },
  {
   "cell_type": "markdown",
   "id": "17e3f96b",
   "metadata": {},
   "source": [
    "* 문자열을 인자로 bool 함수 호출"
   ]
  },
  {
   "cell_type": "markdown",
   "id": "339f578c",
   "metadata": {},
   "source": [
    "문자열이 존재 하냐 안하냐에 따라   "
   ]
  },
  {
   "cell_type": "code",
   "execution_count": 171,
   "id": "8599d9ef",
   "metadata": {},
   "outputs": [
    {
     "data": {
      "text/plain": [
       "True"
      ]
     },
     "execution_count": 171,
     "metadata": {},
     "output_type": "execute_result"
    }
   ],
   "source": [
    "bool('a')"
   ]
  },
  {
   "cell_type": "code",
   "execution_count": 176,
   "id": "f0911e7d",
   "metadata": {},
   "outputs": [
    {
     "data": {
      "text/plain": [
       "True"
      ]
     },
     "execution_count": 176,
     "metadata": {},
     "output_type": "execute_result"
    }
   ],
   "source": [
    "bool(' ') #*** 공백(스페이스)도 문자열로 인식해"
   ]
  },
  {
   "cell_type": "code",
   "execution_count": 173,
   "id": "9c811a20",
   "metadata": {},
   "outputs": [
    {
     "data": {
      "text/plain": [
       "False"
      ]
     },
     "execution_count": 173,
     "metadata": {},
     "output_type": "execute_result"
    }
   ],
   "source": [
    "bool('')"
   ]
  },
  {
   "cell_type": "code",
   "execution_count": 174,
   "id": "05a8f5a8",
   "metadata": {},
   "outputs": [
    {
     "data": {
      "text/plain": [
       "False"
      ]
     },
     "execution_count": 174,
     "metadata": {},
     "output_type": "execute_result"
    }
   ],
   "source": [
    "bool(None)"
   ]
  },
  {
   "cell_type": "markdown",
   "id": "fd6ea161",
   "metadata": {},
   "source": [
    "* 리스트, 튜플, 세트를 인자로 bool 함수 호출"
   ]
  },
  {
   "cell_type": "markdown",
   "id": "543b42d2",
   "metadata": {},
   "source": [
    "값이 있는지 없는지로만 판단"
   ]
  },
  {
   "cell_type": "code",
   "execution_count": 177,
   "id": "d076ccc2",
   "metadata": {},
   "outputs": [
    {
     "data": {
      "text/plain": [
       "False"
      ]
     },
     "execution_count": 177,
     "metadata": {},
     "output_type": "execute_result"
    }
   ],
   "source": [
    "mySetA={}\n",
    "bool(mySetA)"
   ]
  },
  {
   "cell_type": "code",
   "execution_count": 178,
   "id": "c928d5ba",
   "metadata": {},
   "outputs": [
    {
     "data": {
      "text/plain": [
       "True"
      ]
     },
     "execution_count": 178,
     "metadata": {},
     "output_type": "execute_result"
    }
   ],
   "source": [
    "mySetA = {1,2,3}\n",
    "bool(mySetA)"
   ]
  },
  {
   "cell_type": "markdown",
   "id": "be2590ec",
   "metadata": {},
   "source": [
    "* bool 함수의 활용"
   ]
  },
  {
   "cell_type": "code",
   "execution_count": 197,
   "id": "6b00435e",
   "metadata": {},
   "outputs": [],
   "source": [
    "def print_name(name):\n",
    "    if bool(name):\n",
    "        print(\"입력된 이름:\", name)\n",
    "    else:\n",
    "        print(\"입력된 이름이 없습니다.\")"
   ]
  },
  {
   "cell_type": "code",
   "execution_count": 198,
   "id": "838933d1",
   "metadata": {},
   "outputs": [
    {
     "name": "stdout",
     "output_type": "stream",
     "text": [
      "입력된 이름: James\n"
     ]
    }
   ],
   "source": [
    "print_name(\"James\")"
   ]
  },
  {
   "cell_type": "code",
   "execution_count": 199,
   "id": "93646d7b",
   "metadata": {},
   "outputs": [
    {
     "name": "stdout",
     "output_type": "stream",
     "text": [
      "입력된 이름이 없습니다.\n"
     ]
    }
   ],
   "source": [
    "print_name(\"\")"
   ]
  },
  {
   "cell_type": "markdown",
   "id": "435f2a74",
   "metadata": {},
   "source": [
    "#### 최솟값과 최댓값을 구하는 함수"
   ]
  },
  {
   "cell_type": "code",
   "execution_count": 210,
   "id": "98188cc9",
   "metadata": {},
   "outputs": [
    {
     "data": {
      "text/plain": [
       "[0, 99.5]"
      ]
     },
     "execution_count": 210,
     "metadata": {},
     "output_type": "execute_result"
    }
   ],
   "source": [
    "myNum = [10, 5, 12, 0, 3.5, 99.5, 42]\n",
    "[min(myNum), max(myNum)]"
   ]
  },
  {
   "cell_type": "code",
   "execution_count": 211,
   "id": "2e013285",
   "metadata": {},
   "outputs": [
    {
     "data": {
      "text/plain": [
       "['a', 'z']"
      ]
     },
     "execution_count": 211,
     "metadata": {},
     "output_type": "execute_result"
    }
   ],
   "source": [
    "myStr = \"zsdeafdf\"\n",
    "[min(myStr), max(myStr)]"
   ]
  },
  {
   "cell_type": "code",
   "execution_count": 213,
   "id": "29dfcdf6",
   "metadata": {},
   "outputs": [
    {
     "data": {
      "text/plain": [
       "['A', 'z']"
      ]
     },
     "execution_count": 213,
     "metadata": {},
     "output_type": "execute_result"
    }
   ],
   "source": [
    "myStr = \"zsdeafdFZA\"\n",
    "[min(myStr), max(myStr)]"
   ]
  },
  {
   "cell_type": "code",
   "execution_count": 217,
   "id": "737195df",
   "metadata": {},
   "outputs": [
    {
     "data": {
      "text/plain": [
       "['!', '~']"
      ]
     },
     "execution_count": 217,
     "metadata": {},
     "output_type": "execute_result"
    }
   ],
   "source": [
    "myStr = \"zsdeafdFZA!~\"\n",
    "[min(myStr), max(myStr)]"
   ]
  },
  {
   "cell_type": "code",
   "execution_count": 219,
   "id": "8d010aea",
   "metadata": {},
   "outputs": [
    {
     "data": {
      "text/plain": [
       "['A', 'ㅏ']"
      ]
     },
     "execution_count": 219,
     "metadata": {},
     "output_type": "execute_result"
    }
   ],
   "source": [
    "myStr = \"zsdeafdFZAㅁㅏ\"\n",
    "[min(myStr), max(myStr)]"
   ]
  },
  {
   "cell_type": "markdown",
   "id": "6093ae5a",
   "metadata": {},
   "source": [
    "튜플과 세트에서 활용"
   ]
  },
  {
   "cell_type": "code",
   "execution_count": 220,
   "id": "74c98a6d",
   "metadata": {},
   "outputs": [
    {
     "data": {
      "text/plain": [
       "[0, 99.5]"
      ]
     },
     "execution_count": 220,
     "metadata": {},
     "output_type": "execute_result"
    }
   ],
   "source": [
    "myNum = (10, 5, 12, 0, 3.5, 99.5, 42)\n",
    "[min(myNum), max(myNum)]"
   ]
  },
  {
   "cell_type": "code",
   "execution_count": 222,
   "id": "f73c8079",
   "metadata": {},
   "outputs": [
    {
     "data": {
      "text/plain": [
       "['Abc', 'efg']"
      ]
     },
     "execution_count": 222,
     "metadata": {},
     "output_type": "execute_result"
    }
   ],
   "source": [
    "myNum = {\"Abc\", \"abc\", \"bcd\", \"efg\"}\n",
    "[min(myNum), max(myNum)]"
   ]
  },
  {
   "cell_type": "markdown",
   "id": "7fba621b",
   "metadata": {},
   "source": [
    "#### 절댓값과 전체합을 구하는 함수"
   ]
  },
  {
   "cell_type": "markdown",
   "id": "324048d7",
   "metadata": {},
   "source": [
    "절댓값 0에서부터 얼마나 떨어져 있는지"
   ]
  },
  {
   "cell_type": "code",
   "execution_count": 224,
   "id": "2adc3457",
   "metadata": {},
   "outputs": [
    {
     "data": {
      "text/plain": [
       "[10, 10]"
      ]
     },
     "execution_count": 224,
     "metadata": {},
     "output_type": "execute_result"
    }
   ],
   "source": [
    "[abs(10), abs(-10)]"
   ]
  },
  {
   "cell_type": "code",
   "execution_count": 226,
   "id": "62a73df7",
   "metadata": {},
   "outputs": [
    {
     "data": {
      "text/plain": [
       "[2.45, 2.45]"
      ]
     },
     "execution_count": 226,
     "metadata": {},
     "output_type": "execute_result"
    }
   ],
   "source": [
    "[abs(2.45), abs(-2.45)]"
   ]
  },
  {
   "cell_type": "code",
   "execution_count": 228,
   "id": "3dca52f4",
   "metadata": {},
   "outputs": [
    {
     "data": {
      "text/plain": [
       "55"
      ]
     },
     "execution_count": 228,
     "metadata": {},
     "output_type": "execute_result"
    }
   ],
   "source": [
    "sumList = [1,2,3,4,5,6,7,8,9,10]\n",
    "sum(sumList)"
   ]
  },
  {
   "cell_type": "markdown",
   "id": "35c258d3",
   "metadata": {},
   "source": [
    "#### 항목의 개수를 구하는 함수"
   ]
  },
  {
   "cell_type": "code",
   "execution_count": 230,
   "id": "c405a32c",
   "metadata": {},
   "outputs": [
    {
     "data": {
      "text/plain": [
       "5"
      ]
     },
     "execution_count": 230,
     "metadata": {},
     "output_type": "execute_result"
    }
   ],
   "source": [
    "len(\"ab cd\")"
   ]
  },
  {
   "cell_type": "code",
   "execution_count": 231,
   "id": "5f946270",
   "metadata": {},
   "outputs": [
    {
     "data": {
      "text/plain": [
       "8"
      ]
     },
     "execution_count": 231,
     "metadata": {},
     "output_type": "execute_result"
    }
   ],
   "source": [
    "len([1,2,3,4,5,6,7,8])"
   ]
  },
  {
   "cell_type": "code",
   "execution_count": 232,
   "id": "3b4bbeb9",
   "metadata": {},
   "outputs": [
    {
     "data": {
      "text/plain": [
       "5"
      ]
     },
     "execution_count": 232,
     "metadata": {},
     "output_type": "execute_result"
    }
   ],
   "source": [
    "len((1,2,3,4,5))"
   ]
  },
  {
   "cell_type": "code",
   "execution_count": 233,
   "id": "8fa4c688",
   "metadata": {},
   "outputs": [
    {
     "data": {
      "text/plain": [
       "5"
      ]
     },
     "execution_count": 233,
     "metadata": {},
     "output_type": "execute_result"
    }
   ],
   "source": [
    "len({1,2,3,4,5})"
   ]
  },
  {
   "cell_type": "code",
   "execution_count": 234,
   "id": "ba2e62b5",
   "metadata": {},
   "outputs": [
    {
     "data": {
      "text/plain": [
       "3"
      ]
     },
     "execution_count": 234,
     "metadata": {},
     "output_type": "execute_result"
    }
   ],
   "source": [
    "len({1:\"Thomas\", 2:\"Edward\", 3:\"Jhon\"})"
   ]
  },
  {
   "cell_type": "markdown",
   "id": "604a8093",
   "metadata": {},
   "source": [
    "#### 내장함수 활용"
   ]
  },
  {
   "cell_type": "markdown",
   "id": "9e14ee0c",
   "metadata": {},
   "source": [
    "사용하지 않은 경우"
   ]
  },
  {
   "cell_type": "code",
   "execution_count": 247,
   "id": "968aa485",
   "metadata": {},
   "outputs": [
    {
     "name": "stdout",
     "output_type": "stream",
     "text": [
      "총점:350, 평균:87.5\n"
     ]
    }
   ],
   "source": [
    "scores = [90, 80, 95, 85]\n",
    "\n",
    "score_sum = 0\n",
    "subject_num = 0\n",
    "for score in scores:\n",
    "    score_sum = score_sum + score\n",
    "    subject_num = subject_num + 1\n",
    "    \n",
    "average = score_sum / subject_num\n",
    "\n",
    "print(\"총점:{0}, 평균:{1}\".format(score_sum, average))"
   ]
  },
  {
   "cell_type": "markdown",
   "id": "5321bc96",
   "metadata": {},
   "source": [
    "사용하는 경우"
   ]
  },
  {
   "cell_type": "code",
   "execution_count": 250,
   "id": "2dce2b54",
   "metadata": {},
   "outputs": [
    {
     "name": "stdout",
     "output_type": "stream",
     "text": [
      "총점:350, 평균:87.5\n"
     ]
    }
   ],
   "source": [
    "scores = [90, 80, 95, 85]\n",
    "print(\"총점:{0}, 평균:{1}\".format(sum(scores), sum(scores)/len(scores)))"
   ]
  },
  {
   "cell_type": "code",
   "execution_count": 254,
   "id": "06240ab9",
   "metadata": {},
   "outputs": [
    {
     "name": "stdout",
     "output_type": "stream",
     "text": [
      "최하점수:80, 최고점수:95\n"
     ]
    }
   ],
   "source": [
    "print(\"최하점수:{0}, 최고점수:{1}\".format(min(scores), max(scores)))"
   ]
  }
 ],
 "metadata": {
  "kernelspec": {
   "display_name": "Python 3 (ipykernel)",
   "language": "python",
   "name": "python3"
  },
  "language_info": {
   "codemirror_mode": {
    "name": "ipython",
    "version": 3
   },
   "file_extension": ".py",
   "mimetype": "text/x-python",
   "name": "python",
   "nbconvert_exporter": "python",
   "pygments_lexer": "ipython3",
   "version": "3.9.13"
  }
 },
 "nbformat": 4,
 "nbformat_minor": 5
}
