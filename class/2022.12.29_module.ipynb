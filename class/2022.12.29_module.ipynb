{
 "cells": [
  {
   "cell_type": "markdown",
   "id": "8bf3443a",
   "metadata": {},
   "source": [
    "# 10장"
   ]
  },
  {
   "cell_type": "markdown",
   "id": "05a1eb58",
   "metadata": {},
   "source": [
    "### 10.1 모듈을 사용하는 이유"
   ]
  },
  {
   "cell_type": "markdown",
   "id": "20db74e8",
   "metadata": {},
   "source": [
    "#### 모듈 만들기"
   ]
  },
  {
   "cell_type": "markdown",
   "id": "5c4aff90",
   "metadata": {},
   "source": [
    "%%writefile [-a] file.py   \n",
    "<코드블록>   \n",
    "-a 옵션을 사용하지 않을 경우 같은 파일의 이름이 있으면 덮어씀. 있을 경우 뒤에 추가"
   ]
  },
  {
   "cell_type": "markdown",
   "id": "f73a96b2",
   "metadata": {},
   "source": [
    "저장된 파이썬 코드 불러오기    \n",
    "\n",
    "%load file.py   \n",
    "지정된 코드 파일('file.py')을 읽어서 코드 셀에 표시함   \n",
    "%run file.py   \n",
    "지정된 파이썬 코드 파일('file.py')을 실행함\n"
   ]
  },
  {
   "cell_type": "code",
   "execution_count": 2,
   "id": "b3540fdd",
   "metadata": {},
   "outputs": [
    {
     "name": "stdout",
     "output_type": "stream",
     "text": [
      "Writing C:\\myPyCode\\my_first_module.py\n"
     ]
    }
   ],
   "source": [
    "%%writefile C:\\myPyCode\\my_first_module.py\n",
    "# File name: my_first_module.py\n",
    "\n",
    "def my_function():\n",
    "    print(\"This is my first module\")"
   ]
  },
  {
   "cell_type": "code",
   "execution_count": 3,
   "id": "f482668a",
   "metadata": {},
   "outputs": [
    {
     "name": "stdout",
     "output_type": "stream",
     "text": [
      "# File name: my_first_module.py\n",
      "\n",
      "def my_function():\n",
      "    print(\"This is my first module\")\n"
     ]
    }
   ],
   "source": [
    "!type C:\\myPyCode\\my_first_module.py"
   ]
  },
  {
   "cell_type": "markdown",
   "id": "8efd23ad",
   "metadata": {},
   "source": [
    "---"
   ]
  },
  {
   "cell_type": "markdown",
   "id": "a42e7943",
   "metadata": {},
   "source": [
    "#### 모듈 불러오기"
   ]
  },
  {
   "cell_type": "markdown",
   "id": "9c1b55d1",
   "metadata": {},
   "source": [
    "폴더로 이동해서 사용하기"
   ]
  },
  {
   "cell_type": "markdown",
   "id": "01a58910",
   "metadata": {},
   "source": [
    "모듈명.함수()"
   ]
  },
  {
   "cell_type": "code",
   "execution_count": 179,
   "id": "d7e7e4e4",
   "metadata": {},
   "outputs": [
    {
     "name": "stdout",
     "output_type": "stream",
     "text": [
      "C:\\myPyCode\n"
     ]
    }
   ],
   "source": [
    "cd C:\\myPyCode"
   ]
  },
  {
   "cell_type": "code",
   "execution_count": 9,
   "id": "776f7a92",
   "metadata": {},
   "outputs": [
    {
     "name": "stdout",
     "output_type": "stream",
     "text": [
      "This is my first module\n"
     ]
    }
   ],
   "source": [
    "import my_first_module #불러오기\n",
    "my_first_module.my_function()"
   ]
  },
  {
   "cell_type": "markdown",
   "id": "65214fe4",
   "metadata": {},
   "source": [
    "---"
   ]
  },
  {
   "cell_type": "markdown",
   "id": "e776e222",
   "metadata": {},
   "source": [
    "#### 환경 변수 설정 확인"
   ]
  },
  {
   "cell_type": "code",
   "execution_count": 10,
   "id": "3432b268",
   "metadata": {},
   "outputs": [
    {
     "name": "stdout",
     "output_type": "stream",
     "text": [
      "C:\\myPyCode\\packages;C:\\myPyCode\\modules\n"
     ]
    }
   ],
   "source": [
    "!echo %PYTHONPATH%"
   ]
  },
  {
   "cell_type": "code",
   "execution_count": 13,
   "id": "39418719",
   "metadata": {},
   "outputs": [
    {
     "name": "stdout",
     "output_type": "stream",
     "text": [
      "Writing C:\\myPyCode\\modules\\my_area.py\n"
     ]
    }
   ],
   "source": [
    "%%writefile C:\\myPyCode\\modules\\my_area.py\n",
    "# File name: my_area.py\n",
    "\n",
    "PI = 3.14\n",
    "def square_area(a): #정사각형의 넓이 반환\n",
    "    return a ** 2\n",
    "\n",
    "def circle_area(r): #원의 넓이 반환\n",
    "    return PI * r ** 2"
   ]
  },
  {
   "cell_type": "code",
   "execution_count": 14,
   "id": "041c732b",
   "metadata": {},
   "outputs": [
    {
     "name": "stdout",
     "output_type": "stream",
     "text": [
      "C:\\myPyCode\n"
     ]
    }
   ],
   "source": [
    "cd C:\\myPyCode"
   ]
  },
  {
   "cell_type": "markdown",
   "id": "a1c6b464",
   "metadata": {},
   "source": [
    "---"
   ]
  },
  {
   "cell_type": "markdown",
   "id": "0cc8838c",
   "metadata": {},
   "source": [
    "#### 다른 폴더에서 모듈 불러오기"
   ]
  },
  {
   "cell_type": "code",
   "execution_count": 16,
   "id": "0371b88b",
   "metadata": {},
   "outputs": [
    {
     "name": "stdout",
     "output_type": "stream",
     "text": [
      "pi = 3.14\n",
      "square area = 25\n",
      "circle area = 12.56\n"
     ]
    }
   ],
   "source": [
    "import my_area\n",
    "\n",
    "print('pi =', my_area.PI)\n",
    "print('square area =', my_area.square_area(5))\n",
    "print('circle area =', my_area.circle_area(2))"
   ]
  },
  {
   "cell_type": "code",
   "execution_count": 17,
   "id": "3092b6da",
   "metadata": {},
   "outputs": [
    {
     "data": {
      "text/plain": [
       "['PI',\n",
       " '__builtins__',\n",
       " '__cached__',\n",
       " '__doc__',\n",
       " '__file__',\n",
       " '__loader__',\n",
       " '__name__',\n",
       " '__package__',\n",
       " '__spec__',\n",
       " 'circle_area',\n",
       " 'square_area']"
      ]
     },
     "execution_count": 17,
     "metadata": {},
     "output_type": "execute_result"
    }
   ],
   "source": [
    "dir(my_area)"
   ]
  },
  {
   "cell_type": "markdown",
   "id": "7da7280e",
   "metadata": {},
   "source": [
    "---"
   ]
  },
  {
   "cell_type": "markdown",
   "id": "6550a195",
   "metadata": {},
   "source": [
    "#### 모듈을 불러오는 다른 형식"
   ]
  },
  {
   "cell_type": "markdown",
   "id": "45022e2f",
   "metadata": {},
   "source": [
    "모듈의 내용 바로 선언"
   ]
  },
  {
   "cell_type": "markdown",
   "id": "aa78a0b7",
   "metadata": {},
   "source": [
    "from 모듈명 import 변수명   \n",
    "from 모듈명 import 함수명   \n",
    "from 모듈명 import 클래스명"
   ]
  },
  {
   "cell_type": "code",
   "execution_count": 25,
   "id": "d04a83b1",
   "metadata": {},
   "outputs": [
    {
     "name": "stdout",
     "output_type": "stream",
     "text": [
      "pi = 3.14\n"
     ]
    }
   ],
   "source": [
    "from my_area import PI #모듈의 변수 바로 불러오기\n",
    "print('pi =', PI) #모듈의 변수이용"
   ]
  },
  {
   "cell_type": "code",
   "execution_count": 29,
   "id": "fc5a19b0",
   "metadata": {},
   "outputs": [
    {
     "name": "stdout",
     "output_type": "stream",
     "text": [
      "square area = 25\n",
      "circle area = 12.56\n"
     ]
    }
   ],
   "source": [
    "from my_area import square_area\n",
    "from my_area import circle_area\n",
    "\n",
    "print('square area =', square_area(5))\n",
    "print('circle area =', circle_area(2))"
   ]
  },
  {
   "cell_type": "markdown",
   "id": "8103176b",
   "metadata": {},
   "source": [
    "여러개 동시 선언은,(콤마)로 구분하여 가능"
   ]
  },
  {
   "cell_type": "code",
   "execution_count": 30,
   "id": "7fc68209",
   "metadata": {},
   "outputs": [
    {
     "name": "stdout",
     "output_type": "stream",
     "text": [
      "pi = 3.14\n",
      "square area = 25\n",
      "circle area = 12.56\n"
     ]
    }
   ],
   "source": [
    "from my_area import PI, square_area, circle_area\n",
    "\n",
    "print(\"pi =\", PI)\n",
    "print('square area =', square_area(5))\n",
    "print('circle area =', circle_area(2))"
   ]
  },
  {
   "cell_type": "markdown",
   "id": "74d7643f",
   "metadata": {},
   "source": [
    "모듈의 모든 변수, 함수, 클래스를 모듈명 없이 바로 사용하고 싶을 경우(*)"
   ]
  },
  {
   "cell_type": "code",
   "execution_count": 31,
   "id": "ef044796",
   "metadata": {},
   "outputs": [
    {
     "name": "stdout",
     "output_type": "stream",
     "text": [
      "pi = 3.14\n",
      "square area = 25\n",
      "circle area = 12.56\n"
     ]
    }
   ],
   "source": [
    "from my_area import *\n",
    "\n",
    "print(\"pi =\", PI)\n",
    "print('square area =', square_area(5))\n",
    "print('circle area =', circle_area(2))"
   ]
  },
  {
   "cell_type": "markdown",
   "id": "adf7c42d",
   "metadata": {},
   "source": [
    "*** 여러 모듈을 사용 시 주의사항"
   ]
  },
  {
   "cell_type": "code",
   "execution_count": 33,
   "id": "8ecd7c23",
   "metadata": {},
   "outputs": [
    {
     "name": "stdout",
     "output_type": "stream",
     "text": [
      "Writing C:\\myPyCode\\modules\\my_module1.py\n"
     ]
    }
   ],
   "source": [
    "%%writefile C:\\myPyCode\\modules\\my_module1.py\n",
    "    \n",
    "def func1():\n",
    "    print(\"func1 in my_module1 \")\n",
    "\n",
    "def func2():\n",
    "    print(\"func2 in my_module1 \")"
   ]
  },
  {
   "cell_type": "code",
   "execution_count": 34,
   "id": "7253abb3",
   "metadata": {},
   "outputs": [
    {
     "name": "stdout",
     "output_type": "stream",
     "text": [
      "Writing C:\\myPyCode\\modules\\my_module2.py\n"
     ]
    }
   ],
   "source": [
    "%%writefile C:\\myPyCode\\modules\\my_module2.py\n",
    "    \n",
    "def func2():\n",
    "    print(\"func2 in my module2 \")\n",
    "\n",
    "def func3():\n",
    "    print(\"func3 in my module2\")"
   ]
  },
  {
   "cell_type": "code",
   "execution_count": 35,
   "id": "78482e2e",
   "metadata": {},
   "outputs": [
    {
     "name": "stdout",
     "output_type": "stream",
     "text": [
      "func1 in my_module1 \n",
      "func2 in my module2 \n",
      "func3 in my module2\n"
     ]
    }
   ],
   "source": [
    "from my_module1 import *\n",
    "from my_module2 import *\n",
    "\n",
    "func1()\n",
    "func2()\n",
    "func3()"
   ]
  },
  {
   "cell_type": "code",
   "execution_count": 36,
   "id": "6593b25b",
   "metadata": {},
   "outputs": [
    {
     "name": "stdout",
     "output_type": "stream",
     "text": [
      "func1 in my_module1 \n",
      "func2 in my_module1 \n",
      "func3 in my module2\n"
     ]
    }
   ],
   "source": [
    "from my_module2 import *\n",
    "from my_module1 import *\n",
    "\n",
    "func1()\n",
    "func2()\n",
    "func3()"
   ]
  },
  {
   "cell_type": "code",
   "execution_count": 38,
   "id": "1f7adc1e",
   "metadata": {},
   "outputs": [
    {
     "name": "stdout",
     "output_type": "stream",
     "text": [
      "func1 in my_module1 \n",
      "func2 in my_module1 \n",
      "func3 in my module2\n"
     ]
    }
   ],
   "source": [
    "from my_module1 import func1, func2\n",
    "from my_module2 import func3\n",
    "\n",
    "func1()\n",
    "func2()\n",
    "func3()"
   ]
  },
  {
   "cell_type": "markdown",
   "id": "54cdcce1",
   "metadata": {},
   "source": [
    "#### 모듈명을 별명으로 선언"
   ]
  },
  {
   "cell_type": "markdown",
   "id": "707bab45",
   "metadata": {},
   "source": [
    "import 모듈명 as 별명"
   ]
  },
  {
   "cell_type": "code",
   "execution_count": 41,
   "id": "13abca24",
   "metadata": {},
   "outputs": [
    {
     "name": "stdout",
     "output_type": "stream",
     "text": [
      "pi = 3.14\n",
      "square area = 25\n",
      "circle area = 12.56\n"
     ]
    }
   ],
   "source": [
    "import my_area as area #모듈명에 별명을 붙임\n",
    "\n",
    "print(\"pi =\", area.PI)\n",
    "print('square area =', area.square_area(5))\n",
    "print('circle area =', area.circle_area(2))"
   ]
  },
  {
   "cell_type": "code",
   "execution_count": 43,
   "id": "1fd80e55",
   "metadata": {},
   "outputs": [
    {
     "name": "stdout",
     "output_type": "stream",
     "text": [
      "pi = 3.14\n",
      "square area = 25\n",
      "circle area = 12.56\n"
     ]
    }
   ],
   "source": [
    "from my_area import PI as pi\n",
    "from my_area import square_area as square\n",
    "from my_area import circle_area as circle\n",
    "\n",
    "\n",
    "print(\"pi =\", pi)\n",
    "print('square area =', square(5))\n",
    "print('circle area =', circle(2))"
   ]
  },
  {
   "cell_type": "markdown",
   "id": "49cade2d",
   "metadata": {},
   "source": [
    "### 10.3 모듈을 직접 실행하는 경우와 임포트한 후 실행하는 경우 구분"
   ]
  },
  {
   "cell_type": "code",
   "execution_count": 50,
   "id": "9d654560",
   "metadata": {},
   "outputs": [
    {
     "name": "stdout",
     "output_type": "stream",
     "text": [
      "Overwriting C:\\myPyCode\\modules\\my_module_test1.py\n"
     ]
    }
   ],
   "source": [
    "%%writefile C:\\myPyCode\\modules\\my_module_test1.py\n",
    "    \n",
    "def func(a):\n",
    "    print(\"입력숫자:\", a)\n",
    "\n",
    "func(3)"
   ]
  },
  {
   "cell_type": "markdown",
   "id": "005758b1",
   "metadata": {},
   "source": [
    "*** 원래는 func(3)과 같은 실행되는 코드 있으면 안돼   \n",
    "남기고 싶으면 주석처리하기,,   \n",
    "print 중간 테스트 용도야"
   ]
  },
  {
   "cell_type": "code",
   "execution_count": 51,
   "id": "4b1e5b64",
   "metadata": {},
   "outputs": [
    {
     "name": "stdout",
     "output_type": "stream",
     "text": [
      "입력숫자: 3\n"
     ]
    }
   ],
   "source": [
    "%run C:\\myPyCode\\modules\\my_module_test1.py"
   ]
  },
  {
   "cell_type": "code",
   "execution_count": 52,
   "id": "0ad82851",
   "metadata": {},
   "outputs": [],
   "source": [
    "import my_module_test1"
   ]
  },
  {
   "cell_type": "code",
   "execution_count": 53,
   "id": "365f949a",
   "metadata": {},
   "outputs": [
    {
     "name": "stdout",
     "output_type": "stream",
     "text": [
      "Writing C:\\myPyCode\\modules\\my_module_test2.py\n"
     ]
    }
   ],
   "source": [
    "%%writefile C:\\myPyCode\\modules\\my_module_test2.py\n",
    "    \n",
    "def func(a):\n",
    "    print(\"입력 숫자:\", a)\n",
    "    \n",
    "if __name__ == \"__main__\": #직접 수행 할 때만 실행되는 코드\n",
    "    print(\"모듈을 직접 실행\")\n",
    "    func(3)\n",
    "    func(4)"
   ]
  },
  {
   "cell_type": "code",
   "execution_count": 54,
   "id": "3e1c9c14",
   "metadata": {},
   "outputs": [
    {
     "name": "stdout",
     "output_type": "stream",
     "text": [
      "모듈을 직접 실행\n",
      "입력 숫자: 3\n",
      "입력 숫자: 4\n"
     ]
    }
   ],
   "source": [
    "%run C:\\myPyCode\\modules\\my_module_test2.py"
   ]
  },
  {
   "cell_type": "code",
   "execution_count": 56,
   "id": "ffff9b0a",
   "metadata": {},
   "outputs": [],
   "source": [
    "import my_module_test2"
   ]
  },
  {
   "cell_type": "code",
   "execution_count": 57,
   "id": "631379d8",
   "metadata": {},
   "outputs": [
    {
     "name": "stdout",
     "output_type": "stream",
     "text": [
      "Writing C:\\myPyCode\\modules\\my_module_test3.py\n"
     ]
    }
   ],
   "source": [
    "%%writefile C:\\myPyCode\\modules\\my_module_test3.py\n",
    "    \n",
    "def func(a):\n",
    "    print(\"입력 숫자:\", a)\n",
    "    \n",
    "if __name__ == \"__main__\": #직접 수행 할 때만 실행되는 코드\n",
    "    print(\"모듈을 직접 실행\")\n",
    "    func(3)\n",
    "    func(4)\n",
    "    \n",
    "else:\n",
    "    print(\"모듈을 임포트해서 실행\")"
   ]
  },
  {
   "cell_type": "code",
   "execution_count": 58,
   "id": "ee284f9c",
   "metadata": {},
   "outputs": [
    {
     "name": "stdout",
     "output_type": "stream",
     "text": [
      "모듈을 직접 실행\n",
      "입력 숫자: 3\n",
      "입력 숫자: 4\n"
     ]
    }
   ],
   "source": [
    "%run C:\\myPyCode\\modules\\my_module_test3.py"
   ]
  },
  {
   "cell_type": "markdown",
   "id": "7bca2a59",
   "metadata": {},
   "source": [
    "### 10.4 내장 모듈"
   ]
  },
  {
   "cell_type": "markdown",
   "id": "7737722f",
   "metadata": {},
   "source": [
    "내장 모듈? 파이썬에서 개발환경을 설치할 때 함께 설치되는 모듈"
   ]
  },
  {
   "cell_type": "markdown",
   "id": "7d5783c9",
   "metadata": {},
   "source": [
    "#### 난수 발생 모듈"
   ]
  },
  {
   "cell_type": "markdown",
   "id": "e3385b9c",
   "metadata": {},
   "source": [
    "random()   \n",
    "0.0 <=실수< 1.0 범위의 임의의 실수를 반환"
   ]
  },
  {
   "cell_type": "code",
   "execution_count": 61,
   "id": "5a6d2fe3",
   "metadata": {},
   "outputs": [
    {
     "data": {
      "text/plain": [
       "0.577828609899724"
      ]
     },
     "execution_count": 61,
     "metadata": {},
     "output_type": "execute_result"
    }
   ],
   "source": [
    "import random\n",
    "#반드시 불러온다음에 써야해\n",
    "\n",
    "random.random() #랜덤이라는 모듈 안에 랜덤이라는 함수 사용"
   ]
  },
  {
   "cell_type": "markdown",
   "id": "9850c38a",
   "metadata": {},
   "source": [
    "randint(a,b)a<=정수<=b 범위의 임의의 정수 반환"
   ]
  },
  {
   "cell_type": "code",
   "execution_count": 79,
   "id": "e9acab88",
   "metadata": {},
   "outputs": [
    {
     "name": "stdout",
     "output_type": "stream",
     "text": [
      "주사위 두 개의 숫자:6,6\n"
     ]
    }
   ],
   "source": [
    "import random\n",
    "\n",
    "dice1 = random.randint(1,6)\n",
    "dice2 = random.randint(1,6)\n",
    "\n",
    "print('주사위 두 개의 숫자:{0},{1}'.format(dice1, dice2))"
   ]
  },
  {
   "cell_type": "markdown",
   "id": "f958d410",
   "metadata": {},
   "source": [
    "randrange([start],[stop],[step])에서 임의의 정수를 반환"
   ]
  },
  {
   "cell_type": "code",
   "execution_count": 85,
   "id": "6060fc28",
   "metadata": {},
   "outputs": [
    {
     "data": {
      "text/plain": [
       "0"
      ]
     },
     "execution_count": 85,
     "metadata": {},
     "output_type": "execute_result"
    }
   ],
   "source": [
    "import random\n",
    "\n",
    "random.randrange(0,11,2)"
   ]
  },
  {
   "cell_type": "code",
   "execution_count": 97,
   "id": "44e10e5d",
   "metadata": {},
   "outputs": [
    {
     "name": "stdout",
     "output_type": "stream",
     "text": [
      "num1: 9, num2: 90\n"
     ]
    }
   ],
   "source": [
    "import random\n",
    "\n",
    "num1 = random.randrange(1,10,2)\n",
    "num2 = random.randrange(0,100,10)\n",
    "print('num1: {0}, num2: {1}'.format(num1,num2))"
   ]
  },
  {
   "cell_type": "markdown",
   "id": "a2b5d409",
   "metadata": {},
   "source": [
    "choice(sea)  \n",
    "공백이 아닌 시퀀스에서 임의의 항목을 반환"
   ]
  },
  {
   "cell_type": "code",
   "execution_count": 104,
   "id": "58749654",
   "metadata": {},
   "outputs": [
    {
     "data": {
      "text/plain": [
       "'피자'"
      ]
     },
     "execution_count": 104,
     "metadata": {},
     "output_type": "execute_result"
    }
   ],
   "source": [
    "import random\n",
    "\n",
    "menu = ['비빔밥', '된장찌개', '볶음밥', '불고기', '스파게티', '피자', '탕수육']\n",
    "random.choice(menu)"
   ]
  },
  {
   "cell_type": "markdown",
   "id": "5c6a5bfb",
   "metadata": {},
   "source": [
    "sample(population,k)   \n",
    "시퀀스로 이루어진 모집단(population)에서 중복되지 않는 k개의 인자를 반환"
   ]
  },
  {
   "cell_type": "code",
   "execution_count": 108,
   "id": "6ec4538c",
   "metadata": {},
   "outputs": [
    {
     "data": {
      "text/plain": [
       "[5, 3]"
      ]
     },
     "execution_count": 108,
     "metadata": {},
     "output_type": "execute_result"
    }
   ],
   "source": [
    "import random\n",
    "\n",
    "random.sample([1,2,3,4,5],2)"
   ]
  },
  {
   "cell_type": "code",
   "execution_count": 109,
   "id": "e9f0b135",
   "metadata": {},
   "outputs": [],
   "source": [
    "a = 12345"
   ]
  },
  {
   "cell_type": "code",
   "execution_count": 110,
   "id": "696952d3",
   "metadata": {},
   "outputs": [
    {
     "data": {
      "text/plain": [
       "'12345'"
      ]
     },
     "execution_count": 110,
     "metadata": {},
     "output_type": "execute_result"
    }
   ],
   "source": [
    "str(a)"
   ]
  },
  {
   "cell_type": "code",
   "execution_count": 111,
   "id": "fe59ddf7",
   "metadata": {
    "scrolled": true
   },
   "outputs": [
    {
     "data": {
      "text/plain": [
       "['1', '2', '3', '4', '5']"
      ]
     },
     "execution_count": 111,
     "metadata": {},
     "output_type": "execute_result"
    }
   ],
   "source": [
    "list(str(a))"
   ]
  },
  {
   "cell_type": "markdown",
   "id": "3e01dbd8",
   "metadata": {},
   "source": [
    "---"
   ]
  },
  {
   "cell_type": "markdown",
   "id": "78974ca4",
   "metadata": {},
   "source": [
    "#### 날짜 및 시간 관련 처리 모듈"
   ]
  },
  {
   "cell_type": "markdown",
   "id": "022f9a0f",
   "metadata": {},
   "source": [
    "import datetime\n",
    "\n",
    "date_obj = datetime.date(year,month, day)   \n",
    "time_obj = datetime.time(hour, minute, second)   \n",
    "datetime_obj = datetime.datetime(year, month, day, hour, minute, second)"
   ]
  },
  {
   "cell_type": "code",
   "execution_count": 114,
   "id": "643dd36c",
   "metadata": {},
   "outputs": [
    {
     "name": "stdout",
     "output_type": "stream",
     "text": [
      "2022-12-28\n"
     ]
    }
   ],
   "source": [
    "import datetime\n",
    "\n",
    "set_day = datetime.date(2022,12,28)\n",
    "print(set_day)"
   ]
  },
  {
   "cell_type": "code",
   "execution_count": 115,
   "id": "cc86edf6",
   "metadata": {},
   "outputs": [
    {
     "name": "stdout",
     "output_type": "stream",
     "text": [
      "2022/12/28\n"
     ]
    }
   ],
   "source": [
    "print('{0}/{1}/{2}'.format(set_day.year, set_day.month, set_day.day))"
   ]
  },
  {
   "cell_type": "code",
   "execution_count": 122,
   "id": "40f49739",
   "metadata": {},
   "outputs": [
    {
     "name": "stdout",
     "output_type": "stream",
     "text": [
      "100 days, 0:00:00\n"
     ]
    }
   ],
   "source": [
    "import datetime\n",
    "\n",
    "day1 = datetime.date(2019,4,1)\n",
    "day2 = datetime.date(2019,7,10)\n",
    "diff_day = day2 - day1\n",
    "print(diff_day)"
   ]
  },
  {
   "cell_type": "code",
   "execution_count": 118,
   "id": "0848c04b",
   "metadata": {},
   "outputs": [
    {
     "data": {
      "text/plain": [
       "datetime.date"
      ]
     },
     "execution_count": 118,
     "metadata": {},
     "output_type": "execute_result"
    }
   ],
   "source": [
    "type(day1)"
   ]
  },
  {
   "cell_type": "code",
   "execution_count": 119,
   "id": "4abd96a2",
   "metadata": {},
   "outputs": [
    {
     "data": {
      "text/plain": [
       "datetime.timedelta"
      ]
     },
     "execution_count": 119,
     "metadata": {},
     "output_type": "execute_result"
    }
   ],
   "source": [
    "type(diff_day)"
   ]
  },
  {
   "cell_type": "code",
   "execution_count": 125,
   "id": "fb326ba6",
   "metadata": {},
   "outputs": [
    {
     "name": "stdout",
     "output_type": "stream",
     "text": [
      "** 지정된 두 날짜의 차이는 100일입니다.**\n"
     ]
    }
   ],
   "source": [
    "print(\"** 지정된 두 날짜의 차이는 {}일입니다.**\".format(diff_day.days))"
   ]
  },
  {
   "cell_type": "markdown",
   "id": "16ff5970",
   "metadata": {},
   "source": [
    "오늘 날짜 반환하는 클래스 메서드 today()"
   ]
  },
  {
   "cell_type": "code",
   "execution_count": 126,
   "id": "61a0f8a1",
   "metadata": {},
   "outputs": [
    {
     "name": "stdout",
     "output_type": "stream",
     "text": [
      "2022-12-29\n"
     ]
    }
   ],
   "source": [
    "import datetime\n",
    "\n",
    "print(datetime.date.today())"
   ]
  },
  {
   "cell_type": "markdown",
   "id": "6dc5a832",
   "metadata": {},
   "source": [
    "오늘과 특정 날짜의 차이 구하기"
   ]
  },
  {
   "cell_type": "code",
   "execution_count": 129,
   "id": "04ee0d46",
   "metadata": {},
   "outputs": [
    {
     "name": "stdout",
     "output_type": "stream",
     "text": [
      "9219 days, 0:00:00\n"
     ]
    }
   ],
   "source": [
    "import datetime\n",
    "\n",
    "today = datetime.date.today()\n",
    "special_day = datetime.date(1997,10,2)\n",
    "print(today-special_day)"
   ]
  },
  {
   "cell_type": "markdown",
   "id": "6652d50f",
   "metadata": {},
   "source": [
    "시간과 관련된 처리를 할 수 있는 time 클래스"
   ]
  },
  {
   "cell_type": "code",
   "execution_count": 131,
   "id": "bfc38a9a",
   "metadata": {},
   "outputs": [
    {
     "name": "stdout",
     "output_type": "stream",
     "text": [
      "15:30:45\n"
     ]
    }
   ],
   "source": [
    "import datetime\n",
    "\n",
    "set_time = datetime.time(15,30,45)\n",
    "print(set_time)"
   ]
  },
  {
   "cell_type": "code",
   "execution_count": 134,
   "id": "e884282e",
   "metadata": {},
   "outputs": [
    {
     "name": "stdout",
     "output_type": "stream",
     "text": [
      "15:30:45\n"
     ]
    }
   ],
   "source": [
    "print('{0}:{1}:{2}'.format(set_time.hour, set_time.minute, set_time.second))"
   ]
  },
  {
   "cell_type": "markdown",
   "id": "7fae8b01",
   "metadata": {},
   "source": [
    "datetime 두 개 동시에 갖고 있어"
   ]
  },
  {
   "cell_type": "code",
   "execution_count": 135,
   "id": "38af4a31",
   "metadata": {},
   "outputs": [
    {
     "name": "stdout",
     "output_type": "stream",
     "text": [
      "2018-10-09 10:20:00\n"
     ]
    }
   ],
   "source": [
    "import datetime\n",
    "\n",
    "set_dt = datetime.datetime(2018,10,9,10,20,0)\n",
    "print(set_dt)"
   ]
  },
  {
   "cell_type": "code",
   "execution_count": 141,
   "id": "09070cb4",
   "metadata": {},
   "outputs": [
    {
     "name": "stdout",
     "output_type": "stream",
     "text": [
      "날짜 2018/10/9\n",
      "시각 10:20:0\n"
     ]
    }
   ],
   "source": [
    "print('날짜 {0}/{1}/{2}'.format(set_dt.year, set_dt.month, set_dt.day))\n",
    "print('시각 {0}:{1}:{2}'.format(set_dt.hour, set_dt.minute, set_dt.second))"
   ]
  },
  {
   "cell_type": "markdown",
   "id": "93eef921",
   "metadata": {},
   "source": [
    "현재 날짜와 시간 불러오기"
   ]
  },
  {
   "cell_type": "code",
   "execution_count": 145,
   "id": "382f8e87",
   "metadata": {},
   "outputs": [
    {
     "name": "stdout",
     "output_type": "stream",
     "text": [
      "2022-12-29 14:29:06.763576\n"
     ]
    }
   ],
   "source": [
    "import datetime\n",
    "\n",
    "now = datetime.datetime.now()\n",
    "print(now)"
   ]
  },
  {
   "cell_type": "markdown",
   "id": "4133c18e",
   "metadata": {},
   "source": [
    "양식을 지정해서 출력하기 {: }"
   ]
  },
  {
   "cell_type": "code",
   "execution_count": 146,
   "id": "9c939919",
   "metadata": {},
   "outputs": [
    {
     "name": "stdout",
     "output_type": "stream",
     "text": [
      "Date & Time: 2022-29-29, 14:29,06\n"
     ]
    }
   ],
   "source": [
    "print(\"Date & Time: {:%Y-%M-%d, %H:%M,%S}\".format(now))"
   ]
  },
  {
   "cell_type": "code",
   "execution_count": 150,
   "id": "741eb13a",
   "metadata": {},
   "outputs": [
    {
     "name": "stdout",
     "output_type": "stream",
     "text": [
      "Date: 2022 --- 12 --- 29\n"
     ]
    }
   ],
   "source": [
    "print(\"Date: {:%Y --- %m --- %d}\".format(now))"
   ]
  },
  {
   "cell_type": "code",
   "execution_count": 151,
   "id": "f2695948",
   "metadata": {},
   "outputs": [
    {
     "name": "stdout",
     "output_type": "stream",
     "text": [
      "현재 날짜 및 시각: 2022-12-29 14:36:17.656201\n",
      "차이: -759 days, 21:54:27.343799\n"
     ]
    }
   ],
   "source": [
    "now = datetime.datetime.now()\n",
    "set_dt = datetime.datetime(2020, 12, 1, 12, 30, 45)\n",
    "\n",
    "print(\"현재 날짜 및 시각:\", now)\n",
    "print(\"차이:\", set_dt - now)"
   ]
  },
  {
   "cell_type": "code",
   "execution_count": 152,
   "id": "bac29e34",
   "metadata": {},
   "outputs": [
    {
     "name": "stdout",
     "output_type": "stream",
     "text": [
      "2019-07-01\n"
     ]
    }
   ],
   "source": [
    "from datetime import date, time, datetime\n",
    "\n",
    "print(date(2019, 7, 1))"
   ]
  },
  {
   "cell_type": "code",
   "execution_count": 202,
   "id": "2c80bcfe",
   "metadata": {},
   "outputs": [
    {
     "name": "stdout",
     "output_type": "stream",
     "text": [
      "2022-12-29\n",
      "15:30:45\n",
      "2020-02-14 18:10:50\n",
      "2022-12-29 15:44:05.342313\n"
     ]
    }
   ],
   "source": [
    "print(date.today())\n",
    "print(time(15,30,45))\n",
    "print(datetime(2020, 2, 14, 18, 10, 50))\n",
    "print(datetime.now())"
   ]
  },
  {
   "cell_type": "markdown",
   "id": "6c415d27",
   "metadata": {},
   "source": [
    "---"
   ]
  },
  {
   "cell_type": "markdown",
   "id": "36d1ecac",
   "metadata": {},
   "source": [
    "#### 달력 생성 및 처리 모듈"
   ]
  },
  {
   "cell_type": "markdown",
   "id": "04778f7a",
   "metadata": {},
   "source": [
    "calendar(year,[m3]) 지정된 연도(year)의 전체 달력을 문자열로 반환(기본 3열)"
   ]
  },
  {
   "cell_type": "code",
   "execution_count": 158,
   "id": "050b6d9d",
   "metadata": {},
   "outputs": [
    {
     "name": "stdout",
     "output_type": "stream",
     "text": [
      "                                  2023\n",
      "\n",
      "      January                   February                   March\n",
      "Mo Tu We Th Fr Sa Su      Mo Tu We Th Fr Sa Su      Mo Tu We Th Fr Sa Su\n",
      "                   1             1  2  3  4  5             1  2  3  4  5\n",
      " 2  3  4  5  6  7  8       6  7  8  9 10 11 12       6  7  8  9 10 11 12\n",
      " 9 10 11 12 13 14 15      13 14 15 16 17 18 19      13 14 15 16 17 18 19\n",
      "16 17 18 19 20 21 22      20 21 22 23 24 25 26      20 21 22 23 24 25 26\n",
      "23 24 25 26 27 28 29      27 28                     27 28 29 30 31\n",
      "30 31\n",
      "\n",
      "       April                      May                       June\n",
      "Mo Tu We Th Fr Sa Su      Mo Tu We Th Fr Sa Su      Mo Tu We Th Fr Sa Su\n",
      "                1  2       1  2  3  4  5  6  7                1  2  3  4\n",
      " 3  4  5  6  7  8  9       8  9 10 11 12 13 14       5  6  7  8  9 10 11\n",
      "10 11 12 13 14 15 16      15 16 17 18 19 20 21      12 13 14 15 16 17 18\n",
      "17 18 19 20 21 22 23      22 23 24 25 26 27 28      19 20 21 22 23 24 25\n",
      "24 25 26 27 28 29 30      29 30 31                  26 27 28 29 30\n",
      "\n",
      "        July                     August                  September\n",
      "Mo Tu We Th Fr Sa Su      Mo Tu We Th Fr Sa Su      Mo Tu We Th Fr Sa Su\n",
      "                1  2          1  2  3  4  5  6                   1  2  3\n",
      " 3  4  5  6  7  8  9       7  8  9 10 11 12 13       4  5  6  7  8  9 10\n",
      "10 11 12 13 14 15 16      14 15 16 17 18 19 20      11 12 13 14 15 16 17\n",
      "17 18 19 20 21 22 23      21 22 23 24 25 26 27      18 19 20 21 22 23 24\n",
      "24 25 26 27 28 29 30      28 29 30 31               25 26 27 28 29 30\n",
      "31\n",
      "\n",
      "      October                   November                  December\n",
      "Mo Tu We Th Fr Sa Su      Mo Tu We Th Fr Sa Su      Mo Tu We Th Fr Sa Su\n",
      "                   1             1  2  3  4  5                   1  2  3\n",
      " 2  3  4  5  6  7  8       6  7  8  9 10 11 12       4  5  6  7  8  9 10\n",
      " 9 10 11 12 13 14 15      13 14 15 16 17 18 19      11 12 13 14 15 16 17\n",
      "16 17 18 19 20 21 22      20 21 22 23 24 25 26      18 19 20 21 22 23 24\n",
      "23 24 25 26 27 28 29      27 28 29 30               25 26 27 28 29 30 31\n",
      "30 31\n",
      "\n"
     ]
    }
   ],
   "source": [
    "import calendar\n",
    "\n",
    "print(calendar.calendar(2023))"
   ]
  },
  {
   "cell_type": "code",
   "execution_count": 159,
   "id": "f8cba7ed",
   "metadata": {},
   "outputs": [
    {
     "name": "stdout",
     "output_type": "stream",
     "text": [
      "                                               2023\n",
      "\n",
      "      January                   February                   March                     April\n",
      "Mo Tu We Th Fr Sa Su      Mo Tu We Th Fr Sa Su      Mo Tu We Th Fr Sa Su      Mo Tu We Th Fr Sa Su\n",
      "                   1             1  2  3  4  5             1  2  3  4  5                      1  2\n",
      " 2  3  4  5  6  7  8       6  7  8  9 10 11 12       6  7  8  9 10 11 12       3  4  5  6  7  8  9\n",
      " 9 10 11 12 13 14 15      13 14 15 16 17 18 19      13 14 15 16 17 18 19      10 11 12 13 14 15 16\n",
      "16 17 18 19 20 21 22      20 21 22 23 24 25 26      20 21 22 23 24 25 26      17 18 19 20 21 22 23\n",
      "23 24 25 26 27 28 29      27 28                     27 28 29 30 31            24 25 26 27 28 29 30\n",
      "30 31\n",
      "\n",
      "        May                       June                      July                     August\n",
      "Mo Tu We Th Fr Sa Su      Mo Tu We Th Fr Sa Su      Mo Tu We Th Fr Sa Su      Mo Tu We Th Fr Sa Su\n",
      " 1  2  3  4  5  6  7                1  2  3  4                      1  2          1  2  3  4  5  6\n",
      " 8  9 10 11 12 13 14       5  6  7  8  9 10 11       3  4  5  6  7  8  9       7  8  9 10 11 12 13\n",
      "15 16 17 18 19 20 21      12 13 14 15 16 17 18      10 11 12 13 14 15 16      14 15 16 17 18 19 20\n",
      "22 23 24 25 26 27 28      19 20 21 22 23 24 25      17 18 19 20 21 22 23      21 22 23 24 25 26 27\n",
      "29 30 31                  26 27 28 29 30            24 25 26 27 28 29 30      28 29 30 31\n",
      "                                                    31\n",
      "\n",
      "     September                  October                   November                  December\n",
      "Mo Tu We Th Fr Sa Su      Mo Tu We Th Fr Sa Su      Mo Tu We Th Fr Sa Su      Mo Tu We Th Fr Sa Su\n",
      "             1  2  3                         1             1  2  3  4  5                   1  2  3\n",
      " 4  5  6  7  8  9 10       2  3  4  5  6  7  8       6  7  8  9 10 11 12       4  5  6  7  8  9 10\n",
      "11 12 13 14 15 16 17       9 10 11 12 13 14 15      13 14 15 16 17 18 19      11 12 13 14 15 16 17\n",
      "18 19 20 21 22 23 24      16 17 18 19 20 21 22      20 21 22 23 24 25 26      18 19 20 21 22 23 24\n",
      "25 26 27 28 29 30         23 24 25 26 27 28 29      27 28 29 30               25 26 27 28 29 30 31\n",
      "                          30 31\n",
      "\n"
     ]
    }
   ],
   "source": [
    "print(calendar.calendar(2023, m=4))"
   ]
  },
  {
   "cell_type": "markdown",
   "id": "3063574b",
   "metadata": {},
   "source": [
    "month(year,month) 지정월을"
   ]
  },
  {
   "cell_type": "code",
   "execution_count": 162,
   "id": "5a2540e2",
   "metadata": {},
   "outputs": [
    {
     "name": "stdout",
     "output_type": "stream",
     "text": [
      "    October 2023\n",
      "Mo Tu We Th Fr Sa Su\n",
      "                   1\n",
      " 2  3  4  5  6  7  8\n",
      " 9 10 11 12 13 14 15\n",
      "16 17 18 19 20 21 22\n",
      "23 24 25 26 27 28 29\n",
      "30 31\n",
      "\n"
     ]
    }
   ],
   "source": [
    "print(calendar.month(2023,10))"
   ]
  },
  {
   "cell_type": "markdown",
   "id": "c0ac1526",
   "metadata": {},
   "source": [
    "monthrnage(year, month) 지정된 연도와 월의 시작 요일과 일수 반환   \n",
    "요일의 경우 0(월요일) ~ 6(일요일) 사이의 숫자로 반환"
   ]
  },
  {
   "cell_type": "code",
   "execution_count": 166,
   "id": "2810d30c",
   "metadata": {},
   "outputs": [
    {
     "name": "stdout",
     "output_type": "stream",
     "text": [
      "(0, 28)\n"
     ]
    }
   ],
   "source": [
    "print(calendar.monthrange(2021,2))"
   ]
  },
  {
   "cell_type": "markdown",
   "id": "c603d226",
   "metadata": {},
   "source": [
    "firstweekday() 일주일의 시작 요일 구하기"
   ]
  },
  {
   "cell_type": "code",
   "execution_count": 163,
   "id": "860feeb3",
   "metadata": {},
   "outputs": [
    {
     "data": {
      "text/plain": [
       "0"
      ]
     },
     "execution_count": 163,
     "metadata": {},
     "output_type": "execute_result"
    }
   ],
   "source": [
    "calendar.firstweekday()"
   ]
  },
  {
   "cell_type": "markdown",
   "id": "d14ac20b",
   "metadata": {},
   "source": [
    "setfirstweekday(weekday) 달력에 표시되는 첫번째 요일을 지정한다."
   ]
  },
  {
   "cell_type": "code",
   "execution_count": 169,
   "id": "a4c7420f",
   "metadata": {},
   "outputs": [
    {
     "name": "stdout",
     "output_type": "stream",
     "text": [
      "    October 2023\n",
      "Su Mo Tu We Th Fr Sa\n",
      " 1  2  3  4  5  6  7\n",
      " 8  9 10 11 12 13 14\n",
      "15 16 17 18 19 20 21\n",
      "22 23 24 25 26 27 28\n",
      "29 30 31\n",
      "\n"
     ]
    }
   ],
   "source": [
    "calendar.setfirstweekday(calendar.SUNDAY)\n",
    "print(calendar.month(2023,10))"
   ]
  },
  {
   "cell_type": "markdown",
   "id": "8b196454",
   "metadata": {},
   "source": [
    "weekday(year, month, day) 해당 날짜의 요일을 반환"
   ]
  },
  {
   "cell_type": "code",
   "execution_count": 171,
   "id": "6692844f",
   "metadata": {},
   "outputs": [
    {
     "name": "stdout",
     "output_type": "stream",
     "text": [
      "0\n"
     ]
    }
   ],
   "source": [
    "print(calendar.weekday(2023,10,2))"
   ]
  },
  {
   "cell_type": "markdown",
   "id": "0db5b7b9",
   "metadata": {},
   "source": [
    "isleap(year)지정 된 년도가 윤년인지 알아보기"
   ]
  },
  {
   "cell_type": "code",
   "execution_count": 176,
   "id": "ce13dc55",
   "metadata": {},
   "outputs": [
    {
     "name": "stdout",
     "output_type": "stream",
     "text": [
      "False\n",
      "True\n"
     ]
    }
   ],
   "source": [
    "print(calendar.isleap(2018))\n",
    "print(calendar.isleap(2020))"
   ]
  },
  {
   "cell_type": "markdown",
   "id": "affe9d4b",
   "metadata": {},
   "source": [
    "---"
   ]
  },
  {
   "cell_type": "markdown",
   "id": "5782089e",
   "metadata": {},
   "source": [
    "### 10.5 패키지"
   ]
  },
  {
   "cell_type": "markdown",
   "id": "89be6ce0",
   "metadata": {},
   "source": [
    "#### 패키지의 구조"
   ]
  },
  {
   "cell_type": "markdown",
   "id": "dc9a561b",
   "metadata": {},
   "source": [
    "여러개의 모듈을 체계적으로 모아둔 구조   \n",
    "폴더 구조로 되어 있으며, 각 폴더안에 파일과 모듈들이 저장되어 있다."
   ]
  },
  {
   "cell_type": "markdown",
   "id": "2b218350",
   "metadata": {},
   "source": [
    "#### 패키지 만들기"
   ]
  },
  {
   "cell_type": "markdown",
   "id": "adc37fe9",
   "metadata": {},
   "source": [
    "폴더 만들기"
   ]
  },
  {
   "cell_type": "code",
   "execution_count": 181,
   "id": "0506adcc",
   "metadata": {},
   "outputs": [],
   "source": [
    "mkdir C:\\myPyCode\\packages\\image; C:\\myPyCode\\packages\\image\\io_file"
   ]
  },
  {
   "cell_type": "markdown",
   "id": "e02c2384",
   "metadata": {},
   "source": [
    "각각의 폴더에 모듈 생성"
   ]
  },
  {
   "cell_type": "code",
   "execution_count": 184,
   "id": "2279283d",
   "metadata": {},
   "outputs": [
    {
     "name": "stdout",
     "output_type": "stream",
     "text": [
      "Writing C:\\myPyCode\\packages\\image\\__init__.py\n"
     ]
    }
   ],
   "source": [
    "%%writefile C:\\myPyCode\\packages\\image\\__init__.py\n",
    "#File name: __init__.py"
   ]
  },
  {
   "cell_type": "code",
   "execution_count": 185,
   "id": "4214127a",
   "metadata": {},
   "outputs": [
    {
     "name": "stdout",
     "output_type": "stream",
     "text": [
      "Writing C:\\myPyCode\\packages\\image\\io_file\\__init__.py\n"
     ]
    }
   ],
   "source": [
    "%%writefile C:\\myPyCode\\packages\\image\\io_file\\__init__.py\n",
    "#File name: __init__.py"
   ]
  },
  {
   "cell_type": "code",
   "execution_count": 196,
   "id": "5864d7c9",
   "metadata": {},
   "outputs": [
    {
     "name": "stdout",
     "output_type": "stream",
     "text": [
      "Overwriting C:\\myPyCode\\packages\\image\\io_file\\imgread.py\n"
     ]
    }
   ],
   "source": [
    "%%writefile C:\\myPyCode\\packages\\image\\io_file\\imgread.py\n",
    "#File name: imgread.py\n",
    "\n",
    "def pngread():\n",
    "    print(\"pngread in imgread module\")\n",
    "    \n",
    "def jpgread():\n",
    "    print(\"jpgread in imgread module\")"
   ]
  },
  {
   "cell_type": "markdown",
   "id": "3af0b2a0",
   "metadata": {},
   "source": [
    "생성확인 명령어   \n",
    "tree 폴더의 구조 표시   \n",
    "tree/F 파일까지 표시"
   ]
  },
  {
   "cell_type": "code",
   "execution_count": 188,
   "id": "c7d37753",
   "metadata": {},
   "outputs": [
    {
     "name": "stdout",
     "output_type": "stream",
     "text": [
      "폴더 PATH의 목록입니다.\n",
      "볼륨 일련 번호가 00000027 FA4E:6478입니다.\n",
      "C:\\MYPYCODE\\PACKAGES\n",
      "└─image\n",
      "    │  __init__.py\n",
      "    │  \n",
      "    └─io_file\n",
      "            imgread.py\n",
      "            __init__.py\n",
      "            \n"
     ]
    }
   ],
   "source": [
    "!tree/F C:\\myPyCode\\packages"
   ]
  },
  {
   "cell_type": "markdown",
   "id": "e9a08c24",
   "metadata": {},
   "source": [
    "#### 패키지 사용하기"
   ]
  },
  {
   "cell_type": "markdown",
   "id": "938b5bc8",
   "metadata": {},
   "source": [
    "import 패키지명.모듈명   \n",
    "or   \n",
    "import 패키지명.폴더명.모듈명"
   ]
  },
  {
   "cell_type": "code",
   "execution_count": 197,
   "id": "28f76c69",
   "metadata": {},
   "outputs": [
    {
     "name": "stdout",
     "output_type": "stream",
     "text": [
      "pngread in imgread module\n",
      "jpdread in imgread module\n"
     ]
    }
   ],
   "source": [
    "import image.io_file.imgread #image패키지 io_file 폴더의 imgread 모듈 임포트\n",
    "\n",
    "image.io_file.imgread.pngread() #imgread 모듈 내의 pngread() 함수 호출\n",
    "image.io_file.imgread.jpgread() #imgread 모듈 내의 jpgread() 함수 호출"
   ]
  },
  {
   "cell_type": "markdown",
   "id": "4730dc94",
   "metadata": {},
   "source": [
    "from A import B로 간단하게 사용하기"
   ]
  },
  {
   "cell_type": "code",
   "execution_count": 200,
   "id": "c05af291",
   "metadata": {},
   "outputs": [
    {
     "name": "stdout",
     "output_type": "stream",
     "text": [
      "pngread in imgread module\n",
      "jpdread in imgread module\n"
     ]
    }
   ],
   "source": [
    "from image.io_file import imgread\n",
    "\n",
    "imgread.pngread()\n",
    "imgread.jpgread()"
   ]
  },
  {
   "cell_type": "markdown",
   "id": "026731ad",
   "metadata": {},
   "source": [
    "함수명을 B에 입력하여 더 간단하게 사용하기"
   ]
  },
  {
   "cell_type": "code",
   "execution_count": 199,
   "id": "3ccb7395",
   "metadata": {},
   "outputs": [
    {
     "name": "stdout",
     "output_type": "stream",
     "text": [
      "pngread in imgread module\n"
     ]
    }
   ],
   "source": [
    "from image.io_file.imgread import pngread\n",
    "\n",
    "pngread()"
   ]
  },
  {
   "cell_type": "code",
   "execution_count": 198,
   "id": "396b0a3e",
   "metadata": {},
   "outputs": [
    {
     "name": "stdout",
     "output_type": "stream",
     "text": [
      "jpdread in imgread module\n"
     ]
    }
   ],
   "source": [
    "from image.io_file.imgread import jpgread\n",
    "\n",
    "jpgread()"
   ]
  },
  {
   "cell_type": "markdown",
   "id": "5c467758",
   "metadata": {},
   "source": [
    "모듈의 모든 함수를 부르기 * 사용"
   ]
  },
  {
   "cell_type": "code",
   "execution_count": 201,
   "id": "24f814d7",
   "metadata": {},
   "outputs": [
    {
     "name": "stdout",
     "output_type": "stream",
     "text": [
      "pngread in imgread module\n",
      "jpdread in imgread module\n"
     ]
    }
   ],
   "source": [
    "from image.io_file.imgread import *\n",
    "\n",
    "pngread()\n",
    "jpgread()"
   ]
  },
  {
   "cell_type": "markdown",
   "id": "451879cc",
   "metadata": {},
   "source": [
    "별명 만들기 as 별명"
   ]
  },
  {
   "cell_type": "code",
   "execution_count": 203,
   "id": "a698f25b",
   "metadata": {},
   "outputs": [
    {
     "name": "stdout",
     "output_type": "stream",
     "text": [
      "pngread in imgread module\n",
      "jpdread in imgread module\n"
     ]
    }
   ],
   "source": [
    "from image.io_file import imgread as img\n",
    "\n",
    "img.pngread()\n",
    "img.jpgread()"
   ]
  },
  {
   "cell_type": "code",
   "execution_count": 204,
   "id": "8be40cd7",
   "metadata": {},
   "outputs": [
    {
     "name": "stdout",
     "output_type": "stream",
     "text": [
      "pngread in imgread module\n"
     ]
    }
   ],
   "source": [
    "from image.io_file.imgread import pngread as pread\n",
    "\n",
    "pread()"
   ]
  }
 ],
 "metadata": {
  "kernelspec": {
   "display_name": "Python 3 (ipykernel)",
   "language": "python",
   "name": "python3"
  },
  "language_info": {
   "codemirror_mode": {
    "name": "ipython",
    "version": 3
   },
   "file_extension": ".py",
   "mimetype": "text/x-python",
   "name": "python",
   "nbconvert_exporter": "python",
   "pygments_lexer": "ipython3",
   "version": "3.9.13"
  }
 },
 "nbformat": 4,
 "nbformat_minor": 5
}
