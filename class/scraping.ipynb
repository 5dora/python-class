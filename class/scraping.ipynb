{
 "cells": [
  {
   "cell_type": "code",
   "execution_count": 3,
   "id": "ccccd4e8",
   "metadata": {},
   "outputs": [
    {
     "data": {
      "text/plain": [
       "[<span class=\"long\">Arsenal</span>,\n",
       " <span class=\"long\">Manchester City</span>,\n",
       " <span class=\"long\">Newcastle United</span>,\n",
       " <span class=\"long\">Manchester United</span>,\n",
       " <span class=\"long\">Tottenham Hotspur</span>,\n",
       " <span class=\"long\">Liverpool</span>,\n",
       " <span class=\"long\">Fulham</span>,\n",
       " <span class=\"long\">Brighton and Hove Albion</span>,\n",
       " <span class=\"long\">Brentford</span>,\n",
       " <span class=\"long\">Chelsea</span>]"
      ]
     },
     "execution_count": 3,
     "metadata": {},
     "output_type": "execute_result"
    }
   ],
   "source": [
    "import requests\n",
    "from bs4 import BeautifulSoup\n",
    "\n",
    "url = 'https://www.premierleague.com/tables'\n",
    "\n",
    "html_soccer = requests.get(url).text\n",
    "soup_soccer = BeautifulSoup(html_soccer, 'lxml')\n",
    "\n",
    "longs = soup_soccer.select('span.long')\n",
    "longs[0:10]"
   ]
  },
  {
   "cell_type": "code",
   "execution_count": 4,
   "id": "c0c2ffde",
   "metadata": {},
   "outputs": [],
   "source": [
    "soccer_longs = [long.get_text() for long in longs]"
   ]
  },
  {
   "cell_type": "code",
   "execution_count": 5,
   "id": "42828b41",
   "metadata": {},
   "outputs": [
    {
     "data": {
      "text/plain": [
       "['Arsenal',\n",
       " 'Manchester City',\n",
       " 'Newcastle United',\n",
       " 'Manchester United',\n",
       " 'Tottenham Hotspur',\n",
       " 'Liverpool',\n",
       " 'Fulham',\n",
       " 'Brighton and Hove Albion',\n",
       " 'Brentford',\n",
       " 'Chelsea']"
      ]
     },
     "execution_count": 5,
     "metadata": {},
     "output_type": "execute_result"
    }
   ],
   "source": [
    "soccer_longs[0:10]"
   ]
  },
  {
   "cell_type": "code",
   "execution_count": 9,
   "id": "2c42c32d",
   "metadata": {},
   "outputs": [
    {
     "data": {
      "text/plain": [
       "[<td class=\"points\">44</td>,\n",
       " <td class=\"points\">39</td>,\n",
       " <td class=\"points\">35</td>,\n",
       " <td class=\"points\">35</td>,\n",
       " <td class=\"points\">33</td>,\n",
       " <td class=\"points\">28</td>,\n",
       " <td class=\"points\">28</td>,\n",
       " <td class=\"points\">27</td>,\n",
       " <td class=\"points\">26</td>,\n",
       " <td class=\"points\">25</td>]"
      ]
     },
     "execution_count": 9,
     "metadata": {},
     "output_type": "execute_result"
    }
   ],
   "source": [
    "pointss = soup_soccer.select('td.points')\n",
    "pointss[0:10]"
   ]
  },
  {
   "cell_type": "code",
   "execution_count": 10,
   "id": "9ff32b1b",
   "metadata": {},
   "outputs": [],
   "source": [
    "soccer_points = [points.get_text() for points in pointss]"
   ]
  },
  {
   "cell_type": "code",
   "execution_count": 11,
   "id": "ff3abbef",
   "metadata": {},
   "outputs": [
    {
     "data": {
      "text/plain": [
       "['44', '39', '35', '35', '33', '28', '28', '27', '26', '25']"
      ]
     },
     "execution_count": 11,
     "metadata": {},
     "output_type": "execute_result"
    }
   ],
   "source": [
    "soccer_points[0:10]"
   ]
  },
  {
   "cell_type": "code",
   "execution_count": 17,
   "id": "0dee13a2",
   "metadata": {},
   "outputs": [
    {
     "name": "stdout",
     "output_type": "stream",
     "text": [
      "1위 - Arsenal / 44points\n",
      "2위 - Manchester City / 39points\n",
      "3위 - Newcastle United / 35points\n",
      "4위 - Manchester United / 35points\n",
      "5위 - Tottenham Hotspur / 33points\n",
      "6위 - Liverpool / 28points\n",
      "7위 - Fulham / 28points\n",
      "8위 - Brighton and Hove Albion / 27points\n",
      "9위 - Brentford / 26points\n",
      "10위 - Chelsea / 25points\n"
     ]
    }
   ],
   "source": [
    "for k in range(10):\n",
    "    print(\"{0}위 - {1} / {2}points\".format(k+1, soccer_longs[k], soccer_points[k]))"
   ]
  },
  {
   "cell_type": "code",
   "execution_count": null,
   "id": "d39a0c00",
   "metadata": {},
   "outputs": [],
   "source": []
  }
 ],
 "metadata": {
  "kernelspec": {
   "display_name": "Python 3 (ipykernel)",
   "language": "python",
   "name": "python3"
  },
  "language_info": {
   "codemirror_mode": {
    "name": "ipython",
    "version": 3
   },
   "file_extension": ".py",
   "mimetype": "text/x-python",
   "name": "python",
   "nbconvert_exporter": "python",
   "pygments_lexer": "ipython3",
   "version": "3.9.13"
  }
 },
 "nbformat": 4,
 "nbformat_minor": 5
}
