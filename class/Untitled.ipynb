{
 "cells": [
  {
   "cell_type": "code",
   "execution_count": 2,
   "id": "40e7e7bf",
   "metadata": {},
   "outputs": [
    {
     "data": {
      "text/plain": [
       "[[4, 6, 8], [7, 9, 11]]"
      ]
     },
     "execution_count": 2,
     "metadata": {},
     "output_type": "execute_result"
    }
   ],
   "source": [
    "import numpy as np              # numpy를 import\n",
    "def solution(arr1, arr2):\n",
    "    array1 = np.array(arr1)     # arr1을 array로 변환하여 array1에 할당\n",
    "    array2 = np.array(arr2)     # arr2을 array로 변환하여 array2에 할당\n",
    "    array3 = array1 + array2    # array의 덧셈을 실행하여 array3에 할당\n",
    "    answer = array3.tolist()\t# array type으로 되어 있는 array3을 .tolist()를 실행하여 list로 변환\n",
    "    return answer\n",
    "\n",
    "# 예시 ###################\n",
    "arr1 = [[1,2,3],[2,3,4]]\n",
    "arr2 = [[3,4,5],[5,6,7]]\n",
    "\n",
    "solution(arr1, arr2)"
   ]
  },
  {
   "cell_type": "code",
   "execution_count": 3,
   "id": "b47204fd",
   "metadata": {},
   "outputs": [
    {
     "name": "stdout",
     "output_type": "stream",
     "text": [
      "absolutes[0]: 4 * 1\n",
      "곱셈결과: 4\n",
      "absolutes[1]: 7 * -1\n",
      "곱셈결과: -7\n",
      "absolutes[2]: 12 * 1\n",
      "곱셈결과: 12\n",
      "[4, -7, 12]를 다 더하면 9\n"
     ]
    },
    {
     "data": {
      "text/plain": [
       "9"
      ]
     },
     "execution_count": 3,
     "metadata": {},
     "output_type": "execute_result"
    }
   ],
   "source": [
    "def solution(absolutes, signs):\n",
    "    ans_li = [0]*len(absolutes)\t\t\t# absolutes의 길이만큼 ans_li의 리스트를 만들어준다.\n",
    "    for i in range(len(absolutes)):\t\t# absolutes의 길이만큼의 범위동안 for문\n",
    "        ans_li[i] = absolutes[i]*(1 if signs[i] == True else -1)\n",
    "        \t\t\t\t\t# 만약 signs의 같은 위치값이 True이면 1, 아니면 -1을 곱해준다.\n",
    "        print(f\"absolutes[{i}]: {absolutes[i]} * {(1 if signs[i] == True else -1)}\")\n",
    "        print(\"곱셈결과:\",absolutes[i]*(1 if signs[i] == True else -1))\n",
    "    answer = sum(ans_li)\t\t\t# 만들어진 ans_li의 모든 값을 더해준다.\n",
    "    print(f\"{ans_li}를 다 더하면 {answer}\")\n",
    "    return answer\n",
    "\n",
    "# 예시\n",
    "absolutes = [4,7,12]\n",
    "signs = [True, False, True]\n",
    "\n",
    "solution(absolutes, signs)"
   ]
  },
  {
   "cell_type": "code",
   "execution_count": 4,
   "id": "e8705f01",
   "metadata": {},
   "outputs": [
    {
     "data": {
      "text/plain": [
       "[5, 6, 3]"
      ]
     },
     "execution_count": 4,
     "metadata": {},
     "output_type": "execute_result"
    }
   ],
   "source": [
    "def solution(array, commands):\n",
    "    answer = []\n",
    "    for i,j,k in commands: #commands에서 하나씩 꺼내기, 이 때 구성요소를 i,j,k로 부르기! \n",
    "        new_array=array[i-1:j] #array의 i-1번째 이상의 인덱스부터 j미만의 인덱스를 new_array에 저장\n",
    "        new_array.sort() #new_array를 작은 순으로 정렬\n",
    "        answer.append(new_array[k-1]) #new_array의 k-1번째 인덱스를 answer에 추가\n",
    "    return answer\n",
    "\n",
    "# 실행 예시 ################################\n",
    "arr = [1, 5, 2, 6, 3, 7, 4]\n",
    "commands = [[2, 5, 3], [4, 4, 1], [1, 7, 3]]\n",
    "\n",
    "solution(arr, commands)"
   ]
  },
  {
   "cell_type": "code",
   "execution_count": 5,
   "id": "dc2a2fb1",
   "metadata": {},
   "outputs": [
    {
     "name": "stdout",
     "output_type": "stream",
     "text": [
      "슬라이싱한 리스트: [2, 3, 5, 6], 리스트의 위치값: 2, answer에 넣을 값: 5\n",
      "슬라이싱한 리스트: [6], 리스트의 위치값: 0, answer에 넣을 값: 6\n",
      "슬라이싱한 리스트: [1, 2, 3, 4, 5, 6, 7], 리스트의 위치값: 2, answer에 넣을 값: 3\n"
     ]
    },
    {
     "data": {
      "text/plain": [
       "[5, 6, 3]"
      ]
     },
     "execution_count": 5,
     "metadata": {},
     "output_type": "execute_result"
    }
   ],
   "source": [
    "def solution(arr, commands):\n",
    "    answer = []\n",
    "    for i in range(len(commands)):\t# commands의 길이만큼의 range동안 for문\n",
    "        arr_sorted = sorted(arr[commands[i][0]-1:commands[i][1]])\n",
    "        \t\t\t# commands의 (첫번째 값 -1)부터, 두번째 값까지 slicing해서 \n",
    "                    \t\t# 정렬(sorted)한 리스트를 arr_sorted에 할당\n",
    "                            \t# 위치값을 이용해야한다는 점 주의!!\n",
    "        print(f\"슬라이싱한 리스트: {arr_sorted}, 리스트의 위치값: {commands[i][2]-1}, answer에 넣을 값: {arr_sorted[commands[i][2]-1]}\") \n",
    "        \t\t\t# print 넣은채로 제출하면 타임오버됩니다.\n",
    "        answer.append(arr_sorted[commands[i][2]-1]) # arr_sorted의 위치값을 answer 리스트에 append\n",
    "    return answer\n",
    "\n",
    "# 실행 예시 ################################\n",
    "arr = [1, 5, 2, 6, 3, 7, 4]\n",
    "commands = [[2, 5, 3], [4, 4, 1], [1, 7, 3]]\n",
    "\n",
    "solution(arr, commands)"
   ]
  },
  {
   "cell_type": "code",
   "execution_count": 6,
   "id": "1c1c6a85",
   "metadata": {},
   "outputs": [
    {
     "name": "stdout",
     "output_type": "stream",
     "text": [
      "\n",
      "arr[0] 시작\n",
      "i: 0, j: 0, arr1[i][j]: 1, arr2[i][j]: 3, 1+3=4\n",
      "answer: [[4]]\n",
      "i: 0, j: 1, arr1[i][j]: 2, arr2[i][j]: 4, 2+4=6\n",
      "answer: [[4, 6]]\n",
      "i: 0, j: 2, arr1[i][j]: 3, arr2[i][j]: 5, 3+5=8\n",
      "answer: [[4, 6, 8]]\n",
      "\n",
      "arr[1] 시작\n",
      "i: 1, j: 0, arr1[i][j]: 2, arr2[i][j]: 5, 2+5=7\n",
      "answer: [[4, 6, 8], [7]]\n",
      "i: 1, j: 1, arr1[i][j]: 3, arr2[i][j]: 6, 3+6=9\n",
      "answer: [[4, 6, 8], [7, 9]]\n",
      "i: 1, j: 2, arr1[i][j]: 4, arr2[i][j]: 7, 4+7=11\n",
      "answer: [[4, 6, 8], [7, 9, 11]]\n"
     ]
    },
    {
     "data": {
      "text/plain": [
       "[[4, 6, 8], [7, 9, 11]]"
      ]
     },
     "execution_count": 6,
     "metadata": {},
     "output_type": "execute_result"
    }
   ],
   "source": [
    "##### 다른 사람의 풀이 #####\n",
    "# for문을 활용하여 문제 풀기\n",
    "# 코드를 주피터 노트북에 넣어보세요!!\n",
    "\n",
    "def solution(arr1, arr2):\n",
    "    answer = []\t\t\t\t\t# answer에 빈 리스트 할당\n",
    "    for i in range(len(arr1)):\t\t\t# arr1의 길이(예시: 2)를 range로 하여 for문\n",
    "        print(f\"\\narr[{i}] 시작\")\n",
    "        answer.append([])\t\t\t# answer에 빈 리스트 삽입: [[], []]\n",
    "        for j in range(len(arr1[0])):\t\t# arr1[0]의 길이(예시: 3)를 range로 하여 for문\n",
    "            answer[i].append(arr1[i][j] + arr2[i][j])  # answer의 i 위치에 더한 값 append\n",
    "            print(f\"i: {i}, j: {j}, arr1[i][j]: {arr1[i][j]}, arr2[i][j]: {arr2[i][j]}, {arr1[i][j]}+{arr2[i][j]}={arr1[i][j]+arr2[i][j]}\")\n",
    "            \t\t\t\t\t# print 해보면서 확인하면 좋다.\n",
    "            print(\"answer:\",answer)\n",
    "    return answer\n",
    "    \n",
    "# 주의: 지금 문제에서는 arr1과 arr2의 길이가 같아서 range를 구성할 때 len(arr1)로만 해도 문제없다.\n",
    "    \n",
    "# 예시 ###################\n",
    "arr1 = [[1,2,3],[2,3,4]]\n",
    "arr2 = [[3,4,5],[5,6,7]]\n",
    "\n",
    "solution(arr1, arr2)"
   ]
  }
 ],
 "metadata": {
  "kernelspec": {
   "display_name": "Python 3 (ipykernel)",
   "language": "python",
   "name": "python3"
  },
  "language_info": {
   "codemirror_mode": {
    "name": "ipython",
    "version": 3
   },
   "file_extension": ".py",
   "mimetype": "text/x-python",
   "name": "python",
   "nbconvert_exporter": "python",
   "pygments_lexer": "ipython3",
   "version": "3.9.13"
  }
 },
 "nbformat": 4,
 "nbformat_minor": 5
}
