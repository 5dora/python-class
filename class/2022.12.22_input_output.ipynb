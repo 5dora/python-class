{
 "cells": [
  {
   "cell_type": "markdown",
   "id": "d4d65633",
   "metadata": {},
   "source": [
    "# 6. 입력과 출력"
   ]
  },
  {
   "cell_type": "markdown",
   "id": "1c40aa58",
   "metadata": {},
   "source": [
    "## 6.1 출력"
   ]
  },
  {
   "cell_type": "markdown",
   "id": "c149cdda",
   "metadata": {},
   "source": [
    "문자열 여러개를 연결하여 출력(자동으로 공백 발생)"
   ]
  },
  {
   "cell_type": "code",
   "execution_count": 20,
   "id": "62a7d6a5",
   "metadata": {},
   "outputs": [
    {
     "name": "stdout",
     "output_type": "stream",
     "text": [
      "Best python book\n"
     ]
    }
   ],
   "source": [
    "print(\"Best\", \"python\", \"book\")"
   ]
  },
  {
   "cell_type": "markdown",
   "id": "9d775404",
   "metadata": {},
   "source": [
    "sep 활용(공백 대신 다른 문자열)"
   ]
  },
  {
   "cell_type": "code",
   "execution_count": 24,
   "id": "cffa602f",
   "metadata": {},
   "outputs": [
    {
     "name": "stdout",
     "output_type": "stream",
     "text": [
      "Best*--*python*--*book\n"
     ]
    }
   ],
   "source": [
    "print(\"Best\", \"python\", \"book\", sep = \"*--*\")"
   ]
  },
  {
   "cell_type": "markdown",
   "id": "3cc96263",
   "metadata": {},
   "source": [
    "빈칸없이 문자를 연결할 때 + 사용"
   ]
  },
  {
   "cell_type": "code",
   "execution_count": 25,
   "id": "823dbf2b",
   "metadata": {},
   "outputs": [
    {
     "name": "stdout",
     "output_type": "stream",
     "text": [
      "abcdefg\n"
     ]
    }
   ],
   "source": [
    "print(\"abcd\" + \"efg\")"
   ]
  },
  {
   "cell_type": "markdown",
   "id": "6dd900f3",
   "metadata": {},
   "source": [
    "\" \" \" \" 문자열로 둘러쌓인 거 연산과 동일"
   ]
  },
  {
   "cell_type": "code",
   "execution_count": 69,
   "id": "dd1e17f2",
   "metadata": {},
   "outputs": [
    {
     "name": "stdout",
     "output_type": "stream",
     "text": [
      "abcdefg\n"
     ]
    }
   ],
   "source": [
    "print(\"abcd\" \"efg\")"
   ]
  },
  {
   "cell_type": "markdown",
   "id": "ae14c08a",
   "metadata": {},
   "source": [
    "콤마와 + 같이 사용"
   ]
  },
  {
   "cell_type": "code",
   "execution_count": 26,
   "id": "700bb79b",
   "metadata": {},
   "outputs": [
    {
     "name": "stdout",
     "output_type": "stream",
     "text": [
      "Best python book: This is book\n"
     ]
    }
   ],
   "source": [
    "print(\"Best\", \"python\", \"book\" + \":\", \"This is book\")"
   ]
  },
  {
   "cell_type": "markdown",
   "id": "4d96c2f4",
   "metadata": {},
   "source": [
    "변수에 저장된 내용을"
   ]
  },
  {
   "cell_type": "code",
   "execution_count": 39,
   "id": "95ccf1e4",
   "metadata": {},
   "outputs": [
    {
     "name": "stdout",
     "output_type": "stream",
     "text": [
      "10\n"
     ]
    }
   ],
   "source": [
    "x = 10\n",
    "print(x)"
   ]
  },
  {
   "cell_type": "markdown",
   "id": "815ebcf5",
   "metadata": {},
   "source": [
    "문자열과 숫자를 함께 출력"
   ]
  },
  {
   "cell_type": "code",
   "execution_count": 40,
   "id": "b0715615",
   "metadata": {},
   "outputs": [
    {
     "name": "stdout",
     "output_type": "stream",
     "text": [
      "Name James, ID Number: 789\n"
     ]
    }
   ],
   "source": [
    "name = \"James\"\n",
    "ID_num = 789\n",
    "print(\"Name\", name + \",\", \"ID Number:\", ID_num)"
   ]
  },
  {
   "cell_type": "markdown",
   "id": "e1c795f4",
   "metadata": {},
   "source": [
    "#### 줄 바꿈"
   ]
  },
  {
   "cell_type": "markdown",
   "id": "42f7ae34",
   "metadata": {},
   "source": [
    "여러줄로 출력하기: 개행문자 사용   \n",
    "\\n"
   ]
  },
  {
   "cell_type": "code",
   "execution_count": 41,
   "id": "5d89631e",
   "metadata": {},
   "outputs": [
    {
     "name": "stdout",
     "output_type": "stream",
     "text": [
      "James is my friend. \n",
      "He is Korean\n"
     ]
    }
   ],
   "source": [
    "print(\"James is my friend. \\nHe is Korean\")"
   ]
  },
  {
   "cell_type": "code",
   "execution_count": 42,
   "id": "29078149",
   "metadata": {},
   "outputs": [
    {
     "name": "stdout",
     "output_type": "stream",
     "text": [
      "James is my friend. \n",
      "\n",
      "He is Korean\n"
     ]
    }
   ],
   "source": [
    "print(\"James is my friend. \\n\\nHe is Korean\")"
   ]
  },
  {
   "cell_type": "code",
   "execution_count": 43,
   "id": "e52c3ce5",
   "metadata": {},
   "outputs": [
    {
     "name": "stdout",
     "output_type": "stream",
     "text": [
      "Welcome to \n",
      "python!\n"
     ]
    }
   ],
   "source": [
    "print(\"Welcome to \")\n",
    "print(\"python!\")"
   ]
  },
  {
   "cell_type": "markdown",
   "id": "68ae6bba",
   "metadata": {},
   "source": [
    "두 줄로 출력된 결과를 한줄로 출력하기(end)"
   ]
  },
  {
   "cell_type": "markdown",
   "id": "ceddb63f",
   "metadata": {},
   "source": [
    "print는 개행문자 숨어져 있어 end이용해서 옆에 있는 거 삭제"
   ]
  },
  {
   "cell_type": "code",
   "execution_count": 45,
   "id": "22033ba8",
   "metadata": {},
   "outputs": [
    {
     "name": "stdout",
     "output_type": "stream",
     "text": [
      "Welcome to python!\n"
     ]
    }
   ],
   "source": [
    "print(\"Welcome to \", end=\"\")\n",
    "print(\"python!\")"
   ]
  },
  {
   "cell_type": "markdown",
   "id": "9f424184",
   "metadata": {},
   "source": [
    "### 형식 지정 출력"
   ]
  },
  {
   "cell_type": "markdown",
   "id": "69b8152e",
   "metadata": {},
   "source": [
    "#### % 나머지 연산자를 이용해서 "
   ]
  },
  {
   "cell_type": "code",
   "execution_count": 47,
   "id": "2aff6ff1",
   "metadata": {},
   "outputs": [
    {
     "name": "stdout",
     "output_type": "stream",
     "text": [
      "광재는 나의 친구입니다.\n"
     ]
    }
   ],
   "source": [
    "name = \"광재\"\n",
    "print(\"%s는 나의 친구입니다.\" %name)"
   ]
  },
  {
   "cell_type": "markdown",
   "id": "17fd63fb",
   "metadata": {},
   "source": [
    "%s s= string"
   ]
  },
  {
   "cell_type": "code",
   "execution_count": 49,
   "id": "aace7c2a",
   "metadata": {},
   "outputs": [
    {
     "name": "stdout",
     "output_type": "stream",
     "text": [
      "반지름: 3, 원주율: 3.141593\n"
     ]
    }
   ],
   "source": [
    "r = 3\n",
    "PI = 3.1415926538\n",
    "print(\"반지름: %d, 원주율: %f\" % (r, PI))"
   ]
  },
  {
   "cell_type": "code",
   "execution_count": 84,
   "id": "93963371",
   "metadata": {},
   "outputs": [],
   "source": [
    "# 3.141593 기본값이 6, 반올림"
   ]
  },
  {
   "cell_type": "markdown",
   "id": "467da5ca",
   "metadata": {},
   "source": [
    "*** 순서 바뀌면 안돼"
   ]
  },
  {
   "cell_type": "markdown",
   "id": "5ee9a78d",
   "metadata": {},
   "source": [
    "d =    \n",
    "f = float"
   ]
  },
  {
   "cell_type": "markdown",
   "id": "1669bdb2",
   "metadata": {},
   "source": [
    "형식 지정 문자열에서 출력 위치 지정"
   ]
  },
  {
   "cell_type": "markdown",
   "id": "cfc3475d",
   "metadata": {},
   "source": [
    "stirng.format"
   ]
  },
  {
   "cell_type": "code",
   "execution_count": 58,
   "id": "3e028fbd",
   "metadata": {},
   "outputs": [
    {
     "name": "stdout",
     "output_type": "stream",
     "text": [
      "Animal: cat\n",
      "Animal: cat,dog,fox\n"
     ]
    }
   ],
   "source": [
    "animal_0 = \"cat\"\n",
    "animal_1 = \"dog\"\n",
    "animal_2 = \"fox\"\n",
    "\n",
    "print(\"Animal: {0}\".format(animal_0))\n",
    "print(\"Animal: {0},{1},{2}\".format(animal_0, animal_1, animal_2))"
   ]
  },
  {
   "cell_type": "code",
   "execution_count": 70,
   "id": "25ef2637",
   "metadata": {},
   "outputs": [
    {
     "name": "stdout",
     "output_type": "stream",
     "text": [
      "Animal: cat,dog,fox\n",
      "Animal: cat,dog,fox\n"
     ]
    }
   ],
   "source": [
    "animal_0 = \"cat\"\n",
    "animal_1 = \"dog\"\n",
    "animal_2 = \"fox\"\n",
    "\n",
    "print(\"Animal: {0},{1},{2}\".format(animal_0, animal_1, animal_2))\n",
    "print(\"Animal: {},{},{}\".format(animal_0, animal_1, animal_2))"
   ]
  },
  {
   "cell_type": "markdown",
   "id": "edc54b0c",
   "metadata": {},
   "source": [
    "비워두면 순서대로"
   ]
  },
  {
   "cell_type": "code",
   "execution_count": 68,
   "id": "8ad5c857",
   "metadata": {},
   "outputs": [
    {
     "name": "stdout",
     "output_type": "stream",
     "text": [
      "Animal: cat\n",
      "Animal: dog,dog,fox,cat,fox\n"
     ]
    }
   ],
   "source": [
    "animal_0 = \"cat\"\n",
    "animal_1 = \"dog\"\n",
    "animal_2 = \"fox\"\n",
    "\n",
    "print(\"Animal: {0}\".format(animal_0))\n",
    "print(\"Animal: {1},{1},{2},{0},{2}\".format(animal_0, animal_1, animal_2))"
   ]
  },
  {
   "cell_type": "markdown",
   "id": "7458de56",
   "metadata": {},
   "source": [
    "정수나 실수도 가능   \n",
    "문자열을 변수에 대입한 후 변수를 불러서 출력   \n",
    "실수의 경우 17자리까지 표현되며 반올림 되어 출력된다."
   ]
  },
  {
   "cell_type": "code",
   "execution_count": 73,
   "id": "10215f05",
   "metadata": {},
   "outputs": [
    {
     "name": "stdout",
     "output_type": "stream",
     "text": [
      "String: Thomas, Integer Number: 10, Floating Number: 0.12345678901234568\n"
     ]
    }
   ],
   "source": [
    "name = \"Thomas\"\n",
    "age = 10\n",
    "a =0.1234567890123456789\n",
    "fmt_string = \"String: {0}, Integer Number: {1}, Floating Number: {2}\"\n",
    "print(fmt_string.format(name, age, a))"
   ]
  },
  {
   "cell_type": "markdown",
   "id": "d860f781",
   "metadata": {},
   "source": [
    "형식 지정 문자열에서 숫자 출력 형식 지정"
   ]
  },
  {
   "cell_type": "markdown",
   "id": "c1f6c5df",
   "metadata": {},
   "source": [
    "데이터가 숫자일 경우{N:'출력형식}'을 지정하여 다양한 형태로 출력이 가능"
   ]
  },
  {
   "cell_type": "code",
   "execution_count": 80,
   "id": "48fc32f8",
   "metadata": {},
   "outputs": [
    {
     "name": "stdout",
     "output_type": "stream",
     "text": [
      "0.12, 0.12346\n"
     ]
    }
   ],
   "source": [
    "a = 0.1234567890123456789\n",
    "print(\"{0:.2f}, {0:.5f}\".format(a))"
   ]
  },
  {
   "cell_type": "code",
   "execution_count": 83,
   "id": "efc651c8",
   "metadata": {},
   "outputs": [
    {
     "name": "stdout",
     "output_type": "stream",
     "text": [
      "0.12, 0.12346\n"
     ]
    }
   ],
   "source": [
    "a = 0.1234567890123456789\n",
    "\n",
    "print(\"{0:0.2f}, {0:0.5f}\".format(a))  #0.생략되어 있는 거야"
   ]
  },
  {
   "cell_type": "code",
   "execution_count": 89,
   "id": "9b68abdf",
   "metadata": {},
   "outputs": [
    {
     "name": "stdout",
     "output_type": "stream",
     "text": [
      "0.12,              0.12346\n"
     ]
    }
   ],
   "source": [
    "a = 0.1234567890123456789\n",
    "\n",
    "print(\"{0:.2f}, {0:20.5f}\".format(a))"
   ]
  },
  {
   "cell_type": "markdown",
   "id": "32ce1a62",
   "metadata": {},
   "source": [
    "단위수를 샐 때 나를 포함 조금씩 밀려나"
   ]
  },
  {
   "cell_type": "markdown",
   "id": "b20b9b6f",
   "metadata": {},
   "source": [
    "## 6.2 키보드 입력"
   ]
  },
  {
   "cell_type": "markdown",
   "id": "087c72f8",
   "metadata": {},
   "source": [
    "data = input(\"문자열\")"
   ]
  },
  {
   "cell_type": "code",
   "execution_count": 91,
   "id": "fda0d0d1",
   "metadata": {},
   "outputs": [
    {
     "name": "stdout",
     "output_type": "stream",
     "text": [
      "당신의 이름은? 오수연\n",
      "당신은 오수연이군요.\n"
     ]
    }
   ],
   "source": [
    "yourName = input(\"당신의 이름은? \")\n",
    "print(\"당신은 {}이군요.\".format(yourName))"
   ]
  },
  {
   "cell_type": "markdown",
   "id": "f0a159b0",
   "metadata": {},
   "source": [
    "숫자를 입력한 예"
   ]
  },
  {
   "cell_type": "code",
   "execution_count": 92,
   "id": "4d5795c6",
   "metadata": {},
   "outputs": [
    {
     "name": "stdout",
     "output_type": "stream",
     "text": [
      "숫자를 입력하세요: 5555\n",
      "당신이 입력한 숫자는 5555입니다.\n"
     ]
    }
   ],
   "source": [
    "num = input(\"숫자를 입력하세요: \")\n",
    "print(\"당신이 입력한 숫자는 {}입니다.\".format(num))"
   ]
  },
  {
   "cell_type": "markdown",
   "id": "a89221c2",
   "metadata": {},
   "source": [
    "*** 숫자연산에 사용하기 위해서는 변환해야 함"
   ]
  },
  {
   "cell_type": "code",
   "execution_count": 105,
   "id": "0b4c20eb",
   "metadata": {},
   "outputs": [
    {
     "name": "stdout",
     "output_type": "stream",
     "text": [
      "정사각형 한 변의 길이는?: 5\n",
      "정사각형의 넓이: 25\n"
     ]
    }
   ],
   "source": [
    "a = input(\"정사각형 한 변의 길이는?: \")\n",
    "area = int(a) ** 2\n",
    "print(\"정사각형의 넓이: {}\".format(area))"
   ]
  },
  {
   "cell_type": "code",
   "execution_count": 190,
   "id": "21328753",
   "metadata": {},
   "outputs": [
    {
     "name": "stdout",
     "output_type": "stream",
     "text": [
      "정사각형 한 변의 길이는?: 5\n",
      "정사각형의 넓이: 25\n"
     ]
    }
   ],
   "source": [
    "a = input(\"정사각형 한 변의 길이는?: \")\n",
    "area = int(a) ** 2\n",
    "print(f\"정사각형의 넓이: {area}\")"
   ]
  },
  {
   "cell_type": "code",
   "execution_count": 108,
   "id": "61a3fb8a",
   "metadata": {},
   "outputs": [
    {
     "name": "stdout",
     "output_type": "stream",
     "text": [
      "정사각형 한 변의 길이는?: 2.5\n",
      "정사각형의 넓이: 6.25\n"
     ]
    }
   ],
   "source": [
    "# 정수 실수 둘 다 들어갈 수 있는 경우 실수로 넣는 습관 들이는게 좋아\n",
    "a = input(\"정사각형 한 변의 길이는?: \")\n",
    "area = float(a) ** 2\n",
    "print(\"정사각형의 넓이: {}\".format(area))"
   ]
  },
  {
   "cell_type": "markdown",
   "id": "2e48ec25",
   "metadata": {},
   "source": [
    "## 6.3 파일 읽고 쓰기"
   ]
  },
  {
   "cell_type": "markdown",
   "id": "ad46956a",
   "metadata": {},
   "source": [
    "출력결과를 화면이 아니라 파일로 출력하거나 읽어야 할 경우"
   ]
  },
  {
   "cell_type": "markdown",
   "id": "d4fc0bcf",
   "metadata": {},
   "source": [
    "#### 파일 열기"
   ]
  },
  {
   "cell_type": "markdown",
   "id": "5bab33ea",
   "metadata": {},
   "source": [
    "내장 함수인 open()을 이용해 파일을 열어야 한다.   \n",
    "f = open('file_name','mode')"
   ]
  },
  {
   "cell_type": "markdown",
   "id": "93e86097",
   "metadata": {},
   "source": [
    "* 모드종류   \n",
    "r = 읽기모드   \n",
    "w = 쓰기모드(이름 같으면 덮어져)   \n",
    "x = 쓰기모드(이름 같으면 오류)\n",
    "a = 추가모드   "
   ]
  },
  {
   "cell_type": "markdown",
   "id": "1305ba8a",
   "metadata": {},
   "source": [
    "#### 폴더로 이동하기 명령"
   ]
  },
  {
   "cell_type": "code",
   "execution_count": 123,
   "id": "4011dcc0",
   "metadata": {},
   "outputs": [
    {
     "name": "stdout",
     "output_type": "stream",
     "text": [
      "C:\\myPyCode\n"
     ]
    }
   ],
   "source": [
    "cd C:\\myPyCode"
   ]
  },
  {
   "cell_type": "markdown",
   "id": "6c1f9743",
   "metadata": {},
   "source": [
    "#### 파일을 쓰기 모드로 열고, 문자열 입력 후 파일 닫기 코드"
   ]
  },
  {
   "cell_type": "code",
   "execution_count": 124,
   "id": "3b454718",
   "metadata": {},
   "outputs": [],
   "source": [
    "f = open('myFile.txt', 'w') #txt파일 쓰기 모드로 열기\n",
    "f.write('This is my first file.') #연 파일에 문자열 쓰기\n",
    "f.close() #파일 닫기"
   ]
  },
  {
   "cell_type": "markdown",
   "id": "10268386",
   "metadata": {},
   "source": [
    "#### 파일이름을 이용하여 내용 확인하기"
   ]
  },
  {
   "cell_type": "code",
   "execution_count": 125,
   "id": "7467475f",
   "metadata": {},
   "outputs": [
    {
     "name": "stdout",
     "output_type": "stream",
     "text": [
      "This is my first file.\n"
     ]
    }
   ],
   "source": [
    "!type myFile.txt"
   ]
  },
  {
   "cell_type": "markdown",
   "id": "e5b0fcef",
   "metadata": {},
   "source": [
    "#### 파일 읽기"
   ]
  },
  {
   "cell_type": "code",
   "execution_count": 128,
   "id": "3f0cbfcb",
   "metadata": {},
   "outputs": [
    {
     "name": "stdout",
     "output_type": "stream",
     "text": [
      "This is my first file.\n"
     ]
    }
   ],
   "source": [
    "f = open('myFile.txt', 'r') #파일 읽기 모드로 열기\n",
    "file_text = f.read() #파일 내용 읽은 후 변수에 저장\n",
    "f.close() #파일 닫기\n",
    "\n",
    "print(file_text) #변수에 저장된 내용 출력"
   ]
  },
  {
   "cell_type": "markdown",
   "id": "669ac25c",
   "metadata": {},
   "source": [
    "## 6.4 반복문을 이용해 파일 읽고 쓰기"
   ]
  },
  {
   "cell_type": "markdown",
   "id": "ec8b5802",
   "metadata": {},
   "source": [
    "### 파일에 문자열 한 줄씩 쓰기"
   ]
  },
  {
   "cell_type": "code",
   "execution_count": 146,
   "id": "7db83be0",
   "metadata": {},
   "outputs": [],
   "source": [
    "f = open('two_times_table.txt', 'w')\n",
    "for num in range(1,6):\n",
    "    format_string = \"2 x {0} = {1}\\n\".format(num,2*num)\n",
    "    f.write(format_string)\n",
    "f.close()"
   ]
  },
  {
   "cell_type": "code",
   "execution_count": 154,
   "id": "b18133ee",
   "metadata": {},
   "outputs": [
    {
     "name": "stdout",
     "output_type": "stream",
     "text": [
      "2 x 1 = 2\n",
      "2 x 2 = 4\n",
      "2 x 3 = 6\n",
      "2 x 4 = 8\n",
      "2 x 5 = 10\n"
     ]
    }
   ],
   "source": [
    "!type two_times_table.txt"
   ]
  },
  {
   "cell_type": "markdown",
   "id": "b7841cd6",
   "metadata": {},
   "source": [
    "readline()"
   ]
  },
  {
   "cell_type": "code",
   "execution_count": 167,
   "id": "559f26ac",
   "metadata": {},
   "outputs": [
    {
     "name": "stdout",
     "output_type": "stream",
     "text": [
      "2 x 1 = 2\n",
      "2 x 2 = 4\n"
     ]
    }
   ],
   "source": [
    "f = open(\"two_times_table.txt\") #아무것도 지정하지 않으면 r\n",
    "line1 = f.readline()\n",
    "line2 = f.readline()\n",
    "f.close\n",
    "print(line1, end=\"\")\n",
    "print(line2, end=\"\")"
   ]
  },
  {
   "cell_type": "code",
   "execution_count": 155,
   "id": "9b5d8026",
   "metadata": {},
   "outputs": [
    {
     "name": "stdout",
     "output_type": "stream",
     "text": [
      "2 x 1 = 2\n",
      "2 x 2 = 4\n",
      "2 x 3 = 6\n",
      "2 x 4 = 8\n",
      "2 x 5 = 10\n"
     ]
    }
   ],
   "source": [
    "f = open(\"two_times_table.txt\")\n",
    "line = f.readline()\n",
    "while line: # line이 공백인지 검사 (문자가 있으면 1(true)로 인식해 빈값이 들어가면 알아서 끊어져 false로 인식\n",
    "    print(line, end=\"\") #문자열 한 줄 출력 (print에 개행문자 숨어있어 줄바꾸고 다음줄에 커서 가있음)\n",
    "    line = f.readline() #문자열 한 줄 읽기\n",
    "f.close()"
   ]
  },
  {
   "cell_type": "markdown",
   "id": "9252df5d",
   "metadata": {},
   "source": [
    "#### readlines()"
   ]
  },
  {
   "cell_type": "markdown",
   "id": "b20f2935",
   "metadata": {},
   "source": [
    "한꺼번에 출력한다"
   ]
  },
  {
   "cell_type": "code",
   "execution_count": 171,
   "id": "14dd0a1e",
   "metadata": {},
   "outputs": [
    {
     "name": "stdout",
     "output_type": "stream",
     "text": [
      "['2 x 1 = 2\\n', '2 x 2 = 4\\n', '2 x 3 = 6\\n', '2 x 4 = 8\\n', '2 x 5 = 10\\n']\n"
     ]
    }
   ],
   "source": [
    "f =open(\"two_times_table.txt\") #파일을 읽기 모드로 열기\n",
    "lines = f.readlines() #파일 전체 읽기(***리스트 형식으로 변환)\n",
    "f.close() #파일 닫기\n",
    "\n",
    "print(lines) #리스트 변수 내용 출력"
   ]
  },
  {
   "cell_type": "markdown",
   "id": "eccc7d73",
   "metadata": {},
   "source": [
    "for문을 이용하여 전체 읽기"
   ]
  },
  {
   "cell_type": "code",
   "execution_count": 179,
   "id": "3f11d6a2",
   "metadata": {},
   "outputs": [
    {
     "name": "stdout",
     "output_type": "stream",
     "text": [
      "2 x 1 = 2\n",
      "2 x 2 = 4\n",
      "2 x 3 = 6\n",
      "2 x 4 = 8\n",
      "2 x 5 = 10\n"
     ]
    }
   ],
   "source": [
    "f = open(\"two_times_table.txt\")\n",
    "lines = f.readlines()\n",
    "f.close() #문서(메모장)만 닫은 거야\n",
    "\n",
    "for line in lines: #for문 리스트 범위를 가져와 (* readlines():리스트 형태로 값이 나옴)\n",
    "    print(line, end=\"\")"
   ]
  },
  {
   "cell_type": "code",
   "execution_count": 175,
   "id": "8b8413a2",
   "metadata": {},
   "outputs": [
    {
     "name": "stdout",
     "output_type": "stream",
     "text": [
      "2 x 1 = 2\n",
      "2 x 2 = 4\n",
      "2 x 3 = 6\n",
      "2 x 4 = 8\n",
      "2 x 5 = 10\n"
     ]
    }
   ],
   "source": [
    "f = open(\"two_times_table.txt\")\n",
    "for line in f.readlines():\n",
    "    print(line, end=\"\")\n",
    "f.close()"
   ]
  },
  {
   "cell_type": "code",
   "execution_count": 176,
   "id": "de2b7262",
   "metadata": {},
   "outputs": [
    {
     "name": "stdout",
     "output_type": "stream",
     "text": [
      "2 x 1 = 2\n",
      "2 x 2 = 4\n",
      "2 x 3 = 6\n",
      "2 x 4 = 8\n",
      "2 x 5 = 10\n"
     ]
    }
   ],
   "source": [
    "f = open(\"two_times_table.txt\")\n",
    "for line in f:\n",
    "    print(line, end=\"\")\n",
    "f.close()"
   ]
  },
  {
   "cell_type": "markdown",
   "id": "f59a5cbd",
   "metadata": {},
   "source": [
    "## with문의 구조"
   ]
  },
  {
   "cell_type": "markdown",
   "id": "d98a9ebc",
   "metadata": {},
   "source": [
    "with open('file_name','mode')as f:"
   ]
  },
  {
   "cell_type": "markdown",
   "id": "dfad497d",
   "metadata": {},
   "source": [
    "닫아 주지 않아도 돼, 한꺼번에 출력하고 싶을 때?"
   ]
  },
  {
   "cell_type": "code",
   "execution_count": 181,
   "id": "76e28bf5",
   "metadata": {},
   "outputs": [],
   "source": [
    "with open('C:/myPyCode/myTextFile2.txt', 'w') as f:\n",
    "    f.write('File read/write test2: line1\\n')\n",
    "    f.write('File read/write test2: line2\\n')\n",
    "    f.write('File read/write test2: line3\\n')\n"
   ]
  },
  {
   "cell_type": "code",
   "execution_count": 184,
   "id": "1db56203",
   "metadata": {},
   "outputs": [
    {
     "name": "stdout",
     "output_type": "stream",
     "text": [
      "File read/write test2: line1\n",
      "File read/write test2: line2\n",
      "File read/write test2: line3\n",
      "\n"
     ]
    }
   ],
   "source": [
    "with open('C:/myPyCode/myTextFile2.txt') as f:\n",
    "    file_string = f.read()\n",
    "    print(file_string)"
   ]
  },
  {
   "cell_type": "code",
   "execution_count": 187,
   "id": "a19e5793",
   "metadata": {},
   "outputs": [],
   "source": [
    "with open('C:/myPyCode/myTextFile3.txt','w') as f:\n",
    "    for num in range(1,6):\n",
    "        format_string = \"3 x {0} = {1}\\n\".format(num,3*num)\n",
    "        f.write(format_string)"
   ]
  },
  {
   "cell_type": "code",
   "execution_count": 188,
   "id": "ded74cd1",
   "metadata": {},
   "outputs": [
    {
     "name": "stdout",
     "output_type": "stream",
     "text": [
      "3 x 1 = 3\n",
      "3 x 2 = 6\n",
      "3 x 3 = 9\n",
      "3 x 4 = 12\n",
      "3 x 5 = 15\n"
     ]
    }
   ],
   "source": [
    "with open('C:/myPyCode/myTextFile3.txt', 'r') as f:\n",
    "    for line in f:\n",
    "        print(line, end=\"\")"
   ]
  },
  {
   "cell_type": "code",
   "execution_count": null,
   "id": "0443818d",
   "metadata": {},
   "outputs": [],
   "source": []
  }
 ],
 "metadata": {
  "kernelspec": {
   "display_name": "Python 3 (ipykernel)",
   "language": "python",
   "name": "python3"
  },
  "language_info": {
   "codemirror_mode": {
    "name": "ipython",
    "version": 3
   },
   "file_extension": ".py",
   "mimetype": "text/x-python",
   "name": "python",
   "nbconvert_exporter": "python",
   "pygments_lexer": "ipython3",
   "version": "3.9.13"
  }
 },
 "nbformat": 4,
 "nbformat_minor": 5
}
