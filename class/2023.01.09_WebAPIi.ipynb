{
 "cells": [
  {
   "cell_type": "markdown",
   "id": "cd6103e9",
   "metadata": {},
   "source": [
    "# 15장 웹 API"
   ]
  },
  {
   "cell_type": "markdown",
   "id": "d43ab153",
   "metadata": {},
   "source": [
    "## 15.1 웹 API의 이해"
   ]
  },
  {
   "cell_type": "markdown",
   "id": "83a09ed7",
   "metadata": {},
   "source": [
    "#### API (Applicatiop Programming Interface)   \n",
    "응용 프로그램에서 사용할 수 있도록 기능을 제어할 수 있게 만든 인터페이스\n",
    "*인터페이스: \n",
    "\n",
    "ex) 애니팡 - 카카오톡 친구랭킹\n",
    "ex ) 식당 - 밥을 먹기 위해- 종업원, 키오스크를 통해 -> api\n",
    "\n",
    "#### 웹 API   \n",
    "웹 어플리케이션 개발에서 다른 서비스에 요청을 보내고 응답을 받기 위해 정의된 명세\n",
    "\n",
    "흔히 아는 api와 웹 api도 미세하게 달라\n",
    "\n",
    "\n",
    "웹 api는 내놔 하면 주는 거,, 그리고 끊어\n"
   ]
  },
  {
   "cell_type": "markdown",
   "id": "c981cb28",
   "metadata": {},
   "source": [
    "#### 웹 API의 데이터 획득 과정"
   ]
  },
  {
   "cell_type": "markdown",
   "id": "1ca47422",
   "metadata": {},
   "source": [
    "정보를 요청하면 원하는 데이터를 전송한다.\n",
    "- REST(Representation State Treansfer) API =  요청하면 응답 후 연결을 끊음\n",
    "- Streaming API = 강제로 연결을 끊기 전까지 연결함\n",
    "\n",
    "주로 REST방식 활용\n",
    "껐다 켰다 하는 것보다\n",
    "네트워크 끊기면 곤란한 상황 도출되기도"
   ]
  },
  {
   "cell_type": "markdown",
   "id": "bf0ff4df",
   "metadata": {},
   "source": [
    "#### 웹 API 인증 방식\n",
    "1. 인증이 필요할 경우 여러가지 방법으로 인증을 요구하는 경우가 있음\n",
    "2. 최그에는 대부분이 Open Authorization 방식을 사용함(API키, 접속토큰)을 이용해 권한을 부여함\n",
    "3. 다른 사람에게 공개해선 안되며 공개할 경우 재신청을 해야함"
   ]
  },
  {
   "cell_type": "markdown",
   "id": "74ca3e92",
   "metadata": {},
   "source": [
    "### 응답 데이터의 형식 및 처리"
   ]
  },
  {
   "cell_type": "markdown",
   "id": "e8039623",
   "metadata": {},
   "source": [
    "JSON, XML = 웹 서버에서 클라이언트로 데이터를 전달하기 위해 만든 구조화된 텍스트형식"
   ]
  },
  {
   "cell_type": "markdown",
   "id": "ae07c81d",
   "metadata": {},
   "source": [
    "#### JSON형식의 데이터 처리"
   ]
  },
  {
   "cell_type": "markdown",
   "id": "659edc1a",
   "metadata": {},
   "source": [
    "JSON (javascript Object Notation)   \n",
    "데이터 하나의 집합을 객체 라고 하며 '이름(name):값(value)'로 구분"
   ]
  },
  {
   "cell_type": "code",
   "execution_count": 11,
   "id": "a39f9bb6",
   "metadata": {},
   "outputs": [
    {
     "data": {
      "text/plain": [
       "dict"
      ]
     },
     "execution_count": 11,
     "metadata": {},
     "output_type": "execute_result"
    }
   ],
   "source": [
    "import json\n",
    "\n",
    "python_dict = {\n",
    "    \"이름\":\"홍길동\",\n",
    "    \"나이\":25,\n",
    "    \"거주지\":\"서울\",\n",
    "    \"신체정보\":{\n",
    "        \"키\":175.4,\n",
    "        \"몸무게\":71.2\n",
    "    },\n",
    "    \"취미\": [\n",
    "        \"등산\",\n",
    "        \"자전거타기\",\n",
    "        \"독서\"\n",
    "    ]\n",
    "}\n",
    "type(python_dict)"
   ]
  },
  {
   "cell_type": "code",
   "execution_count": 19,
   "id": "c149de34",
   "metadata": {
    "scrolled": true
   },
   "outputs": [
    {
     "data": {
      "text/plain": [
       "175.4"
      ]
     },
     "execution_count": 19,
     "metadata": {},
     "output_type": "execute_result"
    }
   ],
   "source": [
    "\n",
    "\n",
    "python_dict['신체정보']['키']"
   ]
  },
  {
   "cell_type": "markdown",
   "id": "dc0e559c",
   "metadata": {},
   "source": [
    "json 뷰어 (http://jsonviewer.stack.hu/)"
   ]
  },
  {
   "cell_type": "markdown",
   "id": "9802316e",
   "metadata": {},
   "source": [
    "파이썬을 JSON형태로 변환"
   ]
  },
  {
   "cell_type": "code",
   "execution_count": null,
   "id": "768624c6",
   "metadata": {},
   "outputs": [],
   "source": [
    "json_data = json.dumps(python_dict)\n",
    "type(json_data)"
   ]
  },
  {
   "cell_type": "code",
   "execution_count": null,
   "id": "ad9b6af3",
   "metadata": {},
   "outputs": [],
   "source": [
    "print(json_data)"
   ]
  },
  {
   "cell_type": "markdown",
   "id": "b29e4731",
   "metadata": {},
   "source": [
    "아스키코드 한글 지원하지 않음"
   ]
  },
  {
   "cell_type": "markdown",
   "id": "e241b1ef",
   "metadata": {},
   "source": [
    "옵션을 추가해서 출력(들여쓰기, 딕셔너리일 경우 키를 기준으로 정렬, 아스키코드로 구정된 문자열 성정(한글 = false)"
   ]
  },
  {
   "cell_type": "code",
   "execution_count": null,
   "id": "9788abcf",
   "metadata": {},
   "outputs": [],
   "source": [
    "json_data = json.dumps(python_dict, indent=3, sort_keys=True, ensure_ascii = False)\n",
    "print(json_data)"
   ]
  },
  {
   "cell_type": "code",
   "execution_count": null,
   "id": "3c69eb6c",
   "metadata": {},
   "outputs": [],
   "source": [
    "json_dict = json.loads(json_data)\n",
    "type(json_dict)"
   ]
  },
  {
   "cell_type": "markdown",
   "id": "93ced795",
   "metadata": {},
   "source": [
    "Json에서 정보추출"
   ]
  },
  {
   "cell_type": "code",
   "execution_count": null,
   "id": "1d5bd637",
   "metadata": {},
   "outputs": [],
   "source": [
    "json_dict['신체정보']['몸무게']"
   ]
  },
  {
   "cell_type": "code",
   "execution_count": null,
   "id": "37092f72",
   "metadata": {},
   "outputs": [],
   "source": [
    "json_dict['취미']"
   ]
  },
  {
   "cell_type": "code",
   "execution_count": null,
   "id": "c47e65d8",
   "metadata": {},
   "outputs": [],
   "source": [
    "json_dict['취미'][0]"
   ]
  },
  {
   "cell_type": "markdown",
   "id": "4ad66844",
   "metadata": {},
   "source": [
    "#### XML 형식의 데이터 처리"
   ]
  },
  {
   "cell_type": "markdown",
   "id": "02d4d249",
   "metadata": {},
   "source": [
    "xml \n",
    "마크업 언어로 tag사용"
   ]
  },
  {
   "cell_type": "markdown",
   "id": "d29564eb",
   "metadata": {},
   "source": [
    "설치   \n",
    "아나콘다 프롬프트에서   \n",
    "pip install xmltodict 입력"
   ]
  },
  {
   "cell_type": "code",
   "execution_count": null,
   "id": "92dc4f65",
   "metadata": {},
   "outputs": [],
   "source": [
    "!pip install xmltodict"
   ]
  },
  {
   "cell_type": "markdown",
   "id": "68fb618e",
   "metadata": {},
   "source": [
    "xmltodict.parse(xml_input [,xml_arrtibs 혹은 false])   \n",
    "xml_attribs= xml형식의 속성 처리 여부"
   ]
  },
  {
   "cell_type": "code",
   "execution_count": null,
   "id": "1a0ab269",
   "metadata": {},
   "outputs": [],
   "source": [
    "xml_data = \"\"\"<?xml version='1.0' encoding= \"UTF-8\" ?>\n",
    "<사용자정보>\n",
    "    <이름>홍길동</이름>\n",
    "    <나이>25세</나이>\n",
    "    <거주지>서울</거주지>\n",
    "    <신체정보>\n",
    "        <키 unit='cm'> 175.4</키>\n",
    "        <몸무게 unit='kg'>71.2</몸무게>\n",
    "    </신체정보>\n",
    "    <취미>등산</취미>\n",
    "    <취미>자전거타기</취미>\n",
    "    <취미>독서</취미>\n",
    "</사용자정보>\n",
    "\"\"\"\n",
    "print(xmla_data)"
   ]
  },
  {
   "cell_type": "markdown",
   "id": "3b3a9fb4",
   "metadata": {},
   "source": [
    "파이썬의 닥셔너리 타입의 데이터(속성 '@속성아룸', 태그의 문자열'#text')로 출력"
   ]
  },
  {
   "cell_type": "code",
   "execution_count": null,
   "id": "fba3c745",
   "metadata": {},
   "outputs": [],
   "source": [
    "import xmltodict #딕셔너리로 변환\n",
    "\n",
    "dict_data = xmltodict.parse(xml_data, xml_attribs=True)\n",
    "dict_data"
   ]
  },
  {
   "cell_type": "markdown",
   "id": "548c10c2",
   "metadata": {},
   "source": [
    "사용자 정부 중 이름을 알고 싶을 때"
   ]
  },
  {
   "cell_type": "code",
   "execution_count": null,
   "id": "b50e3d78",
   "metadata": {},
   "outputs": [],
   "source": [
    "dict_data['사용자정보']['이름']"
   ]
  },
  {
   "cell_type": "code",
   "execution_count": null,
   "id": "4d25e4fe",
   "metadata": {},
   "outputs": [],
   "source": [
    "dict_data['사용자정보']['신체정보']"
   ]
  },
  {
   "cell_type": "markdown",
   "id": "5344c456",
   "metadata": {},
   "source": [
    "키의 속성과 문자열을 출력하고 싶을 때"
   ]
  },
  {
   "cell_type": "code",
   "execution_count": null,
   "id": "5d93235d",
   "metadata": {},
   "outputs": [],
   "source": [
    "dict_data['사용자정보']['신체정보']['키']['@unit']"
   ]
  },
  {
   "cell_type": "code",
   "execution_count": null,
   "id": "7b72438a",
   "metadata": {},
   "outputs": [],
   "source": [
    "dict_data['사용자정보']['신체정보']['키']['#text']"
   ]
  },
  {
   "cell_type": "markdown",
   "id": "e4db59d1",
   "metadata": {},
   "source": [
    "XML 데이터에서 원하는 데이터를 추출"
   ]
  },
  {
   "cell_type": "code",
   "execution_count": null,
   "id": "5d64da2f",
   "metadata": {},
   "outputs": [],
   "source": [
    "import xmltodict\n",
    "dict_data = xmltodict.parse(xml_data)\n",
    "\n",
    "user_name = dict_data['사용자정보']['이름']\n",
    "body_data = dict_data['사용자정보']['신체정보']\n",
    "\n",
    "\n",
    "height = body_data['키']['#text']\n",
    "height_unit = body_data['키']['@unit']\n",
    "\n",
    "weight = body_data['몸무게']['#text']\n",
    "weight_unit = body_data['몸무게']['@unit']\n",
    "\n",
    "print(\"[사용자 {0}의 신체정보]\".format(user_name))\n",
    "print('*키: {0}{1}'.format(height, height_unit))\n",
    "print('*몸무게: {0}{1}'.format(weight, weight_unit))"
   ]
  },
  {
   "cell_type": "markdown",
   "id": "4c7cdaa2",
   "metadata": {},
   "source": [
    "xml_attribs = False 선택시"
   ]
  },
  {
   "cell_type": "code",
   "execution_count": null,
   "id": "ecdb80b6",
   "metadata": {},
   "outputs": [],
   "source": [
    "dict_data2 = xmltodict.parse(xml_data, xml_attribs=False)\n",
    "dict_data2"
   ]
  },
  {
   "cell_type": "markdown",
   "id": "6faf535d",
   "metadata": {},
   "source": [
    "## 15.4 정부의 공공 데이터 가져오기"
   ]
  },
  {
   "cell_type": "code",
   "execution_count": null,
   "id": "1682be90",
   "metadata": {},
   "outputs": [],
   "source": [
    "import requests\n",
    "\n",
    "API_KEY = \"ISeJ4%2FJebHD770KkmWxwKVXRHYvn7NsqsE7l7aIAqKEwagd3ikBtLDAx%2B7s9mi6byM%2FJQf9StzJXkDdayd1k1Q%3D%3D\"\n",
    "API_KEY_decode = requests.utils.unquote(API_KEY)\n",
    "API_KEY_decode #디코딩된 값 출력"
   ]
  },
  {
   "cell_type": "markdown",
   "id": "3ae7a150",
   "metadata": {},
   "source": [
    "encoding = 암호화\n",
    "decoding = 변환 암호 풀기"
   ]
  },
  {
   "cell_type": "markdown",
   "id": "2488afd6",
   "metadata": {},
   "source": [
    "도로명 주소를 지정해 데이터 가져오기"
   ]
  },
  {
   "cell_type": "code",
   "execution_count": null,
   "id": "1a4b507d",
   "metadata": {},
   "outputs": [],
   "source": [
    "req_url = \"http://openapi.epost.go.kr/postal/retrieveNewAdressAreaCdService/retrieveNewAdressAreaCdService/getNewAddressListAreaCd\"\n",
    "\n",
    "search_Se = 'road'\n",
    "srch_wrd = '세종로17'\n",
    "\n",
    "req_parameter = {'ServiceKey': API_KEY_decode, 'searchSe': search_Se, \"srchwrd\":srch_wrd}\n",
    "\n",
    "r = requests.get(req_url, params = req_parameter)\n",
    "xml_data = r.text\n",
    "print(xml_data)"
   ]
  },
  {
   "cell_type": "markdown",
   "id": "46638f75",
   "metadata": {},
   "source": [
    "xmltodict 라이브러리로 딕셔너리 데이터로 변환"
   ]
  },
  {
   "cell_type": "code",
   "execution_count": null,
   "id": "5dda47ab",
   "metadata": {
    "scrolled": true
   },
   "outputs": [],
   "source": [
    "import xmltodict\n",
    "\n",
    "dict_data = xmltodict.parse(xml_data)\n",
    "dict_data"
   ]
  },
  {
   "cell_type": "markdown",
   "id": "ca9afd01",
   "metadata": {},
   "source": [
    "원하는 값 추출하기"
   ]
  },
  {
   "cell_type": "code",
   "execution_count": null,
   "id": "1478521a",
   "metadata": {},
   "outputs": [],
   "source": [
    "adress_list = dict_data['NewAddressListResponse']['newAddressListAreaCd']\n",
    "print(\"[입력한 도로명 주소]\", srch_wrd)\n",
    "print(\"[응답한 데이터에서 추출한 결과]\")\n",
    "print(\"-우편번호:\", adress_list['zipNo'])\n",
    "print(\"-도로명주소:\", adress_list['lnmAdres'])\n",
    "print(\"-지번 주소:\", adress_list['rnAdres'])"
   ]
  },
  {
   "cell_type": "markdown",
   "id": "bb59d6b4",
   "metadata": {},
   "source": [
    "대기오염 정보"
   ]
  },
  {
   "cell_type": "code",
   "execution_count": 1,
   "id": "0a4aa711",
   "metadata": {},
   "outputs": [
    {
     "data": {
      "text/plain": [
       "'ISeJ4/JebHD770KkmWxwKVXRHYvn7NsqsE7l7aIAqKEwagd3ikBtLDAx+7s9mi6byM/JQf9StzJXkDdayd1k1Q=='"
      ]
     },
     "execution_count": 1,
     "metadata": {},
     "output_type": "execute_result"
    }
   ],
   "source": [
    "import requests\n",
    "\n",
    "API_KEY = 'ISeJ4%2FJebHD770KkmWxwKVXRHYvn7NsqsE7l7aIAqKEwagd3ikBtLDAx%2B7s9mi6byM%2FJQf9StzJXkDdayd1k1Q%3D%3D'\n",
    "API_KEY_decode = requests.utils.unquote(API_KEY)\n",
    "API_KEY_decode"
   ]
  },
  {
   "cell_type": "code",
   "execution_count": 3,
   "id": "e73c369c",
   "metadata": {
    "scrolled": true
   },
   "outputs": [
    {
     "name": "stdout",
     "output_type": "stream",
     "text": [
      "{'response': {'body': {'totalCount': 2, 'items': [{'sggName': '강남구', 'umdName': '논현동', 'tmX': '202733.974301', 'tmY': '445717.50469', 'sidoName': '서울특별시'}, {'sggName': '남동구', 'umdName': '논현동', 'tmX': '175850.136025', 'tmY': '434153.586394', 'sidoName': '인천광역시'}], 'pageNo': 1, 'numOfRows': 10}, 'header': {'resultMsg': 'NORMAL_CODE', 'resultCode': '00'}}}\n"
     ]
    }
   ],
   "source": [
    "req_url = \"http://apis.data.go.kr/B552584/MsrstnInfoInqireSvc/getTMStdrCrdnt\"\n",
    "\n",
    "umd_name = \"논현동\"\n",
    "num_of_rows = 10\n",
    "page_no = 1\n",
    "\n",
    "output_type = 'json'\n",
    "req_parameter = {'serviceKey':API_KEY_decode, 'umdName':umd_name, \"pageNo\":page_no, \"numOfRows\":num_of_rows, \"returnType\":output_type}\n",
    "\n",
    "dict_data = requests.get(req_url, params = req_parameter).json()\n",
    "print(dict_data)\n",
    "#dict_data['totalCount']"
   ]
  },
  {
   "cell_type": "code",
   "execution_count": 16,
   "id": "484db055",
   "metadata": {
    "scrolled": false
   },
   "outputs": [
    {
     "data": {
      "text/plain": [
       "2"
      ]
     },
     "execution_count": 16,
     "metadata": {},
     "output_type": "execute_result"
    }
   ],
   "source": [
    "req_url = \"http://apis.data.go.kr/B552584/MsrstnInfoInqireSvc/getTMStdrCrdnt\"\n",
    "\n",
    "umd_name = \"논현동\"\n",
    "num_of_rows = 10\n",
    "page_no = 1\n",
    "\n",
    "output_type = 'json'\n",
    "req_parameter = {'serviceKey':API_KEY_decode, 'umdName':umd_name, \"pageNo\":page_no, \"numOfRows\":num_of_rows, \"returnType\":output_type}\n",
    "\n",
    "dict_data = requests.get(req_url, params = req_parameter).json()\n",
    "dict_data['response']['body']['totalCount']"
   ]
  },
  {
   "cell_type": "code",
   "execution_count": 20,
   "id": "75bd1e26",
   "metadata": {},
   "outputs": [
    {
     "name": "stdout",
     "output_type": "stream",
     "text": [
      "[입력한 읍/면/동명] 논현동\n",
      "[TM 기준 좌표 조회 결과]\n"
     ]
    },
    {
     "ename": "KeyError",
     "evalue": "'list'",
     "output_type": "error",
     "traceback": [
      "\u001b[1;31m---------------------------------------------------------------------------\u001b[0m",
      "\u001b[1;31mKeyError\u001b[0m                                  Traceback (most recent call last)",
      "\u001b[1;32m~\\AppData\\Local\\Temp\\ipykernel_5100\\167618800.py\u001b[0m in \u001b[0;36m<module>\u001b[1;34m\u001b[0m\n\u001b[0;32m      3\u001b[0m \u001b[1;33m\u001b[0m\u001b[0m\n\u001b[0;32m      4\u001b[0m \u001b[1;32mfor\u001b[0m \u001b[0mk\u001b[0m \u001b[1;32min\u001b[0m \u001b[0mrange\u001b[0m\u001b[1;33m(\u001b[0m\u001b[0mdict_data\u001b[0m\u001b[1;33m[\u001b[0m\u001b[1;34m'response'\u001b[0m\u001b[1;33m]\u001b[0m\u001b[1;33m[\u001b[0m\u001b[1;34m'body'\u001b[0m\u001b[1;33m]\u001b[0m\u001b[1;33m[\u001b[0m\u001b[1;34m'totalCount'\u001b[0m\u001b[1;33m]\u001b[0m\u001b[1;33m)\u001b[0m\u001b[1;33m:\u001b[0m\u001b[1;33m\u001b[0m\u001b[1;33m\u001b[0m\u001b[0m\n\u001b[1;32m----> 5\u001b[1;33m     \u001b[0msido\u001b[0m \u001b[1;33m=\u001b[0m \u001b[0mdict_data\u001b[0m\u001b[1;33m[\u001b[0m\u001b[1;34m'list'\u001b[0m\u001b[1;33m]\u001b[0m\u001b[1;33m[\u001b[0m\u001b[0mk\u001b[0m\u001b[1;33m]\u001b[0m\u001b[1;33m[\u001b[0m\u001b[1;34m'sidoName'\u001b[0m\u001b[1;33m]\u001b[0m\u001b[1;33m\u001b[0m\u001b[1;33m\u001b[0m\u001b[0m\n\u001b[0m",
      "\u001b[1;31mKeyError\u001b[0m: 'list'"
     ]
    }
   ],
   "source": [
    "print(\"[입력한 읍/면/동명]\", umd_name)\n",
    "print(\"[TM 기준 좌표 조회 결과]\")\n",
    "\n",
    "for k in range(dict_data['response']['body']['totalCount']):\n",
    "    sido = dict_data['list'][k]['sidoName']"
   ]
  },
  {
   "cell_type": "code",
   "execution_count": null,
   "id": "a7a5ef9a",
   "metadata": {},
   "outputs": [],
   "source": []
  }
 ],
 "metadata": {
  "kernelspec": {
   "display_name": "Python 3 (ipykernel)",
   "language": "python",
   "name": "python3"
  },
  "language_info": {
   "codemirror_mode": {
    "name": "ipython",
    "version": 3
   },
   "file_extension": ".py",
   "mimetype": "text/x-python",
   "name": "python",
   "nbconvert_exporter": "python",
   "pygments_lexer": "ipython3",
   "version": "3.9.13"
  }
 },
 "nbformat": 4,
 "nbformat_minor": 5
}
