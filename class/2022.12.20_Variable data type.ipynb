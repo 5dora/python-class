{
 "cells": [
  {
   "cell_type": "markdown",
   "id": "07324954",
   "metadata": {},
   "source": [
    "# 문자열 다루기"
   ]
  },
  {
   "cell_type": "markdown",
   "id": "a7bf510e",
   "metadata": {},
   "source": [
    "#### 문자열 더하기 곱셈"
   ]
  },
  {
   "cell_type": "code",
   "execution_count": null,
   "id": "de8ffb00",
   "metadata": {},
   "outputs": [],
   "source": [
    "a = 'Enjoy '\n",
    "b = 'python!'\n",
    "c = a + b\n",
    "print(c)"
   ]
  },
  {
   "cell_type": "code",
   "execution_count": null,
   "id": "f84b8faa",
   "metadata": {},
   "outputs": [],
   "source": [
    "print(a * 3)"
   ]
  },
  {
   "cell_type": "markdown",
   "id": "562c8e2f",
   "metadata": {},
   "source": [
    "# 4.3 리스트"
   ]
  },
  {
   "cell_type": "markdown",
   "id": "b42dc603",
   "metadata": {},
   "source": [
    "### 리스트 만들기 [ ]"
   ]
  },
  {
   "cell_type": "markdown",
   "id": "2679678d",
   "metadata": {},
   "source": [
    "#### 데이터를 한꺼번에 처리하기 위해 묶어놓은면 편하다"
   ]
  },
  {
   "cell_type": "code",
   "execution_count": 1,
   "id": "e0b71e4b",
   "metadata": {},
   "outputs": [
    {
     "data": {
      "text/plain": [
       "[90, 95, 85, 80]"
      ]
     },
     "execution_count": 1,
     "metadata": {},
     "output_type": "execute_result"
    }
   ],
   "source": [
    "# 1번 학생의 국어, 영어 수학, 과학 점수가 각각 90. 95, 85, 80\n",
    "student1 = [90,95,85,80]\n",
    "student1"
   ]
  },
  {
   "cell_type": "code",
   "execution_count": 2,
   "id": "44274ff2",
   "metadata": {},
   "outputs": [
    {
     "name": "stdout",
     "output_type": "stream",
     "text": [
      "[90, 95, 85, 80]\n"
     ]
    }
   ],
   "source": [
    "print(student1)"
   ]
  },
  {
   "cell_type": "markdown",
   "id": "d9e31c17",
   "metadata": {},
   "source": [
    "#### 리스트의 타입 및 출력"
   ]
  },
  {
   "cell_type": "code",
   "execution_count": null,
   "id": "25d51766",
   "metadata": {},
   "outputs": [],
   "source": [
    "type(student1)"
   ]
  },
  {
   "cell_type": "code",
   "execution_count": 3,
   "id": "83aac0ca",
   "metadata": {},
   "outputs": [
    {
     "data": {
      "text/plain": [
       "90"
      ]
     },
     "execution_count": 3,
     "metadata": {},
     "output_type": "execute_result"
    }
   ],
   "source": [
    "student1[0] #index 넘버! 앞에서부터는 0/ 뒤에서부터는 -1"
   ]
  },
  {
   "cell_type": "code",
   "execution_count": null,
   "id": "dbddbf6a",
   "metadata": {},
   "outputs": [],
   "source": [
    "student1[1]"
   ]
  },
  {
   "cell_type": "code",
   "execution_count": null,
   "id": "96d12346",
   "metadata": {},
   "outputs": [],
   "source": [
    "student1[-1]"
   ]
  },
  {
   "cell_type": "code",
   "execution_count": null,
   "id": "087ca45d",
   "metadata": {},
   "outputs": [],
   "source": [
    "student1[-2]"
   ]
  },
  {
   "cell_type": "code",
   "execution_count": null,
   "id": "3592f729",
   "metadata": {},
   "outputs": [],
   "source": [
    "student1[-3]"
   ]
  },
  {
   "cell_type": "code",
   "execution_count": null,
   "id": "aa380acf",
   "metadata": {},
   "outputs": [],
   "source": [
    "student1[-4]"
   ]
  },
  {
   "cell_type": "markdown",
   "id": "654681ac",
   "metadata": {},
   "source": [
    "#### 새로운 데이터를 할당"
   ]
  },
  {
   "cell_type": "code",
   "execution_count": null,
   "id": "c17d1dc4",
   "metadata": {},
   "outputs": [],
   "source": [
    "student1[0]= 100 #첫 번째 항목에 새로운 데이터를 할당\n",
    "student1"
   ]
  },
  {
   "cell_type": "code",
   "execution_count": null,
   "id": "54bd2ea7",
   "metadata": {},
   "outputs": [],
   "source": [
    "myFriends = ['james', 'Robert', 'Lisa', 'Mary']\n",
    "myFriends"
   ]
  },
  {
   "cell_type": "code",
   "execution_count": null,
   "id": "65b100a7",
   "metadata": {},
   "outputs": [],
   "source": [
    "myFriends[2]"
   ]
  },
  {
   "cell_type": "code",
   "execution_count": null,
   "id": "271599f2",
   "metadata": {},
   "outputs": [],
   "source": [
    "myFriends[-2]"
   ]
  },
  {
   "cell_type": "code",
   "execution_count": null,
   "id": "556f7ac5",
   "metadata": {},
   "outputs": [],
   "source": [
    "myFriends[0] = 'Sarah'\n",
    "myFriends"
   ]
  },
  {
   "cell_type": "markdown",
   "id": "24cd8b86",
   "metadata": {},
   "source": [
    "#### 다른 타입끼리도 생성 가능"
   ]
  },
  {
   "cell_type": "code",
   "execution_count": null,
   "id": "6b3b51b4",
   "metadata": {},
   "outputs": [],
   "source": [
    "mixedList = [0, 2, 3.14, 'python', 'program', True, myFriends] #리스트 안에 리스트 가능\n",
    "mixedList"
   ]
  },
  {
   "cell_type": "markdown",
   "id": "d585b037",
   "metadata": {},
   "source": [
    "## 리스트 다루기"
   ]
  },
  {
   "cell_type": "markdown",
   "id": "69faa472",
   "metadata": {},
   "source": [
    "#### 리스트 더하기와 곱하기 "
   ]
  },
  {
   "cell_type": "code",
   "execution_count": null,
   "id": "56d5c59f",
   "metadata": {},
   "outputs": [],
   "source": [
    "list_con1 = [1,2,3,4]\n",
    "list_con2 = [5,6,7,8]\n",
    "list_con = list_con1 + list_con2\n",
    "\n",
    "print(list_con)"
   ]
  },
  {
   "cell_type": "code",
   "execution_count": null,
   "id": "c387a36d",
   "metadata": {},
   "outputs": [],
   "source": [
    "list_con1 = [1,2,3,4]\n",
    "list_con = list_con1 * 3\n",
    "\n",
    "print(list_con)"
   ]
  },
  {
   "cell_type": "markdown",
   "id": "be43bd3c",
   "metadata": {},
   "source": [
    "#### 리스트 중 일부 항목 가져오기"
   ]
  },
  {
   "cell_type": "markdown",
   "id": "830c0863",
   "metadata": {},
   "source": [
    "리스트[i_start,i_end]\n",
    "\n",
    "리스트[i_start,i_end:step]"
   ]
  },
  {
   "cell_type": "markdown",
   "id": "97e566c6",
   "metadata": {},
   "source": [
    "각각 인덱스의 시작, 끝, 증가 범위를 지정하면 [i_start]부터 [i_end -1] 까지   *** 이상 <= _  > 미만"
   ]
  },
  {
   "cell_type": "markdown",
   "id": "40eae352",
   "metadata": {},
   "source": [
    " 리스트 반환 생략하면 0, 끝, 1로 간주한다."
   ]
  },
  {
   "cell_type": "code",
   "execution_count": 10,
   "id": "6a2ec1ac",
   "metadata": {},
   "outputs": [
    {
     "name": "stdout",
     "output_type": "stream",
     "text": [
      "[1, 2, 3, 4, 5, 6, 7, 8, 9, 0]\n",
      "[1, 2, 3]\n",
      "[5, 6, 7, 8, 9]\n",
      "[1, 2, 3]\n",
      "[8, 9, 0]\n",
      "[1, 3, 5, 7, 9]\n"
     ]
    }
   ],
   "source": [
    "list_data = [1,2,3,4,5,6,7,8,9,0]\n",
    "print(list_data)\n",
    "print(list_data[0:3])\n",
    "print(list_data[4:9])\n",
    "print(list_data[:3])\n",
    "print(list_data[7:])\n",
    "print(list_data[::2])"
   ]
  },
  {
   "cell_type": "code",
   "execution_count": 11,
   "id": "f2198f34",
   "metadata": {},
   "outputs": [
    {
     "name": "stdout",
     "output_type": "stream",
     "text": [
      "[3, 6, 9]\n"
     ]
    }
   ],
   "source": [
    "print(list_data[2::3])"
   ]
  },
  {
   "cell_type": "markdown",
   "id": "7d07a73e",
   "metadata": {},
   "source": [
    "#### 리스트에서 항목 삭제하기"
   ]
  },
  {
   "cell_type": "code",
   "execution_count": 12,
   "id": "1a7614c9",
   "metadata": {},
   "outputs": [
    {
     "name": "stdout",
     "output_type": "stream",
     "text": [
      "[1, 2, 3, 4, 5, 6, 7, 8, 9, 0]\n",
      "[1, 2, 3, 4, 5, 6, 8, 9, 0]\n"
     ]
    }
   ],
   "source": [
    "print(list_data)\n",
    "del (list_data[6])\n",
    "print(list_data)"
   ]
  },
  {
   "cell_type": "markdown",
   "id": "412d88d0",
   "metadata": {},
   "source": [
    "#### 리스트에서 항목의 존재 여부 확인하기"
   ]
  },
  {
   "cell_type": "markdown",
   "id": "8ebbe327",
   "metadata": {},
   "source": [
    "#### Bool로 반환함"
   ]
  },
  {
   "cell_type": "code",
   "execution_count": null,
   "id": "b0422de3",
   "metadata": {},
   "outputs": [],
   "source": [
    "list_data1 = [1,2,3,4,5]\n",
    "print(5 in list_data1)  #5 인덱스가 아니라 리스트 값이야\n",
    "print(6 in list_data1)"
   ]
  },
  {
   "cell_type": "markdown",
   "id": "1ffdd2ff",
   "metadata": {},
   "source": [
    "### 리스트 메서드 활용하기"
   ]
  },
  {
   "cell_type": "markdown",
   "id": "9a9f6ecb",
   "metadata": {},
   "source": [
    "#### 자료형 메서드 이름() 변수형 메서드 이름()"
   ]
  },
  {
   "cell_type": "code",
   "execution_count": null,
   "id": "efc969d6",
   "metadata": {},
   "outputs": [],
   "source": [
    "myFriends = ['james', 'Robert', 'Lisa', 'Mary']\n",
    "print(myFriends)\n",
    "myFriends.append('Thomas') # 마지막에 하나를 추가\n",
    "print(myFriends)"
   ]
  },
  {
   "cell_type": "code",
   "execution_count": null,
   "id": "ddf660fe",
   "metadata": {},
   "outputs": [],
   "source": [
    "myFriends = ['james', 'Robert', 'Lisa', 'Mary']\n",
    "print(myFriends)\n",
    "myFriends.insert(1,'Paul') #지정한 인덱스에 추가\n",
    "print(myFriends)"
   ]
  },
  {
   "cell_type": "code",
   "execution_count": null,
   "id": "434be5a4",
   "metadata": {},
   "outputs": [],
   "source": [
    "myFriends = ['james', 'Robert', 'Lisa', 'Mary']\n",
    "print(myFriends)\n",
    "myFriends.extend(['Laura','Betty']) #항목 여러개를 마지막에 추가\n",
    "print(myFriends)"
   ]
  },
  {
   "cell_type": "code",
   "execution_count": 9,
   "id": "b22b798d",
   "metadata": {},
   "outputs": [
    {
     "name": "stdout",
     "output_type": "stream",
     "text": [
      "['James', 'Robert', 'Lisa', 'Mary', 'James']\n",
      "['Robert', 'Lisa', 'Mary', 'James']\n"
     ]
    }
   ],
   "source": [
    "myFriends = ['James', 'Robert', 'Lisa', 'Mary', 'James']\n",
    "print(myFriends)\n",
    "myFriends.remove('James') #첫번째로 일치하는 항목을 리스트에서 제외\n",
    "print(myFriends)"
   ]
  },
  {
   "cell_type": "code",
   "execution_count": null,
   "id": "f2d967d4",
   "metadata": {},
   "outputs": [],
   "source": [
    "myFriends = ['james', 'Robert', 'Lisa', 'Mary']\n",
    "print(myFriends)\n",
    "popFriends = myFriends.pop() #마지막 항목을 제거한 후에 반환\n",
    "print(myFriends)\n",
    "print(popFriends)"
   ]
  },
  {
   "cell_type": "code",
   "execution_count": null,
   "id": "e24c4d37",
   "metadata": {},
   "outputs": [],
   "source": [
    "myFriends = ['james', 'Robert', 'Lisa', 'Mary']\n",
    "print(myFriends)\n",
    "indexFriend = myFriends.index('Lisa') #인덱스 값 몇 번째\n",
    "print(indexFriend)"
   ]
  },
  {
   "cell_type": "code",
   "execution_count": null,
   "id": "acc885b2",
   "metadata": {},
   "outputs": [],
   "source": [
    "myFriends = ['james', 'Robert', 'Lisa', 'Mary', 'Lisa']\n",
    "print(myFriends)\n",
    "LisaCount = myFriends.count('Lisa') #몇 개인지 세줘\n",
    "print(LisaCount)"
   ]
  },
  {
   "cell_type": "code",
   "execution_count": 1,
   "id": "e1246ed1",
   "metadata": {},
   "outputs": [
    {
     "name": "stdout",
     "output_type": "stream",
     "text": [
      "['james', 'Robert', 'Lisa', 'Mary']\n",
      "['Lisa', 'Mary', 'Robert', 'james']\n"
     ]
    }
   ],
   "source": [
    "myFriends = ['james', 'Robert', 'Lisa', 'Mary']\n",
    "print(myFriends)\n",
    "myFriends.sort() #알파벳 순으로 정렬\n",
    "print(myFriends)"
   ]
  },
  {
   "cell_type": "code",
   "execution_count": 1,
   "id": "d3ec35e5",
   "metadata": {},
   "outputs": [
    {
     "name": "stdout",
     "output_type": "stream",
     "text": [
      "['james', 'Robert', 'Lisa', 'Mary']\n",
      "['Mary', 'Lisa', 'Robert', 'james']\n"
     ]
    }
   ],
   "source": [
    "myFriends = ['james', 'Robert', 'Lisa', 'Mary']\n",
    "print(myFriends)\n",
    "myFriends.reverse() #입력한 그대로 뒤집어서\n",
    "print(myFriends)"
   ]
  },
  {
   "cell_type": "code",
   "execution_count": 13,
   "id": "006f9bd3",
   "metadata": {},
   "outputs": [
    {
     "name": "stdout",
     "output_type": "stream",
     "text": [
      "['james', 'Robert', 'Lisa', 'Mary']\n",
      "['james', 'Robert', 'Lisa']\n"
     ]
    }
   ],
   "source": [
    "myFriends = ['james', 'Robert', 'Lisa', 'Mary']\n",
    "print(myFriends)\n",
    "myFriends.pop() #마지막 항목을 제거한 후에 반환\n",
    "print(myFriends)"
   ]
  },
  {
   "cell_type": "markdown",
   "id": "f677e4eb",
   "metadata": {},
   "source": [
    "어떤 건 새로운 변수? 어떤 건 안넣어?\n",
    "메서드가 결과를 어딘가에 넣어주는 게 필요하면 새로운 변수 만들어"
   ]
  },
  {
   "cell_type": "markdown",
   "id": "c6afa533",
   "metadata": {},
   "source": [
    "# 4.4 튜플"
   ]
  },
  {
   "cell_type": "markdown",
   "id": "c22489ac",
   "metadata": {},
   "source": [
    "### 튜플 만들기 (소괄호)"
   ]
  },
  {
   "cell_type": "markdown",
   "id": "a3abbc69",
   "metadata": {},
   "source": [
    "#### ***리스트와 유사하나 항목 변경 불가능"
   ]
  },
  {
   "cell_type": "code",
   "execution_count": 4,
   "id": "399cd72c",
   "metadata": {},
   "outputs": [
    {
     "name": "stdout",
     "output_type": "stream",
     "text": [
      "(1, 2, 3, 4)\n"
     ]
    }
   ],
   "source": [
    "tuple1 = (1, 2, 3, 4)\n",
    "print(tuple1)"
   ]
  },
  {
   "cell_type": "code",
   "execution_count": 5,
   "id": "3abb8289",
   "metadata": {},
   "outputs": [
    {
     "data": {
      "text/plain": [
       "tuple"
      ]
     },
     "execution_count": 5,
     "metadata": {},
     "output_type": "execute_result"
    }
   ],
   "source": [
    "type(tuple1)"
   ]
  },
  {
   "cell_type": "code",
   "execution_count": 6,
   "id": "0d875d02",
   "metadata": {},
   "outputs": [
    {
     "data": {
      "text/plain": [
       "tuple[1]"
      ]
     },
     "execution_count": 6,
     "metadata": {},
     "output_type": "execute_result"
    }
   ],
   "source": [
    "tuple[1]"
   ]
  },
  {
   "cell_type": "markdown",
   "id": "f113db1f",
   "metadata": {},
   "source": [
    "#### 소괄호 없이도 생성 가능 **아무것도 안쓰면 튜플로 인식해(반드시 뒤에,)"
   ]
  },
  {
   "cell_type": "code",
   "execution_count": 7,
   "id": "8678f989",
   "metadata": {},
   "outputs": [
    {
     "name": "stdout",
     "output_type": "stream",
     "text": [
      "(1, 2, 3, 4)\n"
     ]
    }
   ],
   "source": [
    "tuple2 = 1, 2, 3, 4\n",
    "print(tuple2)"
   ]
  },
  {
   "cell_type": "code",
   "execution_count": 8,
   "id": "317894b9",
   "metadata": {},
   "outputs": [
    {
     "data": {
      "text/plain": [
       "tuple"
      ]
     },
     "execution_count": 8,
     "metadata": {},
     "output_type": "execute_result"
    }
   ],
   "source": [
    "type(tuple2)"
   ]
  },
  {
   "cell_type": "markdown",
   "id": "c6c164b4",
   "metadata": {},
   "source": [
    "#### 인자가 1개 밖에 없는 튜플 생성"
   ]
  },
  {
   "cell_type": "markdown",
   "id": "b166c3c1",
   "metadata": {},
   "source": [
    "#### **입력한 후 에 콤마, 추가"
   ]
  },
  {
   "cell_type": "code",
   "execution_count": null,
   "id": "82d7f930",
   "metadata": {},
   "outputs": [],
   "source": [
    "tuple3 = 9,\n",
    "tuple4 = (10,)\n",
    "print(tuple3)\n",
    "print(tuple4)"
   ]
  },
  {
   "cell_type": "code",
   "execution_count": null,
   "id": "2d678664",
   "metadata": {},
   "outputs": [],
   "source": [
    "type(tuple3)"
   ]
  },
  {
   "cell_type": "markdown",
   "id": "e3d7867a",
   "metadata": {},
   "source": [
    "*** 차이점 생각하며 언제 어떤 거 써야할지"
   ]
  },
  {
   "cell_type": "markdown",
   "id": "fa9966a3",
   "metadata": {},
   "source": [
    "### 튜플 다루기"
   ]
  },
  {
   "cell_type": "markdown",
   "id": "03790f46",
   "metadata": {},
   "source": [
    "#### 튜플 변경 및 삭제 불가"
   ]
  },
  {
   "cell_type": "code",
   "execution_count": 2,
   "id": "ef825d2a",
   "metadata": {},
   "outputs": [
    {
     "ename": "TypeError",
     "evalue": "'tuple' object does not support item assignment",
     "output_type": "error",
     "traceback": [
      "\u001b[1;31m---------------------------------------------------------------------------\u001b[0m",
      "\u001b[1;31mTypeError\u001b[0m                                 Traceback (most recent call last)",
      "\u001b[1;32m~\\AppData\\Local\\Temp\\ipykernel_3716\\1114515105.py\u001b[0m in \u001b[0;36m<module>\u001b[1;34m\u001b[0m\n\u001b[0;32m      1\u001b[0m \u001b[0mtuple5\u001b[0m \u001b[1;33m=\u001b[0m \u001b[1;33m(\u001b[0m\u001b[1;36m1\u001b[0m\u001b[1;33m,\u001b[0m\u001b[1;36m2\u001b[0m\u001b[1;33m,\u001b[0m\u001b[1;36m3\u001b[0m\u001b[1;33m,\u001b[0m\u001b[1;36m4\u001b[0m\u001b[1;33m)\u001b[0m\u001b[1;33m\u001b[0m\u001b[1;33m\u001b[0m\u001b[0m\n\u001b[1;32m----> 2\u001b[1;33m \u001b[0mtuple5\u001b[0m\u001b[1;33m[\u001b[0m\u001b[1;36m1\u001b[0m\u001b[1;33m]\u001b[0m \u001b[1;33m=\u001b[0m \u001b[1;36m5\u001b[0m  \u001b[1;31m#한번 생성된 튜플의 요소는 변경되지 않음\u001b[0m\u001b[1;33m\u001b[0m\u001b[1;33m\u001b[0m\u001b[0m\n\u001b[0m",
      "\u001b[1;31mTypeError\u001b[0m: 'tuple' object does not support item assignment"
     ]
    }
   ],
   "source": [
    "tuple5 = (1,2,3,4)\n",
    "tuple5[1] = 5  #한번 생성된 튜플의 요소는 변경되지 않음"
   ]
  },
  {
   "cell_type": "code",
   "execution_count": 3,
   "id": "1d3cdef3",
   "metadata": {},
   "outputs": [
    {
     "ename": "TypeError",
     "evalue": "'tuple' object doesn't support item deletion",
     "output_type": "error",
     "traceback": [
      "\u001b[1;31m---------------------------------------------------------------------------\u001b[0m",
      "\u001b[1;31mTypeError\u001b[0m                                 Traceback (most recent call last)",
      "\u001b[1;32m~\\AppData\\Local\\Temp\\ipykernel_3716\\3501664671.py\u001b[0m in \u001b[0;36m<module>\u001b[1;34m\u001b[0m\n\u001b[1;32m----> 1\u001b[1;33m \u001b[1;32mdel\u001b[0m \u001b[0mtuple5\u001b[0m\u001b[1;33m[\u001b[0m\u001b[1;36m1\u001b[0m\u001b[1;33m]\u001b[0m\u001b[1;33m\u001b[0m\u001b[1;33m\u001b[0m\u001b[0m\n\u001b[0m",
      "\u001b[1;31mTypeError\u001b[0m: 'tuple' object doesn't support item deletion"
     ]
    }
   ],
   "source": [
    "del tuple5[1]"
   ]
  },
  {
   "cell_type": "code",
   "execution_count": 1,
   "id": "ed335f2a",
   "metadata": {},
   "outputs": [
    {
     "ename": "AttributeError",
     "evalue": "'tuple' object has no attribute 'append'",
     "output_type": "error",
     "traceback": [
      "\u001b[1;31m---------------------------------------------------------------------------\u001b[0m",
      "\u001b[1;31mAttributeError\u001b[0m                            Traceback (most recent call last)",
      "\u001b[1;32m~\\AppData\\Local\\Temp\\ipykernel_3716\\3796603256.py\u001b[0m in \u001b[0;36m<module>\u001b[1;34m\u001b[0m\n\u001b[0;32m      1\u001b[0m \u001b[0mtuple5\u001b[0m \u001b[1;33m=\u001b[0m \u001b[1;33m(\u001b[0m\u001b[1;36m1\u001b[0m\u001b[1;33m,\u001b[0m\u001b[1;36m2\u001b[0m\u001b[1;33m,\u001b[0m\u001b[1;36m3\u001b[0m\u001b[1;33m,\u001b[0m\u001b[1;36m4\u001b[0m\u001b[1;33m)\u001b[0m\u001b[1;33m\u001b[0m\u001b[1;33m\u001b[0m\u001b[0m\n\u001b[1;32m----> 2\u001b[1;33m \u001b[0mtuple5\u001b[0m\u001b[1;33m.\u001b[0m\u001b[0mappend\u001b[0m\u001b[1;33m(\u001b[0m\u001b[1;36m5\u001b[0m\u001b[1;33m)\u001b[0m\u001b[1;33m\u001b[0m\u001b[1;33m\u001b[0m\u001b[0m\n\u001b[0m\u001b[0;32m      3\u001b[0m \u001b[0mprint\u001b[0m\u001b[1;33m(\u001b[0m\u001b[0mtuple5\u001b[0m\u001b[1;33m)\u001b[0m\u001b[1;33m\u001b[0m\u001b[1;33m\u001b[0m\u001b[0m\n",
      "\u001b[1;31mAttributeError\u001b[0m: 'tuple' object has no attribute 'append'"
     ]
    }
   ],
   "source": [
    "tuple5 = (1,2,3,4)\n",
    "tuple5.append(5)\n",
    "print(tuple5)"
   ]
  },
  {
   "cell_type": "markdown",
   "id": "d9862b8c",
   "metadata": {},
   "source": [
    "#### 변경되지 않는 메서드는 리스트와 동일하게 사용가능"
   ]
  },
  {
   "cell_type": "code",
   "execution_count": null,
   "id": "fc227991",
   "metadata": {},
   "outputs": [],
   "source": [
    "tuple6 = ('a', 'b', 'c', 'd', 'e', 'f')\n",
    "tuple6.index('c')"
   ]
  },
  {
   "cell_type": "code",
   "execution_count": null,
   "id": "d801ec75",
   "metadata": {},
   "outputs": [],
   "source": [
    "tuple6 = ('a', 'b', 'c', 'd', 'e', 'f')\n",
    "indextuple=  tuple6.index('c')\n",
    "print(indextuple)"
   ]
  },
  {
   "cell_type": "code",
   "execution_count": null,
   "id": "8b9c7fbb",
   "metadata": {},
   "outputs": [],
   "source": [
    "tuple7 = ('a', 'a', 'a', 'b', 'b', 'c', 'd')\n",
    "tuple7.count('a')"
   ]
  },
  {
   "cell_type": "code",
   "execution_count": null,
   "id": "17c6c735",
   "metadata": {},
   "outputs": [],
   "source": [
    "tuple7 = ('a', 'a', 'a', 'b', 'b', 'c', 'd')\n",
    "tupleCount = tuple7.count('a')\n",
    "print(tupleCount)"
   ]
  },
  {
   "cell_type": "markdown",
   "id": "927c00a5",
   "metadata": {},
   "source": [
    "#### 튜플 왜 써???"
   ]
  },
  {
   "cell_type": "markdown",
   "id": "9d1d77c5",
   "metadata": {},
   "source": [
    "삭제되거나 변경되면 안되는 것 ex) month 1월~12월"
   ]
  },
  {
   "cell_type": "markdown",
   "id": "33f65af5",
   "metadata": {},
   "source": [
    "보안과는 조금 다른 문제인데,,, "
   ]
  },
  {
   "cell_type": "markdown",
   "id": "4ff4f4b0",
   "metadata": {},
   "source": [
    "효율적으로! 속도의 차이 / 메모리 차이 (리스트는 추가 변경될지도 모르니 메모리 더 크게)\n",
    "데이터 커지면 차이나"
   ]
  },
  {
   "cell_type": "markdown",
   "id": "38f997cb",
   "metadata": {},
   "source": [
    "하나짜리 튜플도 써 왜?"
   ]
  },
  {
   "cell_type": "markdown",
   "id": "34a20f6d",
   "metadata": {},
   "source": [
    "# 4.5 세트"
   ]
  },
  {
   "cell_type": "markdown",
   "id": "d3bed8bb",
   "metadata": {},
   "source": [
    "### 세트 만들기 {중괄호}"
   ]
  },
  {
   "cell_type": "markdown",
   "id": "eb69196f",
   "metadata": {},
   "source": [
    "#### 세트는 중복을 허용x"
   ]
  },
  {
   "cell_type": "markdown",
   "id": "d7dbf52e",
   "metadata": {},
   "source": [
    "#### *인덱스 값이 없어"
   ]
  },
  {
   "cell_type": "code",
   "execution_count": null,
   "id": "f638b4cf",
   "metadata": {},
   "outputs": [],
   "source": [
    "set1 = {1,2,3}\n",
    "set1a = {1,2,3,3}\n",
    "print(set1)\n",
    "print(set1a)"
   ]
  },
  {
   "cell_type": "code",
   "execution_count": null,
   "id": "1e910c61",
   "metadata": {},
   "outputs": [],
   "source": [
    "type(set1)"
   ]
  },
  {
   "cell_type": "code",
   "execution_count": null,
   "id": "fec01920",
   "metadata": {},
   "outputs": [],
   "source": [
    "type(set1a)"
   ]
  },
  {
   "cell_type": "markdown",
   "id": "104aa13b",
   "metadata": {},
   "source": [
    "### 세트의 교집합, 합집합, 차집합 구하기"
   ]
  },
  {
   "cell_type": "code",
   "execution_count": null,
   "id": "1b6a14cc",
   "metadata": {},
   "outputs": [],
   "source": [
    "A = {1,2,3,4,5} #Set A\n",
    "B = {4,5,6,7,8,9,10} #Set B\n",
    "A.intersection(B) #집합 A에 대한 집합 B의 교집합(AnB)"
   ]
  },
  {
   "cell_type": "code",
   "execution_count": null,
   "id": "73a5a001",
   "metadata": {},
   "outputs": [],
   "source": [
    "A.union(B) #집합 A에 대한 집합 B의 합집합(AuB)"
   ]
  },
  {
   "cell_type": "code",
   "execution_count": null,
   "id": "33f059bd",
   "metadata": {},
   "outputs": [],
   "source": [
    "A.difference(B) #집합 A에 대한 집합 B의 차집합(A-B)"
   ]
  },
  {
   "cell_type": "markdown",
   "id": "7fecb3f5",
   "metadata": {},
   "source": [
    "### 연산자로 쉽게 하기"
   ]
  },
  {
   "cell_type": "code",
   "execution_count": 54,
   "id": "7203d312",
   "metadata": {},
   "outputs": [
    {
     "data": {
      "text/plain": [
       "{4, 5}"
      ]
     },
     "execution_count": 54,
     "metadata": {},
     "output_type": "execute_result"
    }
   ],
   "source": [
    "A = {1,2,3,4,5}\n",
    "B = {4,5,6,7,8,9,10}\n",
    "A & B"
   ]
  },
  {
   "cell_type": "code",
   "execution_count": 55,
   "id": "fd469ae0",
   "metadata": {},
   "outputs": [
    {
     "data": {
      "text/plain": [
       "{1, 2, 3, 4, 5, 6, 7, 8, 9, 10}"
      ]
     },
     "execution_count": 55,
     "metadata": {},
     "output_type": "execute_result"
    }
   ],
   "source": [
    "A | B #바티컬바"
   ]
  },
  {
   "cell_type": "code",
   "execution_count": 56,
   "id": "a680c2e0",
   "metadata": {},
   "outputs": [
    {
     "data": {
      "text/plain": [
       "{1, 2, 3}"
      ]
     },
     "execution_count": 56,
     "metadata": {},
     "output_type": "execute_result"
    }
   ],
   "source": [
    "A - B"
   ]
  },
  {
   "cell_type": "markdown",
   "id": "a746fe6b",
   "metadata": {},
   "source": [
    "## 리스트, 튜플, 세트 간 타입 변환"
   ]
  },
  {
   "cell_type": "code",
   "execution_count": 1,
   "id": "c75ba3c2",
   "metadata": {},
   "outputs": [],
   "source": [
    "a = [1,2,3,4,5]"
   ]
  },
  {
   "cell_type": "code",
   "execution_count": 2,
   "id": "fa878cb9",
   "metadata": {},
   "outputs": [
    {
     "data": {
      "text/plain": [
       "list"
      ]
     },
     "execution_count": 2,
     "metadata": {},
     "output_type": "execute_result"
    }
   ],
   "source": [
    "type(a)"
   ]
  },
  {
   "cell_type": "code",
   "execution_count": 3,
   "id": "905876b9",
   "metadata": {},
   "outputs": [
    {
     "data": {
      "text/plain": [
       "(1, 2, 3, 4, 5)"
      ]
     },
     "execution_count": 3,
     "metadata": {},
     "output_type": "execute_result"
    }
   ],
   "source": [
    "b = tuple(a)\n",
    "b"
   ]
  },
  {
   "cell_type": "code",
   "execution_count": 4,
   "id": "ff9bf969",
   "metadata": {},
   "outputs": [
    {
     "data": {
      "text/plain": [
       "{1, 2, 3, 4, 5}"
      ]
     },
     "execution_count": 4,
     "metadata": {},
     "output_type": "execute_result"
    }
   ],
   "source": [
    "c = set(a)\n",
    "c"
   ]
  },
  {
   "cell_type": "code",
   "execution_count": 5,
   "id": "4012d901",
   "metadata": {},
   "outputs": [
    {
     "data": {
      "text/plain": [
       "set"
      ]
     },
     "execution_count": 5,
     "metadata": {},
     "output_type": "execute_result"
    }
   ],
   "source": [
    "type(c)"
   ]
  },
  {
   "cell_type": "code",
   "execution_count": 6,
   "id": "7226f06d",
   "metadata": {},
   "outputs": [
    {
     "data": {
      "text/plain": [
       "[1, 2, 3, 4, 5]"
      ]
     },
     "execution_count": 6,
     "metadata": {},
     "output_type": "execute_result"
    }
   ],
   "source": [
    "list(b)"
   ]
  },
  {
   "cell_type": "code",
   "execution_count": 7,
   "id": "8819d741",
   "metadata": {},
   "outputs": [
    {
     "data": {
      "text/plain": [
       "[1, 2, 3, 4, 5]"
      ]
     },
     "execution_count": 7,
     "metadata": {},
     "output_type": "execute_result"
    }
   ],
   "source": [
    "list(c)"
   ]
  },
  {
   "cell_type": "markdown",
   "id": "193fcabd",
   "metadata": {},
   "source": [
    "# 4.6 딕셔너리"
   ]
  },
  {
   "cell_type": "markdown",
   "id": "d6c6b611",
   "metadata": {},
   "source": [
    "### 딕셔너리 만들기"
   ]
  },
  {
   "cell_type": "markdown",
   "id": "b0c79b21",
   "metadata": {},
   "source": [
    "#### 딕셔너리\n",
    "1. 중괄호로 표현한다.\n",
    "2. 키(key)와 값(value)으로 나누어져 있다.** 콜론으로 : 표기 (앞이 키 뒤에가 값)\n",
    "3. 인덱스 대신 키 값을 사용한다."
   ]
  },
  {
   "cell_type": "markdown",
   "id": "075eac6d",
   "metadata": {},
   "source": [
    "key와 value가 "
   ]
  },
  {
   "cell_type": "code",
   "execution_count": 12,
   "id": "9c0a8a74",
   "metadata": {},
   "outputs": [
    {
     "name": "stdout",
     "output_type": "stream",
     "text": [
      "{'영국': '런던', '프랑스': '파리', '스위스': '베른', '호주': '멜버른', '덴마크': '코펜하겐'}\n"
     ]
    }
   ],
   "source": [
    "country_capital = {\"영국\":\"런던\", \"프랑스\":\"파리\", \"스위스\":\"베른\", \"호주\":\"멜버른\", \"덴마크\":\"코펜하겐\"}\n",
    "print(country_capital)"
   ]
  },
  {
   "cell_type": "code",
   "execution_count": 13,
   "id": "ae29c0d3",
   "metadata": {},
   "outputs": [
    {
     "data": {
      "text/plain": [
       "dict"
      ]
     },
     "execution_count": 13,
     "metadata": {},
     "output_type": "execute_result"
    }
   ],
   "source": [
    "type(country_capital)"
   ]
  },
  {
   "cell_type": "markdown",
   "id": "4ab243f8",
   "metadata": {},
   "source": [
    "#### value값 구하기"
   ]
  },
  {
   "cell_type": "code",
   "execution_count": 14,
   "id": "18c1e8db",
   "metadata": {},
   "outputs": [
    {
     "data": {
      "text/plain": [
       "'런던'"
      ]
     },
     "execution_count": 14,
     "metadata": {},
     "output_type": "execute_result"
    }
   ],
   "source": [
    "country_capital[\"영국\"]"
   ]
  },
  {
   "cell_type": "code",
   "execution_count": 1,
   "id": "4d83791d",
   "metadata": {},
   "outputs": [
    {
     "name": "stdout",
     "output_type": "stream",
     "text": [
      "{1: '버스', 2: '비행기', 3: '택시', 4: '자전거'}\n"
     ]
    }
   ],
   "source": [
    "dict_data1 = {1:\"버스\", 2:\"비행기\", 3:\"택시\", 4:\"자전거\"}\n",
    "print(dict_data1)"
   ]
  },
  {
   "cell_type": "code",
   "execution_count": 2,
   "id": "978d677b",
   "metadata": {},
   "outputs": [
    {
     "name": "stdout",
     "output_type": "stream",
     "text": [
      "버스\n"
     ]
    }
   ],
   "source": [
    "print(dict_data1[1])"
   ]
  },
  {
   "cell_type": "code",
   "execution_count": 20,
   "id": "277bbf70",
   "metadata": {},
   "outputs": [
    {
     "name": "stdout",
     "output_type": "stream",
     "text": [
      "{1: 10, 2: 20, 3: 30, 4: 40, 5: 50}\n",
      "40\n"
     ]
    }
   ],
   "source": [
    "dict_data2 = {1:10, 2:20, 3:30, 4:40, 5:50}\n",
    "print(dict_data2)\n",
    "print(dict_data2[4])"
   ]
  },
  {
   "cell_type": "code",
   "execution_count": 21,
   "id": "22a0939f",
   "metadata": {},
   "outputs": [
    {
     "name": "stdout",
     "output_type": "stream",
     "text": [
      "{'list_data': [11, 12, 13], 'list_data2': [21, 22, 23]}\n",
      "[21, 22, 23]\n"
     ]
    }
   ],
   "source": [
    "dict_data3 = {\"list_data\":[11,12,13], \"list_data2\":[21,22,23]}\n",
    "print(dict_data3)\n",
    "print(dict_data3[\"list_data2\"])"
   ]
  },
  {
   "cell_type": "code",
   "execution_count": 24,
   "id": "c3439843",
   "metadata": {},
   "outputs": [
    {
     "data": {
      "text/plain": [
       "{1: 10,\n",
       " 'dict_num': {1: 10, 2: 20},\n",
       " 'dict_list_tuple': {'A': [11, 12, 13], 'B': (21, 22, 23)},\n",
       " 'dict_string': '이것은 책입니다.'}"
      ]
     },
     "execution_count": 24,
     "metadata": {},
     "output_type": "execute_result"
    }
   ],
   "source": [
    "mixed_dict = {1:10, \"dict_num\":{1:10, 2:20}, \"dict_list_tuple\":{\"A\":[11,12,13], \"B\":(21,22,23)}, \"dict_string\":\"이것은 책입니다.\"}\n",
    "mixed_dict"
   ]
  },
  {
   "cell_type": "markdown",
   "id": "91d67766",
   "metadata": {},
   "source": [
    "### 딕셔너리 다루기"
   ]
  },
  {
   "cell_type": "markdown",
   "id": "c3d0fd96",
   "metadata": {},
   "source": [
    "#### 딕셔너리에 데이터추가하고 변경하기"
   ]
  },
  {
   "cell_type": "markdown",
   "id": "dbb21394",
   "metadata": {},
   "source": [
    "#### 데이터 추가, 변경, 삭제"
   ]
  },
  {
   "cell_type": "code",
   "execution_count": 52,
   "id": "a1836387",
   "metadata": {},
   "outputs": [
    {
     "name": "stdout",
     "output_type": "stream",
     "text": [
      "{'영국': '런던', '프랑스': '파리', '스위스': '베른', '호주': '캔버라', '독일': '베를린'}\n"
     ]
    }
   ],
   "source": [
    "country_capital[\"독일\"] = \"베를린\" #키값 기존에 없으면 value값 추가\n",
    "print(country_capital)"
   ]
  },
  {
   "cell_type": "code",
   "execution_count": 32,
   "id": "a2429cad",
   "metadata": {},
   "outputs": [
    {
     "data": {
      "text/plain": [
       "{'영국': '런던', '프랑스': '파리', '스위스': '베른', '호주': '캔버라', '덴마크': '코펜하겐', '독일': '베를린'}"
      ]
     },
     "execution_count": 32,
     "metadata": {},
     "output_type": "execute_result"
    }
   ],
   "source": [
    "country_capital[\"호주\"] = \"캔버라\"  #키값 이미 있으면 value값 변경\n",
    "country_capital"
   ]
  },
  {
   "cell_type": "code",
   "execution_count": 33,
   "id": "d753b5c5",
   "metadata": {},
   "outputs": [
    {
     "name": "stdout",
     "output_type": "stream",
     "text": [
      "{'영국': '런던', '프랑스': '파리', '스위스': '베른', '호주': '캔버라', '독일': '베를린'}\n"
     ]
    }
   ],
   "source": [
    "del country_capital[\"덴마크\"]\n",
    "print(country_capital)"
   ]
  },
  {
   "cell_type": "markdown",
   "id": "c12fef79",
   "metadata": {},
   "source": [
    "#### 딕셔너리 메서드 활용하기"
   ]
  },
  {
   "cell_type": "code",
   "execution_count": 6,
   "id": "d9a6bfa6",
   "metadata": {},
   "outputs": [],
   "source": [
    "fruit_code = {\"사과\":101, \"배\":102, \"딸기\":103, \"포도\":104, \"바나나\":105}"
   ]
  },
  {
   "cell_type": "code",
   "execution_count": 7,
   "id": "4338e225",
   "metadata": {},
   "outputs": [
    {
     "name": "stdout",
     "output_type": "stream",
     "text": [
      "dict_keys(['사과', '배', '딸기', '포도', '바나나'])\n"
     ]
    }
   ],
   "source": [
    "print(fruit_code.keys()) #딕셔너리에서 키 전체를 리스트 형태로 반환"
   ]
  },
  {
   "cell_type": "code",
   "execution_count": 8,
   "id": "933faf7e",
   "metadata": {},
   "outputs": [
    {
     "name": "stdout",
     "output_type": "stream",
     "text": [
      "dict_values([101, 102, 103, 104, 105])\n"
     ]
    }
   ],
   "source": [
    "print(fruit_code.values()) #딕셔너리에서 값 전체를 리스트 형태로 반환"
   ]
  },
  {
   "cell_type": "code",
   "execution_count": 9,
   "id": "fa7708b5",
   "metadata": {},
   "outputs": [
    {
     "name": "stdout",
     "output_type": "stream",
     "text": [
      "dict_items([('사과', 101), ('배', 102), ('딸기', 103), ('포도', 104), ('바나나', 105)])\n"
     ]
    }
   ],
   "source": [
    "print(fruit_code.items()) #딕셔너리에서 값을 (키,값)처럼 튜플 형태로 반환"
   ]
  },
  {
   "cell_type": "code",
   "execution_count": 10,
   "id": "20eba39e",
   "metadata": {},
   "outputs": [
    {
     "data": {
      "text/plain": [
       "[101, 102, 103, 104, 105]"
      ]
     },
     "execution_count": 10,
     "metadata": {},
     "output_type": "execute_result"
    }
   ],
   "source": [
    "list(fruit_code.values())"
   ]
  },
  {
   "cell_type": "markdown",
   "id": "63013cd0",
   "metadata": {},
   "source": [
    "#### 데이터 추가"
   ]
  },
  {
   "cell_type": "code",
   "execution_count": 11,
   "id": "935636d0",
   "metadata": {},
   "outputs": [],
   "source": [
    "fruit_code2 = {\"오렌지\":106, \"수박\":107}"
   ]
  },
  {
   "cell_type": "code",
   "execution_count": 12,
   "id": "44162694",
   "metadata": {},
   "outputs": [
    {
     "name": "stdout",
     "output_type": "stream",
     "text": [
      "{'사과': 101, '배': 102, '딸기': 103, '포도': 104, '바나나': 105, '오렌지': 106, '수박': 107}\n"
     ]
    }
   ],
   "source": [
    "fruit_code.update(fruit_code2) #무조건 뒤에 붙어\n",
    "print(fruit_code)"
   ]
  },
  {
   "cell_type": "markdown",
   "id": "63494924",
   "metadata": {},
   "source": [
    "#### 삭제"
   ]
  },
  {
   "cell_type": "code",
   "execution_count": 13,
   "id": "873d6c7d",
   "metadata": {},
   "outputs": [
    {
     "name": "stdout",
     "output_type": "stream",
     "text": [
      "{}\n"
     ]
    },
    {
     "data": {
      "text/plain": [
       "dict"
      ]
     },
     "execution_count": 13,
     "metadata": {},
     "output_type": "execute_result"
    }
   ],
   "source": [
    "fruit_code2.clear()\n",
    "print(fruit_code2)\n",
    "type(fruit_code2)"
   ]
  },
  {
   "cell_type": "code",
   "execution_count": null,
   "id": "29991c63",
   "metadata": {},
   "outputs": [],
   "source": []
  }
 ],
 "metadata": {
  "kernelspec": {
   "display_name": "Python 3 (ipykernel)",
   "language": "python",
   "name": "python3"
  },
  "language_info": {
   "codemirror_mode": {
    "name": "ipython",
    "version": 3
   },
   "file_extension": ".py",
   "mimetype": "text/x-python",
   "name": "python",
   "nbconvert_exporter": "python",
   "pygments_lexer": "ipython3",
   "version": "3.9.13"
  }
 },
 "nbformat": 4,
 "nbformat_minor": 5
}
